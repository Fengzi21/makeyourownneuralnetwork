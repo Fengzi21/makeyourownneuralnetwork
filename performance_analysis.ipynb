{
 "cells": [
  {
   "cell_type": "code",
   "execution_count": 250,
   "id": "f3257cbd-a977-4d86-a5ae-f7502d7f15e1",
   "metadata": {},
   "outputs": [],
   "source": [
    "from pathlib import Path\n",
    "\n",
    "import pandas as pd\n",
    "import numpy as np\n",
    "import matplotlib.pyplot as plt\n",
    "from matplotlib import font_manager\n",
    "import dill as pickle\n",
    "from rich import print\n",
    "\n",
    "%matplotlib inline"
   ]
  },
  {
   "cell_type": "code",
   "execution_count": 232,
   "id": "17023b14-b355-4ccd-9063-9931e2e7abe1",
   "metadata": {},
   "outputs": [],
   "source": [
    "perfile = \"performance.csv\"\n",
    "\n",
    "df = pd.read_csv(perfile)\n",
    "df.columns = [col.strip() for col in df.columns]"
   ]
  },
  {
   "cell_type": "code",
   "execution_count": 182,
   "id": "6fcdf05b-3a16-4946-934c-022009edc5cd",
   "metadata": {},
   "outputs": [
    {
     "data": {
      "text/html": [
       "<div>\n",
       "<style scoped>\n",
       "    .dataframe tbody tr th:only-of-type {\n",
       "        vertical-align: middle;\n",
       "    }\n",
       "\n",
       "    .dataframe tbody tr th {\n",
       "        vertical-align: top;\n",
       "    }\n",
       "\n",
       "    .dataframe thead th {\n",
       "        text-align: right;\n",
       "    }\n",
       "</style>\n",
       "<table border=\"1\" class=\"dataframe\">\n",
       "  <thead>\n",
       "    <tr style=\"text-align: right;\">\n",
       "      <th></th>\n",
       "      <th></th>\n",
       "      <th>hidden_nodes</th>\n",
       "      <th>learning_rate</th>\n",
       "      <th>epochs</th>\n",
       "      <th>performance</th>\n",
       "      <th>training_time</th>\n",
       "    </tr>\n",
       "  </thead>\n",
       "  <tbody>\n",
       "    <tr>\n",
       "      <th>0</th>\n",
       "      <td>0</td>\n",
       "      <td>10</td>\n",
       "      <td>0.01</td>\n",
       "      <td>1</td>\n",
       "      <td>0.8174</td>\n",
       "      <td>10.93</td>\n",
       "    </tr>\n",
       "    <tr>\n",
       "      <th>1</th>\n",
       "      <td>1</td>\n",
       "      <td>10</td>\n",
       "      <td>0.01</td>\n",
       "      <td>10</td>\n",
       "      <td>0.8853</td>\n",
       "      <td>112.03</td>\n",
       "    </tr>\n",
       "    <tr>\n",
       "      <th>2</th>\n",
       "      <td>2</td>\n",
       "      <td>10</td>\n",
       "      <td>0.01</td>\n",
       "      <td>15</td>\n",
       "      <td>0.8820</td>\n",
       "      <td>166.93</td>\n",
       "    </tr>\n",
       "    <tr>\n",
       "      <th>3</th>\n",
       "      <td>3</td>\n",
       "      <td>10</td>\n",
       "      <td>0.01</td>\n",
       "      <td>2</td>\n",
       "      <td>0.8737</td>\n",
       "      <td>22.14</td>\n",
       "    </tr>\n",
       "    <tr>\n",
       "      <th>4</th>\n",
       "      <td>4</td>\n",
       "      <td>10</td>\n",
       "      <td>0.01</td>\n",
       "      <td>20</td>\n",
       "      <td>0.9103</td>\n",
       "      <td>223.84</td>\n",
       "    </tr>\n",
       "    <tr>\n",
       "      <th>...</th>\n",
       "      <td>...</td>\n",
       "      <td>...</td>\n",
       "      <td>...</td>\n",
       "      <td>...</td>\n",
       "      <td>...</td>\n",
       "      <td>...</td>\n",
       "    </tr>\n",
       "    <tr>\n",
       "      <th>955</th>\n",
       "      <td>955</td>\n",
       "      <td>500</td>\n",
       "      <td>0.90</td>\n",
       "      <td>5</td>\n",
       "      <td>0.8571</td>\n",
       "      <td>334.95</td>\n",
       "    </tr>\n",
       "    <tr>\n",
       "      <th>956</th>\n",
       "      <td>956</td>\n",
       "      <td>500</td>\n",
       "      <td>0.90</td>\n",
       "      <td>6</td>\n",
       "      <td>0.8451</td>\n",
       "      <td>402.36</td>\n",
       "    </tr>\n",
       "    <tr>\n",
       "      <th>957</th>\n",
       "      <td>957</td>\n",
       "      <td>500</td>\n",
       "      <td>0.90</td>\n",
       "      <td>7</td>\n",
       "      <td>0.8127</td>\n",
       "      <td>456.80</td>\n",
       "    </tr>\n",
       "    <tr>\n",
       "      <th>958</th>\n",
       "      <td>958</td>\n",
       "      <td>500</td>\n",
       "      <td>0.90</td>\n",
       "      <td>8</td>\n",
       "      <td>0.8791</td>\n",
       "      <td>536.93</td>\n",
       "    </tr>\n",
       "    <tr>\n",
       "      <th>959</th>\n",
       "      <td>959</td>\n",
       "      <td>500</td>\n",
       "      <td>0.90</td>\n",
       "      <td>9</td>\n",
       "      <td>0.8481</td>\n",
       "      <td>584.52</td>\n",
       "    </tr>\n",
       "  </tbody>\n",
       "</table>\n",
       "<p>960 rows × 6 columns</p>\n",
       "</div>"
      ]
     },
     "execution_count": 182,
     "metadata": {},
     "output_type": "execute_result"
    }
   ],
   "source": [
    "df"
   ]
  },
  {
   "cell_type": "code",
   "execution_count": 183,
   "id": "a2d2cb81-4a3d-473b-9a07-5e7ed4cdb2df",
   "metadata": {},
   "outputs": [
    {
     "data": {
      "text/html": [
       "<pre style=\"white-space:pre;overflow-x:auto;line-height:normal;font-family:Menlo,'DejaVu Sans Mono',consolas,'Courier New',monospace\">hidden_nodes = <span style=\"font-weight: bold\">[</span><span style=\"color: #008080; text-decoration-color: #008080; font-weight: bold\">10</span>, <span style=\"color: #008080; text-decoration-color: #008080; font-weight: bold\">20</span>, <span style=\"color: #008080; text-decoration-color: #008080; font-weight: bold\">50</span>, <span style=\"color: #008080; text-decoration-color: #008080; font-weight: bold\">100</span>, <span style=\"color: #008080; text-decoration-color: #008080; font-weight: bold\">200</span>, <span style=\"color: #008080; text-decoration-color: #008080; font-weight: bold\">300</span>, <span style=\"color: #008080; text-decoration-color: #008080; font-weight: bold\">400</span>, <span style=\"color: #008080; text-decoration-color: #008080; font-weight: bold\">500</span><span style=\"font-weight: bold\">]</span>\n",
       "</pre>\n"
      ],
      "text/plain": [
       "hidden_nodes = \u001b[1m[\u001b[0m\u001b[1;36m10\u001b[0m, \u001b[1;36m20\u001b[0m, \u001b[1;36m50\u001b[0m, \u001b[1;36m100\u001b[0m, \u001b[1;36m200\u001b[0m, \u001b[1;36m300\u001b[0m, \u001b[1;36m400\u001b[0m, \u001b[1;36m500\u001b[0m\u001b[1m]\u001b[0m\n"
      ]
     },
     "metadata": {},
     "output_type": "display_data"
    },
    {
     "data": {
      "text/html": [
       "<pre style=\"white-space:pre;overflow-x:auto;line-height:normal;font-family:Menlo,'DejaVu Sans Mono',consolas,'Courier New',monospace\">learning_rate = <span style=\"font-weight: bold\">[</span><span style=\"color: #008080; text-decoration-color: #008080; font-weight: bold\">0.01</span>, <span style=\"color: #008080; text-decoration-color: #008080; font-weight: bold\">0.1</span>, <span style=\"color: #008080; text-decoration-color: #008080; font-weight: bold\">0.2</span>, <span style=\"color: #008080; text-decoration-color: #008080; font-weight: bold\">0.3</span>, <span style=\"color: #008080; text-decoration-color: #008080; font-weight: bold\">0.4</span>, <span style=\"color: #008080; text-decoration-color: #008080; font-weight: bold\">0.5</span>, <span style=\"color: #008080; text-decoration-color: #008080; font-weight: bold\">0.6</span>, <span style=\"color: #008080; text-decoration-color: #008080; font-weight: bold\">0.7</span>, <span style=\"color: #008080; text-decoration-color: #008080; font-weight: bold\">0.8</span>, <span style=\"color: #008080; text-decoration-color: #008080; font-weight: bold\">0.9</span><span style=\"font-weight: bold\">]</span>\n",
       "</pre>\n"
      ],
      "text/plain": [
       "learning_rate = \u001b[1m[\u001b[0m\u001b[1;36m0.01\u001b[0m, \u001b[1;36m0.1\u001b[0m, \u001b[1;36m0.2\u001b[0m, \u001b[1;36m0.3\u001b[0m, \u001b[1;36m0.4\u001b[0m, \u001b[1;36m0.5\u001b[0m, \u001b[1;36m0.6\u001b[0m, \u001b[1;36m0.7\u001b[0m, \u001b[1;36m0.8\u001b[0m, \u001b[1;36m0.9\u001b[0m\u001b[1m]\u001b[0m\n"
      ]
     },
     "metadata": {},
     "output_type": "display_data"
    },
    {
     "data": {
      "text/html": [
       "<pre style=\"white-space:pre;overflow-x:auto;line-height:normal;font-family:Menlo,'DejaVu Sans Mono',consolas,'Courier New',monospace\">epochs = <span style=\"font-weight: bold\">[</span><span style=\"color: #008080; text-decoration-color: #008080; font-weight: bold\">1</span>, <span style=\"color: #008080; text-decoration-color: #008080; font-weight: bold\">2</span>, <span style=\"color: #008080; text-decoration-color: #008080; font-weight: bold\">3</span>, <span style=\"color: #008080; text-decoration-color: #008080; font-weight: bold\">4</span>, <span style=\"color: #008080; text-decoration-color: #008080; font-weight: bold\">5</span>, <span style=\"color: #008080; text-decoration-color: #008080; font-weight: bold\">6</span>, <span style=\"color: #008080; text-decoration-color: #008080; font-weight: bold\">7</span>, <span style=\"color: #008080; text-decoration-color: #008080; font-weight: bold\">8</span>, <span style=\"color: #008080; text-decoration-color: #008080; font-weight: bold\">9</span>, <span style=\"color: #008080; text-decoration-color: #008080; font-weight: bold\">10</span>, <span style=\"color: #008080; text-decoration-color: #008080; font-weight: bold\">15</span>, <span style=\"color: #008080; text-decoration-color: #008080; font-weight: bold\">20</span><span style=\"font-weight: bold\">]</span>\n",
       "</pre>\n"
      ],
      "text/plain": [
       "epochs = \u001b[1m[\u001b[0m\u001b[1;36m1\u001b[0m, \u001b[1;36m2\u001b[0m, \u001b[1;36m3\u001b[0m, \u001b[1;36m4\u001b[0m, \u001b[1;36m5\u001b[0m, \u001b[1;36m6\u001b[0m, \u001b[1;36m7\u001b[0m, \u001b[1;36m8\u001b[0m, \u001b[1;36m9\u001b[0m, \u001b[1;36m10\u001b[0m, \u001b[1;36m15\u001b[0m, \u001b[1;36m20\u001b[0m\u001b[1m]\u001b[0m\n"
      ]
     },
     "metadata": {},
     "output_type": "display_data"
    }
   ],
   "source": [
    "hidden_nodes = sorted(set(df['hidden_nodes'].to_numpy().astype('int')))\n",
    "learning_rate = sorted(set(df['learning_rate'].to_numpy()))\n",
    "epochs = sorted(set(df['epochs'].to_numpy().astype('int')))\n",
    "print(f\"{hidden_nodes = }\")\n",
    "print(f\"{learning_rate = }\")\n",
    "print(f\"{epochs = }\")"
   ]
  },
  {
   "cell_type": "code",
   "execution_count": 204,
   "id": "4604763a-9bcb-4b9d-9389-d02673093abc",
   "metadata": {},
   "outputs": [
    {
     "data": {
      "text/html": [
       "<pre style=\"white-space:pre;overflow-x:auto;line-height:normal;font-family:Menlo,'DejaVu Sans Mono',consolas,'Courier New',monospace\"><span style=\"color: #800080; text-decoration-color: #800080; font-weight: bold\">performance.max</span><span style=\"font-weight: bold\">()</span> = <span style=\"color: #008080; text-decoration-color: #008080; font-weight: bold\">0.9788</span>\n",
       "</pre>\n"
      ],
      "text/plain": [
       "\u001b[1;35mperformance.max\u001b[0m\u001b[1m(\u001b[0m\u001b[1m)\u001b[0m = \u001b[1;36m0.9788\u001b[0m\n"
      ]
     },
     "metadata": {},
     "output_type": "display_data"
    }
   ],
   "source": [
    "performance = df['performance'].to_numpy()\n",
    "print(f\"{performance.max() = }\")"
   ]
  },
  {
   "cell_type": "code",
   "execution_count": 205,
   "id": "42dfce3f-b7b8-4598-b50a-5aa296dc6462",
   "metadata": {},
   "outputs": [
    {
     "data": {
      "text/html": [
       "<pre style=\"white-space:pre;overflow-x:auto;line-height:normal;font-family:Menlo,'DejaVu Sans Mono',consolas,'Courier New',monospace\">\n",
       "<span style=\"font-weight: bold\">{</span>\n",
       "    <span style=\"color: #008000; text-decoration-color: #008000\">''</span>: <span style=\"color: #008080; text-decoration-color: #008080; font-weight: bold\">484.0</span>,\n",
       "    <span style=\"color: #008000; text-decoration-color: #008000\">'hidden_nodes'</span>: <span style=\"color: #008080; text-decoration-color: #008080; font-weight: bold\">300.0</span>,\n",
       "    <span style=\"color: #008000; text-decoration-color: #008000\">'learning_rate'</span>: <span style=\"color: #008080; text-decoration-color: #008080; font-weight: bold\">0.01</span>,\n",
       "    <span style=\"color: #008000; text-decoration-color: #008000\">'epochs'</span>: <span style=\"color: #008080; text-decoration-color: #008080; font-weight: bold\">20.0</span>,\n",
       "    <span style=\"color: #008000; text-decoration-color: #008000\">'performance'</span>: <span style=\"color: #008080; text-decoration-color: #008080; font-weight: bold\">0.9788</span>,\n",
       "    <span style=\"color: #008000; text-decoration-color: #008000\">'training_time'</span>: <span style=\"color: #008080; text-decoration-color: #008080; font-weight: bold\">918.15</span>\n",
       "<span style=\"font-weight: bold\">}</span>\n",
       "</pre>\n"
      ],
      "text/plain": [
       "\n",
       "\u001b[1m{\u001b[0m\n",
       "    \u001b[32m''\u001b[0m: \u001b[1;36m484.0\u001b[0m,\n",
       "    \u001b[32m'hidden_nodes'\u001b[0m: \u001b[1;36m300.0\u001b[0m,\n",
       "    \u001b[32m'learning_rate'\u001b[0m: \u001b[1;36m0.01\u001b[0m,\n",
       "    \u001b[32m'epochs'\u001b[0m: \u001b[1;36m20.0\u001b[0m,\n",
       "    \u001b[32m'performance'\u001b[0m: \u001b[1;36m0.9788\u001b[0m,\n",
       "    \u001b[32m'training_time'\u001b[0m: \u001b[1;36m918.15\u001b[0m\n",
       "\u001b[1m}\u001b[0m\n"
      ]
     },
     "metadata": {},
     "output_type": "display_data"
    }
   ],
   "source": [
    "df.iloc[performance.argmax()].to_dict()"
   ]
  },
  {
   "cell_type": "code",
   "execution_count": 251,
   "id": "a2aad35e-92dc-40be-a224-a2eaafdeb266",
   "metadata": {},
   "outputs": [
    {
     "data": {
      "text/html": [
       "<pre style=\"white-space:pre;overflow-x:auto;line-height:normal;font-family:Menlo,'DejaVu Sans Mono',consolas,'Courier New',monospace\">clf.lr = <span style=\"color: #008080; text-decoration-color: #008080; font-weight: bold\">0.01</span>\n",
       "</pre>\n"
      ],
      "text/plain": [
       "clf.lr = \u001b[1;36m0.01\u001b[0m\n"
      ]
     },
     "metadata": {},
     "output_type": "display_data"
    },
    {
     "data": {
      "text/html": [
       "<pre style=\"white-space:pre;overflow-x:auto;line-height:normal;font-family:Menlo,'DejaVu Sans Mono',consolas,'Courier New',monospace\">clf.epochs = <span style=\"color: #008080; text-decoration-color: #008080; font-weight: bold\">20</span>\n",
       "</pre>\n"
      ],
      "text/plain": [
       "clf.epochs = \u001b[1;36m20\u001b[0m\n"
      ]
     },
     "metadata": {},
     "output_type": "display_data"
    },
    {
     "data": {
      "text/html": [
       "<pre style=\"white-space:pre;overflow-x:auto;line-height:normal;font-family:Menlo,'DejaVu Sans Mono',consolas,'Courier New',monospace\">clf.hnodes = <span style=\"color: #008080; text-decoration-color: #008080; font-weight: bold\">300</span>\n",
       "</pre>\n"
      ],
      "text/plain": [
       "clf.hnodes = \u001b[1;36m300\u001b[0m\n"
      ]
     },
     "metadata": {},
     "output_type": "display_data"
    },
    {
     "data": {
      "text/html": [
       "<pre style=\"white-space:pre;overflow-x:auto;line-height:normal;font-family:Menlo,'DejaVu Sans Mono',consolas,'Courier New',monospace\">clf.performance = <span style=\"color: #008080; text-decoration-color: #008080; font-weight: bold\">0.9788</span>\n",
       "</pre>\n"
      ],
      "text/plain": [
       "clf.performance = \u001b[1;36m0.9788\u001b[0m\n"
      ]
     },
     "metadata": {},
     "output_type": "display_data"
    },
    {
     "data": {
      "text/html": [
       "<pre style=\"white-space:pre;overflow-x:auto;line-height:normal;font-family:Menlo,'DejaVu Sans Mono',consolas,'Courier New',monospace\">clf.training_time = <span style=\"color: #008080; text-decoration-color: #008080; font-weight: bold\">918.15</span>\n",
       "</pre>\n"
      ],
      "text/plain": [
       "clf.training_time = \u001b[1;36m918.15\u001b[0m\n"
      ]
     },
     "metadata": {},
     "output_type": "display_data"
    },
    {
     "data": {
      "text/html": [
       "<pre style=\"white-space:pre;overflow-x:auto;line-height:normal;font-family:Menlo,'DejaVu Sans Mono',consolas,'Courier New',monospace\"><span style=\"font-weight: bold\">&lt;</span><span style=\"color: #ff00ff; text-decoration-color: #ff00ff; font-weight: bold\">Figure</span><span style=\"color: #000000; text-decoration-color: #000000\"> size 1152x576 with </span><span style=\"color: #008080; text-decoration-color: #008080; font-weight: bold\">1</span><span style=\"color: #000000; text-decoration-color: #000000\"> Axes</span><span style=\"font-weight: bold\">&gt;</span>\n",
       "</pre>\n"
      ],
      "text/plain": [
       "\u001b[1m<\u001b[0m\u001b[1;95mFigure\u001b[0m\u001b[39m size 1152x576 with \u001b[0m\u001b[1;36m1\u001b[0m\u001b[39m Axes\u001b[0m\u001b[1m>\u001b[0m\n"
      ]
     },
     "metadata": {},
     "output_type": "display_data"
    },
    {
     "data": {
      "image/png": "[encoded data removed]"
     },
     "metadata": {
      "needs_background": "light"
     },
     "output_type": "display_data"
    }
   ],
   "source": [
    "clf_dir = Path('./trained_classifiers')\n",
    "\n",
    "# this one has max performance\n",
    "clfname = clf_dir.joinpath('classifier_300_0.01_20.pkl')\n",
    "\n",
    "with open(clfname, 'rb') as f:\n",
    "    clf = pickle.load(f)\n",
    "    \n",
    "print(f\"{clf.lr = }\")\n",
    "print(f\"{clf.epochs = }\")\n",
    "print(f\"{clf.hnodes = }\")\n",
    "print(f\"{clf.performance = }\")\n",
    "print(f\"{clf.training_time = :.2f}\")\n",
    "\n",
    "clf.plot_progress()"
   ]
  },
  {
   "cell_type": "code",
   "execution_count": 206,
   "id": "8f5d2e94-ad22-4e08-b84d-dfe4e11dd5ca",
   "metadata": {},
   "outputs": [
    {
     "data": {
      "text/html": [
       "<pre style=\"white-space:pre;overflow-x:auto;line-height:normal;font-family:Menlo,'DejaVu Sans Mono',consolas,'Courier New',monospace\">\n",
       "<span style=\"font-weight: bold\">{</span>\n",
       "    <span style=\"color: #008000; text-decoration-color: #008000\">''</span>: <span style=\"color: #008080; text-decoration-color: #008080; font-weight: bold\">714.0</span>,\n",
       "    <span style=\"color: #008000; text-decoration-color: #008000\">'hidden_nodes'</span>: <span style=\"color: #008080; text-decoration-color: #008080; font-weight: bold\">400.0</span>,\n",
       "    <span style=\"color: #008000; text-decoration-color: #008000\">'learning_rate'</span>: <span style=\"color: #008080; text-decoration-color: #008080; font-weight: bold\">0.9</span>,\n",
       "    <span style=\"color: #008000; text-decoration-color: #008000\">'epochs'</span>: <span style=\"color: #008080; text-decoration-color: #008080; font-weight: bold\">4.0</span>,\n",
       "    <span style=\"color: #008000; text-decoration-color: #008000\">'performance'</span>: <span style=\"color: #008080; text-decoration-color: #008080; font-weight: bold\">0.804</span>,\n",
       "    <span style=\"color: #008000; text-decoration-color: #008000\">'training_time'</span>: <span style=\"color: #008080; text-decoration-color: #008080; font-weight: bold\">224.86</span>\n",
       "<span style=\"font-weight: bold\">}</span>\n",
       "</pre>\n"
      ],
      "text/plain": [
       "\n",
       "\u001b[1m{\u001b[0m\n",
       "    \u001b[32m''\u001b[0m: \u001b[1;36m714.0\u001b[0m,\n",
       "    \u001b[32m'hidden_nodes'\u001b[0m: \u001b[1;36m400.0\u001b[0m,\n",
       "    \u001b[32m'learning_rate'\u001b[0m: \u001b[1;36m0.9\u001b[0m,\n",
       "    \u001b[32m'epochs'\u001b[0m: \u001b[1;36m4.0\u001b[0m,\n",
       "    \u001b[32m'performance'\u001b[0m: \u001b[1;36m0.804\u001b[0m,\n",
       "    \u001b[32m'training_time'\u001b[0m: \u001b[1;36m224.86\u001b[0m\n",
       "\u001b[1m}\u001b[0m\n"
      ]
     },
     "metadata": {},
     "output_type": "display_data"
    }
   ],
   "source": [
    "df.iloc[performance.argmin()].to_dict()"
   ]
  },
  {
   "cell_type": "code",
   "execution_count": 207,
   "id": "f276cd12-f40b-439c-b140-ea592a8c16d0",
   "metadata": {},
   "outputs": [
    {
     "data": {
      "text/html": [
       "<pre style=\"white-space:pre;overflow-x:auto;line-height:normal;font-family:Menlo,'DejaVu Sans Mono',consolas,'Courier New',monospace\">Max training time: <span style=\"color: #008080; text-decoration-color: #008080; font-weight: bold\">22.88</span> minutes.\n",
       "</pre>\n"
      ],
      "text/plain": [
       "Max training time: \u001b[1;36m22.88\u001b[0m minutes.\n"
      ]
     },
     "metadata": {},
     "output_type": "display_data"
    }
   ],
   "source": [
    "training_time = df['training_time'].to_numpy()\n",
    "print(f\"Max training time: {training_time.max()/60:.2f} minutes.\")"
   ]
  },
  {
   "cell_type": "code",
   "execution_count": 208,
   "id": "ab7595e7-5363-46f3-8cd8-bc0da019b30b",
   "metadata": {},
   "outputs": [
    {
     "data": {
      "text/html": [
       "<pre style=\"white-space:pre;overflow-x:auto;line-height:normal;font-family:Menlo,'DejaVu Sans Mono',consolas,'Courier New',monospace\">\n",
       "<span style=\"font-weight: bold\">{</span>\n",
       "    <span style=\"color: #008000; text-decoration-color: #008000\">''</span>: <span style=\"color: #008080; text-decoration-color: #008080; font-weight: bold\">916.0</span>,\n",
       "    <span style=\"color: #008000; text-decoration-color: #008000\">'hidden_nodes'</span>: <span style=\"color: #008080; text-decoration-color: #008080; font-weight: bold\">500.0</span>,\n",
       "    <span style=\"color: #008000; text-decoration-color: #008000\">'learning_rate'</span>: <span style=\"color: #008080; text-decoration-color: #008080; font-weight: bold\">0.6</span>,\n",
       "    <span style=\"color: #008000; text-decoration-color: #008000\">'epochs'</span>: <span style=\"color: #008080; text-decoration-color: #008080; font-weight: bold\">20.0</span>,\n",
       "    <span style=\"color: #008000; text-decoration-color: #008000\">'performance'</span>: <span style=\"color: #008080; text-decoration-color: #008080; font-weight: bold\">0.911</span>,\n",
       "    <span style=\"color: #008000; text-decoration-color: #008000\">'training_time'</span>: <span style=\"color: #008080; text-decoration-color: #008080; font-weight: bold\">1372.67</span>\n",
       "<span style=\"font-weight: bold\">}</span>\n",
       "</pre>\n"
      ],
      "text/plain": [
       "\n",
       "\u001b[1m{\u001b[0m\n",
       "    \u001b[32m''\u001b[0m: \u001b[1;36m916.0\u001b[0m,\n",
       "    \u001b[32m'hidden_nodes'\u001b[0m: \u001b[1;36m500.0\u001b[0m,\n",
       "    \u001b[32m'learning_rate'\u001b[0m: \u001b[1;36m0.6\u001b[0m,\n",
       "    \u001b[32m'epochs'\u001b[0m: \u001b[1;36m20.0\u001b[0m,\n",
       "    \u001b[32m'performance'\u001b[0m: \u001b[1;36m0.911\u001b[0m,\n",
       "    \u001b[32m'training_time'\u001b[0m: \u001b[1;36m1372.67\u001b[0m\n",
       "\u001b[1m}\u001b[0m\n"
      ]
     },
     "metadata": {},
     "output_type": "display_data"
    }
   ],
   "source": [
    "df.iloc[training_time.argmax()].to_dict()"
   ]
  },
  {
   "cell_type": "code",
   "execution_count": 209,
   "id": "2ffe5019-2c5e-4f42-97a8-60b463083f19",
   "metadata": {},
   "outputs": [
    {
     "data": {
      "text/html": [
       "<pre style=\"white-space:pre;overflow-x:auto;line-height:normal;font-family:Menlo,'DejaVu Sans Mono',consolas,'Courier New',monospace\">\n",
       "<span style=\"font-weight: bold\">{</span>\n",
       "    <span style=\"color: #008000; text-decoration-color: #008000\">''</span>: <span style=\"color: #008080; text-decoration-color: #008080; font-weight: bold\">84.0</span>,\n",
       "    <span style=\"color: #008000; text-decoration-color: #008000\">'hidden_nodes'</span>: <span style=\"color: #008080; text-decoration-color: #008080; font-weight: bold\">10.0</span>,\n",
       "    <span style=\"color: #008000; text-decoration-color: #008000\">'learning_rate'</span>: <span style=\"color: #008080; text-decoration-color: #008080; font-weight: bold\">0.7</span>,\n",
       "    <span style=\"color: #008000; text-decoration-color: #008000\">'epochs'</span>: <span style=\"color: #008080; text-decoration-color: #008080; font-weight: bold\">1.0</span>,\n",
       "    <span style=\"color: #008000; text-decoration-color: #008000\">'performance'</span>: <span style=\"color: #008080; text-decoration-color: #008080; font-weight: bold\">0.8437</span>,\n",
       "    <span style=\"color: #008000; text-decoration-color: #008000\">'training_time'</span>: <span style=\"color: #008080; text-decoration-color: #008080; font-weight: bold\">10.53</span>\n",
       "<span style=\"font-weight: bold\">}</span>\n",
       "</pre>\n"
      ],
      "text/plain": [
       "\n",
       "\u001b[1m{\u001b[0m\n",
       "    \u001b[32m''\u001b[0m: \u001b[1;36m84.0\u001b[0m,\n",
       "    \u001b[32m'hidden_nodes'\u001b[0m: \u001b[1;36m10.0\u001b[0m,\n",
       "    \u001b[32m'learning_rate'\u001b[0m: \u001b[1;36m0.7\u001b[0m,\n",
       "    \u001b[32m'epochs'\u001b[0m: \u001b[1;36m1.0\u001b[0m,\n",
       "    \u001b[32m'performance'\u001b[0m: \u001b[1;36m0.8437\u001b[0m,\n",
       "    \u001b[32m'training_time'\u001b[0m: \u001b[1;36m10.53\u001b[0m\n",
       "\u001b[1m}\u001b[0m\n"
      ]
     },
     "metadata": {},
     "output_type": "display_data"
    }
   ],
   "source": [
    "df.iloc[training_time.argmin()].to_dict()"
   ]
  },
  {
   "cell_type": "code",
   "execution_count": 191,
   "id": "95125071-db17-435e-b7d7-b88781ff78a1",
   "metadata": {},
   "outputs": [],
   "source": [
    "plt_kwargs = {\n",
    "    'figsize':  (10, 6), \n",
    "    'marker':  's', \n",
    "    'ms':  8, \n",
    "    'ls': '--',\n",
    "    'fontsize': 14,\n",
    "}\n",
    "\n",
    "font = font_manager.FontProperties(size=14)"
   ]
  },
  {
   "cell_type": "code",
   "execution_count": 222,
   "id": "5a9408cc-c3ba-40ec-a1aa-2863136fb7d5",
   "metadata": {},
   "outputs": [],
   "source": [
    "def select_data(df, sdict):\n",
    "    all_keys = ['hidden_nodes', 'learning_rate', 'epochs']\n",
    "    k0, k1 = sdict.keys()\n",
    "    v0, v1 = sdict.values()\n",
    "    subdf = df[(df[k0]==v0) & (df[k1]==v1)]\n",
    "    sort_key = list(set(all_keys) - set(sdict.keys()))[0]\n",
    "    subdf = subdf.sort_values(by=sort_key)\n",
    "    return subdf, sort_key"
   ]
  },
  {
   "cell_type": "code",
   "execution_count": 225,
   "id": "ff6d6108-92e4-42c7-bac8-cbbd03120941",
   "metadata": {},
   "outputs": [],
   "source": [
    "def plot_perf(subdf, sdict, sort_key):\n",
    "    ax = subdf.plot(x=sort_key, y='performance', **plt_kwargs)\n",
    "    plt.gcf().tight_layout()\n",
    "    ax.set_title(f\"{sdict}\", fontsize=20)\n",
    "    ax.grid(axis='y')\n",
    "    ax.set_xlabel(sort_key.title(), fontsize=15)\n",
    "    ax.set_ylabel('Performance', fontsize=15)\n",
    "    ax.legend(prop=font)\n",
    "    ax.set_xticks(eval(sort_key))"
   ]
  },
  {
   "cell_type": "code",
   "execution_count": 229,
   "id": "798d6537-cfcf-4ce9-9474-e531bb792863",
   "metadata": {},
   "outputs": [
    {
     "data": {
      "text/html": [
       "<pre style=\"white-space:pre;overflow-x:auto;line-height:normal;font-family:Menlo,'DejaVu Sans Mono',consolas,'Courier New',monospace\"><span style=\"font-weight: bold\">&lt;</span><span style=\"color: #ff00ff; text-decoration-color: #ff00ff; font-weight: bold\">Figure</span><span style=\"color: #000000; text-decoration-color: #000000\"> size 72</span><span style=\"color: #008080; text-decoration-color: #008080; font-weight: bold\">0x432</span><span style=\"color: #000000; text-decoration-color: #000000\"> with </span><span style=\"color: #008080; text-decoration-color: #008080; font-weight: bold\">1</span><span style=\"color: #000000; text-decoration-color: #000000\"> Axes</span><span style=\"font-weight: bold\">&gt;</span>\n",
       "</pre>\n"
      ],
      "text/plain": [
       "\u001b[1m<\u001b[0m\u001b[1;95mFigure\u001b[0m\u001b[39m size 72\u001b[0m\u001b[1;36m0x432\u001b[0m\u001b[39m with \u001b[0m\u001b[1;36m1\u001b[0m\u001b[39m Axes\u001b[0m\u001b[1m>\u001b[0m\n"
      ]
     },
     "metadata": {},
     "output_type": "display_data"
    },
    {
     "data": {
      "image/png": "[encoded data removed]"
     },
     "metadata": {
      "needs_background": "light"
     },
     "output_type": "display_data"
    }
   ],
   "source": [
    "sdict = dict(hidden_nodes=300, learning_rate=0.01)\n",
    "subdf, sort_key = select_data(df, sdict)\n",
    "plot_perf(subdf, sdict, sort_key)"
   ]
  },
  {
   "cell_type": "code",
   "execution_count": 230,
   "id": "6997b905-2b8b-4d9a-b5c8-55daa3690d6e",
   "metadata": {},
   "outputs": [
    {
     "data": {
      "text/html": [
       "<pre style=\"white-space:pre;overflow-x:auto;line-height:normal;font-family:Menlo,'DejaVu Sans Mono',consolas,'Courier New',monospace\"><span style=\"font-weight: bold\">&lt;</span><span style=\"color: #ff00ff; text-decoration-color: #ff00ff; font-weight: bold\">Figure</span><span style=\"color: #000000; text-decoration-color: #000000\"> size 72</span><span style=\"color: #008080; text-decoration-color: #008080; font-weight: bold\">0x432</span><span style=\"color: #000000; text-decoration-color: #000000\"> with </span><span style=\"color: #008080; text-decoration-color: #008080; font-weight: bold\">1</span><span style=\"color: #000000; text-decoration-color: #000000\"> Axes</span><span style=\"font-weight: bold\">&gt;</span>\n",
       "</pre>\n"
      ],
      "text/plain": [
       "\u001b[1m<\u001b[0m\u001b[1;95mFigure\u001b[0m\u001b[39m size 72\u001b[0m\u001b[1;36m0x432\u001b[0m\u001b[39m with \u001b[0m\u001b[1;36m1\u001b[0m\u001b[39m Axes\u001b[0m\u001b[1m>\u001b[0m\n"
      ]
     },
     "metadata": {},
     "output_type": "display_data"
    },
    {
     "data": {
      "image/png": "[encoded data removed]"
     },
     "metadata": {
      "needs_background": "light"
     },
     "output_type": "display_data"
    }
   ],
   "source": [
    "sdict = dict(learning_rate=0.01, epochs=20)\n",
    "subdf, sort_key = select_data(df, sdict)\n",
    "plot_perf(subdf, sdict, sort_key)"
   ]
  },
  {
   "cell_type": "code",
   "execution_count": 231,
   "id": "97e9a870-43f5-4f88-90e2-cebb13ea5ca3",
   "metadata": {},
   "outputs": [
    {
     "data": {
      "text/html": [
       "<pre style=\"white-space:pre;overflow-x:auto;line-height:normal;font-family:Menlo,'DejaVu Sans Mono',consolas,'Courier New',monospace\"><span style=\"font-weight: bold\">&lt;</span><span style=\"color: #ff00ff; text-decoration-color: #ff00ff; font-weight: bold\">Figure</span><span style=\"color: #000000; text-decoration-color: #000000\"> size 72</span><span style=\"color: #008080; text-decoration-color: #008080; font-weight: bold\">0x432</span><span style=\"color: #000000; text-decoration-color: #000000\"> with </span><span style=\"color: #008080; text-decoration-color: #008080; font-weight: bold\">1</span><span style=\"color: #000000; text-decoration-color: #000000\"> Axes</span><span style=\"font-weight: bold\">&gt;</span>\n",
       "</pre>\n"
      ],
      "text/plain": [
       "\u001b[1m<\u001b[0m\u001b[1;95mFigure\u001b[0m\u001b[39m size 72\u001b[0m\u001b[1;36m0x432\u001b[0m\u001b[39m with \u001b[0m\u001b[1;36m1\u001b[0m\u001b[39m Axes\u001b[0m\u001b[1m>\u001b[0m\n"
      ]
     },
     "metadata": {},
     "output_type": "display_data"
    },
    {
     "data": {
      "image/png": "[encoded data removed]"
     },
     "metadata": {
      "needs_background": "light"
     },
     "output_type": "display_data"
    }
   ],
   "source": [
    "sdict = dict(hidden_nodes=300, epochs=15)\n",
    "subdf, sort_key = select_data(df, sdict)\n",
    "plot_perf(subdf, sdict, sort_key)"
   ]
  },
  {
   "cell_type": "code",
   "execution_count": 236,
   "id": "35f102d7-adb6-4156-a096-1f8afb4f7e51",
   "metadata": {},
   "outputs": [],
   "source": [
    "perfile_rot = \"performance_rotation.csv\"\n",
    "df_rot = pd.read_csv(perfile_rot)\n",
    "df_rot.columns = [col.strip() for col in df_rot.columns]"
   ]
  },
  {
   "cell_type": "code",
   "execution_count": 237,
   "id": "cfc95806-6a92-4de0-a843-8fe66143ef62",
   "metadata": {},
   "outputs": [
    {
     "data": {
      "text/html": [
       "<div>\n",
       "<style scoped>\n",
       "    .dataframe tbody tr th:only-of-type {\n",
       "        vertical-align: middle;\n",
       "    }\n",
       "\n",
       "    .dataframe tbody tr th {\n",
       "        vertical-align: top;\n",
       "    }\n",
       "\n",
       "    .dataframe thead th {\n",
       "        text-align: right;\n",
       "    }\n",
       "</style>\n",
       "<table border=\"1\" class=\"dataframe\">\n",
       "  <thead>\n",
       "    <tr style=\"text-align: right;\">\n",
       "      <th></th>\n",
       "      <th></th>\n",
       "      <th>angle</th>\n",
       "      <th>epochs</th>\n",
       "      <th>performance</th>\n",
       "      <th>training_time</th>\n",
       "    </tr>\n",
       "  </thead>\n",
       "  <tbody>\n",
       "    <tr>\n",
       "      <th>0</th>\n",
       "      <td>0</td>\n",
       "      <td>10</td>\n",
       "      <td>10</td>\n",
       "      <td>0.9688</td>\n",
       "      <td>1048.58</td>\n",
       "    </tr>\n",
       "    <tr>\n",
       "      <th>1</th>\n",
       "      <td>1</td>\n",
       "      <td>10</td>\n",
       "      <td>13</td>\n",
       "      <td>0.9685</td>\n",
       "      <td>1361.35</td>\n",
       "    </tr>\n",
       "    <tr>\n",
       "      <th>2</th>\n",
       "      <td>2</td>\n",
       "      <td>10</td>\n",
       "      <td>15</td>\n",
       "      <td>0.9699</td>\n",
       "      <td>1597.51</td>\n",
       "    </tr>\n",
       "    <tr>\n",
       "      <th>3</th>\n",
       "      <td>3</td>\n",
       "      <td>10</td>\n",
       "      <td>5</td>\n",
       "      <td>0.9689</td>\n",
       "      <td>533.93</td>\n",
       "    </tr>\n",
       "    <tr>\n",
       "      <th>4</th>\n",
       "      <td>4</td>\n",
       "      <td>10</td>\n",
       "      <td>7</td>\n",
       "      <td>0.9671</td>\n",
       "      <td>733.22</td>\n",
       "    </tr>\n",
       "    <tr>\n",
       "      <th>5</th>\n",
       "      <td>5</td>\n",
       "      <td>12</td>\n",
       "      <td>10</td>\n",
       "      <td>0.9658</td>\n",
       "      <td>1222.62</td>\n",
       "    </tr>\n",
       "    <tr>\n",
       "      <th>6</th>\n",
       "      <td>6</td>\n",
       "      <td>12</td>\n",
       "      <td>13</td>\n",
       "      <td>0.9671</td>\n",
       "      <td>1485.07</td>\n",
       "    </tr>\n",
       "    <tr>\n",
       "      <th>7</th>\n",
       "      <td>7</td>\n",
       "      <td>12</td>\n",
       "      <td>15</td>\n",
       "      <td>0.9634</td>\n",
       "      <td>1807.47</td>\n",
       "    </tr>\n",
       "    <tr>\n",
       "      <th>8</th>\n",
       "      <td>8</td>\n",
       "      <td>12</td>\n",
       "      <td>5</td>\n",
       "      <td>0.9711</td>\n",
       "      <td>489.72</td>\n",
       "    </tr>\n",
       "    <tr>\n",
       "      <th>9</th>\n",
       "      <td>9</td>\n",
       "      <td>12</td>\n",
       "      <td>7</td>\n",
       "      <td>0.9669</td>\n",
       "      <td>927.76</td>\n",
       "    </tr>\n",
       "    <tr>\n",
       "      <th>10</th>\n",
       "      <td>10</td>\n",
       "      <td>15</td>\n",
       "      <td>10</td>\n",
       "      <td>0.9669</td>\n",
       "      <td>1370.94</td>\n",
       "    </tr>\n",
       "    <tr>\n",
       "      <th>11</th>\n",
       "      <td>11</td>\n",
       "      <td>15</td>\n",
       "      <td>13</td>\n",
       "      <td>0.9646</td>\n",
       "      <td>1565.19</td>\n",
       "    </tr>\n",
       "    <tr>\n",
       "      <th>12</th>\n",
       "      <td>12</td>\n",
       "      <td>15</td>\n",
       "      <td>15</td>\n",
       "      <td>0.9652</td>\n",
       "      <td>1530.30</td>\n",
       "    </tr>\n",
       "    <tr>\n",
       "      <th>13</th>\n",
       "      <td>13</td>\n",
       "      <td>15</td>\n",
       "      <td>5</td>\n",
       "      <td>0.9675</td>\n",
       "      <td>510.40</td>\n",
       "    </tr>\n",
       "    <tr>\n",
       "      <th>14</th>\n",
       "      <td>14</td>\n",
       "      <td>15</td>\n",
       "      <td>7</td>\n",
       "      <td>0.9690</td>\n",
       "      <td>711.22</td>\n",
       "    </tr>\n",
       "    <tr>\n",
       "      <th>15</th>\n",
       "      <td>15</td>\n",
       "      <td>20</td>\n",
       "      <td>10</td>\n",
       "      <td>0.9640</td>\n",
       "      <td>1125.62</td>\n",
       "    </tr>\n",
       "    <tr>\n",
       "      <th>16</th>\n",
       "      <td>16</td>\n",
       "      <td>20</td>\n",
       "      <td>13</td>\n",
       "      <td>0.9608</td>\n",
       "      <td>1429.91</td>\n",
       "    </tr>\n",
       "    <tr>\n",
       "      <th>17</th>\n",
       "      <td>17</td>\n",
       "      <td>20</td>\n",
       "      <td>15</td>\n",
       "      <td>0.9621</td>\n",
       "      <td>1879.33</td>\n",
       "    </tr>\n",
       "    <tr>\n",
       "      <th>18</th>\n",
       "      <td>18</td>\n",
       "      <td>20</td>\n",
       "      <td>5</td>\n",
       "      <td>0.9639</td>\n",
       "      <td>492.38</td>\n",
       "    </tr>\n",
       "    <tr>\n",
       "      <th>19</th>\n",
       "      <td>19</td>\n",
       "      <td>20</td>\n",
       "      <td>7</td>\n",
       "      <td>0.9652</td>\n",
       "      <td>1071.37</td>\n",
       "    </tr>\n",
       "    <tr>\n",
       "      <th>20</th>\n",
       "      <td>20</td>\n",
       "      <td>25</td>\n",
       "      <td>10</td>\n",
       "      <td>0.9560</td>\n",
       "      <td>1256.56</td>\n",
       "    </tr>\n",
       "    <tr>\n",
       "      <th>21</th>\n",
       "      <td>21</td>\n",
       "      <td>25</td>\n",
       "      <td>13</td>\n",
       "      <td>0.9575</td>\n",
       "      <td>1666.45</td>\n",
       "    </tr>\n",
       "    <tr>\n",
       "      <th>22</th>\n",
       "      <td>22</td>\n",
       "      <td>25</td>\n",
       "      <td>15</td>\n",
       "      <td>0.9545</td>\n",
       "      <td>1490.46</td>\n",
       "    </tr>\n",
       "    <tr>\n",
       "      <th>23</th>\n",
       "      <td>23</td>\n",
       "      <td>25</td>\n",
       "      <td>5</td>\n",
       "      <td>0.9629</td>\n",
       "      <td>490.08</td>\n",
       "    </tr>\n",
       "    <tr>\n",
       "      <th>24</th>\n",
       "      <td>24</td>\n",
       "      <td>25</td>\n",
       "      <td>7</td>\n",
       "      <td>0.9633</td>\n",
       "      <td>722.37</td>\n",
       "    </tr>\n",
       "    <tr>\n",
       "      <th>25</th>\n",
       "      <td>25</td>\n",
       "      <td>3</td>\n",
       "      <td>10</td>\n",
       "      <td>0.9666</td>\n",
       "      <td>1050.36</td>\n",
       "    </tr>\n",
       "    <tr>\n",
       "      <th>26</th>\n",
       "      <td>26</td>\n",
       "      <td>3</td>\n",
       "      <td>13</td>\n",
       "      <td>0.9651</td>\n",
       "      <td>1380.71</td>\n",
       "    </tr>\n",
       "    <tr>\n",
       "      <th>27</th>\n",
       "      <td>27</td>\n",
       "      <td>3</td>\n",
       "      <td>15</td>\n",
       "      <td>0.9655</td>\n",
       "      <td>1596.70</td>\n",
       "    </tr>\n",
       "    <tr>\n",
       "      <th>28</th>\n",
       "      <td>28</td>\n",
       "      <td>3</td>\n",
       "      <td>5</td>\n",
       "      <td>0.9710</td>\n",
       "      <td>530.51</td>\n",
       "    </tr>\n",
       "    <tr>\n",
       "      <th>29</th>\n",
       "      <td>29</td>\n",
       "      <td>3</td>\n",
       "      <td>7</td>\n",
       "      <td>0.9671</td>\n",
       "      <td>753.01</td>\n",
       "    </tr>\n",
       "    <tr>\n",
       "      <th>30</th>\n",
       "      <td>30</td>\n",
       "      <td>5</td>\n",
       "      <td>10</td>\n",
       "      <td>0.9658</td>\n",
       "      <td>1057.09</td>\n",
       "    </tr>\n",
       "    <tr>\n",
       "      <th>31</th>\n",
       "      <td>31</td>\n",
       "      <td>5</td>\n",
       "      <td>13</td>\n",
       "      <td>0.9640</td>\n",
       "      <td>1377.08</td>\n",
       "    </tr>\n",
       "    <tr>\n",
       "      <th>32</th>\n",
       "      <td>32</td>\n",
       "      <td>5</td>\n",
       "      <td>15</td>\n",
       "      <td>0.9696</td>\n",
       "      <td>1597.34</td>\n",
       "    </tr>\n",
       "    <tr>\n",
       "      <th>33</th>\n",
       "      <td>33</td>\n",
       "      <td>5</td>\n",
       "      <td>5</td>\n",
       "      <td>0.9676</td>\n",
       "      <td>527.32</td>\n",
       "    </tr>\n",
       "    <tr>\n",
       "      <th>34</th>\n",
       "      <td>34</td>\n",
       "      <td>5</td>\n",
       "      <td>7</td>\n",
       "      <td>0.9707</td>\n",
       "      <td>741.56</td>\n",
       "    </tr>\n",
       "    <tr>\n",
       "      <th>35</th>\n",
       "      <td>35</td>\n",
       "      <td>7</td>\n",
       "      <td>10</td>\n",
       "      <td>0.9680</td>\n",
       "      <td>1058.72</td>\n",
       "    </tr>\n",
       "    <tr>\n",
       "      <th>36</th>\n",
       "      <td>36</td>\n",
       "      <td>7</td>\n",
       "      <td>13</td>\n",
       "      <td>0.9684</td>\n",
       "      <td>1383.03</td>\n",
       "    </tr>\n",
       "    <tr>\n",
       "      <th>37</th>\n",
       "      <td>37</td>\n",
       "      <td>7</td>\n",
       "      <td>15</td>\n",
       "      <td>0.9665</td>\n",
       "      <td>1583.08</td>\n",
       "    </tr>\n",
       "    <tr>\n",
       "      <th>38</th>\n",
       "      <td>38</td>\n",
       "      <td>7</td>\n",
       "      <td>5</td>\n",
       "      <td>0.9683</td>\n",
       "      <td>526.39</td>\n",
       "    </tr>\n",
       "    <tr>\n",
       "      <th>39</th>\n",
       "      <td>39</td>\n",
       "      <td>7</td>\n",
       "      <td>7</td>\n",
       "      <td>0.9686</td>\n",
       "      <td>744.38</td>\n",
       "    </tr>\n",
       "  </tbody>\n",
       "</table>\n",
       "</div>"
      ]
     },
     "execution_count": 237,
     "metadata": {},
     "output_type": "execute_result"
    }
   ],
   "source": [
    "df_rot"
   ]
  },
  {
   "cell_type": "code",
   "execution_count": 243,
   "id": "8cb457b5-8df5-44e9-a945-c868dc85ec4b",
   "metadata": {},
   "outputs": [
    {
     "data": {
      "text/html": [
       "<pre style=\"white-space:pre;overflow-x:auto;line-height:normal;font-family:Menlo,'DejaVu Sans Mono',consolas,'Courier New',monospace\">angle = <span style=\"font-weight: bold\">[</span><span style=\"color: #008080; text-decoration-color: #008080; font-weight: bold\">3</span>, <span style=\"color: #008080; text-decoration-color: #008080; font-weight: bold\">5</span>, <span style=\"color: #008080; text-decoration-color: #008080; font-weight: bold\">7</span>, <span style=\"color: #008080; text-decoration-color: #008080; font-weight: bold\">10</span>, <span style=\"color: #008080; text-decoration-color: #008080; font-weight: bold\">12</span>, <span style=\"color: #008080; text-decoration-color: #008080; font-weight: bold\">15</span>, <span style=\"color: #008080; text-decoration-color: #008080; font-weight: bold\">20</span>, <span style=\"color: #008080; text-decoration-color: #008080; font-weight: bold\">25</span><span style=\"font-weight: bold\">]</span>\n",
       "</pre>\n"
      ],
      "text/plain": [
       "angle = \u001b[1m[\u001b[0m\u001b[1;36m3\u001b[0m, \u001b[1;36m5\u001b[0m, \u001b[1;36m7\u001b[0m, \u001b[1;36m10\u001b[0m, \u001b[1;36m12\u001b[0m, \u001b[1;36m15\u001b[0m, \u001b[1;36m20\u001b[0m, \u001b[1;36m25\u001b[0m\u001b[1m]\u001b[0m\n"
      ]
     },
     "metadata": {},
     "output_type": "display_data"
    },
    {
     "data": {
      "text/html": [
       "<pre style=\"white-space:pre;overflow-x:auto;line-height:normal;font-family:Menlo,'DejaVu Sans Mono',consolas,'Courier New',monospace\">epochs = <span style=\"font-weight: bold\">[</span><span style=\"color: #008080; text-decoration-color: #008080; font-weight: bold\">5</span>, <span style=\"color: #008080; text-decoration-color: #008080; font-weight: bold\">7</span>, <span style=\"color: #008080; text-decoration-color: #008080; font-weight: bold\">10</span>, <span style=\"color: #008080; text-decoration-color: #008080; font-weight: bold\">13</span>, <span style=\"color: #008080; text-decoration-color: #008080; font-weight: bold\">15</span><span style=\"font-weight: bold\">]</span>\n",
       "</pre>\n"
      ],
      "text/plain": [
       "epochs = \u001b[1m[\u001b[0m\u001b[1;36m5\u001b[0m, \u001b[1;36m7\u001b[0m, \u001b[1;36m10\u001b[0m, \u001b[1;36m13\u001b[0m, \u001b[1;36m15\u001b[0m\u001b[1m]\u001b[0m\n"
      ]
     },
     "metadata": {},
     "output_type": "display_data"
    }
   ],
   "source": [
    "angle = sorted(set(df_rot['angle'].to_numpy()))\n",
    "epochs = sorted(set(df_rot['epochs'].to_numpy().astype('int')))\n",
    "print(f\"{angle = }\")\n",
    "print(f\"{epochs = }\")"
   ]
  },
  {
   "cell_type": "code",
   "execution_count": 246,
   "id": "667cb990-aed7-4018-9c01-e365dde66edc",
   "metadata": {},
   "outputs": [
    {
     "data": {
      "text/html": [
       "<pre style=\"white-space:pre;overflow-x:auto;line-height:normal;font-family:Menlo,'DejaVu Sans Mono',consolas,'Courier New',monospace\">performance = <span style=\"color: #800080; text-decoration-color: #800080; font-weight: bold\">array</span><span style=\"font-weight: bold\">([</span><span style=\"color: #008080; text-decoration-color: #008080; font-weight: bold\">0.9688</span>, <span style=\"color: #008080; text-decoration-color: #008080; font-weight: bold\">0.9685</span>, <span style=\"color: #008080; text-decoration-color: #008080; font-weight: bold\">0.9699</span>, <span style=\"color: #008080; text-decoration-color: #008080; font-weight: bold\">0.9689</span>, <span style=\"color: #008080; text-decoration-color: #008080; font-weight: bold\">0.9671</span>, <span style=\"color: #008080; text-decoration-color: #008080; font-weight: bold\">0.9658</span>, <span style=\"color: #008080; text-decoration-color: #008080; font-weight: bold\">0.9671</span>, <span style=\"color: #008080; text-decoration-color: #008080; font-weight: bold\">0.9634</span>,\n",
       "       <span style=\"color: #008080; text-decoration-color: #008080; font-weight: bold\">0.9711</span>, <span style=\"color: #008080; text-decoration-color: #008080; font-weight: bold\">0.9669</span>, <span style=\"color: #008080; text-decoration-color: #008080; font-weight: bold\">0.9669</span>, <span style=\"color: #008080; text-decoration-color: #008080; font-weight: bold\">0.9646</span>, <span style=\"color: #008080; text-decoration-color: #008080; font-weight: bold\">0.9652</span>, <span style=\"color: #008080; text-decoration-color: #008080; font-weight: bold\">0.9675</span>, <span style=\"color: #008080; text-decoration-color: #008080; font-weight: bold\">0.969</span> , <span style=\"color: #008080; text-decoration-color: #008080; font-weight: bold\">0.964</span> ,\n",
       "       <span style=\"color: #008080; text-decoration-color: #008080; font-weight: bold\">0.9608</span>, <span style=\"color: #008080; text-decoration-color: #008080; font-weight: bold\">0.9621</span>, <span style=\"color: #008080; text-decoration-color: #008080; font-weight: bold\">0.9639</span>, <span style=\"color: #008080; text-decoration-color: #008080; font-weight: bold\">0.9652</span>, <span style=\"color: #008080; text-decoration-color: #008080; font-weight: bold\">0.956</span> , <span style=\"color: #008080; text-decoration-color: #008080; font-weight: bold\">0.9575</span>, <span style=\"color: #008080; text-decoration-color: #008080; font-weight: bold\">0.9545</span>, <span style=\"color: #008080; text-decoration-color: #008080; font-weight: bold\">0.9629</span>,\n",
       "       <span style=\"color: #008080; text-decoration-color: #008080; font-weight: bold\">0.9633</span>, <span style=\"color: #008080; text-decoration-color: #008080; font-weight: bold\">0.9666</span>, <span style=\"color: #008080; text-decoration-color: #008080; font-weight: bold\">0.9651</span>, <span style=\"color: #008080; text-decoration-color: #008080; font-weight: bold\">0.9655</span>, <span style=\"color: #008080; text-decoration-color: #008080; font-weight: bold\">0.971</span> , <span style=\"color: #008080; text-decoration-color: #008080; font-weight: bold\">0.9671</span>, <span style=\"color: #008080; text-decoration-color: #008080; font-weight: bold\">0.9658</span>, <span style=\"color: #008080; text-decoration-color: #008080; font-weight: bold\">0.964</span> ,\n",
       "       <span style=\"color: #008080; text-decoration-color: #008080; font-weight: bold\">0.9696</span>, <span style=\"color: #008080; text-decoration-color: #008080; font-weight: bold\">0.9676</span>, <span style=\"color: #008080; text-decoration-color: #008080; font-weight: bold\">0.9707</span>, <span style=\"color: #008080; text-decoration-color: #008080; font-weight: bold\">0.968</span> , <span style=\"color: #008080; text-decoration-color: #008080; font-weight: bold\">0.9684</span>, <span style=\"color: #008080; text-decoration-color: #008080; font-weight: bold\">0.9665</span>, <span style=\"color: #008080; text-decoration-color: #008080; font-weight: bold\">0.9683</span>, <span style=\"color: #008080; text-decoration-color: #008080; font-weight: bold\">0.9686</span><span style=\"font-weight: bold\">])</span>\n",
       "</pre>\n"
      ],
      "text/plain": [
       "performance = \u001b[1;35marray\u001b[0m\u001b[1m(\u001b[0m\u001b[1m[\u001b[0m\u001b[1;36m0.9688\u001b[0m, \u001b[1;36m0.9685\u001b[0m, \u001b[1;36m0.9699\u001b[0m, \u001b[1;36m0.9689\u001b[0m, \u001b[1;36m0.9671\u001b[0m, \u001b[1;36m0.9658\u001b[0m, \u001b[1;36m0.9671\u001b[0m, \u001b[1;36m0.9634\u001b[0m,\n",
       "       \u001b[1;36m0.9711\u001b[0m, \u001b[1;36m0.9669\u001b[0m, \u001b[1;36m0.9669\u001b[0m, \u001b[1;36m0.9646\u001b[0m, \u001b[1;36m0.9652\u001b[0m, \u001b[1;36m0.9675\u001b[0m, \u001b[1;36m0.969\u001b[0m , \u001b[1;36m0.964\u001b[0m ,\n",
       "       \u001b[1;36m0.9608\u001b[0m, \u001b[1;36m0.9621\u001b[0m, \u001b[1;36m0.9639\u001b[0m, \u001b[1;36m0.9652\u001b[0m, \u001b[1;36m0.956\u001b[0m , \u001b[1;36m0.9575\u001b[0m, \u001b[1;36m0.9545\u001b[0m, \u001b[1;36m0.9629\u001b[0m,\n",
       "       \u001b[1;36m0.9633\u001b[0m, \u001b[1;36m0.9666\u001b[0m, \u001b[1;36m0.9651\u001b[0m, \u001b[1;36m0.9655\u001b[0m, \u001b[1;36m0.971\u001b[0m , \u001b[1;36m0.9671\u001b[0m, \u001b[1;36m0.9658\u001b[0m, \u001b[1;36m0.964\u001b[0m ,\n",
       "       \u001b[1;36m0.9696\u001b[0m, \u001b[1;36m0.9676\u001b[0m, \u001b[1;36m0.9707\u001b[0m, \u001b[1;36m0.968\u001b[0m , \u001b[1;36m0.9684\u001b[0m, \u001b[1;36m0.9665\u001b[0m, \u001b[1;36m0.9683\u001b[0m, \u001b[1;36m0.9686\u001b[0m\u001b[1m]\u001b[0m\u001b[1m)\u001b[0m\n"
      ]
     },
     "metadata": {},
     "output_type": "display_data"
    }
   ],
   "source": [
    "performance = df_rot['performance'].to_numpy()\n",
    "print(f\"{performance = }\")"
   ]
  },
  {
   "cell_type": "code",
   "execution_count": 249,
   "id": "c7e4aa42-723a-499a-af46-bca60d2fdc81",
   "metadata": {},
   "outputs": [
    {
     "data": {
      "text/html": [
       "<pre style=\"white-space:pre;overflow-x:auto;line-height:normal;font-family:Menlo,'DejaVu Sans Mono',consolas,'Courier New',monospace\">\n",
       "<span style=\"font-weight: bold\">{</span>\n",
       "    <span style=\"color: #008000; text-decoration-color: #008000\">''</span>: <span style=\"color: #008080; text-decoration-color: #008080; font-weight: bold\">8.0</span>,\n",
       "    <span style=\"color: #008000; text-decoration-color: #008000\">'angle'</span>: <span style=\"color: #008080; text-decoration-color: #008080; font-weight: bold\">12.0</span>,\n",
       "    <span style=\"color: #008000; text-decoration-color: #008000\">'epochs'</span>: <span style=\"color: #008080; text-decoration-color: #008080; font-weight: bold\">5.0</span>,\n",
       "    <span style=\"color: #008000; text-decoration-color: #008000\">'performance'</span>: <span style=\"color: #008080; text-decoration-color: #008080; font-weight: bold\">0.9711</span>,\n",
       "    <span style=\"color: #008000; text-decoration-color: #008000\">'training_time'</span>: <span style=\"color: #008080; text-decoration-color: #008080; font-weight: bold\">489.72</span>\n",
       "<span style=\"font-weight: bold\">}</span>\n",
       "</pre>\n"
      ],
      "text/plain": [
       "\n",
       "\u001b[1m{\u001b[0m\n",
       "    \u001b[32m''\u001b[0m: \u001b[1;36m8.0\u001b[0m,\n",
       "    \u001b[32m'angle'\u001b[0m: \u001b[1;36m12.0\u001b[0m,\n",
       "    \u001b[32m'epochs'\u001b[0m: \u001b[1;36m5.0\u001b[0m,\n",
       "    \u001b[32m'performance'\u001b[0m: \u001b[1;36m0.9711\u001b[0m,\n",
       "    \u001b[32m'training_time'\u001b[0m: \u001b[1;36m489.72\u001b[0m\n",
       "\u001b[1m}\u001b[0m\n"
      ]
     },
     "metadata": {},
     "output_type": "display_data"
    }
   ],
   "source": [
    "df_rot.iloc[performance.argmax()].to_dict()"
   ]
  },
  {
   "cell_type": "code",
   "execution_count": 240,
   "id": "96490d06-954b-4cc9-891e-63e63d3185f8",
   "metadata": {},
   "outputs": [
    {
     "data": {
      "text/html": [
       "<pre style=\"white-space:pre;overflow-x:auto;line-height:normal;font-family:Menlo,'DejaVu Sans Mono',consolas,'Courier New',monospace\"><span style=\"font-weight: bold\">&lt;</span><span style=\"color: #ff00ff; text-decoration-color: #ff00ff; font-weight: bold\">Figure</span><span style=\"color: #000000; text-decoration-color: #000000\"> size 432x288 with </span><span style=\"color: #008080; text-decoration-color: #008080; font-weight: bold\">1</span><span style=\"color: #000000; text-decoration-color: #000000\"> Axes</span><span style=\"font-weight: bold\">&gt;</span>\n",
       "</pre>\n"
      ],
      "text/plain": [
       "\u001b[1m<\u001b[0m\u001b[1;95mFigure\u001b[0m\u001b[39m size 432x288 with \u001b[0m\u001b[1;36m1\u001b[0m\u001b[39m Axes\u001b[0m\u001b[1m>\u001b[0m\n"
      ]
     },
     "metadata": {},
     "output_type": "display_data"
    },
    {
     "data": {
      "image/png": "[encoded data removed]"
     },
     "metadata": {
      "needs_background": "light"
     },
     "output_type": "display_data"
    }
   ],
   "source": [
    "plt.figure()\n",
    "for e in epochs:\n",
    "    subdf = df_rot[df_rot['epochs']==e]\n",
    "    subdf = subdf.sort_values(by='angle')\n",
    "    performance = subdf['performance'].to_numpy()\n",
    "    plt.plot(angle, performance, label=f'{e}', marker='s', ls='--')\n",
    "plt.xlabel('rotation angle of additional data', fontsize=14)\n",
    "plt.ylabel('Performance', fontsize=14)\n",
    "plt.tight_layout()\n",
    "plt.legend()\n",
    "plt.show()"
   ]
  },
  {
   "cell_type": "markdown",
   "id": "e5dc87f3-b51f-4279-94ef-d10dffe11954",
   "metadata": {},
   "source": [
    "### remove bad performance classifiers"
   ]
  },
  {
   "cell_type": "code",
   "execution_count": 267,
   "id": "ffb7625f-f362-4c8a-bbe9-129ed6de8ca2",
   "metadata": {},
   "outputs": [],
   "source": [
    "clf_list = list(clf_dir.glob('*.pkl'))\n",
    "\n",
    "for clfname in clf_list:\n",
    "    with open(clfname, 'rb') as f:\n",
    "        clf = pickle.load(f)\n",
    "    if clf.performance < 0.97:\n",
    "        print(f\"Removing {clfname}\")\n",
    "        clfname.unlink()"
   ]
  },
  {
   "cell_type": "code",
   "execution_count": 271,
   "id": "5147d473-b5f4-4459-9e69-d5a8cebd10d7",
   "metadata": {},
   "outputs": [
    {
     "data": {
      "text/html": [
       "<pre style=\"white-space:pre;overflow-x:auto;line-height:normal;font-family:Menlo,'DejaVu Sans Mono',consolas,'Courier New',monospace\">clf.performance = <span style=\"color: #008080; text-decoration-color: #008080; font-weight: bold\">0.9750</span>, clf.hnodes = <span style=\"color: #008080; text-decoration-color: #008080; font-weight: bold\">200</span>, clf.lr = <span style=\"color: #008080; text-decoration-color: #008080; font-weight: bold\">0.10</span>, clf.epochs = <span style=\"color: #008080; text-decoration-color: #008080; font-weight: bold\">9</span>\n",
       "</pre>\n"
      ],
      "text/plain": [
       "clf.performance = \u001b[1;36m0.9750\u001b[0m, clf.hnodes = \u001b[1;36m200\u001b[0m, clf.lr = \u001b[1;36m0.10\u001b[0m, clf.epochs = \u001b[1;36m9\u001b[0m\n"
      ]
     },
     "metadata": {},
     "output_type": "display_data"
    },
    {
     "data": {
      "text/html": [
       "<pre style=\"white-space:pre;overflow-x:auto;line-height:normal;font-family:Menlo,'DejaVu Sans Mono',consolas,'Courier New',monospace\">clf.performance = <span style=\"color: #008080; text-decoration-color: #008080; font-weight: bold\">0.9745</span>, clf.hnodes = <span style=\"color: #008080; text-decoration-color: #008080; font-weight: bold\">500</span>, clf.lr = <span style=\"color: #008080; text-decoration-color: #008080; font-weight: bold\">0.10</span>, clf.epochs = <span style=\"color: #008080; text-decoration-color: #008080; font-weight: bold\">4</span>\n",
       "</pre>\n"
      ],
      "text/plain": [
       "clf.performance = \u001b[1;36m0.9745\u001b[0m, clf.hnodes = \u001b[1;36m500\u001b[0m, clf.lr = \u001b[1;36m0.10\u001b[0m, clf.epochs = \u001b[1;36m4\u001b[0m\n"
      ]
     },
     "metadata": {},
     "output_type": "display_data"
    },
    {
     "data": {
      "text/html": [
       "<pre style=\"white-space:pre;overflow-x:auto;line-height:normal;font-family:Menlo,'DejaVu Sans Mono',consolas,'Courier New',monospace\">clf.performance = <span style=\"color: #008080; text-decoration-color: #008080; font-weight: bold\">0.9743</span>, clf.hnodes = <span style=\"color: #008080; text-decoration-color: #008080; font-weight: bold\">200</span>, clf.lr = <span style=\"color: #008080; text-decoration-color: #008080; font-weight: bold\">0.10</span>, clf.epochs = <span style=\"color: #008080; text-decoration-color: #008080; font-weight: bold\">4</span>\n",
       "</pre>\n"
      ],
      "text/plain": [
       "clf.performance = \u001b[1;36m0.9743\u001b[0m, clf.hnodes = \u001b[1;36m200\u001b[0m, clf.lr = \u001b[1;36m0.10\u001b[0m, clf.epochs = \u001b[1;36m4\u001b[0m\n"
      ]
     },
     "metadata": {},
     "output_type": "display_data"
    },
    {
     "data": {
      "text/html": [
       "<pre style=\"white-space:pre;overflow-x:auto;line-height:normal;font-family:Menlo,'DejaVu Sans Mono',consolas,'Courier New',monospace\">clf.performance = <span style=\"color: #008080; text-decoration-color: #008080; font-weight: bold\">0.9720</span>, clf.hnodes = <span style=\"color: #008080; text-decoration-color: #008080; font-weight: bold\">300</span>, clf.lr = <span style=\"color: #008080; text-decoration-color: #008080; font-weight: bold\">0.10</span>, clf.epochs = <span style=\"color: #008080; text-decoration-color: #008080; font-weight: bold\">15</span>\n",
       "</pre>\n"
      ],
      "text/plain": [
       "clf.performance = \u001b[1;36m0.9720\u001b[0m, clf.hnodes = \u001b[1;36m300\u001b[0m, clf.lr = \u001b[1;36m0.10\u001b[0m, clf.epochs = \u001b[1;36m15\u001b[0m\n"
      ]
     },
     "metadata": {},
     "output_type": "display_data"
    },
    {
     "data": {
      "text/html": [
       "<pre style=\"white-space:pre;overflow-x:auto;line-height:normal;font-family:Menlo,'DejaVu Sans Mono',consolas,'Courier New',monospace\">clf.performance = <span style=\"color: #008080; text-decoration-color: #008080; font-weight: bold\">0.9736</span>, clf.hnodes = <span style=\"color: #008080; text-decoration-color: #008080; font-weight: bold\">500</span>, clf.lr = <span style=\"color: #008080; text-decoration-color: #008080; font-weight: bold\">0.01</span>, clf.epochs = <span style=\"color: #008080; text-decoration-color: #008080; font-weight: bold\">9</span>\n",
       "</pre>\n"
      ],
      "text/plain": [
       "clf.performance = \u001b[1;36m0.9736\u001b[0m, clf.hnodes = \u001b[1;36m500\u001b[0m, clf.lr = \u001b[1;36m0.01\u001b[0m, clf.epochs = \u001b[1;36m9\u001b[0m\n"
      ]
     },
     "metadata": {},
     "output_type": "display_data"
    },
    {
     "data": {
      "text/html": [
       "<pre style=\"white-space:pre;overflow-x:auto;line-height:normal;font-family:Menlo,'DejaVu Sans Mono',consolas,'Courier New',monospace\">clf.performance = <span style=\"color: #008080; text-decoration-color: #008080; font-weight: bold\">0.9724</span>, clf.hnodes = <span style=\"color: #008080; text-decoration-color: #008080; font-weight: bold\">300</span>, clf.lr = <span style=\"color: #008080; text-decoration-color: #008080; font-weight: bold\">0.10</span>, clf.epochs = <span style=\"color: #008080; text-decoration-color: #008080; font-weight: bold\">20</span>\n",
       "</pre>\n"
      ],
      "text/plain": [
       "clf.performance = \u001b[1;36m0.9724\u001b[0m, clf.hnodes = \u001b[1;36m300\u001b[0m, clf.lr = \u001b[1;36m0.10\u001b[0m, clf.epochs = \u001b[1;36m20\u001b[0m\n"
      ]
     },
     "metadata": {},
     "output_type": "display_data"
    },
    {
     "data": {
      "text/html": [
       "<pre style=\"white-space:pre;overflow-x:auto;line-height:normal;font-family:Menlo,'DejaVu Sans Mono',consolas,'Courier New',monospace\">clf.performance = <span style=\"color: #008080; text-decoration-color: #008080; font-weight: bold\">0.9709</span>, clf.hnodes = <span style=\"color: #008080; text-decoration-color: #008080; font-weight: bold\">500</span>, clf.lr = <span style=\"color: #008080; text-decoration-color: #008080; font-weight: bold\">0.01</span>, clf.epochs = <span style=\"color: #008080; text-decoration-color: #008080; font-weight: bold\">7</span>\n",
       "</pre>\n"
      ],
      "text/plain": [
       "clf.performance = \u001b[1;36m0.9709\u001b[0m, clf.hnodes = \u001b[1;36m500\u001b[0m, clf.lr = \u001b[1;36m0.01\u001b[0m, clf.epochs = \u001b[1;36m7\u001b[0m\n"
      ]
     },
     "metadata": {},
     "output_type": "display_data"
    },
    {
     "data": {
      "text/html": [
       "<pre style=\"white-space:pre;overflow-x:auto;line-height:normal;font-family:Menlo,'DejaVu Sans Mono',consolas,'Courier New',monospace\">clf.performance = <span style=\"color: #008080; text-decoration-color: #008080; font-weight: bold\">0.9750</span>, clf.hnodes = <span style=\"color: #008080; text-decoration-color: #008080; font-weight: bold\">200</span>, clf.lr = <span style=\"color: #008080; text-decoration-color: #008080; font-weight: bold\">0.10</span>, clf.epochs = <span style=\"color: #008080; text-decoration-color: #008080; font-weight: bold\">10</span>\n",
       "</pre>\n"
      ],
      "text/plain": [
       "clf.performance = \u001b[1;36m0.9750\u001b[0m, clf.hnodes = \u001b[1;36m200\u001b[0m, clf.lr = \u001b[1;36m0.10\u001b[0m, clf.epochs = \u001b[1;36m10\u001b[0m\n"
      ]
     },
     "metadata": {},
     "output_type": "display_data"
    },
    {
     "data": {
      "text/html": [
       "<pre style=\"white-space:pre;overflow-x:auto;line-height:normal;font-family:Menlo,'DejaVu Sans Mono',consolas,'Courier New',monospace\">clf.performance = <span style=\"color: #008080; text-decoration-color: #008080; font-weight: bold\">0.9701</span>, clf.hnodes = <span style=\"color: #008080; text-decoration-color: #008080; font-weight: bold\">500</span>, clf.lr = <span style=\"color: #008080; text-decoration-color: #008080; font-weight: bold\">0.20</span>, clf.epochs = <span style=\"color: #008080; text-decoration-color: #008080; font-weight: bold\">6</span>\n",
       "</pre>\n"
      ],
      "text/plain": [
       "clf.performance = \u001b[1;36m0.9701\u001b[0m, clf.hnodes = \u001b[1;36m500\u001b[0m, clf.lr = \u001b[1;36m0.20\u001b[0m, clf.epochs = \u001b[1;36m6\u001b[0m\n"
      ]
     },
     "metadata": {},
     "output_type": "display_data"
    },
    {
     "data": {
      "text/html": [
       "<pre style=\"white-space:pre;overflow-x:auto;line-height:normal;font-family:Menlo,'DejaVu Sans Mono',consolas,'Courier New',monospace\">clf.performance = <span style=\"color: #008080; text-decoration-color: #008080; font-weight: bold\">0.9755</span>, clf.hnodes = <span style=\"color: #008080; text-decoration-color: #008080; font-weight: bold\">400</span>, clf.lr = <span style=\"color: #008080; text-decoration-color: #008080; font-weight: bold\">0.10</span>, clf.epochs = <span style=\"color: #008080; text-decoration-color: #008080; font-weight: bold\">4</span>\n",
       "</pre>\n"
      ],
      "text/plain": [
       "clf.performance = \u001b[1;36m0.9755\u001b[0m, clf.hnodes = \u001b[1;36m400\u001b[0m, clf.lr = \u001b[1;36m0.10\u001b[0m, clf.epochs = \u001b[1;36m4\u001b[0m\n"
      ]
     },
     "metadata": {},
     "output_type": "display_data"
    },
    {
     "data": {
      "text/html": [
       "<pre style=\"white-space:pre;overflow-x:auto;line-height:normal;font-family:Menlo,'DejaVu Sans Mono',consolas,'Courier New',monospace\">clf.performance = <span style=\"color: #008080; text-decoration-color: #008080; font-weight: bold\">0.9708</span>, clf.hnodes = <span style=\"color: #008080; text-decoration-color: #008080; font-weight: bold\">400</span>, clf.lr = <span style=\"color: #008080; text-decoration-color: #008080; font-weight: bold\">0.10</span>, clf.epochs = <span style=\"color: #008080; text-decoration-color: #008080; font-weight: bold\">20</span>\n",
       "</pre>\n"
      ],
      "text/plain": [
       "clf.performance = \u001b[1;36m0.9708\u001b[0m, clf.hnodes = \u001b[1;36m400\u001b[0m, clf.lr = \u001b[1;36m0.10\u001b[0m, clf.epochs = \u001b[1;36m20\u001b[0m\n"
      ]
     },
     "metadata": {},
     "output_type": "display_data"
    },
    {
     "data": {
      "text/html": [
       "<pre style=\"white-space:pre;overflow-x:auto;line-height:normal;font-family:Menlo,'DejaVu Sans Mono',consolas,'Courier New',monospace\">clf.performance = <span style=\"color: #008080; text-decoration-color: #008080; font-weight: bold\">0.9715</span>, clf.hnodes = <span style=\"color: #008080; text-decoration-color: #008080; font-weight: bold\">300</span>, clf.lr = <span style=\"color: #008080; text-decoration-color: #008080; font-weight: bold\">0.01</span>, clf.epochs = <span style=\"color: #008080; text-decoration-color: #008080; font-weight: bold\">9</span>\n",
       "</pre>\n"
      ],
      "text/plain": [
       "clf.performance = \u001b[1;36m0.9715\u001b[0m, clf.hnodes = \u001b[1;36m300\u001b[0m, clf.lr = \u001b[1;36m0.01\u001b[0m, clf.epochs = \u001b[1;36m9\u001b[0m\n"
      ]
     },
     "metadata": {},
     "output_type": "display_data"
    },
    {
     "data": {
      "text/html": [
       "<pre style=\"white-space:pre;overflow-x:auto;line-height:normal;font-family:Menlo,'DejaVu Sans Mono',consolas,'Courier New',monospace\">clf.performance = <span style=\"color: #008080; text-decoration-color: #008080; font-weight: bold\">0.9765</span>, clf.hnodes = <span style=\"color: #008080; text-decoration-color: #008080; font-weight: bold\">300</span>, clf.lr = <span style=\"color: #008080; text-decoration-color: #008080; font-weight: bold\">0.01</span>, clf.epochs = <span style=\"color: #008080; text-decoration-color: #008080; font-weight: bold\">15</span>\n",
       "</pre>\n"
      ],
      "text/plain": [
       "clf.performance = \u001b[1;36m0.9765\u001b[0m, clf.hnodes = \u001b[1;36m300\u001b[0m, clf.lr = \u001b[1;36m0.01\u001b[0m, clf.epochs = \u001b[1;36m15\u001b[0m\n"
      ]
     },
     "metadata": {},
     "output_type": "display_data"
    },
    {
     "data": {
      "text/html": [
       "<pre style=\"white-space:pre;overflow-x:auto;line-height:normal;font-family:Menlo,'DejaVu Sans Mono',consolas,'Courier New',monospace\">clf.performance = <span style=\"color: #008080; text-decoration-color: #008080; font-weight: bold\">0.9700</span>, clf.hnodes = <span style=\"color: #008080; text-decoration-color: #008080; font-weight: bold\">100</span>, clf.lr = <span style=\"color: #008080; text-decoration-color: #008080; font-weight: bold\">0.10</span>, clf.epochs = <span style=\"color: #008080; text-decoration-color: #008080; font-weight: bold\">6</span>\n",
       "</pre>\n"
      ],
      "text/plain": [
       "clf.performance = \u001b[1;36m0.9700\u001b[0m, clf.hnodes = \u001b[1;36m100\u001b[0m, clf.lr = \u001b[1;36m0.10\u001b[0m, clf.epochs = \u001b[1;36m6\u001b[0m\n"
      ]
     },
     "metadata": {},
     "output_type": "display_data"
    },
    {
     "data": {
      "text/html": [
       "<pre style=\"white-space:pre;overflow-x:auto;line-height:normal;font-family:Menlo,'DejaVu Sans Mono',consolas,'Courier New',monospace\">clf.performance = <span style=\"color: #008080; text-decoration-color: #008080; font-weight: bold\">0.9709</span>, clf.hnodes = <span style=\"color: #008080; text-decoration-color: #008080; font-weight: bold\">500</span>, clf.lr = <span style=\"color: #008080; text-decoration-color: #008080; font-weight: bold\">0.20</span>, clf.epochs = <span style=\"color: #008080; text-decoration-color: #008080; font-weight: bold\">10</span>\n",
       "</pre>\n"
      ],
      "text/plain": [
       "clf.performance = \u001b[1;36m0.9709\u001b[0m, clf.hnodes = \u001b[1;36m500\u001b[0m, clf.lr = \u001b[1;36m0.20\u001b[0m, clf.epochs = \u001b[1;36m10\u001b[0m\n"
      ]
     },
     "metadata": {},
     "output_type": "display_data"
    },
    {
     "data": {
      "text/html": [
       "<pre style=\"white-space:pre;overflow-x:auto;line-height:normal;font-family:Menlo,'DejaVu Sans Mono',consolas,'Courier New',monospace\">clf.performance = <span style=\"color: #008080; text-decoration-color: #008080; font-weight: bold\">0.9735</span>, clf.hnodes = <span style=\"color: #008080; text-decoration-color: #008080; font-weight: bold\">300</span>, clf.lr = <span style=\"color: #008080; text-decoration-color: #008080; font-weight: bold\">0.10</span>, clf.epochs = <span style=\"color: #008080; text-decoration-color: #008080; font-weight: bold\">6</span>\n",
       "</pre>\n"
      ],
      "text/plain": [
       "clf.performance = \u001b[1;36m0.9735\u001b[0m, clf.hnodes = \u001b[1;36m300\u001b[0m, clf.lr = \u001b[1;36m0.10\u001b[0m, clf.epochs = \u001b[1;36m6\u001b[0m\n"
      ]
     },
     "metadata": {},
     "output_type": "display_data"
    },
    {
     "data": {
      "text/html": [
       "<pre style=\"white-space:pre;overflow-x:auto;line-height:normal;font-family:Menlo,'DejaVu Sans Mono',consolas,'Courier New',monospace\">clf.performance = <span style=\"color: #008080; text-decoration-color: #008080; font-weight: bold\">0.9729</span>, clf.hnodes = <span style=\"color: #008080; text-decoration-color: #008080; font-weight: bold\">300</span>, clf.lr = <span style=\"color: #008080; text-decoration-color: #008080; font-weight: bold\">0.01</span>, clf.epochs = <span style=\"color: #008080; text-decoration-color: #008080; font-weight: bold\">10</span>\n",
       "</pre>\n"
      ],
      "text/plain": [
       "clf.performance = \u001b[1;36m0.9729\u001b[0m, clf.hnodes = \u001b[1;36m300\u001b[0m, clf.lr = \u001b[1;36m0.01\u001b[0m, clf.epochs = \u001b[1;36m10\u001b[0m\n"
      ]
     },
     "metadata": {},
     "output_type": "display_data"
    },
    {
     "data": {
      "text/html": [
       "<pre style=\"white-space:pre;overflow-x:auto;line-height:normal;font-family:Menlo,'DejaVu Sans Mono',consolas,'Courier New',monospace\">clf.performance = <span style=\"color: #008080; text-decoration-color: #008080; font-weight: bold\">0.9753</span>, clf.hnodes = <span style=\"color: #008080; text-decoration-color: #008080; font-weight: bold\">500</span>, clf.lr = <span style=\"color: #008080; text-decoration-color: #008080; font-weight: bold\">0.10</span>, clf.epochs = <span style=\"color: #008080; text-decoration-color: #008080; font-weight: bold\">10</span>\n",
       "</pre>\n"
      ],
      "text/plain": [
       "clf.performance = \u001b[1;36m0.9753\u001b[0m, clf.hnodes = \u001b[1;36m500\u001b[0m, clf.lr = \u001b[1;36m0.10\u001b[0m, clf.epochs = \u001b[1;36m10\u001b[0m\n"
      ]
     },
     "metadata": {},
     "output_type": "display_data"
    },
    {
     "data": {
      "text/html": [
       "<pre style=\"white-space:pre;overflow-x:auto;line-height:normal;font-family:Menlo,'DejaVu Sans Mono',consolas,'Courier New',monospace\">clf.performance = <span style=\"color: #008080; text-decoration-color: #008080; font-weight: bold\">0.9716</span>, clf.hnodes = <span style=\"color: #008080; text-decoration-color: #008080; font-weight: bold\">400</span>, clf.lr = <span style=\"color: #008080; text-decoration-color: #008080; font-weight: bold\">0.01</span>, clf.epochs = <span style=\"color: #008080; text-decoration-color: #008080; font-weight: bold\">9</span>\n",
       "</pre>\n"
      ],
      "text/plain": [
       "clf.performance = \u001b[1;36m0.9716\u001b[0m, clf.hnodes = \u001b[1;36m400\u001b[0m, clf.lr = \u001b[1;36m0.01\u001b[0m, clf.epochs = \u001b[1;36m9\u001b[0m\n"
      ]
     },
     "metadata": {},
     "output_type": "display_data"
    },
    {
     "data": {
      "text/html": [
       "<pre style=\"white-space:pre;overflow-x:auto;line-height:normal;font-family:Menlo,'DejaVu Sans Mono',consolas,'Courier New',monospace\">clf.performance = <span style=\"color: #008080; text-decoration-color: #008080; font-weight: bold\">0.9700</span>, clf.hnodes = <span style=\"color: #008080; text-decoration-color: #008080; font-weight: bold\">300</span>, clf.lr = <span style=\"color: #008080; text-decoration-color: #008080; font-weight: bold\">0.20</span>, clf.epochs = <span style=\"color: #008080; text-decoration-color: #008080; font-weight: bold\">7</span>\n",
       "</pre>\n"
      ],
      "text/plain": [
       "clf.performance = \u001b[1;36m0.9700\u001b[0m, clf.hnodes = \u001b[1;36m300\u001b[0m, clf.lr = \u001b[1;36m0.20\u001b[0m, clf.epochs = \u001b[1;36m7\u001b[0m\n"
      ]
     },
     "metadata": {},
     "output_type": "display_data"
    },
    {
     "data": {
      "text/html": [
       "<pre style=\"white-space:pre;overflow-x:auto;line-height:normal;font-family:Menlo,'DejaVu Sans Mono',consolas,'Courier New',monospace\">clf.performance = <span style=\"color: #008080; text-decoration-color: #008080; font-weight: bold\">0.9723</span>, clf.hnodes = <span style=\"color: #008080; text-decoration-color: #008080; font-weight: bold\">200</span>, clf.lr = <span style=\"color: #008080; text-decoration-color: #008080; font-weight: bold\">0.10</span>, clf.epochs = <span style=\"color: #008080; text-decoration-color: #008080; font-weight: bold\">3</span>\n",
       "</pre>\n"
      ],
      "text/plain": [
       "clf.performance = \u001b[1;36m0.9723\u001b[0m, clf.hnodes = \u001b[1;36m200\u001b[0m, clf.lr = \u001b[1;36m0.10\u001b[0m, clf.epochs = \u001b[1;36m3\u001b[0m\n"
      ]
     },
     "metadata": {},
     "output_type": "display_data"
    },
    {
     "data": {
      "text/html": [
       "<pre style=\"white-space:pre;overflow-x:auto;line-height:normal;font-family:Menlo,'DejaVu Sans Mono',consolas,'Courier New',monospace\">clf.performance = <span style=\"color: #008080; text-decoration-color: #008080; font-weight: bold\">0.9738</span>, clf.hnodes = <span style=\"color: #008080; text-decoration-color: #008080; font-weight: bold\">200</span>, clf.lr = <span style=\"color: #008080; text-decoration-color: #008080; font-weight: bold\">0.10</span>, clf.epochs = <span style=\"color: #008080; text-decoration-color: #008080; font-weight: bold\">7</span>\n",
       "</pre>\n"
      ],
      "text/plain": [
       "clf.performance = \u001b[1;36m0.9738\u001b[0m, clf.hnodes = \u001b[1;36m200\u001b[0m, clf.lr = \u001b[1;36m0.10\u001b[0m, clf.epochs = \u001b[1;36m7\u001b[0m\n"
      ]
     },
     "metadata": {},
     "output_type": "display_data"
    },
    {
     "data": {
      "text/html": [
       "<pre style=\"white-space:pre;overflow-x:auto;line-height:normal;font-family:Menlo,'DejaVu Sans Mono',consolas,'Courier New',monospace\">clf.performance = <span style=\"color: #008080; text-decoration-color: #008080; font-weight: bold\">0.9735</span>, clf.hnodes = <span style=\"color: #008080; text-decoration-color: #008080; font-weight: bold\">400</span>, clf.lr = <span style=\"color: #008080; text-decoration-color: #008080; font-weight: bold\">0.10</span>, clf.epochs = <span style=\"color: #008080; text-decoration-color: #008080; font-weight: bold\">3</span>\n",
       "</pre>\n"
      ],
      "text/plain": [
       "clf.performance = \u001b[1;36m0.9735\u001b[0m, clf.hnodes = \u001b[1;36m400\u001b[0m, clf.lr = \u001b[1;36m0.10\u001b[0m, clf.epochs = \u001b[1;36m3\u001b[0m\n"
      ]
     },
     "metadata": {},
     "output_type": "display_data"
    },
    {
     "data": {
      "text/html": [
       "<pre style=\"white-space:pre;overflow-x:auto;line-height:normal;font-family:Menlo,'DejaVu Sans Mono',consolas,'Courier New',monospace\">clf.performance = <span style=\"color: #008080; text-decoration-color: #008080; font-weight: bold\">0.9732</span>, clf.hnodes = <span style=\"color: #008080; text-decoration-color: #008080; font-weight: bold\">400</span>, clf.lr = <span style=\"color: #008080; text-decoration-color: #008080; font-weight: bold\">0.10</span>, clf.epochs = <span style=\"color: #008080; text-decoration-color: #008080; font-weight: bold\">15</span>\n",
       "</pre>\n"
      ],
      "text/plain": [
       "clf.performance = \u001b[1;36m0.9732\u001b[0m, clf.hnodes = \u001b[1;36m400\u001b[0m, clf.lr = \u001b[1;36m0.10\u001b[0m, clf.epochs = \u001b[1;36m15\u001b[0m\n"
      ]
     },
     "metadata": {},
     "output_type": "display_data"
    },
    {
     "data": {
      "text/html": [
       "<pre style=\"white-space:pre;overflow-x:auto;line-height:normal;font-family:Menlo,'DejaVu Sans Mono',consolas,'Courier New',monospace\">clf.performance = <span style=\"color: #008080; text-decoration-color: #008080; font-weight: bold\">0.9708</span>, clf.hnodes = <span style=\"color: #008080; text-decoration-color: #008080; font-weight: bold\">500</span>, clf.lr = <span style=\"color: #008080; text-decoration-color: #008080; font-weight: bold\">0.20</span>, clf.epochs = <span style=\"color: #008080; text-decoration-color: #008080; font-weight: bold\">9</span>\n",
       "</pre>\n"
      ],
      "text/plain": [
       "clf.performance = \u001b[1;36m0.9708\u001b[0m, clf.hnodes = \u001b[1;36m500\u001b[0m, clf.lr = \u001b[1;36m0.20\u001b[0m, clf.epochs = \u001b[1;36m9\u001b[0m\n"
      ]
     },
     "metadata": {},
     "output_type": "display_data"
    },
    {
     "data": {
      "text/html": [
       "<pre style=\"white-space:pre;overflow-x:auto;line-height:normal;font-family:Menlo,'DejaVu Sans Mono',consolas,'Courier New',monospace\">clf.performance = <span style=\"color: #008080; text-decoration-color: #008080; font-weight: bold\">0.9766</span>, clf.hnodes = <span style=\"color: #008080; text-decoration-color: #008080; font-weight: bold\">500</span>, clf.lr = <span style=\"color: #008080; text-decoration-color: #008080; font-weight: bold\">0.10</span>, clf.epochs = <span style=\"color: #008080; text-decoration-color: #008080; font-weight: bold\">7</span>\n",
       "</pre>\n"
      ],
      "text/plain": [
       "clf.performance = \u001b[1;36m0.9766\u001b[0m, clf.hnodes = \u001b[1;36m500\u001b[0m, clf.lr = \u001b[1;36m0.10\u001b[0m, clf.epochs = \u001b[1;36m7\u001b[0m\n"
      ]
     },
     "metadata": {},
     "output_type": "display_data"
    },
    {
     "data": {
      "text/html": [
       "<pre style=\"white-space:pre;overflow-x:auto;line-height:normal;font-family:Menlo,'DejaVu Sans Mono',consolas,'Courier New',monospace\">clf.performance = <span style=\"color: #008080; text-decoration-color: #008080; font-weight: bold\">0.9764</span>, clf.hnodes = <span style=\"color: #008080; text-decoration-color: #008080; font-weight: bold\">400</span>, clf.lr = <span style=\"color: #008080; text-decoration-color: #008080; font-weight: bold\">0.01</span>, clf.epochs = <span style=\"color: #008080; text-decoration-color: #008080; font-weight: bold\">15</span>\n",
       "</pre>\n"
      ],
      "text/plain": [
       "clf.performance = \u001b[1;36m0.9764\u001b[0m, clf.hnodes = \u001b[1;36m400\u001b[0m, clf.lr = \u001b[1;36m0.01\u001b[0m, clf.epochs = \u001b[1;36m15\u001b[0m\n"
      ]
     },
     "metadata": {},
     "output_type": "display_data"
    },
    {
     "data": {
      "text/html": [
       "<pre style=\"white-space:pre;overflow-x:auto;line-height:normal;font-family:Menlo,'DejaVu Sans Mono',consolas,'Courier New',monospace\">clf.performance = <span style=\"color: #008080; text-decoration-color: #008080; font-weight: bold\">0.9702</span>, clf.hnodes = <span style=\"color: #008080; text-decoration-color: #008080; font-weight: bold\">400</span>, clf.lr = <span style=\"color: #008080; text-decoration-color: #008080; font-weight: bold\">0.20</span>, clf.epochs = <span style=\"color: #008080; text-decoration-color: #008080; font-weight: bold\">4</span>\n",
       "</pre>\n"
      ],
      "text/plain": [
       "clf.performance = \u001b[1;36m0.9702\u001b[0m, clf.hnodes = \u001b[1;36m400\u001b[0m, clf.lr = \u001b[1;36m0.20\u001b[0m, clf.epochs = \u001b[1;36m4\u001b[0m\n"
      ]
     },
     "metadata": {},
     "output_type": "display_data"
    },
    {
     "data": {
      "text/html": [
       "<pre style=\"white-space:pre;overflow-x:auto;line-height:normal;font-family:Menlo,'DejaVu Sans Mono',consolas,'Courier New',monospace\">clf.performance = <span style=\"color: #008080; text-decoration-color: #008080; font-weight: bold\">0.9750</span>, clf.hnodes = <span style=\"color: #008080; text-decoration-color: #008080; font-weight: bold\">300</span>, clf.lr = <span style=\"color: #008080; text-decoration-color: #008080; font-weight: bold\">0.10</span>, clf.epochs = <span style=\"color: #008080; text-decoration-color: #008080; font-weight: bold\">9</span>\n",
       "</pre>\n"
      ],
      "text/plain": [
       "clf.performance = \u001b[1;36m0.9750\u001b[0m, clf.hnodes = \u001b[1;36m300\u001b[0m, clf.lr = \u001b[1;36m0.10\u001b[0m, clf.epochs = \u001b[1;36m9\u001b[0m\n"
      ]
     },
     "metadata": {},
     "output_type": "display_data"
    },
    {
     "data": {
      "text/html": [
       "<pre style=\"white-space:pre;overflow-x:auto;line-height:normal;font-family:Menlo,'DejaVu Sans Mono',consolas,'Courier New',monospace\">clf.performance = <span style=\"color: #008080; text-decoration-color: #008080; font-weight: bold\">0.9714</span>, clf.hnodes = <span style=\"color: #008080; text-decoration-color: #008080; font-weight: bold\">500</span>, clf.lr = <span style=\"color: #008080; text-decoration-color: #008080; font-weight: bold\">0.20</span>, clf.epochs = <span style=\"color: #008080; text-decoration-color: #008080; font-weight: bold\">5</span>\n",
       "</pre>\n"
      ],
      "text/plain": [
       "clf.performance = \u001b[1;36m0.9714\u001b[0m, clf.hnodes = \u001b[1;36m500\u001b[0m, clf.lr = \u001b[1;36m0.20\u001b[0m, clf.epochs = \u001b[1;36m5\u001b[0m\n"
      ]
     },
     "metadata": {},
     "output_type": "display_data"
    },
    {
     "data": {
      "text/html": [
       "<pre style=\"white-space:pre;overflow-x:auto;line-height:normal;font-family:Menlo,'DejaVu Sans Mono',consolas,'Courier New',monospace\">clf.performance = <span style=\"color: #008080; text-decoration-color: #008080; font-weight: bold\">0.9737</span>, clf.hnodes = <span style=\"color: #008080; text-decoration-color: #008080; font-weight: bold\">200</span>, clf.lr = <span style=\"color: #008080; text-decoration-color: #008080; font-weight: bold\">0.10</span>, clf.epochs = <span style=\"color: #008080; text-decoration-color: #008080; font-weight: bold\">20</span>\n",
       "</pre>\n"
      ],
      "text/plain": [
       "clf.performance = \u001b[1;36m0.9737\u001b[0m, clf.hnodes = \u001b[1;36m200\u001b[0m, clf.lr = \u001b[1;36m0.10\u001b[0m, clf.epochs = \u001b[1;36m20\u001b[0m\n"
      ]
     },
     "metadata": {},
     "output_type": "display_data"
    },
    {
     "data": {
      "text/html": [
       "<pre style=\"white-space:pre;overflow-x:auto;line-height:normal;font-family:Menlo,'DejaVu Sans Mono',consolas,'Courier New',monospace\">clf.performance = <span style=\"color: #008080; text-decoration-color: #008080; font-weight: bold\">0.9745</span>, clf.hnodes = <span style=\"color: #008080; text-decoration-color: #008080; font-weight: bold\">500</span>, clf.lr = <span style=\"color: #008080; text-decoration-color: #008080; font-weight: bold\">0.10</span>, clf.epochs = <span style=\"color: #008080; text-decoration-color: #008080; font-weight: bold\">5</span>\n",
       "</pre>\n"
      ],
      "text/plain": [
       "clf.performance = \u001b[1;36m0.9745\u001b[0m, clf.hnodes = \u001b[1;36m500\u001b[0m, clf.lr = \u001b[1;36m0.10\u001b[0m, clf.epochs = \u001b[1;36m5\u001b[0m\n"
      ]
     },
     "metadata": {},
     "output_type": "display_data"
    },
    {
     "data": {
      "text/html": [
       "<pre style=\"white-space:pre;overflow-x:auto;line-height:normal;font-family:Menlo,'DejaVu Sans Mono',consolas,'Courier New',monospace\">clf.performance = <span style=\"color: #008080; text-decoration-color: #008080; font-weight: bold\">0.9759</span>, clf.hnodes = <span style=\"color: #008080; text-decoration-color: #008080; font-weight: bold\">400</span>, clf.lr = <span style=\"color: #008080; text-decoration-color: #008080; font-weight: bold\">0.10</span>, clf.epochs = <span style=\"color: #008080; text-decoration-color: #008080; font-weight: bold\">7</span>\n",
       "</pre>\n"
      ],
      "text/plain": [
       "clf.performance = \u001b[1;36m0.9759\u001b[0m, clf.hnodes = \u001b[1;36m400\u001b[0m, clf.lr = \u001b[1;36m0.10\u001b[0m, clf.epochs = \u001b[1;36m7\u001b[0m\n"
      ]
     },
     "metadata": {},
     "output_type": "display_data"
    },
    {
     "data": {
      "text/html": [
       "<pre style=\"white-space:pre;overflow-x:auto;line-height:normal;font-family:Menlo,'DejaVu Sans Mono',consolas,'Courier New',monospace\">clf.performance = <span style=\"color: #008080; text-decoration-color: #008080; font-weight: bold\">0.9774</span>, clf.hnodes = <span style=\"color: #008080; text-decoration-color: #008080; font-weight: bold\">400</span>, clf.lr = <span style=\"color: #008080; text-decoration-color: #008080; font-weight: bold\">0.01</span>, clf.epochs = <span style=\"color: #008080; text-decoration-color: #008080; font-weight: bold\">20</span>\n",
       "</pre>\n"
      ],
      "text/plain": [
       "clf.performance = \u001b[1;36m0.9774\u001b[0m, clf.hnodes = \u001b[1;36m400\u001b[0m, clf.lr = \u001b[1;36m0.01\u001b[0m, clf.epochs = \u001b[1;36m20\u001b[0m\n"
      ]
     },
     "metadata": {},
     "output_type": "display_data"
    },
    {
     "data": {
      "text/html": [
       "<pre style=\"white-space:pre;overflow-x:auto;line-height:normal;font-family:Menlo,'DejaVu Sans Mono',consolas,'Courier New',monospace\">clf.performance = <span style=\"color: #008080; text-decoration-color: #008080; font-weight: bold\">0.9752</span>, clf.hnodes = <span style=\"color: #008080; text-decoration-color: #008080; font-weight: bold\">500</span>, clf.lr = <span style=\"color: #008080; text-decoration-color: #008080; font-weight: bold\">0.10</span>, clf.epochs = <span style=\"color: #008080; text-decoration-color: #008080; font-weight: bold\">15</span>\n",
       "</pre>\n"
      ],
      "text/plain": [
       "clf.performance = \u001b[1;36m0.9752\u001b[0m, clf.hnodes = \u001b[1;36m500\u001b[0m, clf.lr = \u001b[1;36m0.10\u001b[0m, clf.epochs = \u001b[1;36m15\u001b[0m\n"
      ]
     },
     "metadata": {},
     "output_type": "display_data"
    },
    {
     "data": {
      "text/html": [
       "<pre style=\"white-space:pre;overflow-x:auto;line-height:normal;font-family:Menlo,'DejaVu Sans Mono',consolas,'Courier New',monospace\">clf.performance = <span style=\"color: #008080; text-decoration-color: #008080; font-weight: bold\">0.9710</span>, clf.hnodes = <span style=\"color: #008080; text-decoration-color: #008080; font-weight: bold\">200</span>, clf.lr = <span style=\"color: #008080; text-decoration-color: #008080; font-weight: bold\">0.01</span>, clf.epochs = <span style=\"color: #008080; text-decoration-color: #008080; font-weight: bold\">10</span>\n",
       "</pre>\n"
      ],
      "text/plain": [
       "clf.performance = \u001b[1;36m0.9710\u001b[0m, clf.hnodes = \u001b[1;36m200\u001b[0m, clf.lr = \u001b[1;36m0.01\u001b[0m, clf.epochs = \u001b[1;36m10\u001b[0m\n"
      ]
     },
     "metadata": {},
     "output_type": "display_data"
    },
    {
     "data": {
      "text/html": [
       "<pre style=\"white-space:pre;overflow-x:auto;line-height:normal;font-family:Menlo,'DejaVu Sans Mono',consolas,'Courier New',monospace\">clf.performance = <span style=\"color: #008080; text-decoration-color: #008080; font-weight: bold\">0.9729</span>, clf.hnodes = <span style=\"color: #008080; text-decoration-color: #008080; font-weight: bold\">200</span>, clf.lr = <span style=\"color: #008080; text-decoration-color: #008080; font-weight: bold\">0.10</span>, clf.epochs = <span style=\"color: #008080; text-decoration-color: #008080; font-weight: bold\">6</span>\n",
       "</pre>\n"
      ],
      "text/plain": [
       "clf.performance = \u001b[1;36m0.9729\u001b[0m, clf.hnodes = \u001b[1;36m200\u001b[0m, clf.lr = \u001b[1;36m0.10\u001b[0m, clf.epochs = \u001b[1;36m6\u001b[0m\n"
      ]
     },
     "metadata": {},
     "output_type": "display_data"
    },
    {
     "data": {
      "text/html": [
       "<pre style=\"white-space:pre;overflow-x:auto;line-height:normal;font-family:Menlo,'DejaVu Sans Mono',consolas,'Courier New',monospace\">clf.performance = <span style=\"color: #008080; text-decoration-color: #008080; font-weight: bold\">0.9758</span>, clf.hnodes = <span style=\"color: #008080; text-decoration-color: #008080; font-weight: bold\">300</span>, clf.lr = <span style=\"color: #008080; text-decoration-color: #008080; font-weight: bold\">0.10</span>, clf.epochs = <span style=\"color: #008080; text-decoration-color: #008080; font-weight: bold\">5</span>\n",
       "</pre>\n"
      ],
      "text/plain": [
       "clf.performance = \u001b[1;36m0.9758\u001b[0m, clf.hnodes = \u001b[1;36m300\u001b[0m, clf.lr = \u001b[1;36m0.10\u001b[0m, clf.epochs = \u001b[1;36m5\u001b[0m\n"
      ]
     },
     "metadata": {},
     "output_type": "display_data"
    },
    {
     "data": {
      "text/html": [
       "<pre style=\"white-space:pre;overflow-x:auto;line-height:normal;font-family:Menlo,'DejaVu Sans Mono',consolas,'Courier New',monospace\">clf.performance = <span style=\"color: #008080; text-decoration-color: #008080; font-weight: bold\">0.9737</span>, clf.hnodes = <span style=\"color: #008080; text-decoration-color: #008080; font-weight: bold\">200</span>, clf.lr = <span style=\"color: #008080; text-decoration-color: #008080; font-weight: bold\">0.10</span>, clf.epochs = <span style=\"color: #008080; text-decoration-color: #008080; font-weight: bold\">5</span>\n",
       "</pre>\n"
      ],
      "text/plain": [
       "clf.performance = \u001b[1;36m0.9737\u001b[0m, clf.hnodes = \u001b[1;36m200\u001b[0m, clf.lr = \u001b[1;36m0.10\u001b[0m, clf.epochs = \u001b[1;36m5\u001b[0m\n"
      ]
     },
     "metadata": {},
     "output_type": "display_data"
    },
    {
     "data": {
      "text/html": [
       "<pre style=\"white-space:pre;overflow-x:auto;line-height:normal;font-family:Menlo,'DejaVu Sans Mono',consolas,'Courier New',monospace\">clf.performance = <span style=\"color: #008080; text-decoration-color: #008080; font-weight: bold\">0.9741</span>, clf.hnodes = <span style=\"color: #008080; text-decoration-color: #008080; font-weight: bold\">400</span>, clf.lr = <span style=\"color: #008080; text-decoration-color: #008080; font-weight: bold\">0.10</span>, clf.epochs = <span style=\"color: #008080; text-decoration-color: #008080; font-weight: bold\">6</span>\n",
       "</pre>\n"
      ],
      "text/plain": [
       "clf.performance = \u001b[1;36m0.9741\u001b[0m, clf.hnodes = \u001b[1;36m400\u001b[0m, clf.lr = \u001b[1;36m0.10\u001b[0m, clf.epochs = \u001b[1;36m6\u001b[0m\n"
      ]
     },
     "metadata": {},
     "output_type": "display_data"
    },
    {
     "data": {
      "text/html": [
       "<pre style=\"white-space:pre;overflow-x:auto;line-height:normal;font-family:Menlo,'DejaVu Sans Mono',consolas,'Courier New',monospace\">clf.performance = <span style=\"color: #008080; text-decoration-color: #008080; font-weight: bold\">0.9754</span>, clf.hnodes = <span style=\"color: #008080; text-decoration-color: #008080; font-weight: bold\">200</span>, clf.lr = <span style=\"color: #008080; text-decoration-color: #008080; font-weight: bold\">0.01</span>, clf.epochs = <span style=\"color: #008080; text-decoration-color: #008080; font-weight: bold\">20</span>\n",
       "</pre>\n"
      ],
      "text/plain": [
       "clf.performance = \u001b[1;36m0.9754\u001b[0m, clf.hnodes = \u001b[1;36m200\u001b[0m, clf.lr = \u001b[1;36m0.01\u001b[0m, clf.epochs = \u001b[1;36m20\u001b[0m\n"
      ]
     },
     "metadata": {},
     "output_type": "display_data"
    },
    {
     "data": {
      "text/html": [
       "<pre style=\"white-space:pre;overflow-x:auto;line-height:normal;font-family:Menlo,'DejaVu Sans Mono',consolas,'Courier New',monospace\">clf.performance = <span style=\"color: #008080; text-decoration-color: #008080; font-weight: bold\">0.9750</span>, clf.hnodes = <span style=\"color: #008080; text-decoration-color: #008080; font-weight: bold\">500</span>, clf.lr = <span style=\"color: #008080; text-decoration-color: #008080; font-weight: bold\">0.01</span>, clf.epochs = <span style=\"color: #008080; text-decoration-color: #008080; font-weight: bold\">10</span>\n",
       "</pre>\n"
      ],
      "text/plain": [
       "clf.performance = \u001b[1;36m0.9750\u001b[0m, clf.hnodes = \u001b[1;36m500\u001b[0m, clf.lr = \u001b[1;36m0.01\u001b[0m, clf.epochs = \u001b[1;36m10\u001b[0m\n"
      ]
     },
     "metadata": {},
     "output_type": "display_data"
    },
    {
     "data": {
      "text/html": [
       "<pre style=\"white-space:pre;overflow-x:auto;line-height:normal;font-family:Menlo,'DejaVu Sans Mono',consolas,'Courier New',monospace\">clf.performance = <span style=\"color: #008080; text-decoration-color: #008080; font-weight: bold\">0.9702</span>, clf.hnodes = <span style=\"color: #008080; text-decoration-color: #008080; font-weight: bold\">400</span>, clf.lr = <span style=\"color: #008080; text-decoration-color: #008080; font-weight: bold\">0.20</span>, clf.epochs = <span style=\"color: #008080; text-decoration-color: #008080; font-weight: bold\">5</span>\n",
       "</pre>\n"
      ],
      "text/plain": [
       "clf.performance = \u001b[1;36m0.9702\u001b[0m, clf.hnodes = \u001b[1;36m400\u001b[0m, clf.lr = \u001b[1;36m0.20\u001b[0m, clf.epochs = \u001b[1;36m5\u001b[0m\n"
      ]
     },
     "metadata": {},
     "output_type": "display_data"
    },
    {
     "data": {
      "text/html": [
       "<pre style=\"white-space:pre;overflow-x:auto;line-height:normal;font-family:Menlo,'DejaVu Sans Mono',consolas,'Courier New',monospace\">clf.performance = <span style=\"color: #008080; text-decoration-color: #008080; font-weight: bold\">0.9727</span>, clf.hnodes = <span style=\"color: #008080; text-decoration-color: #008080; font-weight: bold\">400</span>, clf.lr = <span style=\"color: #008080; text-decoration-color: #008080; font-weight: bold\">0.01</span>, clf.epochs = <span style=\"color: #008080; text-decoration-color: #008080; font-weight: bold\">8</span>\n",
       "</pre>\n"
      ],
      "text/plain": [
       "clf.performance = \u001b[1;36m0.9727\u001b[0m, clf.hnodes = \u001b[1;36m400\u001b[0m, clf.lr = \u001b[1;36m0.01\u001b[0m, clf.epochs = \u001b[1;36m8\u001b[0m\n"
      ]
     },
     "metadata": {},
     "output_type": "display_data"
    },
    {
     "data": {
      "text/html": [
       "<pre style=\"white-space:pre;overflow-x:auto;line-height:normal;font-family:Menlo,'DejaVu Sans Mono',consolas,'Courier New',monospace\">clf.performance = <span style=\"color: #008080; text-decoration-color: #008080; font-weight: bold\">0.9768</span>, clf.hnodes = <span style=\"color: #008080; text-decoration-color: #008080; font-weight: bold\">300</span>, clf.lr = <span style=\"color: #008080; text-decoration-color: #008080; font-weight: bold\">0.10</span>, clf.epochs = <span style=\"color: #008080; text-decoration-color: #008080; font-weight: bold\">10</span>\n",
       "</pre>\n"
      ],
      "text/plain": [
       "clf.performance = \u001b[1;36m0.9768\u001b[0m, clf.hnodes = \u001b[1;36m300\u001b[0m, clf.lr = \u001b[1;36m0.10\u001b[0m, clf.epochs = \u001b[1;36m10\u001b[0m\n"
      ]
     },
     "metadata": {},
     "output_type": "display_data"
    },
    {
     "data": {
      "text/html": [
       "<pre style=\"white-space:pre;overflow-x:auto;line-height:normal;font-family:Menlo,'DejaVu Sans Mono',consolas,'Courier New',monospace\">clf.performance = <span style=\"color: #008080; text-decoration-color: #008080; font-weight: bold\">0.9771</span>, clf.hnodes = <span style=\"color: #008080; text-decoration-color: #008080; font-weight: bold\">200</span>, clf.lr = <span style=\"color: #008080; text-decoration-color: #008080; font-weight: bold\">0.01</span>, clf.epochs = <span style=\"color: #008080; text-decoration-color: #008080; font-weight: bold\">15</span>\n",
       "</pre>\n"
      ],
      "text/plain": [
       "clf.performance = \u001b[1;36m0.9771\u001b[0m, clf.hnodes = \u001b[1;36m200\u001b[0m, clf.lr = \u001b[1;36m0.01\u001b[0m, clf.epochs = \u001b[1;36m15\u001b[0m\n"
      ]
     },
     "metadata": {},
     "output_type": "display_data"
    },
    {
     "data": {
      "text/html": [
       "<pre style=\"white-space:pre;overflow-x:auto;line-height:normal;font-family:Menlo,'DejaVu Sans Mono',consolas,'Courier New',monospace\">clf.performance = <span style=\"color: #008080; text-decoration-color: #008080; font-weight: bold\">0.9717</span>, clf.hnodes = <span style=\"color: #008080; text-decoration-color: #008080; font-weight: bold\">100</span>, clf.lr = <span style=\"color: #008080; text-decoration-color: #008080; font-weight: bold\">0.01</span>, clf.epochs = <span style=\"color: #008080; text-decoration-color: #008080; font-weight: bold\">20</span>\n",
       "</pre>\n"
      ],
      "text/plain": [
       "clf.performance = \u001b[1;36m0.9717\u001b[0m, clf.hnodes = \u001b[1;36m100\u001b[0m, clf.lr = \u001b[1;36m0.01\u001b[0m, clf.epochs = \u001b[1;36m20\u001b[0m\n"
      ]
     },
     "metadata": {},
     "output_type": "display_data"
    },
    {
     "data": {
      "text/html": [
       "<pre style=\"white-space:pre;overflow-x:auto;line-height:normal;font-family:Menlo,'DejaVu Sans Mono',consolas,'Courier New',monospace\">clf.performance = <span style=\"color: #008080; text-decoration-color: #008080; font-weight: bold\">0.9757</span>, clf.hnodes = <span style=\"color: #008080; text-decoration-color: #008080; font-weight: bold\">300</span>, clf.lr = <span style=\"color: #008080; text-decoration-color: #008080; font-weight: bold\">0.10</span>, clf.epochs = <span style=\"color: #008080; text-decoration-color: #008080; font-weight: bold\">8</span>\n",
       "</pre>\n"
      ],
      "text/plain": [
       "clf.performance = \u001b[1;36m0.9757\u001b[0m, clf.hnodes = \u001b[1;36m300\u001b[0m, clf.lr = \u001b[1;36m0.10\u001b[0m, clf.epochs = \u001b[1;36m8\u001b[0m\n"
      ]
     },
     "metadata": {},
     "output_type": "display_data"
    },
    {
     "data": {
      "text/html": [
       "<pre style=\"white-space:pre;overflow-x:auto;line-height:normal;font-family:Menlo,'DejaVu Sans Mono',consolas,'Courier New',monospace\">clf.performance = <span style=\"color: #008080; text-decoration-color: #008080; font-weight: bold\">0.9751</span>, clf.hnodes = <span style=\"color: #008080; text-decoration-color: #008080; font-weight: bold\">500</span>, clf.lr = <span style=\"color: #008080; text-decoration-color: #008080; font-weight: bold\">0.10</span>, clf.epochs = <span style=\"color: #008080; text-decoration-color: #008080; font-weight: bold\">20</span>\n",
       "</pre>\n"
      ],
      "text/plain": [
       "clf.performance = \u001b[1;36m0.9751\u001b[0m, clf.hnodes = \u001b[1;36m500\u001b[0m, clf.lr = \u001b[1;36m0.10\u001b[0m, clf.epochs = \u001b[1;36m20\u001b[0m\n"
      ]
     },
     "metadata": {},
     "output_type": "display_data"
    },
    {
     "data": {
      "text/html": [
       "<pre style=\"white-space:pre;overflow-x:auto;line-height:normal;font-family:Menlo,'DejaVu Sans Mono',consolas,'Courier New',monospace\">clf.performance = <span style=\"color: #008080; text-decoration-color: #008080; font-weight: bold\">0.9743</span>, clf.hnodes = <span style=\"color: #008080; text-decoration-color: #008080; font-weight: bold\">500</span>, clf.lr = <span style=\"color: #008080; text-decoration-color: #008080; font-weight: bold\">0.10</span>, clf.epochs = <span style=\"color: #008080; text-decoration-color: #008080; font-weight: bold\">8</span>\n",
       "</pre>\n"
      ],
      "text/plain": [
       "clf.performance = \u001b[1;36m0.9743\u001b[0m, clf.hnodes = \u001b[1;36m500\u001b[0m, clf.lr = \u001b[1;36m0.10\u001b[0m, clf.epochs = \u001b[1;36m8\u001b[0m\n"
      ]
     },
     "metadata": {},
     "output_type": "display_data"
    },
    {
     "data": {
      "text/html": [
       "<pre style=\"white-space:pre;overflow-x:auto;line-height:normal;font-family:Menlo,'DejaVu Sans Mono',consolas,'Courier New',monospace\">clf.performance = <span style=\"color: #008080; text-decoration-color: #008080; font-weight: bold\">0.9788</span>, clf.hnodes = <span style=\"color: #008080; text-decoration-color: #008080; font-weight: bold\">300</span>, clf.lr = <span style=\"color: #008080; text-decoration-color: #008080; font-weight: bold\">0.01</span>, clf.epochs = <span style=\"color: #008080; text-decoration-color: #008080; font-weight: bold\">20</span>\n",
       "</pre>\n"
      ],
      "text/plain": [
       "clf.performance = \u001b[1;36m0.9788\u001b[0m, clf.hnodes = \u001b[1;36m300\u001b[0m, clf.lr = \u001b[1;36m0.01\u001b[0m, clf.epochs = \u001b[1;36m20\u001b[0m\n"
      ]
     },
     "metadata": {},
     "output_type": "display_data"
    },
    {
     "data": {
      "text/html": [
       "<pre style=\"white-space:pre;overflow-x:auto;line-height:normal;font-family:Menlo,'DejaVu Sans Mono',consolas,'Courier New',monospace\">clf.performance = <span style=\"color: #008080; text-decoration-color: #008080; font-weight: bold\">0.9704</span>, clf.hnodes = <span style=\"color: #008080; text-decoration-color: #008080; font-weight: bold\">300</span>, clf.lr = <span style=\"color: #008080; text-decoration-color: #008080; font-weight: bold\">0.01</span>, clf.epochs = <span style=\"color: #008080; text-decoration-color: #008080; font-weight: bold\">8</span>\n",
       "</pre>\n"
      ],
      "text/plain": [
       "clf.performance = \u001b[1;36m0.9704\u001b[0m, clf.hnodes = \u001b[1;36m300\u001b[0m, clf.lr = \u001b[1;36m0.01\u001b[0m, clf.epochs = \u001b[1;36m8\u001b[0m\n"
      ]
     },
     "metadata": {},
     "output_type": "display_data"
    },
    {
     "data": {
      "text/html": [
       "<pre style=\"white-space:pre;overflow-x:auto;line-height:normal;font-family:Menlo,'DejaVu Sans Mono',consolas,'Courier New',monospace\">clf.performance = <span style=\"color: #008080; text-decoration-color: #008080; font-weight: bold\">0.9733</span>, clf.hnodes = <span style=\"color: #008080; text-decoration-color: #008080; font-weight: bold\">200</span>, clf.lr = <span style=\"color: #008080; text-decoration-color: #008080; font-weight: bold\">0.10</span>, clf.epochs = <span style=\"color: #008080; text-decoration-color: #008080; font-weight: bold\">15</span>\n",
       "</pre>\n"
      ],
      "text/plain": [
       "clf.performance = \u001b[1;36m0.9733\u001b[0m, clf.hnodes = \u001b[1;36m200\u001b[0m, clf.lr = \u001b[1;36m0.10\u001b[0m, clf.epochs = \u001b[1;36m15\u001b[0m\n"
      ]
     },
     "metadata": {},
     "output_type": "display_data"
    },
    {
     "data": {
      "text/html": [
       "<pre style=\"white-space:pre;overflow-x:auto;line-height:normal;font-family:Menlo,'DejaVu Sans Mono',consolas,'Courier New',monospace\">clf.performance = <span style=\"color: #008080; text-decoration-color: #008080; font-weight: bold\">0.9750</span>, clf.hnodes = <span style=\"color: #008080; text-decoration-color: #008080; font-weight: bold\">300</span>, clf.lr = <span style=\"color: #008080; text-decoration-color: #008080; font-weight: bold\">0.10</span>, clf.epochs = <span style=\"color: #008080; text-decoration-color: #008080; font-weight: bold\">7</span>\n",
       "</pre>\n"
      ],
      "text/plain": [
       "clf.performance = \u001b[1;36m0.9750\u001b[0m, clf.hnodes = \u001b[1;36m300\u001b[0m, clf.lr = \u001b[1;36m0.10\u001b[0m, clf.epochs = \u001b[1;36m7\u001b[0m\n"
      ]
     },
     "metadata": {},
     "output_type": "display_data"
    },
    {
     "data": {
      "text/html": [
       "<pre style=\"white-space:pre;overflow-x:auto;line-height:normal;font-family:Menlo,'DejaVu Sans Mono',consolas,'Courier New',monospace\">clf.performance = <span style=\"color: #008080; text-decoration-color: #008080; font-weight: bold\">0.9744</span>, clf.hnodes = <span style=\"color: #008080; text-decoration-color: #008080; font-weight: bold\">400</span>, clf.lr = <span style=\"color: #008080; text-decoration-color: #008080; font-weight: bold\">0.10</span>, clf.epochs = <span style=\"color: #008080; text-decoration-color: #008080; font-weight: bold\">5</span>\n",
       "</pre>\n"
      ],
      "text/plain": [
       "clf.performance = \u001b[1;36m0.9744\u001b[0m, clf.hnodes = \u001b[1;36m400\u001b[0m, clf.lr = \u001b[1;36m0.10\u001b[0m, clf.epochs = \u001b[1;36m5\u001b[0m\n"
      ]
     },
     "metadata": {},
     "output_type": "display_data"
    },
    {
     "data": {
      "text/html": [
       "<pre style=\"white-space:pre;overflow-x:auto;line-height:normal;font-family:Menlo,'DejaVu Sans Mono',consolas,'Courier New',monospace\">clf.performance = <span style=\"color: #008080; text-decoration-color: #008080; font-weight: bold\">0.9719</span>, clf.hnodes = <span style=\"color: #008080; text-decoration-color: #008080; font-weight: bold\">500</span>, clf.lr = <span style=\"color: #008080; text-decoration-color: #008080; font-weight: bold\">0.01</span>, clf.epochs = <span style=\"color: #008080; text-decoration-color: #008080; font-weight: bold\">8</span>\n",
       "</pre>\n"
      ],
      "text/plain": [
       "clf.performance = \u001b[1;36m0.9719\u001b[0m, clf.hnodes = \u001b[1;36m500\u001b[0m, clf.lr = \u001b[1;36m0.01\u001b[0m, clf.epochs = \u001b[1;36m8\u001b[0m\n"
      ]
     },
     "metadata": {},
     "output_type": "display_data"
    },
    {
     "data": {
      "text/html": [
       "<pre style=\"white-space:pre;overflow-x:auto;line-height:normal;font-family:Menlo,'DejaVu Sans Mono',consolas,'Courier New',monospace\">clf.performance = <span style=\"color: #008080; text-decoration-color: #008080; font-weight: bold\">0.9726</span>, clf.hnodes = <span style=\"color: #008080; text-decoration-color: #008080; font-weight: bold\">300</span>, clf.lr = <span style=\"color: #008080; text-decoration-color: #008080; font-weight: bold\">0.10</span>, clf.epochs = <span style=\"color: #008080; text-decoration-color: #008080; font-weight: bold\">3</span>\n",
       "</pre>\n"
      ],
      "text/plain": [
       "clf.performance = \u001b[1;36m0.9726\u001b[0m, clf.hnodes = \u001b[1;36m300\u001b[0m, clf.lr = \u001b[1;36m0.10\u001b[0m, clf.epochs = \u001b[1;36m3\u001b[0m\n"
      ]
     },
     "metadata": {},
     "output_type": "display_data"
    },
    {
     "data": {
      "text/html": [
       "<pre style=\"white-space:pre;overflow-x:auto;line-height:normal;font-family:Menlo,'DejaVu Sans Mono',consolas,'Courier New',monospace\">clf.performance = <span style=\"color: #008080; text-decoration-color: #008080; font-weight: bold\">0.9722</span>, clf.hnodes = <span style=\"color: #008080; text-decoration-color: #008080; font-weight: bold\">500</span>, clf.lr = <span style=\"color: #008080; text-decoration-color: #008080; font-weight: bold\">0.20</span>, clf.epochs = <span style=\"color: #008080; text-decoration-color: #008080; font-weight: bold\">7</span>\n",
       "</pre>\n"
      ],
      "text/plain": [
       "clf.performance = \u001b[1;36m0.9722\u001b[0m, clf.hnodes = \u001b[1;36m500\u001b[0m, clf.lr = \u001b[1;36m0.20\u001b[0m, clf.epochs = \u001b[1;36m7\u001b[0m\n"
      ]
     },
     "metadata": {},
     "output_type": "display_data"
    },
    {
     "data": {
      "text/html": [
       "<pre style=\"white-space:pre;overflow-x:auto;line-height:normal;font-family:Menlo,'DejaVu Sans Mono',consolas,'Courier New',monospace\">clf.performance = <span style=\"color: #008080; text-decoration-color: #008080; font-weight: bold\">0.9718</span>, clf.hnodes = <span style=\"color: #008080; text-decoration-color: #008080; font-weight: bold\">200</span>, clf.lr = <span style=\"color: #008080; text-decoration-color: #008080; font-weight: bold\">0.01</span>, clf.epochs = <span style=\"color: #008080; text-decoration-color: #008080; font-weight: bold\">9</span>\n",
       "</pre>\n"
      ],
      "text/plain": [
       "clf.performance = \u001b[1;36m0.9718\u001b[0m, clf.hnodes = \u001b[1;36m200\u001b[0m, clf.lr = \u001b[1;36m0.01\u001b[0m, clf.epochs = \u001b[1;36m9\u001b[0m\n"
      ]
     },
     "metadata": {},
     "output_type": "display_data"
    },
    {
     "data": {
      "text/html": [
       "<pre style=\"white-space:pre;overflow-x:auto;line-height:normal;font-family:Menlo,'DejaVu Sans Mono',consolas,'Courier New',monospace\">clf.performance = <span style=\"color: #008080; text-decoration-color: #008080; font-weight: bold\">0.9728</span>, clf.hnodes = <span style=\"color: #008080; text-decoration-color: #008080; font-weight: bold\">500</span>, clf.lr = <span style=\"color: #008080; text-decoration-color: #008080; font-weight: bold\">0.10</span>, clf.epochs = <span style=\"color: #008080; text-decoration-color: #008080; font-weight: bold\">6</span>\n",
       "</pre>\n"
      ],
      "text/plain": [
       "clf.performance = \u001b[1;36m0.9728\u001b[0m, clf.hnodes = \u001b[1;36m500\u001b[0m, clf.lr = \u001b[1;36m0.10\u001b[0m, clf.epochs = \u001b[1;36m6\u001b[0m\n"
      ]
     },
     "metadata": {},
     "output_type": "display_data"
    },
    {
     "data": {
      "text/html": [
       "<pre style=\"white-space:pre;overflow-x:auto;line-height:normal;font-family:Menlo,'DejaVu Sans Mono',consolas,'Courier New',monospace\">clf.performance = <span style=\"color: #008080; text-decoration-color: #008080; font-weight: bold\">0.9738</span>, clf.hnodes = <span style=\"color: #008080; text-decoration-color: #008080; font-weight: bold\">200</span>, clf.lr = <span style=\"color: #008080; text-decoration-color: #008080; font-weight: bold\">0.10</span>, clf.epochs = <span style=\"color: #008080; text-decoration-color: #008080; font-weight: bold\">8</span>\n",
       "</pre>\n"
      ],
      "text/plain": [
       "clf.performance = \u001b[1;36m0.9738\u001b[0m, clf.hnodes = \u001b[1;36m200\u001b[0m, clf.lr = \u001b[1;36m0.10\u001b[0m, clf.epochs = \u001b[1;36m8\u001b[0m\n"
      ]
     },
     "metadata": {},
     "output_type": "display_data"
    },
    {
     "data": {
      "text/html": [
       "<pre style=\"white-space:pre;overflow-x:auto;line-height:normal;font-family:Menlo,'DejaVu Sans Mono',consolas,'Courier New',monospace\">clf.performance = <span style=\"color: #008080; text-decoration-color: #008080; font-weight: bold\">0.9767</span>, clf.hnodes = <span style=\"color: #008080; text-decoration-color: #008080; font-weight: bold\">500</span>, clf.lr = <span style=\"color: #008080; text-decoration-color: #008080; font-weight: bold\">0.01</span>, clf.epochs = <span style=\"color: #008080; text-decoration-color: #008080; font-weight: bold\">15</span>\n",
       "</pre>\n"
      ],
      "text/plain": [
       "clf.performance = \u001b[1;36m0.9767\u001b[0m, clf.hnodes = \u001b[1;36m500\u001b[0m, clf.lr = \u001b[1;36m0.01\u001b[0m, clf.epochs = \u001b[1;36m15\u001b[0m\n"
      ]
     },
     "metadata": {},
     "output_type": "display_data"
    },
    {
     "data": {
      "text/html": [
       "<pre style=\"white-space:pre;overflow-x:auto;line-height:normal;font-family:Menlo,'DejaVu Sans Mono',consolas,'Courier New',monospace\">clf.performance = <span style=\"color: #008080; text-decoration-color: #008080; font-weight: bold\">0.9705</span>, clf.hnodes = <span style=\"color: #008080; text-decoration-color: #008080; font-weight: bold\">500</span>, clf.lr = <span style=\"color: #008080; text-decoration-color: #008080; font-weight: bold\">0.10</span>, clf.epochs = <span style=\"color: #008080; text-decoration-color: #008080; font-weight: bold\">3</span>\n",
       "</pre>\n"
      ],
      "text/plain": [
       "clf.performance = \u001b[1;36m0.9705\u001b[0m, clf.hnodes = \u001b[1;36m500\u001b[0m, clf.lr = \u001b[1;36m0.10\u001b[0m, clf.epochs = \u001b[1;36m3\u001b[0m\n"
      ]
     },
     "metadata": {},
     "output_type": "display_data"
    },
    {
     "data": {
      "text/html": [
       "<pre style=\"white-space:pre;overflow-x:auto;line-height:normal;font-family:Menlo,'DejaVu Sans Mono',consolas,'Courier New',monospace\">clf.performance = <span style=\"color: #008080; text-decoration-color: #008080; font-weight: bold\">0.9733</span>, clf.hnodes = <span style=\"color: #008080; text-decoration-color: #008080; font-weight: bold\">400</span>, clf.lr = <span style=\"color: #008080; text-decoration-color: #008080; font-weight: bold\">0.10</span>, clf.epochs = <span style=\"color: #008080; text-decoration-color: #008080; font-weight: bold\">8</span>\n",
       "</pre>\n"
      ],
      "text/plain": [
       "clf.performance = \u001b[1;36m0.9733\u001b[0m, clf.hnodes = \u001b[1;36m400\u001b[0m, clf.lr = \u001b[1;36m0.10\u001b[0m, clf.epochs = \u001b[1;36m8\u001b[0m\n"
      ]
     },
     "metadata": {},
     "output_type": "display_data"
    },
    {
     "data": {
      "text/html": [
       "<pre style=\"white-space:pre;overflow-x:auto;line-height:normal;font-family:Menlo,'DejaVu Sans Mono',consolas,'Courier New',monospace\">clf.performance = <span style=\"color: #008080; text-decoration-color: #008080; font-weight: bold\">0.9776</span>, clf.hnodes = <span style=\"color: #008080; text-decoration-color: #008080; font-weight: bold\">400</span>, clf.lr = <span style=\"color: #008080; text-decoration-color: #008080; font-weight: bold\">0.10</span>, clf.epochs = <span style=\"color: #008080; text-decoration-color: #008080; font-weight: bold\">10</span>\n",
       "</pre>\n"
      ],
      "text/plain": [
       "clf.performance = \u001b[1;36m0.9776\u001b[0m, clf.hnodes = \u001b[1;36m400\u001b[0m, clf.lr = \u001b[1;36m0.10\u001b[0m, clf.epochs = \u001b[1;36m10\u001b[0m\n"
      ]
     },
     "metadata": {},
     "output_type": "display_data"
    },
    {
     "data": {
      "text/html": [
       "<pre style=\"white-space:pre;overflow-x:auto;line-height:normal;font-family:Menlo,'DejaVu Sans Mono',consolas,'Courier New',monospace\">clf.performance = <span style=\"color: #008080; text-decoration-color: #008080; font-weight: bold\">0.9788</span>, clf.hnodes = <span style=\"color: #008080; text-decoration-color: #008080; font-weight: bold\">500</span>, clf.lr = <span style=\"color: #008080; text-decoration-color: #008080; font-weight: bold\">0.01</span>, clf.epochs = <span style=\"color: #008080; text-decoration-color: #008080; font-weight: bold\">20</span>\n",
       "</pre>\n"
      ],
      "text/plain": [
       "clf.performance = \u001b[1;36m0.9788\u001b[0m, clf.hnodes = \u001b[1;36m500\u001b[0m, clf.lr = \u001b[1;36m0.01\u001b[0m, clf.epochs = \u001b[1;36m20\u001b[0m\n"
      ]
     },
     "metadata": {},
     "output_type": "display_data"
    },
    {
     "data": {
      "text/html": [
       "<pre style=\"white-space:pre;overflow-x:auto;line-height:normal;font-family:Menlo,'DejaVu Sans Mono',consolas,'Courier New',monospace\">clf.performance = <span style=\"color: #008080; text-decoration-color: #008080; font-weight: bold\">0.9760</span>, clf.hnodes = <span style=\"color: #008080; text-decoration-color: #008080; font-weight: bold\">500</span>, clf.lr = <span style=\"color: #008080; text-decoration-color: #008080; font-weight: bold\">0.10</span>, clf.epochs = <span style=\"color: #008080; text-decoration-color: #008080; font-weight: bold\">9</span>\n",
       "</pre>\n"
      ],
      "text/plain": [
       "clf.performance = \u001b[1;36m0.9760\u001b[0m, clf.hnodes = \u001b[1;36m500\u001b[0m, clf.lr = \u001b[1;36m0.10\u001b[0m, clf.epochs = \u001b[1;36m9\u001b[0m\n"
      ]
     },
     "metadata": {},
     "output_type": "display_data"
    },
    {
     "data": {
      "text/html": [
       "<pre style=\"white-space:pre;overflow-x:auto;line-height:normal;font-family:Menlo,'DejaVu Sans Mono',consolas,'Courier New',monospace\">clf.performance = <span style=\"color: #008080; text-decoration-color: #008080; font-weight: bold\">0.9754</span>, clf.hnodes = <span style=\"color: #008080; text-decoration-color: #008080; font-weight: bold\">400</span>, clf.lr = <span style=\"color: #008080; text-decoration-color: #008080; font-weight: bold\">0.10</span>, clf.epochs = <span style=\"color: #008080; text-decoration-color: #008080; font-weight: bold\">9</span>\n",
       "</pre>\n"
      ],
      "text/plain": [
       "clf.performance = \u001b[1;36m0.9754\u001b[0m, clf.hnodes = \u001b[1;36m400\u001b[0m, clf.lr = \u001b[1;36m0.10\u001b[0m, clf.epochs = \u001b[1;36m9\u001b[0m\n"
      ]
     },
     "metadata": {},
     "output_type": "display_data"
    },
    {
     "data": {
      "text/html": [
       "<pre style=\"white-space:pre;overflow-x:auto;line-height:normal;font-family:Menlo,'DejaVu Sans Mono',consolas,'Courier New',monospace\">clf.performance = <span style=\"color: #008080; text-decoration-color: #008080; font-weight: bold\">0.9749</span>, clf.hnodes = <span style=\"color: #008080; text-decoration-color: #008080; font-weight: bold\">300</span>, clf.lr = <span style=\"color: #008080; text-decoration-color: #008080; font-weight: bold\">0.10</span>, clf.epochs = <span style=\"color: #008080; text-decoration-color: #008080; font-weight: bold\">4</span>\n",
       "</pre>\n"
      ],
      "text/plain": [
       "clf.performance = \u001b[1;36m0.9749\u001b[0m, clf.hnodes = \u001b[1;36m300\u001b[0m, clf.lr = \u001b[1;36m0.10\u001b[0m, clf.epochs = \u001b[1;36m4\u001b[0m\n"
      ]
     },
     "metadata": {},
     "output_type": "display_data"
    },
    {
     "data": {
      "text/html": [
       "<pre style=\"white-space:pre;overflow-x:auto;line-height:normal;font-family:Menlo,'DejaVu Sans Mono',consolas,'Courier New',monospace\">clf.performance = <span style=\"color: #008080; text-decoration-color: #008080; font-weight: bold\">0.9729</span>, clf.hnodes = <span style=\"color: #008080; text-decoration-color: #008080; font-weight: bold\">400</span>, clf.lr = <span style=\"color: #008080; text-decoration-color: #008080; font-weight: bold\">0.01</span>, clf.epochs = <span style=\"color: #008080; text-decoration-color: #008080; font-weight: bold\">10</span>\n",
       "</pre>\n"
      ],
      "text/plain": [
       "clf.performance = \u001b[1;36m0.9729\u001b[0m, clf.hnodes = \u001b[1;36m400\u001b[0m, clf.lr = \u001b[1;36m0.01\u001b[0m, clf.epochs = \u001b[1;36m10\u001b[0m\n"
      ]
     },
     "metadata": {},
     "output_type": "display_data"
    }
   ],
   "source": [
    "clf_list = list(clf_dir.glob('*.pkl'))\n",
    "\n",
    "for clfname in clf_list:\n",
    "    with open(clfname, 'rb') as f:\n",
    "        clf = pickle.load(f)\n",
    "    print(f\"{clf.performance = :.4f}, {clf.hnodes = }, {clf.lr = :.2f}, {clf.epochs = }\")"
   ]
  },
  {
   "cell_type": "code",
   "execution_count": null,
   "id": "081f62ad-ce2e-4519-a746-e7cccc822335",
   "metadata": {},
   "outputs": [],
   "source": []
  }
 ],
 "metadata": {
  "kernelspec": {
   "display_name": "Python 3 (ipykernel)",
   "language": "python",
   "name": "python3"
  },
  "language_info": {
   "codemirror_mode": {
    "name": "ipython",
    "version": 3
   },
   "file_extension": ".py",
   "mimetype": "text/x-python",
   "name": "python",
   "nbconvert_exporter": "python",
   "pygments_lexer": "ipython3",
   "version": "3.8.3"
  }
 },
 "nbformat": 4,
 "nbformat_minor": 5
}
