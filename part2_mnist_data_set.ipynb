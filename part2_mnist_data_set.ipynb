{
 "cells": [
  {
   "cell_type": "code",
   "execution_count": 1,
   "metadata": {
    "tags": []
   },
   "outputs": [],
   "source": [
    "# python notebook for Make Your Own Neural Network\n",
    "# working with the MNIST data set\n",
    "#\n",
    "# (c) Tariq Rashid, 2016\n",
    "# license is GPLv2"
   ]
  },
  {
   "cell_type": "code",
   "execution_count": 2,
   "metadata": {},
   "outputs": [],
   "source": [
    "from rich import print  # for pretty print"
   ]
  },
  {
   "cell_type": "code",
   "execution_count": 3,
   "metadata": {},
   "outputs": [],
   "source": [
    "import numpy\n",
    "import matplotlib.pyplot as plt  # library for plotting arrays\n",
    "\n",
    "# ensure the plots are inside this notebook, not an external window\n",
    "%matplotlib inline        "
   ]
  },
  {
   "cell_type": "markdown",
   "metadata": {},
   "source": [
    "#### open the CSV file and read its contents into a list"
   ]
  },
  {
   "cell_type": "code",
   "execution_count": 4,
   "metadata": {},
   "outputs": [],
   "source": [
    "data_file = open(\"mnist_dataset/mnist_train_100.csv\", 'r')\n",
    "data_list = data_file.readlines()\n",
    "data_file.close()"
   ]
  },
  {
   "cell_type": "code",
   "execution_count": 5,
   "metadata": {},
   "outputs": [
    {
     "data": {
      "text/html": [
       "<pre style=\"white-space:pre;overflow-x:auto;line-height:normal;font-family:Menlo,'DejaVu Sans Mono',consolas,'Courier New',monospace\"></pre>\n"
      ],
      "text/plain": []
     },
     "metadata": {},
     "output_type": "display_data"
    },
    {
     "data": {
      "text/plain": [
       "\u001b[1;36m100\u001b[0m"
      ]
     },
     "execution_count": 5,
     "metadata": {},
     "output_type": "execute_result"
    }
   ],
   "source": [
    "len(data_list)  # check the number of data records (examples)"
   ]
  },
  {
   "cell_type": "markdown",
   "metadata": {},
   "source": [
    "#### show a dataset record"
   ]
  },
  {
   "cell_type": "code",
   "execution_count": 6,
   "metadata": {},
   "outputs": [
    {
     "data": {
      "text/html": [
       "<pre style=\"white-space:pre;overflow-x:auto;line-height:normal;font-family:Menlo,'DejaVu Sans Mono',consolas,'Courier New',monospace\"></pre>\n"
      ],
      "text/plain": []
     },
     "metadata": {},
     "output_type": "display_data"
    },
    {
     "data": {
      "text/plain": [
       "\u001b[32m'0,0,0,0,0,0,0,0,0,0,0,0,0,0,0,0,0,0,0,0,0,0,0,0,0,0,0,0,0,0,0,0,0,0,0,0,0,0,0,0,0,0,0,0,0,0,0,0,0,0,0,0,0,0,0,0,0,0,0,0,0,0,0,0,0,0,0,0,0,0,0,0,0,0,0,0,0,0,0,0,0,0,0,0,0,0,0,0,0,0,0,0,0,0,0,0,0,0,0,0,0,0,0,0,0,0,0,0,0,0,0,0,0,0,0,0,0,0,0,0,0,0,0,0,0,0,0,0,51,159,253,159,50,0,0,0,0,0,0,0,0,0,0,0,0,0,0,0,0,0,0,0,0,0,0,48,238,252,252,252,237,0,0,0,0,0,0,0,0,0,0,0,0,0,0,0,0,0,0,0,0,0,54,227,253,252,239,233,252,57,6,0,0,0,0,0,0,0,0,0,0,0,0,0,0,0,0,0,10,60,224,252,253,252,202,84,252,253,122,0,0,0,0,0,0,0,0,0,0,0,0,0,0,0,0,0,163,252,252,252,253,252,252,96,189,253,167,0,0,0,0,0,0,0,0,0,0,0,0,0,0,0,0,51,238,253,253,190,114,253,228,47,79,255,168,0,0,0,0,0,0,0,0,0,0,0,0,0,0,0,48,238,252,252,179,12,75,121,21,0,0,253,243,50,0,0,0,0,0,0,0,0,0,0,0,0,0,38,165,253,233,208,84,0,0,0,0,0,0,253,252,165,0,0,0,0,0,0,0,0,0,0,0,0,7,178,252,240,71,19,28,0,0,0,0,0,0,253,252,195,0,0,0,0,0,0,0,0,0,0,0,0,57,252,252,63,0,0,0,0,0,0,0,0,0,253,252,195,0,0,0,0,0,0,0,0,0,0,0,0,198,253,190,0,0,0,0,0,0,0,0,0,0,255,253,196,0,0,0,0,0,0,0,0,0,0,0,76,246,252,112,0,0,0,0,0,0,0,0,0,0,253,252,148,0,0,0,0,0,0,0,0,0,0,0,85,252,230,25,0,0,0,0,0,0,0,0,7,135,253,186,12,0,0,0,0,0,0,0,0,0,0,0,85,252,223,0,0,0,0,0,0,0,0,7,131,252,225,71,0,0,0,0,0,0,0,0,0,0,0,0,85,252,145,0,0,0,0,0,0,0,48,165,252,173,0,0,0,0,0,0,0,0,0,0,0,0,0,0,86,253,225,0,0,0,0,0,0,114,238,253,162,0,0,0,0,0,0,0,0,0,0,0,0,0,0,0,85,252,249,146,48,29,85,178,225,253,223,167,56,0,0,0,0,0,0,0,0,0,0,0,0,0,0,0,85,252,252,252,229,215,252,252,252,196,130,0,0,0,0,0,0,0,0,0,0,0,0,0,0,0,0,0,28,199,252,252,253,252,252,233,145,0,0,0,0,0,0,0,0,0,0,0,0,0,0,0,0,0,0,0,0,25,128,252,253,252,141,37,0,0,0,0,0,0,0,0,0,0,0,0,0,0,0,0,0,0,0,0,0,0,0,0,0,0,0,0,0,0,0,0,0,0,0,0,0,0,0,0,0,0,0,0,0,0,0,0,0,0,0,0,0,0,0,0,0,0,0,0,0,0,0,0,0,0,0,0,0,0,0,0,0,0,0,0,0,0,0,0,0,0,0,0,0,0,0,0,0,0,0,0,0,0,0,0,0,0,0,0,0,0,0,0,0,0,0,0,0,0,0,0,0,0,0,0,0,0,0,0,0,0,0,0,0,0\\n'\u001b[0m"
      ]
     },
     "execution_count": 6,
     "metadata": {},
     "output_type": "execute_result"
    }
   ],
   "source": [
    "# the first number is the label, the rest are pixel colour values (greyscale 0-255)\n",
    "data_list[1]"
   ]
  },
  {
   "cell_type": "markdown",
   "metadata": {},
   "source": [
    "#### take the data from a record, rearrange it into a 28*28 array and plot it as an image"
   ]
  },
  {
   "cell_type": "code",
   "execution_count": 7,
   "metadata": {},
   "outputs": [
    {
     "data": {
      "text/html": [
       "<pre style=\"white-space:pre;overflow-x:auto;line-height:normal;font-family:Menlo,'DejaVu Sans Mono',consolas,'Courier New',monospace\">label = <span style=\"color: #008080; text-decoration-color: #008080; font-weight: bold\">0</span>\n",
       "</pre>\n"
      ],
      "text/plain": [
       "label = \u001b[1;36m0\u001b[0m\n"
      ]
     },
     "metadata": {},
     "output_type": "display_data"
    },
    {
     "data": {
      "text/html": [
       "<pre style=\"white-space:pre;overflow-x:auto;line-height:normal;font-family:Menlo,'DejaVu Sans Mono',consolas,'Courier New',monospace\"></pre>\n"
      ],
      "text/plain": []
     },
     "metadata": {},
     "output_type": "display_data"
    },
    {
     "data": {
      "image/png": "[encoded data removed]",
      "text/plain": [
       "\u001b[1m<\u001b[0m\u001b[1;95mFigure\u001b[0m\u001b[39m size 64\u001b[0m\u001b[1;36m0x480\u001b[0m\u001b[39m with \u001b[0m\u001b[1;36m1\u001b[0m\u001b[39m Axes\u001b[0m\u001b[1m>\u001b[0m"
      ]
     },
     "metadata": {},
     "output_type": "display_data"
    }
   ],
   "source": [
    "all_values = data_list[1].split(',')\n",
    "label = int(all_values[0])\n",
    "print(f\"{label = }\")\n",
    "\n",
    "image_array = numpy.asfarray(all_values[1:]).reshape((28, 28))\n",
    "plt.imshow(image_array, cmap='Greys', interpolation='None');"
   ]
  },
  {
   "cell_type": "markdown",
   "metadata": {},
   "source": [
    "#### scale input to range 0.01 to 1.00"
   ]
  },
  {
   "cell_type": "code",
   "execution_count": 8,
   "metadata": {},
   "outputs": [
    {
     "data": {
      "text/html": [
       "<pre style=\"white-space:pre;overflow-x:auto;line-height:normal;font-family:Menlo,'DejaVu Sans Mono',consolas,'Courier New',monospace\"></pre>\n"
      ],
      "text/plain": []
     },
     "metadata": {},
     "output_type": "display_data"
    },
    {
     "data": {
      "text/plain": [
       "\n",
       "\u001b[1;35marray\u001b[0m\u001b[1m(\u001b[0m\u001b[1m[\u001b[0m\u001b[1m[\u001b[0m\u001b[1;36m0.01\u001b[0m      , \u001b[1;36m0.01\u001b[0m      , \u001b[1;36m0.01\u001b[0m      , \u001b[1;36m0.01\u001b[0m      , \u001b[1;36m0.01\u001b[0m      ,\n",
       "        \u001b[1;36m0.01\u001b[0m      , \u001b[1;36m0.01\u001b[0m      , \u001b[1;36m0.01\u001b[0m      , \u001b[1;36m0.01\u001b[0m      , \u001b[1;36m0.01\u001b[0m      ,\n",
       "        \u001b[1;36m0.01\u001b[0m      , \u001b[1;36m0.01\u001b[0m      , \u001b[1;36m0.01\u001b[0m      , \u001b[1;36m0.01\u001b[0m      , \u001b[1;36m0.01\u001b[0m      ,\n",
       "        \u001b[1;36m0.01\u001b[0m      , \u001b[1;36m0.01\u001b[0m      , \u001b[1;36m0.01\u001b[0m      , \u001b[1;36m0.01\u001b[0m      , \u001b[1;36m0.01\u001b[0m      ,\n",
       "        \u001b[1;36m0.01\u001b[0m      , \u001b[1;36m0.01\u001b[0m      , \u001b[1;36m0.01\u001b[0m      , \u001b[1;36m0.01\u001b[0m      , \u001b[1;36m0.01\u001b[0m      ,\n",
       "        \u001b[1;36m0.01\u001b[0m      , \u001b[1;36m0.01\u001b[0m      , \u001b[1;36m0.01\u001b[0m      \u001b[1m]\u001b[0m,\n",
       "       \u001b[1m[\u001b[0m\u001b[1;36m0.01\u001b[0m      , \u001b[1;36m0.01\u001b[0m      , \u001b[1;36m0.01\u001b[0m      , \u001b[1;36m0.01\u001b[0m      , \u001b[1;36m0.01\u001b[0m      ,\n",
       "        \u001b[1;36m0.01\u001b[0m      , \u001b[1;36m0.01\u001b[0m      , \u001b[1;36m0.01\u001b[0m      , \u001b[1;36m0.01\u001b[0m      , \u001b[1;36m0.01\u001b[0m      ,\n",
       "        \u001b[1;36m0.01\u001b[0m      , \u001b[1;36m0.01\u001b[0m      , \u001b[1;36m0.01\u001b[0m      , \u001b[1;36m0.01\u001b[0m      , \u001b[1;36m0.01\u001b[0m      ,\n",
       "        \u001b[1;36m0.01\u001b[0m      , \u001b[1;36m0.01\u001b[0m      , \u001b[1;36m0.01\u001b[0m      , \u001b[1;36m0.01\u001b[0m      , \u001b[1;36m0.01\u001b[0m      ,\n",
       "        \u001b[1;36m0.01\u001b[0m      , \u001b[1;36m0.01\u001b[0m      , \u001b[1;36m0.01\u001b[0m      , \u001b[1;36m0.01\u001b[0m      , \u001b[1;36m0.01\u001b[0m      ,\n",
       "        \u001b[1;36m0.01\u001b[0m      , \u001b[1;36m0.01\u001b[0m      , \u001b[1;36m0.01\u001b[0m      \u001b[1m]\u001b[0m,\n",
       "       \u001b[1m[\u001b[0m\u001b[1;36m0.01\u001b[0m      , \u001b[1;36m0.01\u001b[0m      , \u001b[1;36m0.01\u001b[0m      , \u001b[1;36m0.01\u001b[0m      , \u001b[1;36m0.01\u001b[0m      ,\n",
       "        \u001b[1;36m0.01\u001b[0m      , \u001b[1;36m0.01\u001b[0m      , \u001b[1;36m0.01\u001b[0m      , \u001b[1;36m0.01\u001b[0m      , \u001b[1;36m0.01\u001b[0m      ,\n",
       "        \u001b[1;36m0.01\u001b[0m      , \u001b[1;36m0.01\u001b[0m      , \u001b[1;36m0.01\u001b[0m      , \u001b[1;36m0.01\u001b[0m      , \u001b[1;36m0.01\u001b[0m      ,\n",
       "        \u001b[1;36m0.01\u001b[0m      , \u001b[1;36m0.01\u001b[0m      , \u001b[1;36m0.01\u001b[0m      , \u001b[1;36m0.01\u001b[0m      , \u001b[1;36m0.01\u001b[0m      ,\n",
       "        \u001b[1;36m0.01\u001b[0m      , \u001b[1;36m0.01\u001b[0m      , \u001b[1;36m0.01\u001b[0m      , \u001b[1;36m0.01\u001b[0m      , \u001b[1;36m0.01\u001b[0m      ,\n",
       "        \u001b[1;36m0.01\u001b[0m      , \u001b[1;36m0.01\u001b[0m      , \u001b[1;36m0.01\u001b[0m      \u001b[1m]\u001b[0m,\n",
       "       \u001b[1m[\u001b[0m\u001b[1;36m0.01\u001b[0m      , \u001b[1;36m0.01\u001b[0m      , \u001b[1;36m0.01\u001b[0m      , \u001b[1;36m0.01\u001b[0m      , \u001b[1;36m0.01\u001b[0m      ,\n",
       "        \u001b[1;36m0.01\u001b[0m      , \u001b[1;36m0.01\u001b[0m      , \u001b[1;36m0.01\u001b[0m      , \u001b[1;36m0.01\u001b[0m      , \u001b[1;36m0.01\u001b[0m      ,\n",
       "        \u001b[1;36m0.01\u001b[0m      , \u001b[1;36m0.01\u001b[0m      , \u001b[1;36m0.01\u001b[0m      , \u001b[1;36m0.01\u001b[0m      , \u001b[1;36m0.01\u001b[0m      ,\n",
       "        \u001b[1;36m0.01\u001b[0m      , \u001b[1;36m0.01\u001b[0m      , \u001b[1;36m0.01\u001b[0m      , \u001b[1;36m0.01\u001b[0m      , \u001b[1;36m0.01\u001b[0m      ,\n",
       "        \u001b[1;36m0.01\u001b[0m      , \u001b[1;36m0.01\u001b[0m      , \u001b[1;36m0.01\u001b[0m      , \u001b[1;36m0.01\u001b[0m      , \u001b[1;36m0.01\u001b[0m      ,\n",
       "        \u001b[1;36m0.01\u001b[0m      , \u001b[1;36m0.01\u001b[0m      , \u001b[1;36m0.01\u001b[0m      \u001b[1m]\u001b[0m,\n",
       "       \u001b[1m[\u001b[0m\u001b[1;36m0.01\u001b[0m      , \u001b[1;36m0.01\u001b[0m      , \u001b[1;36m0.01\u001b[0m      , \u001b[1;36m0.01\u001b[0m      , \u001b[1;36m0.01\u001b[0m      ,\n",
       "        \u001b[1;36m0.01\u001b[0m      , \u001b[1;36m0.01\u001b[0m      , \u001b[1;36m0.01\u001b[0m      , \u001b[1;36m0.01\u001b[0m      , \u001b[1;36m0.01\u001b[0m      ,\n",
       "        \u001b[1;36m0.01\u001b[0m      , \u001b[1;36m0.01\u001b[0m      , \u001b[1;36m0.01\u001b[0m      , \u001b[1;36m0.01\u001b[0m      , \u001b[1;36m0.01\u001b[0m      ,\n",
       "        \u001b[1;36m0.208\u001b[0m     , \u001b[1;36m0.62729412\u001b[0m, \u001b[1;36m0.99223529\u001b[0m, \u001b[1;36m0.62729412\u001b[0m, \u001b[1;36m0.20411765\u001b[0m,\n",
       "        \u001b[1;36m0.01\u001b[0m      , \u001b[1;36m0.01\u001b[0m      , \u001b[1;36m0.01\u001b[0m      , \u001b[1;36m0.01\u001b[0m      , \u001b[1;36m0.01\u001b[0m      ,\n",
       "        \u001b[1;36m0.01\u001b[0m      , \u001b[1;36m0.01\u001b[0m      , \u001b[1;36m0.01\u001b[0m      \u001b[1m]\u001b[0m,\n",
       "       \u001b[1m[\u001b[0m\u001b[1;36m0.01\u001b[0m      , \u001b[1;36m0.01\u001b[0m      , \u001b[1;36m0.01\u001b[0m      , \u001b[1;36m0.01\u001b[0m      , \u001b[1;36m0.01\u001b[0m      ,\n",
       "        \u001b[1;36m0.01\u001b[0m      , \u001b[1;36m0.01\u001b[0m      , \u001b[1;36m0.01\u001b[0m      , \u001b[1;36m0.01\u001b[0m      , \u001b[1;36m0.01\u001b[0m      ,\n",
       "        \u001b[1;36m0.01\u001b[0m      , \u001b[1;36m0.01\u001b[0m      , \u001b[1;36m0.01\u001b[0m      , \u001b[1;36m0.01\u001b[0m      , \u001b[1;36m0.19635294\u001b[0m,\n",
       "        \u001b[1;36m0.934\u001b[0m     , \u001b[1;36m0.98835294\u001b[0m, \u001b[1;36m0.98835294\u001b[0m, \u001b[1;36m0.98835294\u001b[0m, \u001b[1;36m0.93011765\u001b[0m,\n",
       "        \u001b[1;36m0.01\u001b[0m      , \u001b[1;36m0.01\u001b[0m      , \u001b[1;36m0.01\u001b[0m      , \u001b[1;36m0.01\u001b[0m      , \u001b[1;36m0.01\u001b[0m      ,\n",
       "        \u001b[1;36m0.01\u001b[0m      , \u001b[1;36m0.01\u001b[0m      , \u001b[1;36m0.01\u001b[0m      \u001b[1m]\u001b[0m,\n",
       "       \u001b[1m[\u001b[0m\u001b[1;36m0.01\u001b[0m      , \u001b[1;36m0.01\u001b[0m      , \u001b[1;36m0.01\u001b[0m      , \u001b[1;36m0.01\u001b[0m      , \u001b[1;36m0.01\u001b[0m      ,\n",
       "        \u001b[1;36m0.01\u001b[0m      , \u001b[1;36m0.01\u001b[0m      , \u001b[1;36m0.01\u001b[0m      , \u001b[1;36m0.01\u001b[0m      , \u001b[1;36m0.01\u001b[0m      ,\n",
       "        \u001b[1;36m0.01\u001b[0m      , \u001b[1;36m0.01\u001b[0m      , \u001b[1;36m0.01\u001b[0m      , \u001b[1;36m0.21964706\u001b[0m, \u001b[1;36m0.89129412\u001b[0m,\n",
       "        \u001b[1;36m0.99223529\u001b[0m, \u001b[1;36m0.98835294\u001b[0m, \u001b[1;36m0.93788235\u001b[0m, \u001b[1;36m0.91458824\u001b[0m, \u001b[1;36m0.98835294\u001b[0m,\n",
       "        \u001b[1;36m0.23129412\u001b[0m, \u001b[1;36m0.03329412\u001b[0m, \u001b[1;36m0.01\u001b[0m      , \u001b[1;36m0.01\u001b[0m      , \u001b[1;36m0.01\u001b[0m      ,\n",
       "        \u001b[1;36m0.01\u001b[0m      , \u001b[1;36m0.01\u001b[0m      , \u001b[1;36m0.01\u001b[0m      \u001b[1m]\u001b[0m,\n",
       "       \u001b[1m[\u001b[0m\u001b[1;36m0.01\u001b[0m      , \u001b[1;36m0.01\u001b[0m      , \u001b[1;36m0.01\u001b[0m      , \u001b[1;36m0.01\u001b[0m      , \u001b[1;36m0.01\u001b[0m      ,\n",
       "        \u001b[1;36m0.01\u001b[0m      , \u001b[1;36m0.01\u001b[0m      , \u001b[1;36m0.01\u001b[0m      , \u001b[1;36m0.01\u001b[0m      , \u001b[1;36m0.01\u001b[0m      ,\n",
       "        \u001b[1;36m0.01\u001b[0m      , \u001b[1;36m0.04882353\u001b[0m, \u001b[1;36m0.24294118\u001b[0m, \u001b[1;36m0.87964706\u001b[0m, \u001b[1;36m0.98835294\u001b[0m,\n",
       "        \u001b[1;36m0.99223529\u001b[0m, \u001b[1;36m0.98835294\u001b[0m, \u001b[1;36m0.79423529\u001b[0m, \u001b[1;36m0.33611765\u001b[0m, \u001b[1;36m0.98835294\u001b[0m,\n",
       "        \u001b[1;36m0.99223529\u001b[0m, \u001b[1;36m0.48364706\u001b[0m, \u001b[1;36m0.01\u001b[0m      , \u001b[1;36m0.01\u001b[0m      , \u001b[1;36m0.01\u001b[0m      ,\n",
       "        \u001b[1;36m0.01\u001b[0m      , \u001b[1;36m0.01\u001b[0m      , \u001b[1;36m0.01\u001b[0m      \u001b[1m]\u001b[0m,\n",
       "       \u001b[1m[\u001b[0m\u001b[1;36m0.01\u001b[0m      , \u001b[1;36m0.01\u001b[0m      , \u001b[1;36m0.01\u001b[0m      , \u001b[1;36m0.01\u001b[0m      , \u001b[1;36m0.01\u001b[0m      ,\n",
       "        \u001b[1;36m0.01\u001b[0m      , \u001b[1;36m0.01\u001b[0m      , \u001b[1;36m0.01\u001b[0m      , \u001b[1;36m0.01\u001b[0m      , \u001b[1;36m0.01\u001b[0m      ,\n",
       "        \u001b[1;36m0.01\u001b[0m      , \u001b[1;36m0.64282353\u001b[0m, \u001b[1;36m0.98835294\u001b[0m, \u001b[1;36m0.98835294\u001b[0m, \u001b[1;36m0.98835294\u001b[0m,\n",
       "        \u001b[1;36m0.99223529\u001b[0m, \u001b[1;36m0.98835294\u001b[0m, \u001b[1;36m0.98835294\u001b[0m, \u001b[1;36m0.38270588\u001b[0m, \u001b[1;36m0.74376471\u001b[0m,\n",
       "        \u001b[1;36m0.99223529\u001b[0m, \u001b[1;36m0.65835294\u001b[0m, \u001b[1;36m0.01\u001b[0m      , \u001b[1;36m0.01\u001b[0m      , \u001b[1;36m0.01\u001b[0m      ,\n",
       "        \u001b[1;36m0.01\u001b[0m      , \u001b[1;36m0.01\u001b[0m      , \u001b[1;36m0.01\u001b[0m      \u001b[1m]\u001b[0m,\n",
       "       \u001b[1m[\u001b[0m\u001b[1;36m0.01\u001b[0m      , \u001b[1;36m0.01\u001b[0m      , \u001b[1;36m0.01\u001b[0m      , \u001b[1;36m0.01\u001b[0m      , \u001b[1;36m0.01\u001b[0m      ,\n",
       "        \u001b[1;36m0.01\u001b[0m      , \u001b[1;36m0.01\u001b[0m      , \u001b[1;36m0.01\u001b[0m      , \u001b[1;36m0.01\u001b[0m      , \u001b[1;36m0.01\u001b[0m      ,\n",
       "        \u001b[1;36m0.208\u001b[0m     , \u001b[1;36m0.934\u001b[0m     , \u001b[1;36m0.99223529\u001b[0m, \u001b[1;36m0.99223529\u001b[0m, \u001b[1;36m0.74764706\u001b[0m,\n",
       "        \u001b[1;36m0.45258824\u001b[0m, \u001b[1;36m0.99223529\u001b[0m, \u001b[1;36m0.89517647\u001b[0m, \u001b[1;36m0.19247059\u001b[0m, \u001b[1;36m0.31670588\u001b[0m,\n",
       "        \u001b[1;36m1\u001b[0m.        , \u001b[1;36m0.66223529\u001b[0m, \u001b[1;36m0.01\u001b[0m      , \u001b[1;36m0.01\u001b[0m      , \u001b[1;36m0.01\u001b[0m      ,\n",
       "        \u001b[1;36m0.01\u001b[0m      , \u001b[1;36m0.01\u001b[0m      , \u001b[1;36m0.01\u001b[0m      \u001b[1m]\u001b[0m,\n",
       "       \u001b[1m[\u001b[0m\u001b[1;36m0.01\u001b[0m      , \u001b[1;36m0.01\u001b[0m      , \u001b[1;36m0.01\u001b[0m      , \u001b[1;36m0.01\u001b[0m      , \u001b[1;36m0.01\u001b[0m      ,\n",
       "        \u001b[1;36m0.01\u001b[0m      , \u001b[1;36m0.01\u001b[0m      , \u001b[1;36m0.01\u001b[0m      , \u001b[1;36m0.01\u001b[0m      , \u001b[1;36m0.19635294\u001b[0m,\n",
       "        \u001b[1;36m0.934\u001b[0m     , \u001b[1;36m0.98835294\u001b[0m, \u001b[1;36m0.98835294\u001b[0m, \u001b[1;36m0.70494118\u001b[0m, \u001b[1;36m0.05658824\u001b[0m,\n",
       "        \u001b[1;36m0.30117647\u001b[0m, \u001b[1;36m0.47976471\u001b[0m, \u001b[1;36m0.09152941\u001b[0m, \u001b[1;36m0.01\u001b[0m      , \u001b[1;36m0.01\u001b[0m      ,\n",
       "        \u001b[1;36m0.99223529\u001b[0m, \u001b[1;36m0.95341176\u001b[0m, \u001b[1;36m0.20411765\u001b[0m, \u001b[1;36m0.01\u001b[0m      , \u001b[1;36m0.01\u001b[0m      ,\n",
       "        \u001b[1;36m0.01\u001b[0m      , \u001b[1;36m0.01\u001b[0m      , \u001b[1;36m0.01\u001b[0m      \u001b[1m]\u001b[0m,\n",
       "       \u001b[1m[\u001b[0m\u001b[1;36m0.01\u001b[0m      , \u001b[1;36m0.01\u001b[0m      , \u001b[1;36m0.01\u001b[0m      , \u001b[1;36m0.01\u001b[0m      , \u001b[1;36m0.01\u001b[0m      ,\n",
       "        \u001b[1;36m0.01\u001b[0m      , \u001b[1;36m0.01\u001b[0m      , \u001b[1;36m0.01\u001b[0m      , \u001b[1;36m0.15752941\u001b[0m, \u001b[1;36m0.65058824\u001b[0m,\n",
       "        \u001b[1;36m0.99223529\u001b[0m, \u001b[1;36m0.91458824\u001b[0m, \u001b[1;36m0.81752941\u001b[0m, \u001b[1;36m0.33611765\u001b[0m, \u001b[1;36m0.01\u001b[0m      ,\n",
       "        \u001b[1;36m0.01\u001b[0m      , \u001b[1;36m0.01\u001b[0m      , \u001b[1;36m0.01\u001b[0m      , \u001b[1;36m0.01\u001b[0m      , \u001b[1;36m0.01\u001b[0m      ,\n",
       "        \u001b[1;36m0.99223529\u001b[0m, \u001b[1;36m0.98835294\u001b[0m, \u001b[1;36m0.65058824\u001b[0m, \u001b[1;36m0.01\u001b[0m      , \u001b[1;36m0.01\u001b[0m      ,\n",
       "        \u001b[1;36m0.01\u001b[0m      , \u001b[1;36m0.01\u001b[0m      , \u001b[1;36m0.01\u001b[0m      \u001b[1m]\u001b[0m,\n",
       "       \u001b[1m[\u001b[0m\u001b[1;36m0.01\u001b[0m      , \u001b[1;36m0.01\u001b[0m      , \u001b[1;36m0.01\u001b[0m      , \u001b[1;36m0.01\u001b[0m      , \u001b[1;36m0.01\u001b[0m      ,\n",
       "        \u001b[1;36m0.01\u001b[0m      , \u001b[1;36m0.01\u001b[0m      , \u001b[1;36m0.03717647\u001b[0m, \u001b[1;36m0.70105882\u001b[0m, \u001b[1;36m0.98835294\u001b[0m,\n",
       "        \u001b[1;36m0.94176471\u001b[0m, \u001b[1;36m0.28564706\u001b[0m, \u001b[1;36m0.08376471\u001b[0m, \u001b[1;36m0.11870588\u001b[0m, \u001b[1;36m0.01\u001b[0m      ,\n",
       "        \u001b[1;36m0.01\u001b[0m      , \u001b[1;36m0.01\u001b[0m      , \u001b[1;36m0.01\u001b[0m      , \u001b[1;36m0.01\u001b[0m      , \u001b[1;36m0.01\u001b[0m      ,\n",
       "        \u001b[1;36m0.99223529\u001b[0m, \u001b[1;36m0.98835294\u001b[0m, \u001b[1;36m0.76705882\u001b[0m, \u001b[1;36m0.01\u001b[0m      , \u001b[1;36m0.01\u001b[0m      ,\n",
       "        \u001b[1;36m0.01\u001b[0m      , \u001b[1;36m0.01\u001b[0m      , \u001b[1;36m0.01\u001b[0m      \u001b[1m]\u001b[0m,\n",
       "       \u001b[1m[\u001b[0m\u001b[1;36m0.01\u001b[0m      , \u001b[1;36m0.01\u001b[0m      , \u001b[1;36m0.01\u001b[0m      , \u001b[1;36m0.01\u001b[0m      , \u001b[1;36m0.01\u001b[0m      ,\n",
       "        \u001b[1;36m0.01\u001b[0m      , \u001b[1;36m0.01\u001b[0m      , \u001b[1;36m0.23129412\u001b[0m, \u001b[1;36m0.98835294\u001b[0m, \u001b[1;36m0.98835294\u001b[0m,\n",
       "        \u001b[1;36m0.25458824\u001b[0m, \u001b[1;36m0.01\u001b[0m      , \u001b[1;36m0.01\u001b[0m      , \u001b[1;36m0.01\u001b[0m      , \u001b[1;36m0.01\u001b[0m      ,\n",
       "        \u001b[1;36m0.01\u001b[0m      , \u001b[1;36m0.01\u001b[0m      , \u001b[1;36m0.01\u001b[0m      , \u001b[1;36m0.01\u001b[0m      , \u001b[1;36m0.01\u001b[0m      ,\n",
       "        \u001b[1;36m0.99223529\u001b[0m, \u001b[1;36m0.98835294\u001b[0m, \u001b[1;36m0.76705882\u001b[0m, \u001b[1;36m0.01\u001b[0m      , \u001b[1;36m0.01\u001b[0m      ,\n",
       "        \u001b[1;36m0.01\u001b[0m      , \u001b[1;36m0.01\u001b[0m      , \u001b[1;36m0.01\u001b[0m      \u001b[1m]\u001b[0m,\n",
       "       \u001b[1m[\u001b[0m\u001b[1;36m0.01\u001b[0m      , \u001b[1;36m0.01\u001b[0m      , \u001b[1;36m0.01\u001b[0m      , \u001b[1;36m0.01\u001b[0m      , \u001b[1;36m0.01\u001b[0m      ,\n",
       "        \u001b[1;36m0.01\u001b[0m      , \u001b[1;36m0.01\u001b[0m      , \u001b[1;36m0.77870588\u001b[0m, \u001b[1;36m0.99223529\u001b[0m, \u001b[1;36m0.74764706\u001b[0m,\n",
       "        \u001b[1;36m0.01\u001b[0m      , \u001b[1;36m0.01\u001b[0m      , \u001b[1;36m0.01\u001b[0m      , \u001b[1;36m0.01\u001b[0m      , \u001b[1;36m0.01\u001b[0m      ,\n",
       "        \u001b[1;36m0.01\u001b[0m      , \u001b[1;36m0.01\u001b[0m      , \u001b[1;36m0.01\u001b[0m      , \u001b[1;36m0.01\u001b[0m      , \u001b[1;36m0.01\u001b[0m      ,\n",
       "        \u001b[1;36m1\u001b[0m.        , \u001b[1;36m0.99223529\u001b[0m, \u001b[1;36m0.77094118\u001b[0m, \u001b[1;36m0.01\u001b[0m      , \u001b[1;36m0.01\u001b[0m      ,\n",
       "        \u001b[1;36m0.01\u001b[0m      , \u001b[1;36m0.01\u001b[0m      , \u001b[1;36m0.01\u001b[0m      \u001b[1m]\u001b[0m,\n",
       "       \u001b[1m[\u001b[0m\u001b[1;36m0.01\u001b[0m      , \u001b[1;36m0.01\u001b[0m      , \u001b[1;36m0.01\u001b[0m      , \u001b[1;36m0.01\u001b[0m      , \u001b[1;36m0.01\u001b[0m      ,\n",
       "        \u001b[1;36m0.01\u001b[0m      , \u001b[1;36m0.30505882\u001b[0m, \u001b[1;36m0.96505882\u001b[0m, \u001b[1;36m0.98835294\u001b[0m, \u001b[1;36m0.44482353\u001b[0m,\n",
       "        \u001b[1;36m0.01\u001b[0m      , \u001b[1;36m0.01\u001b[0m      , \u001b[1;36m0.01\u001b[0m      , \u001b[1;36m0.01\u001b[0m      , \u001b[1;36m0.01\u001b[0m      ,\n",
       "        \u001b[1;36m0.01\u001b[0m      , \u001b[1;36m0.01\u001b[0m      , \u001b[1;36m0.01\u001b[0m      , \u001b[1;36m0.01\u001b[0m      , \u001b[1;36m0.01\u001b[0m      ,\n",
       "        \u001b[1;36m0.99223529\u001b[0m, \u001b[1;36m0.98835294\u001b[0m, \u001b[1;36m0.58458824\u001b[0m, \u001b[1;36m0.01\u001b[0m      , \u001b[1;36m0.01\u001b[0m      ,\n",
       "        \u001b[1;36m0.01\u001b[0m      , \u001b[1;36m0.01\u001b[0m      , \u001b[1;36m0.01\u001b[0m      \u001b[1m]\u001b[0m,\n",
       "       \u001b[1m[\u001b[0m\u001b[1;36m0.01\u001b[0m      , \u001b[1;36m0.01\u001b[0m      , \u001b[1;36m0.01\u001b[0m      , \u001b[1;36m0.01\u001b[0m      , \u001b[1;36m0.01\u001b[0m      ,\n",
       "        \u001b[1;36m0.01\u001b[0m      , \u001b[1;36m0.34\u001b[0m      , \u001b[1;36m0.98835294\u001b[0m, \u001b[1;36m0.90294118\u001b[0m, \u001b[1;36m0.10705882\u001b[0m,\n",
       "        \u001b[1;36m0.01\u001b[0m      , \u001b[1;36m0.01\u001b[0m      , \u001b[1;36m0.01\u001b[0m      , \u001b[1;36m0.01\u001b[0m      , \u001b[1;36m0.01\u001b[0m      ,\n",
       "        \u001b[1;36m0.01\u001b[0m      , \u001b[1;36m0.01\u001b[0m      , \u001b[1;36m0.01\u001b[0m      , \u001b[1;36m0.03717647\u001b[0m, \u001b[1;36m0.53411765\u001b[0m,\n",
       "        \u001b[1;36m0.99223529\u001b[0m, \u001b[1;36m0.73211765\u001b[0m, \u001b[1;36m0.05658824\u001b[0m, \u001b[1;36m0.01\u001b[0m      , \u001b[1;36m0.01\u001b[0m      ,\n",
       "        \u001b[1;36m0.01\u001b[0m      , \u001b[1;36m0.01\u001b[0m      , \u001b[1;36m0.01\u001b[0m      \u001b[1m]\u001b[0m,\n",
       "       \u001b[1m[\u001b[0m\u001b[1;36m0.01\u001b[0m      , \u001b[1;36m0.01\u001b[0m      , \u001b[1;36m0.01\u001b[0m      , \u001b[1;36m0.01\u001b[0m      , \u001b[1;36m0.01\u001b[0m      ,\n",
       "        \u001b[1;36m0.01\u001b[0m      , \u001b[1;36m0.34\u001b[0m      , \u001b[1;36m0.98835294\u001b[0m, \u001b[1;36m0.87576471\u001b[0m, \u001b[1;36m0.01\u001b[0m      ,\n",
       "        \u001b[1;36m0.01\u001b[0m      , \u001b[1;36m0.01\u001b[0m      , \u001b[1;36m0.01\u001b[0m      , \u001b[1;36m0.01\u001b[0m      , \u001b[1;36m0.01\u001b[0m      ,\n",
       "        \u001b[1;36m0.01\u001b[0m      , \u001b[1;36m0.01\u001b[0m      , \u001b[1;36m0.03717647\u001b[0m, \u001b[1;36m0.51858824\u001b[0m, \u001b[1;36m0.98835294\u001b[0m,\n",
       "        \u001b[1;36m0.88352941\u001b[0m, \u001b[1;36m0.28564706\u001b[0m, \u001b[1;36m0.01\u001b[0m      , \u001b[1;36m0.01\u001b[0m      , \u001b[1;36m0.01\u001b[0m      ,\n",
       "        \u001b[1;36m0.01\u001b[0m      , \u001b[1;36m0.01\u001b[0m      , \u001b[1;36m0.01\u001b[0m      \u001b[1m]\u001b[0m,\n",
       "       \u001b[1m[\u001b[0m\u001b[1;36m0.01\u001b[0m      , \u001b[1;36m0.01\u001b[0m      , \u001b[1;36m0.01\u001b[0m      , \u001b[1;36m0.01\u001b[0m      , \u001b[1;36m0.01\u001b[0m      ,\n",
       "        \u001b[1;36m0.01\u001b[0m      , \u001b[1;36m0.34\u001b[0m      , \u001b[1;36m0.98835294\u001b[0m, \u001b[1;36m0.57294118\u001b[0m, \u001b[1;36m0.01\u001b[0m      ,\n",
       "        \u001b[1;36m0.01\u001b[0m      , \u001b[1;36m0.01\u001b[0m      , \u001b[1;36m0.01\u001b[0m      , \u001b[1;36m0.01\u001b[0m      , \u001b[1;36m0.01\u001b[0m      ,\n",
       "        \u001b[1;36m0.01\u001b[0m      , \u001b[1;36m0.19635294\u001b[0m, \u001b[1;36m0.65058824\u001b[0m, \u001b[1;36m0.98835294\u001b[0m, \u001b[1;36m0.68164706\u001b[0m,\n",
       "        \u001b[1;36m0.01\u001b[0m      , \u001b[1;36m0.01\u001b[0m      , \u001b[1;36m0.01\u001b[0m      , \u001b[1;36m0.01\u001b[0m      , \u001b[1;36m0.01\u001b[0m      ,\n",
       "        \u001b[1;36m0.01\u001b[0m      , \u001b[1;36m0.01\u001b[0m      , \u001b[1;36m0.01\u001b[0m      \u001b[1m]\u001b[0m,\n",
       "       \u001b[1m[\u001b[0m\u001b[1;36m0.01\u001b[0m      , \u001b[1;36m0.01\u001b[0m      , \u001b[1;36m0.01\u001b[0m      , \u001b[1;36m0.01\u001b[0m      , \u001b[1;36m0.01\u001b[0m      ,\n",
       "        \u001b[1;36m0.01\u001b[0m      , \u001b[1;36m0.34388235\u001b[0m, \u001b[1;36m0.99223529\u001b[0m, \u001b[1;36m0.88352941\u001b[0m, \u001b[1;36m0.01\u001b[0m      ,\n",
       "        \u001b[1;36m0.01\u001b[0m      , \u001b[1;36m0.01\u001b[0m      , \u001b[1;36m0.01\u001b[0m      , \u001b[1;36m0.01\u001b[0m      , \u001b[1;36m0.01\u001b[0m      ,\n",
       "        \u001b[1;36m0.45258824\u001b[0m, \u001b[1;36m0.934\u001b[0m     , \u001b[1;36m0.99223529\u001b[0m, \u001b[1;36m0.63894118\u001b[0m, \u001b[1;36m0.01\u001b[0m      ,\n",
       "        \u001b[1;36m0.01\u001b[0m      , \u001b[1;36m0.01\u001b[0m      , \u001b[1;36m0.01\u001b[0m      , \u001b[1;36m0.01\u001b[0m      , \u001b[1;36m0.01\u001b[0m      ,\n",
       "        \u001b[1;36m0.01\u001b[0m      , \u001b[1;36m0.01\u001b[0m      , \u001b[1;36m0.01\u001b[0m      \u001b[1m]\u001b[0m,\n",
       "       \u001b[1m[\u001b[0m\u001b[1;36m0.01\u001b[0m      , \u001b[1;36m0.01\u001b[0m      , \u001b[1;36m0.01\u001b[0m      , \u001b[1;36m0.01\u001b[0m      , \u001b[1;36m0.01\u001b[0m      ,\n",
       "        \u001b[1;36m0.01\u001b[0m      , \u001b[1;36m0.34\u001b[0m      , \u001b[1;36m0.98835294\u001b[0m, \u001b[1;36m0.97670588\u001b[0m, \u001b[1;36m0.57682353\u001b[0m,\n",
       "        \u001b[1;36m0.19635294\u001b[0m, \u001b[1;36m0.12258824\u001b[0m, \u001b[1;36m0.34\u001b[0m      , \u001b[1;36m0.70105882\u001b[0m, \u001b[1;36m0.88352941\u001b[0m,\n",
       "        \u001b[1;36m0.99223529\u001b[0m, \u001b[1;36m0.87576471\u001b[0m, \u001b[1;36m0.65835294\u001b[0m, \u001b[1;36m0.22741176\u001b[0m, \u001b[1;36m0.01\u001b[0m      ,\n",
       "        \u001b[1;36m0.01\u001b[0m      , \u001b[1;36m0.01\u001b[0m      , \u001b[1;36m0.01\u001b[0m      , \u001b[1;36m0.01\u001b[0m      , \u001b[1;36m0.01\u001b[0m      ,\n",
       "        \u001b[1;36m0.01\u001b[0m      , \u001b[1;36m0.01\u001b[0m      , \u001b[1;36m0.01\u001b[0m      \u001b[1m]\u001b[0m,\n",
       "       \u001b[1m[\u001b[0m\u001b[1;36m0.01\u001b[0m      , \u001b[1;36m0.01\u001b[0m      , \u001b[1;36m0.01\u001b[0m      , \u001b[1;36m0.01\u001b[0m      , \u001b[1;36m0.01\u001b[0m      ,\n",
       "        \u001b[1;36m0.01\u001b[0m      , \u001b[1;36m0.34\u001b[0m      , \u001b[1;36m0.98835294\u001b[0m, \u001b[1;36m0.98835294\u001b[0m, \u001b[1;36m0.98835294\u001b[0m,\n",
       "        \u001b[1;36m0.89905882\u001b[0m, \u001b[1;36m0.84470588\u001b[0m, \u001b[1;36m0.98835294\u001b[0m, \u001b[1;36m0.98835294\u001b[0m, \u001b[1;36m0.98835294\u001b[0m,\n",
       "        \u001b[1;36m0.77094118\u001b[0m, \u001b[1;36m0.51470588\u001b[0m, \u001b[1;36m0.01\u001b[0m      , \u001b[1;36m0.01\u001b[0m      , \u001b[1;36m0.01\u001b[0m      ,\n",
       "        \u001b[1;36m0.01\u001b[0m      , \u001b[1;36m0.01\u001b[0m      , \u001b[1;36m0.01\u001b[0m      , \u001b[1;36m0.01\u001b[0m      , \u001b[1;36m0.01\u001b[0m      ,\n",
       "        \u001b[1;36m0.01\u001b[0m      , \u001b[1;36m0.01\u001b[0m      , \u001b[1;36m0.01\u001b[0m      \u001b[1m]\u001b[0m,\n",
       "       \u001b[1m[\u001b[0m\u001b[1;36m0.01\u001b[0m      , \u001b[1;36m0.01\u001b[0m      , \u001b[1;36m0.01\u001b[0m      , \u001b[1;36m0.01\u001b[0m      , \u001b[1;36m0.01\u001b[0m      ,\n",
       "        \u001b[1;36m0.01\u001b[0m      , \u001b[1;36m0.11870588\u001b[0m, \u001b[1;36m0.78258824\u001b[0m, \u001b[1;36m0.98835294\u001b[0m, \u001b[1;36m0.98835294\u001b[0m,\n",
       "        \u001b[1;36m0.99223529\u001b[0m, \u001b[1;36m0.98835294\u001b[0m, \u001b[1;36m0.98835294\u001b[0m, \u001b[1;36m0.91458824\u001b[0m, \u001b[1;36m0.57294118\u001b[0m,\n",
       "        \u001b[1;36m0.01\u001b[0m      , \u001b[1;36m0.01\u001b[0m      , \u001b[1;36m0.01\u001b[0m      , \u001b[1;36m0.01\u001b[0m      , \u001b[1;36m0.01\u001b[0m      ,\n",
       "        \u001b[1;36m0.01\u001b[0m      , \u001b[1;36m0.01\u001b[0m      , \u001b[1;36m0.01\u001b[0m      , \u001b[1;36m0.01\u001b[0m      , \u001b[1;36m0.01\u001b[0m      ,\n",
       "        \u001b[1;36m0.01\u001b[0m      , \u001b[1;36m0.01\u001b[0m      , \u001b[1;36m0.01\u001b[0m      \u001b[1m]\u001b[0m,\n",
       "       \u001b[1m[\u001b[0m\u001b[1;36m0.01\u001b[0m      , \u001b[1;36m0.01\u001b[0m      , \u001b[1;36m0.01\u001b[0m      , \u001b[1;36m0.01\u001b[0m      , \u001b[1;36m0.01\u001b[0m      ,\n",
       "        \u001b[1;36m0.01\u001b[0m      , \u001b[1;36m0.01\u001b[0m      , \u001b[1;36m0.10705882\u001b[0m, \u001b[1;36m0.50694118\u001b[0m, \u001b[1;36m0.98835294\u001b[0m,\n",
       "        \u001b[1;36m0.99223529\u001b[0m, \u001b[1;36m0.98835294\u001b[0m, \u001b[1;36m0.55741176\u001b[0m, \u001b[1;36m0.15364706\u001b[0m, \u001b[1;36m0.01\u001b[0m      ,\n",
       "        \u001b[1;36m0.01\u001b[0m      , \u001b[1;36m0.01\u001b[0m      , \u001b[1;36m0.01\u001b[0m      , \u001b[1;36m0.01\u001b[0m      , \u001b[1;36m0.01\u001b[0m      ,\n",
       "        \u001b[1;36m0.01\u001b[0m      , \u001b[1;36m0.01\u001b[0m      , \u001b[1;36m0.01\u001b[0m      , \u001b[1;36m0.01\u001b[0m      , \u001b[1;36m0.01\u001b[0m      ,\n",
       "        \u001b[1;36m0.01\u001b[0m      , \u001b[1;36m0.01\u001b[0m      , \u001b[1;36m0.01\u001b[0m      \u001b[1m]\u001b[0m,\n",
       "       \u001b[1m[\u001b[0m\u001b[1;36m0.01\u001b[0m      , \u001b[1;36m0.01\u001b[0m      , \u001b[1;36m0.01\u001b[0m      , \u001b[1;36m0.01\u001b[0m      , \u001b[1;36m0.01\u001b[0m      ,\n",
       "        \u001b[1;36m0.01\u001b[0m      , \u001b[1;36m0.01\u001b[0m      , \u001b[1;36m0.01\u001b[0m      , \u001b[1;36m0.01\u001b[0m      , \u001b[1;36m0.01\u001b[0m      ,\n",
       "        \u001b[1;36m0.01\u001b[0m      , \u001b[1;36m0.01\u001b[0m      , \u001b[1;36m0.01\u001b[0m      , \u001b[1;36m0.01\u001b[0m      , \u001b[1;36m0.01\u001b[0m      ,\n",
       "        \u001b[1;36m0.01\u001b[0m      , \u001b[1;36m0.01\u001b[0m      , \u001b[1;36m0.01\u001b[0m      , \u001b[1;36m0.01\u001b[0m      , \u001b[1;36m0.01\u001b[0m      ,\n",
       "        \u001b[1;36m0.01\u001b[0m      , \u001b[1;36m0.01\u001b[0m      , \u001b[1;36m0.01\u001b[0m      , \u001b[1;36m0.01\u001b[0m      , \u001b[1;36m0.01\u001b[0m      ,\n",
       "        \u001b[1;36m0.01\u001b[0m      , \u001b[1;36m0.01\u001b[0m      , \u001b[1;36m0.01\u001b[0m      \u001b[1m]\u001b[0m,\n",
       "       \u001b[1m[\u001b[0m\u001b[1;36m0.01\u001b[0m      , \u001b[1;36m0.01\u001b[0m      , \u001b[1;36m0.01\u001b[0m      , \u001b[1;36m0.01\u001b[0m      , \u001b[1;36m0.01\u001b[0m      ,\n",
       "        \u001b[1;36m0.01\u001b[0m      , \u001b[1;36m0.01\u001b[0m      , \u001b[1;36m0.01\u001b[0m      , \u001b[1;36m0.01\u001b[0m      , \u001b[1;36m0.01\u001b[0m      ,\n",
       "        \u001b[1;36m0.01\u001b[0m      , \u001b[1;36m0.01\u001b[0m      , \u001b[1;36m0.01\u001b[0m      , \u001b[1;36m0.01\u001b[0m      , \u001b[1;36m0.01\u001b[0m      ,\n",
       "        \u001b[1;36m0.01\u001b[0m      , \u001b[1;36m0.01\u001b[0m      , \u001b[1;36m0.01\u001b[0m      , \u001b[1;36m0.01\u001b[0m      , \u001b[1;36m0.01\u001b[0m      ,\n",
       "        \u001b[1;36m0.01\u001b[0m      , \u001b[1;36m0.01\u001b[0m      , \u001b[1;36m0.01\u001b[0m      , \u001b[1;36m0.01\u001b[0m      , \u001b[1;36m0.01\u001b[0m      ,\n",
       "        \u001b[1;36m0.01\u001b[0m      , \u001b[1;36m0.01\u001b[0m      , \u001b[1;36m0.01\u001b[0m      \u001b[1m]\u001b[0m,\n",
       "       \u001b[1m[\u001b[0m\u001b[1;36m0.01\u001b[0m      , \u001b[1;36m0.01\u001b[0m      , \u001b[1;36m0.01\u001b[0m      , \u001b[1;36m0.01\u001b[0m      , \u001b[1;36m0.01\u001b[0m      ,\n",
       "        \u001b[1;36m0.01\u001b[0m      , \u001b[1;36m0.01\u001b[0m      , \u001b[1;36m0.01\u001b[0m      , \u001b[1;36m0.01\u001b[0m      , \u001b[1;36m0.01\u001b[0m      ,\n",
       "        \u001b[1;36m0.01\u001b[0m      , \u001b[1;36m0.01\u001b[0m      , \u001b[1;36m0.01\u001b[0m      , \u001b[1;36m0.01\u001b[0m      , \u001b[1;36m0.01\u001b[0m      ,\n",
       "        \u001b[1;36m0.01\u001b[0m      , \u001b[1;36m0.01\u001b[0m      , \u001b[1;36m0.01\u001b[0m      , \u001b[1;36m0.01\u001b[0m      , \u001b[1;36m0.01\u001b[0m      ,\n",
       "        \u001b[1;36m0.01\u001b[0m      , \u001b[1;36m0.01\u001b[0m      , \u001b[1;36m0.01\u001b[0m      , \u001b[1;36m0.01\u001b[0m      , \u001b[1;36m0.01\u001b[0m      ,\n",
       "        \u001b[1;36m0.01\u001b[0m      , \u001b[1;36m0.01\u001b[0m      , \u001b[1;36m0.01\u001b[0m      \u001b[1m]\u001b[0m,\n",
       "       \u001b[1m[\u001b[0m\u001b[1;36m0.01\u001b[0m      , \u001b[1;36m0.01\u001b[0m      , \u001b[1;36m0.01\u001b[0m      , \u001b[1;36m0.01\u001b[0m      , \u001b[1;36m0.01\u001b[0m      ,\n",
       "        \u001b[1;36m0.01\u001b[0m      , \u001b[1;36m0.01\u001b[0m      , \u001b[1;36m0.01\u001b[0m      , \u001b[1;36m0.01\u001b[0m      , \u001b[1;36m0.01\u001b[0m      ,\n",
       "        \u001b[1;36m0.01\u001b[0m      , \u001b[1;36m0.01\u001b[0m      , \u001b[1;36m0.01\u001b[0m      , \u001b[1;36m0.01\u001b[0m      , \u001b[1;36m0.01\u001b[0m      ,\n",
       "        \u001b[1;36m0.01\u001b[0m      , \u001b[1;36m0.01\u001b[0m      , \u001b[1;36m0.01\u001b[0m      , \u001b[1;36m0.01\u001b[0m      , \u001b[1;36m0.01\u001b[0m      ,\n",
       "        \u001b[1;36m0.01\u001b[0m      , \u001b[1;36m0.01\u001b[0m      , \u001b[1;36m0.01\u001b[0m      , \u001b[1;36m0.01\u001b[0m      , \u001b[1;36m0.01\u001b[0m      ,\n",
       "        \u001b[1;36m0.01\u001b[0m      , \u001b[1;36m0.01\u001b[0m      , \u001b[1;36m0.01\u001b[0m      \u001b[1m]\u001b[0m\u001b[1m]\u001b[0m\u001b[1m)\u001b[0m"
      ]
     },
     "execution_count": 8,
     "metadata": {},
     "output_type": "execute_result"
    }
   ],
   "source": [
    "scaled_input = (image_array / 255.0 * 0.99) + 0.01\n",
    "\n",
    "scaled_input"
   ]
  },
  {
   "cell_type": "markdown",
   "metadata": {},
   "source": [
    "#### output nodes is 10 (example)"
   ]
  },
  {
   "cell_type": "code",
   "execution_count": 9,
   "metadata": {},
   "outputs": [
    {
     "data": {
      "text/html": [
       "<pre style=\"white-space:pre;overflow-x:auto;line-height:normal;font-family:Menlo,'DejaVu Sans Mono',consolas,'Courier New',monospace\"></pre>\n"
      ],
      "text/plain": []
     },
     "metadata": {},
     "output_type": "display_data"
    },
    {
     "data": {
      "text/plain": [
       "\u001b[1;35marray\u001b[0m\u001b[1m(\u001b[0m\u001b[1m[\u001b[0m\u001b[1;36m0.99\u001b[0m, \u001b[1;36m0.01\u001b[0m, \u001b[1;36m0.01\u001b[0m, \u001b[1;36m0.01\u001b[0m, \u001b[1;36m0.01\u001b[0m, \u001b[1;36m0.01\u001b[0m, \u001b[1;36m0.01\u001b[0m, \u001b[1;36m0.01\u001b[0m, \u001b[1;36m0.01\u001b[0m, \u001b[1;36m0.01\u001b[0m\u001b[1m]\u001b[0m\u001b[1m)\u001b[0m"
      ]
     },
     "execution_count": 9,
     "metadata": {},
     "output_type": "execute_result"
    }
   ],
   "source": [
    "onodes = 10\n",
    "targets = numpy.zeros(onodes) + 0.01\n",
    "targets[int(all_values[0])] = 0.99\n",
    "\n",
    "targets"
   ]
  }
 ],
 "metadata": {
  "kernelspec": {
   "display_name": "Python 3 (ipykernel)",
   "language": "python",
   "name": "python3"
  },
  "language_info": {
   "codemirror_mode": {
    "name": "ipython",
    "version": 3
   },
   "file_extension": ".py",
   "mimetype": "text/x-python",
   "name": "python",
   "nbconvert_exporter": "python",
   "pygments_lexer": "ipython3",
   "version": "3.8.16"
  }
 },
 "nbformat": 4,
 "nbformat_minor": 4
}
