{
 "cells": [
  {
   "cell_type": "code",
   "execution_count": 1,
   "metadata": {},
   "outputs": [],
   "source": [
    "from rich import print"
   ]
  },
  {
   "cell_type": "code",
   "execution_count": 2,
   "metadata": {
    "tags": []
   },
   "outputs": [],
   "source": [
    "import time\n",
    "\n",
    "import dill as pickle\n",
    "import pandas as pd\n",
    "\n",
    "import torch\n",
    "import torch.nn as nn\n",
    "from torch.autograd import Variable\n",
    "\n",
    "import numpy as np\n",
    "import matplotlib.pyplot as plt\n",
    "import scipy.ndimage"
   ]
  },
  {
   "cell_type": "markdown",
   "metadata": {
    "tags": []
   },
   "source": [
    "### using CUDA or not"
   ]
  },
  {
   "cell_type": "code",
   "execution_count": 3,
   "metadata": {},
   "outputs": [],
   "source": [
    "# Using GPU makes the training process slower than using CPU\n",
    "# Since the dataset is small.\n",
    "\n",
    "# using_cuda = True\n",
    "using_cuda = False  "
   ]
  },
  {
   "cell_type": "code",
   "execution_count": 4,
   "metadata": {},
   "outputs": [],
   "source": [
    "# check if CUDA is available\n",
    "# if yes, set default tensor type to cuda\n",
    "\n",
    "if torch.cuda.is_available() and using_cuda:\n",
    "    torch.set_default_tensor_type(torch.cuda.FloatTensor)\n",
    "    print(\"using cuda:\", torch.cuda.get_device_name(0))\n",
    "    device = torch.device(\"cuda\")\n",
    "else:\n",
    "    device = torch.device(\"cpu\")"
   ]
  },
  {
   "cell_type": "code",
   "execution_count": 5,
   "metadata": {},
   "outputs": [
    {
     "data": {
      "text/html": [
       "<pre style=\"white-space:pre;overflow-x:auto;line-height:normal;font-family:Menlo,'DejaVu Sans Mono',consolas,'Courier New',monospace\"><span style=\"color: #800080; text-decoration-color: #800080; font-weight: bold\">device</span><span style=\"font-weight: bold\">(</span><span style=\"color: #808000; text-decoration-color: #808000\">type</span>=<span style=\"color: #008000; text-decoration-color: #008000\">'cpu'</span><span style=\"font-weight: bold\">)</span>\n",
       "</pre>\n"
      ],
      "text/plain": [
       "\u001b[1;35mdevice\u001b[0m\u001b[1m(\u001b[0m\u001b[33mtype\u001b[0m=\u001b[32m'cpu'\u001b[0m\u001b[1m)\u001b[0m\n"
      ]
     },
     "metadata": {},
     "output_type": "display_data"
    }
   ],
   "source": [
    "device"
   ]
  },
  {
   "cell_type": "markdown",
   "metadata": {
    "colab_type": "text",
    "id": "R1VyK4VQpNYA",
    "tags": []
   },
   "source": [
    "### Neural Network Class"
   ]
  },
  {
   "cell_type": "code",
   "execution_count": 6,
   "metadata": {
    "tags": []
   },
   "outputs": [],
   "source": [
    "class Classifier(nn.Module):\n",
    "\n",
    "    def __init__(self, inodes, hnodes, onodes, learning_rate):\n",
    "        # call the base class's initialisation too\n",
    "        super().__init__()\n",
    "        \n",
    "        # dimensions\n",
    "        self.inodes, self.hnodes, self.onodes = inodes, hnodes, onodes\n",
    "        \n",
    "        # learning rate\n",
    "        self.lr = learning_rate\n",
    "        \n",
    "        # define the layers and their sizes, turn off bias\n",
    "        self.linear_ih = nn.Linear(inodes, hnodes, bias=False)\n",
    "        self.linear_ho = nn.Linear(hnodes, onodes, bias=False)\n",
    "        \n",
    "        # define activation function\n",
    "        self.activation = nn.Sigmoid()\n",
    "        # define inverse activation function\n",
    "        self.inverse_activation_function = torch.logit\n",
    "        \n",
    "        # create error function\n",
    "        # self.error_function = torch.nn.MSELoss(size_average=False)  # size_average is deprecated\n",
    "        self.error_function = torch.nn.MSELoss(reduction='sum')\n",
    "\n",
    "        # create optimiser, using simple stochastic gradient descent\n",
    "        self.optimiser = torch.optim.SGD(self.parameters(), self.lr)\n",
    "\n",
    "        # use GPU if it is available\n",
    "        self.FloatTensor = torch.cuda.FloatTensor if device.type=='cuda' else torch.FloatTensor\n",
    "            \n",
    "        # counter and accumulator for progress\n",
    "        self.counter = 0\n",
    "        self.progress = []\n",
    "        \n",
    "    \n",
    "    def forward(self, inputs_list):\n",
    "        # convert list to a 2-D FloatTensor then wrap in Variable \n",
    "        inputs = Variable(self.FloatTensor(inputs_list).view(1, self.inodes))\n",
    "            \n",
    "        # combine input layer signals into hidden layer\n",
    "        hidden_inputs = self.linear_ih(inputs)\n",
    "        # apply sigmiod activation function\n",
    "        hidden_outputs = self.activation(hidden_inputs)\n",
    "        \n",
    "        # combine hidden layer signals into output layer\n",
    "        final_inputs = self.linear_ho(hidden_outputs)\n",
    "        # apply sigmiod activation function\n",
    "        final_outputs = self.activation(final_inputs)\n",
    "        \n",
    "        return final_outputs\n",
    "\n",
    "    \n",
    "    def train(self, inputs_list, targets_list, print_counter=False):\n",
    "        # calculate the output of the network\n",
    "        output = self.forward(inputs_list)\n",
    "\n",
    "        # create a Variable out of the target vector, doesn't need gradients calculated\n",
    "        target_variable = Variable(self.FloatTensor(targets_list).view(1, self.onodes), requires_grad=False)\n",
    "        \n",
    "        # calculate error\n",
    "        loss = self.error_function(output, target_variable)\n",
    "        \n",
    "        # increase counter \n",
    "        self.counter += 1\n",
    "\n",
    "        # accumulate error every 10 loops\n",
    "        if (self.counter % 10 == 0):\n",
    "            self.progress.append(loss.item())\n",
    "\n",
    "        # print counter every 10000 loops\n",
    "        if print_counter and (self.counter % 10000 == 0):\n",
    "            print(\"counter = \", self.counter)\n",
    "\n",
    "        # zero gradients, perform a backward pass, and update the weights.\n",
    "        self.optimiser.zero_grad()\n",
    "        loss.backward()\n",
    "        self.optimiser.step()\n",
    "        \n",
    "        \n",
    "    def backquery(self, targets_list):\n",
    "        \"\"\"backquery the neural network.\"\"\"\n",
    "        def _scale(signal):\n",
    "            # scale signal to 0.01 to 0.99\n",
    "            signal -= signal.min().item()\n",
    "            signal /= signal.max().item()\n",
    "            signal *= 0.98\n",
    "            signal += 0.01\n",
    "            return signal\n",
    "        \n",
    "        # create a Variable out of the target vector, doesn't need gradients calculated\n",
    "        target_variable = Variable(self.FloatTensor(targets_list).view(1, self.onodes), requires_grad=False).T\n",
    "        \n",
    "        # calculate the signal into the final output layer\n",
    "        final_inputs = self.inverse_activation_function(target_variable)\n",
    "        # calculate the signal out of the hidden layer and scale them back to 0.01 to 0.99\n",
    "        hidden_outputs = _scale(torch.matmul(self.linear_ho.weight.T, final_inputs))\n",
    "        \n",
    "        # calculate the signal into the hidden layer\n",
    "        hidden_inputs = self.inverse_activation_function(hidden_outputs)\n",
    "        # calculate the signal out of the input layer and scale them back to 0.01 to .99\n",
    "        inputs = _scale(torch.matmul(self.linear_ih.weight.T, hidden_inputs))\n",
    "        \n",
    "        return inputs\n",
    "    \n",
    "    \n",
    "    def plot_progress(self):\n",
    "        \"\"\"Plot classifier error.\n",
    "        \"\"\"\n",
    "        df = pd.DataFrame(self.progress, columns=['loss'])\n",
    "        plt_kwargs = {\n",
    "            'figsize':  (16, 8), \n",
    "            # 'ylim':  (0, 1.0), \n",
    "            'ylim':  (0, max(self.progress)), \n",
    "            'alpha':  0.1, \n",
    "            'marker':  '.', \n",
    "            'grid':  True, \n",
    "        }\n",
    "        df.plot(**plt_kwargs)\n",
    "\n",
    "\n",
    "    def pickle(self, filename='classifier.pkl'):\n",
    "        \"\"\"Pickle and save the trained classifier.\n",
    "        \"\"\"\n",
    "        with open(filename, 'wb') as f:\n",
    "            pickle.dump(self, f)"
   ]
  },
  {
   "cell_type": "markdown",
   "metadata": {},
   "source": [
    "### create neural network"
   ]
  },
  {
   "cell_type": "code",
   "execution_count": 7,
   "metadata": {
    "tags": []
   },
   "outputs": [],
   "source": [
    "# number of input, hidden and output nodes\n",
    "input_nodes, hidden_nodes, output_nodes = 784, 200, 10\n",
    "\n",
    "# learning rate\n",
    "learning_rate = 0.1\n",
    "\n",
    "# create instance of neural network\n",
    "n = Classifier(input_nodes, hidden_nodes, output_nodes, learning_rate)\n",
    "\n",
    "# move neural network to the GPU\n",
    "if device.type == 'cuda':\n",
    "    n.cuda()"
   ]
  },
  {
   "cell_type": "markdown",
   "metadata": {},
   "source": [
    "### set training epoch"
   ]
  },
  {
   "cell_type": "code",
   "execution_count": 8,
   "metadata": {},
   "outputs": [],
   "source": [
    "# epochs is the number of times the training data set is used for training\n",
    "\n",
    "epochs = 10  # best\n",
    "# epochs = 1"
   ]
  },
  {
   "cell_type": "markdown",
   "metadata": {
    "tags": []
   },
   "source": [
    "### load the mnist training data CSV file into a list"
   ]
  },
  {
   "cell_type": "code",
   "execution_count": 9,
   "metadata": {
    "tags": []
   },
   "outputs": [],
   "source": [
    "with open(\"./mnist_dataset/mnist_train.csv\", 'r') as training_data_file:\n",
    "    training_data_list = training_data_file.readlines()"
   ]
  },
  {
   "cell_type": "markdown",
   "metadata": {},
   "source": [
    "### train the neural network"
   ]
  },
  {
   "cell_type": "code",
   "execution_count": 10,
   "metadata": {},
   "outputs": [
    {
     "data": {
      "text/html": [
       "<pre style=\"white-space:pre;overflow-x:auto;line-height:normal;font-family:Menlo,'DejaVu Sans Mono',consolas,'Courier New',monospace\">counter =  <span style=\"color: #008080; text-decoration-color: #008080; font-weight: bold\">10000</span>\n",
       "</pre>\n"
      ],
      "text/plain": [
       "counter =  \u001b[1;36m10000\u001b[0m\n"
      ]
     },
     "metadata": {},
     "output_type": "display_data"
    },
    {
     "data": {
      "text/html": [
       "<pre style=\"white-space:pre;overflow-x:auto;line-height:normal;font-family:Menlo,'DejaVu Sans Mono',consolas,'Courier New',monospace\">counter =  <span style=\"color: #008080; text-decoration-color: #008080; font-weight: bold\">20000</span>\n",
       "</pre>\n"
      ],
      "text/plain": [
       "counter =  \u001b[1;36m20000\u001b[0m\n"
      ]
     },
     "metadata": {},
     "output_type": "display_data"
    },
    {
     "data": {
      "text/html": [
       "<pre style=\"white-space:pre;overflow-x:auto;line-height:normal;font-family:Menlo,'DejaVu Sans Mono',consolas,'Courier New',monospace\">counter =  <span style=\"color: #008080; text-decoration-color: #008080; font-weight: bold\">30000</span>\n",
       "</pre>\n"
      ],
      "text/plain": [
       "counter =  \u001b[1;36m30000\u001b[0m\n"
      ]
     },
     "metadata": {},
     "output_type": "display_data"
    },
    {
     "data": {
      "text/html": [
       "<pre style=\"white-space:pre;overflow-x:auto;line-height:normal;font-family:Menlo,'DejaVu Sans Mono',consolas,'Courier New',monospace\">counter =  <span style=\"color: #008080; text-decoration-color: #008080; font-weight: bold\">40000</span>\n",
       "</pre>\n"
      ],
      "text/plain": [
       "counter =  \u001b[1;36m40000\u001b[0m\n"
      ]
     },
     "metadata": {},
     "output_type": "display_data"
    },
    {
     "data": {
      "text/html": [
       "<pre style=\"white-space:pre;overflow-x:auto;line-height:normal;font-family:Menlo,'DejaVu Sans Mono',consolas,'Courier New',monospace\">counter =  <span style=\"color: #008080; text-decoration-color: #008080; font-weight: bold\">50000</span>\n",
       "</pre>\n"
      ],
      "text/plain": [
       "counter =  \u001b[1;36m50000\u001b[0m\n"
      ]
     },
     "metadata": {},
     "output_type": "display_data"
    },
    {
     "data": {
      "text/html": [
       "<pre style=\"white-space:pre;overflow-x:auto;line-height:normal;font-family:Menlo,'DejaVu Sans Mono',consolas,'Courier New',monospace\">counter =  <span style=\"color: #008080; text-decoration-color: #008080; font-weight: bold\">60000</span>\n",
       "</pre>\n"
      ],
      "text/plain": [
       "counter =  \u001b[1;36m60000\u001b[0m\n"
      ]
     },
     "metadata": {},
     "output_type": "display_data"
    },
    {
     "data": {
      "text/html": [
       "<pre style=\"white-space:pre;overflow-x:auto;line-height:normal;font-family:Menlo,'DejaVu Sans Mono',consolas,'Courier New',monospace\">counter =  <span style=\"color: #008080; text-decoration-color: #008080; font-weight: bold\">70000</span>\n",
       "</pre>\n"
      ],
      "text/plain": [
       "counter =  \u001b[1;36m70000\u001b[0m\n"
      ]
     },
     "metadata": {},
     "output_type": "display_data"
    },
    {
     "data": {
      "text/html": [
       "<pre style=\"white-space:pre;overflow-x:auto;line-height:normal;font-family:Menlo,'DejaVu Sans Mono',consolas,'Courier New',monospace\">counter =  <span style=\"color: #008080; text-decoration-color: #008080; font-weight: bold\">80000</span>\n",
       "</pre>\n"
      ],
      "text/plain": [
       "counter =  \u001b[1;36m80000\u001b[0m\n"
      ]
     },
     "metadata": {},
     "output_type": "display_data"
    },
    {
     "data": {
      "text/html": [
       "<pre style=\"white-space:pre;overflow-x:auto;line-height:normal;font-family:Menlo,'DejaVu Sans Mono',consolas,'Courier New',monospace\">counter =  <span style=\"color: #008080; text-decoration-color: #008080; font-weight: bold\">90000</span>\n",
       "</pre>\n"
      ],
      "text/plain": [
       "counter =  \u001b[1;36m90000\u001b[0m\n"
      ]
     },
     "metadata": {},
     "output_type": "display_data"
    },
    {
     "data": {
      "text/html": [
       "<pre style=\"white-space:pre;overflow-x:auto;line-height:normal;font-family:Menlo,'DejaVu Sans Mono',consolas,'Courier New',monospace\">counter =  <span style=\"color: #008080; text-decoration-color: #008080; font-weight: bold\">100000</span>\n",
       "</pre>\n"
      ],
      "text/plain": [
       "counter =  \u001b[1;36m100000\u001b[0m\n"
      ]
     },
     "metadata": {},
     "output_type": "display_data"
    },
    {
     "data": {
      "text/html": [
       "<pre style=\"white-space:pre;overflow-x:auto;line-height:normal;font-family:Menlo,'DejaVu Sans Mono',consolas,'Courier New',monospace\">counter =  <span style=\"color: #008080; text-decoration-color: #008080; font-weight: bold\">110000</span>\n",
       "</pre>\n"
      ],
      "text/plain": [
       "counter =  \u001b[1;36m110000\u001b[0m\n"
      ]
     },
     "metadata": {},
     "output_type": "display_data"
    },
    {
     "data": {
      "text/html": [
       "<pre style=\"white-space:pre;overflow-x:auto;line-height:normal;font-family:Menlo,'DejaVu Sans Mono',consolas,'Courier New',monospace\">counter =  <span style=\"color: #008080; text-decoration-color: #008080; font-weight: bold\">120000</span>\n",
       "</pre>\n"
      ],
      "text/plain": [
       "counter =  \u001b[1;36m120000\u001b[0m\n"
      ]
     },
     "metadata": {},
     "output_type": "display_data"
    },
    {
     "data": {
      "text/html": [
       "<pre style=\"white-space:pre;overflow-x:auto;line-height:normal;font-family:Menlo,'DejaVu Sans Mono',consolas,'Courier New',monospace\">counter =  <span style=\"color: #008080; text-decoration-color: #008080; font-weight: bold\">130000</span>\n",
       "</pre>\n"
      ],
      "text/plain": [
       "counter =  \u001b[1;36m130000\u001b[0m\n"
      ]
     },
     "metadata": {},
     "output_type": "display_data"
    },
    {
     "data": {
      "text/html": [
       "<pre style=\"white-space:pre;overflow-x:auto;line-height:normal;font-family:Menlo,'DejaVu Sans Mono',consolas,'Courier New',monospace\">counter =  <span style=\"color: #008080; text-decoration-color: #008080; font-weight: bold\">140000</span>\n",
       "</pre>\n"
      ],
      "text/plain": [
       "counter =  \u001b[1;36m140000\u001b[0m\n"
      ]
     },
     "metadata": {},
     "output_type": "display_data"
    },
    {
     "data": {
      "text/html": [
       "<pre style=\"white-space:pre;overflow-x:auto;line-height:normal;font-family:Menlo,'DejaVu Sans Mono',consolas,'Courier New',monospace\">counter =  <span style=\"color: #008080; text-decoration-color: #008080; font-weight: bold\">150000</span>\n",
       "</pre>\n"
      ],
      "text/plain": [
       "counter =  \u001b[1;36m150000\u001b[0m\n"
      ]
     },
     "metadata": {},
     "output_type": "display_data"
    },
    {
     "data": {
      "text/html": [
       "<pre style=\"white-space:pre;overflow-x:auto;line-height:normal;font-family:Menlo,'DejaVu Sans Mono',consolas,'Courier New',monospace\">counter =  <span style=\"color: #008080; text-decoration-color: #008080; font-weight: bold\">160000</span>\n",
       "</pre>\n"
      ],
      "text/plain": [
       "counter =  \u001b[1;36m160000\u001b[0m\n"
      ]
     },
     "metadata": {},
     "output_type": "display_data"
    },
    {
     "data": {
      "text/html": [
       "<pre style=\"white-space:pre;overflow-x:auto;line-height:normal;font-family:Menlo,'DejaVu Sans Mono',consolas,'Courier New',monospace\">counter =  <span style=\"color: #008080; text-decoration-color: #008080; font-weight: bold\">170000</span>\n",
       "</pre>\n"
      ],
      "text/plain": [
       "counter =  \u001b[1;36m170000\u001b[0m\n"
      ]
     },
     "metadata": {},
     "output_type": "display_data"
    },
    {
     "data": {
      "text/html": [
       "<pre style=\"white-space:pre;overflow-x:auto;line-height:normal;font-family:Menlo,'DejaVu Sans Mono',consolas,'Courier New',monospace\">counter =  <span style=\"color: #008080; text-decoration-color: #008080; font-weight: bold\">180000</span>\n",
       "</pre>\n"
      ],
      "text/plain": [
       "counter =  \u001b[1;36m180000\u001b[0m\n"
      ]
     },
     "metadata": {},
     "output_type": "display_data"
    },
    {
     "data": {
      "text/html": [
       "<pre style=\"white-space:pre;overflow-x:auto;line-height:normal;font-family:Menlo,'DejaVu Sans Mono',consolas,'Courier New',monospace\">counter =  <span style=\"color: #008080; text-decoration-color: #008080; font-weight: bold\">190000</span>\n",
       "</pre>\n"
      ],
      "text/plain": [
       "counter =  \u001b[1;36m190000\u001b[0m\n"
      ]
     },
     "metadata": {},
     "output_type": "display_data"
    },
    {
     "data": {
      "text/html": [
       "<pre style=\"white-space:pre;overflow-x:auto;line-height:normal;font-family:Menlo,'DejaVu Sans Mono',consolas,'Courier New',monospace\">counter =  <span style=\"color: #008080; text-decoration-color: #008080; font-weight: bold\">200000</span>\n",
       "</pre>\n"
      ],
      "text/plain": [
       "counter =  \u001b[1;36m200000\u001b[0m\n"
      ]
     },
     "metadata": {},
     "output_type": "display_data"
    },
    {
     "data": {
      "text/html": [
       "<pre style=\"white-space:pre;overflow-x:auto;line-height:normal;font-family:Menlo,'DejaVu Sans Mono',consolas,'Courier New',monospace\">counter =  <span style=\"color: #008080; text-decoration-color: #008080; font-weight: bold\">210000</span>\n",
       "</pre>\n"
      ],
      "text/plain": [
       "counter =  \u001b[1;36m210000\u001b[0m\n"
      ]
     },
     "metadata": {},
     "output_type": "display_data"
    },
    {
     "data": {
      "text/html": [
       "<pre style=\"white-space:pre;overflow-x:auto;line-height:normal;font-family:Menlo,'DejaVu Sans Mono',consolas,'Courier New',monospace\">counter =  <span style=\"color: #008080; text-decoration-color: #008080; font-weight: bold\">220000</span>\n",
       "</pre>\n"
      ],
      "text/plain": [
       "counter =  \u001b[1;36m220000\u001b[0m\n"
      ]
     },
     "metadata": {},
     "output_type": "display_data"
    },
    {
     "data": {
      "text/html": [
       "<pre style=\"white-space:pre;overflow-x:auto;line-height:normal;font-family:Menlo,'DejaVu Sans Mono',consolas,'Courier New',monospace\">counter =  <span style=\"color: #008080; text-decoration-color: #008080; font-weight: bold\">230000</span>\n",
       "</pre>\n"
      ],
      "text/plain": [
       "counter =  \u001b[1;36m230000\u001b[0m\n"
      ]
     },
     "metadata": {},
     "output_type": "display_data"
    },
    {
     "data": {
      "text/html": [
       "<pre style=\"white-space:pre;overflow-x:auto;line-height:normal;font-family:Menlo,'DejaVu Sans Mono',consolas,'Courier New',monospace\">counter =  <span style=\"color: #008080; text-decoration-color: #008080; font-weight: bold\">240000</span>\n",
       "</pre>\n"
      ],
      "text/plain": [
       "counter =  \u001b[1;36m240000\u001b[0m\n"
      ]
     },
     "metadata": {},
     "output_type": "display_data"
    },
    {
     "data": {
      "text/html": [
       "<pre style=\"white-space:pre;overflow-x:auto;line-height:normal;font-family:Menlo,'DejaVu Sans Mono',consolas,'Courier New',monospace\">counter =  <span style=\"color: #008080; text-decoration-color: #008080; font-weight: bold\">250000</span>\n",
       "</pre>\n"
      ],
      "text/plain": [
       "counter =  \u001b[1;36m250000\u001b[0m\n"
      ]
     },
     "metadata": {},
     "output_type": "display_data"
    },
    {
     "data": {
      "text/html": [
       "<pre style=\"white-space:pre;overflow-x:auto;line-height:normal;font-family:Menlo,'DejaVu Sans Mono',consolas,'Courier New',monospace\">counter =  <span style=\"color: #008080; text-decoration-color: #008080; font-weight: bold\">260000</span>\n",
       "</pre>\n"
      ],
      "text/plain": [
       "counter =  \u001b[1;36m260000\u001b[0m\n"
      ]
     },
     "metadata": {},
     "output_type": "display_data"
    },
    {
     "data": {
      "text/html": [
       "<pre style=\"white-space:pre;overflow-x:auto;line-height:normal;font-family:Menlo,'DejaVu Sans Mono',consolas,'Courier New',monospace\">counter =  <span style=\"color: #008080; text-decoration-color: #008080; font-weight: bold\">270000</span>\n",
       "</pre>\n"
      ],
      "text/plain": [
       "counter =  \u001b[1;36m270000\u001b[0m\n"
      ]
     },
     "metadata": {},
     "output_type": "display_data"
    },
    {
     "data": {
      "text/html": [
       "<pre style=\"white-space:pre;overflow-x:auto;line-height:normal;font-family:Menlo,'DejaVu Sans Mono',consolas,'Courier New',monospace\">counter =  <span style=\"color: #008080; text-decoration-color: #008080; font-weight: bold\">280000</span>\n",
       "</pre>\n"
      ],
      "text/plain": [
       "counter =  \u001b[1;36m280000\u001b[0m\n"
      ]
     },
     "metadata": {},
     "output_type": "display_data"
    },
    {
     "data": {
      "text/html": [
       "<pre style=\"white-space:pre;overflow-x:auto;line-height:normal;font-family:Menlo,'DejaVu Sans Mono',consolas,'Courier New',monospace\">counter =  <span style=\"color: #008080; text-decoration-color: #008080; font-weight: bold\">290000</span>\n",
       "</pre>\n"
      ],
      "text/plain": [
       "counter =  \u001b[1;36m290000\u001b[0m\n"
      ]
     },
     "metadata": {},
     "output_type": "display_data"
    },
    {
     "data": {
      "text/html": [
       "<pre style=\"white-space:pre;overflow-x:auto;line-height:normal;font-family:Menlo,'DejaVu Sans Mono',consolas,'Courier New',monospace\">counter =  <span style=\"color: #008080; text-decoration-color: #008080; font-weight: bold\">300000</span>\n",
       "</pre>\n"
      ],
      "text/plain": [
       "counter =  \u001b[1;36m300000\u001b[0m\n"
      ]
     },
     "metadata": {},
     "output_type": "display_data"
    },
    {
     "data": {
      "text/html": [
       "<pre style=\"white-space:pre;overflow-x:auto;line-height:normal;font-family:Menlo,'DejaVu Sans Mono',consolas,'Courier New',monospace\">counter =  <span style=\"color: #008080; text-decoration-color: #008080; font-weight: bold\">310000</span>\n",
       "</pre>\n"
      ],
      "text/plain": [
       "counter =  \u001b[1;36m310000\u001b[0m\n"
      ]
     },
     "metadata": {},
     "output_type": "display_data"
    },
    {
     "data": {
      "text/html": [
       "<pre style=\"white-space:pre;overflow-x:auto;line-height:normal;font-family:Menlo,'DejaVu Sans Mono',consolas,'Courier New',monospace\">counter =  <span style=\"color: #008080; text-decoration-color: #008080; font-weight: bold\">320000</span>\n",
       "</pre>\n"
      ],
      "text/plain": [
       "counter =  \u001b[1;36m320000\u001b[0m\n"
      ]
     },
     "metadata": {},
     "output_type": "display_data"
    },
    {
     "data": {
      "text/html": [
       "<pre style=\"white-space:pre;overflow-x:auto;line-height:normal;font-family:Menlo,'DejaVu Sans Mono',consolas,'Courier New',monospace\">counter =  <span style=\"color: #008080; text-decoration-color: #008080; font-weight: bold\">330000</span>\n",
       "</pre>\n"
      ],
      "text/plain": [
       "counter =  \u001b[1;36m330000\u001b[0m\n"
      ]
     },
     "metadata": {},
     "output_type": "display_data"
    },
    {
     "data": {
      "text/html": [
       "<pre style=\"white-space:pre;overflow-x:auto;line-height:normal;font-family:Menlo,'DejaVu Sans Mono',consolas,'Courier New',monospace\">counter =  <span style=\"color: #008080; text-decoration-color: #008080; font-weight: bold\">340000</span>\n",
       "</pre>\n"
      ],
      "text/plain": [
       "counter =  \u001b[1;36m340000\u001b[0m\n"
      ]
     },
     "metadata": {},
     "output_type": "display_data"
    },
    {
     "data": {
      "text/html": [
       "<pre style=\"white-space:pre;overflow-x:auto;line-height:normal;font-family:Menlo,'DejaVu Sans Mono',consolas,'Courier New',monospace\">counter =  <span style=\"color: #008080; text-decoration-color: #008080; font-weight: bold\">350000</span>\n",
       "</pre>\n"
      ],
      "text/plain": [
       "counter =  \u001b[1;36m350000\u001b[0m\n"
      ]
     },
     "metadata": {},
     "output_type": "display_data"
    },
    {
     "data": {
      "text/html": [
       "<pre style=\"white-space:pre;overflow-x:auto;line-height:normal;font-family:Menlo,'DejaVu Sans Mono',consolas,'Courier New',monospace\">counter =  <span style=\"color: #008080; text-decoration-color: #008080; font-weight: bold\">360000</span>\n",
       "</pre>\n"
      ],
      "text/plain": [
       "counter =  \u001b[1;36m360000\u001b[0m\n"
      ]
     },
     "metadata": {},
     "output_type": "display_data"
    },
    {
     "data": {
      "text/html": [
       "<pre style=\"white-space:pre;overflow-x:auto;line-height:normal;font-family:Menlo,'DejaVu Sans Mono',consolas,'Courier New',monospace\">counter =  <span style=\"color: #008080; text-decoration-color: #008080; font-weight: bold\">370000</span>\n",
       "</pre>\n"
      ],
      "text/plain": [
       "counter =  \u001b[1;36m370000\u001b[0m\n"
      ]
     },
     "metadata": {},
     "output_type": "display_data"
    },
    {
     "data": {
      "text/html": [
       "<pre style=\"white-space:pre;overflow-x:auto;line-height:normal;font-family:Menlo,'DejaVu Sans Mono',consolas,'Courier New',monospace\">counter =  <span style=\"color: #008080; text-decoration-color: #008080; font-weight: bold\">380000</span>\n",
       "</pre>\n"
      ],
      "text/plain": [
       "counter =  \u001b[1;36m380000\u001b[0m\n"
      ]
     },
     "metadata": {},
     "output_type": "display_data"
    },
    {
     "data": {
      "text/html": [
       "<pre style=\"white-space:pre;overflow-x:auto;line-height:normal;font-family:Menlo,'DejaVu Sans Mono',consolas,'Courier New',monospace\">counter =  <span style=\"color: #008080; text-decoration-color: #008080; font-weight: bold\">390000</span>\n",
       "</pre>\n"
      ],
      "text/plain": [
       "counter =  \u001b[1;36m390000\u001b[0m\n"
      ]
     },
     "metadata": {},
     "output_type": "display_data"
    },
    {
     "data": {
      "text/html": [
       "<pre style=\"white-space:pre;overflow-x:auto;line-height:normal;font-family:Menlo,'DejaVu Sans Mono',consolas,'Courier New',monospace\">counter =  <span style=\"color: #008080; text-decoration-color: #008080; font-weight: bold\">400000</span>\n",
       "</pre>\n"
      ],
      "text/plain": [
       "counter =  \u001b[1;36m400000\u001b[0m\n"
      ]
     },
     "metadata": {},
     "output_type": "display_data"
    },
    {
     "data": {
      "text/html": [
       "<pre style=\"white-space:pre;overflow-x:auto;line-height:normal;font-family:Menlo,'DejaVu Sans Mono',consolas,'Courier New',monospace\">counter =  <span style=\"color: #008080; text-decoration-color: #008080; font-weight: bold\">410000</span>\n",
       "</pre>\n"
      ],
      "text/plain": [
       "counter =  \u001b[1;36m410000\u001b[0m\n"
      ]
     },
     "metadata": {},
     "output_type": "display_data"
    },
    {
     "data": {
      "text/html": [
       "<pre style=\"white-space:pre;overflow-x:auto;line-height:normal;font-family:Menlo,'DejaVu Sans Mono',consolas,'Courier New',monospace\">counter =  <span style=\"color: #008080; text-decoration-color: #008080; font-weight: bold\">420000</span>\n",
       "</pre>\n"
      ],
      "text/plain": [
       "counter =  \u001b[1;36m420000\u001b[0m\n"
      ]
     },
     "metadata": {},
     "output_type": "display_data"
    },
    {
     "data": {
      "text/html": [
       "<pre style=\"white-space:pre;overflow-x:auto;line-height:normal;font-family:Menlo,'DejaVu Sans Mono',consolas,'Courier New',monospace\">counter =  <span style=\"color: #008080; text-decoration-color: #008080; font-weight: bold\">430000</span>\n",
       "</pre>\n"
      ],
      "text/plain": [
       "counter =  \u001b[1;36m430000\u001b[0m\n"
      ]
     },
     "metadata": {},
     "output_type": "display_data"
    },
    {
     "data": {
      "text/html": [
       "<pre style=\"white-space:pre;overflow-x:auto;line-height:normal;font-family:Menlo,'DejaVu Sans Mono',consolas,'Courier New',monospace\">counter =  <span style=\"color: #008080; text-decoration-color: #008080; font-weight: bold\">440000</span>\n",
       "</pre>\n"
      ],
      "text/plain": [
       "counter =  \u001b[1;36m440000\u001b[0m\n"
      ]
     },
     "metadata": {},
     "output_type": "display_data"
    },
    {
     "data": {
      "text/html": [
       "<pre style=\"white-space:pre;overflow-x:auto;line-height:normal;font-family:Menlo,'DejaVu Sans Mono',consolas,'Courier New',monospace\">counter =  <span style=\"color: #008080; text-decoration-color: #008080; font-weight: bold\">450000</span>\n",
       "</pre>\n"
      ],
      "text/plain": [
       "counter =  \u001b[1;36m450000\u001b[0m\n"
      ]
     },
     "metadata": {},
     "output_type": "display_data"
    },
    {
     "data": {
      "text/html": [
       "<pre style=\"white-space:pre;overflow-x:auto;line-height:normal;font-family:Menlo,'DejaVu Sans Mono',consolas,'Courier New',monospace\">counter =  <span style=\"color: #008080; text-decoration-color: #008080; font-weight: bold\">460000</span>\n",
       "</pre>\n"
      ],
      "text/plain": [
       "counter =  \u001b[1;36m460000\u001b[0m\n"
      ]
     },
     "metadata": {},
     "output_type": "display_data"
    },
    {
     "data": {
      "text/html": [
       "<pre style=\"white-space:pre;overflow-x:auto;line-height:normal;font-family:Menlo,'DejaVu Sans Mono',consolas,'Courier New',monospace\">counter =  <span style=\"color: #008080; text-decoration-color: #008080; font-weight: bold\">470000</span>\n",
       "</pre>\n"
      ],
      "text/plain": [
       "counter =  \u001b[1;36m470000\u001b[0m\n"
      ]
     },
     "metadata": {},
     "output_type": "display_data"
    },
    {
     "data": {
      "text/html": [
       "<pre style=\"white-space:pre;overflow-x:auto;line-height:normal;font-family:Menlo,'DejaVu Sans Mono',consolas,'Courier New',monospace\">counter =  <span style=\"color: #008080; text-decoration-color: #008080; font-weight: bold\">480000</span>\n",
       "</pre>\n"
      ],
      "text/plain": [
       "counter =  \u001b[1;36m480000\u001b[0m\n"
      ]
     },
     "metadata": {},
     "output_type": "display_data"
    },
    {
     "data": {
      "text/html": [
       "<pre style=\"white-space:pre;overflow-x:auto;line-height:normal;font-family:Menlo,'DejaVu Sans Mono',consolas,'Courier New',monospace\">counter =  <span style=\"color: #008080; text-decoration-color: #008080; font-weight: bold\">490000</span>\n",
       "</pre>\n"
      ],
      "text/plain": [
       "counter =  \u001b[1;36m490000\u001b[0m\n"
      ]
     },
     "metadata": {},
     "output_type": "display_data"
    },
    {
     "data": {
      "text/html": [
       "<pre style=\"white-space:pre;overflow-x:auto;line-height:normal;font-family:Menlo,'DejaVu Sans Mono',consolas,'Courier New',monospace\">counter =  <span style=\"color: #008080; text-decoration-color: #008080; font-weight: bold\">500000</span>\n",
       "</pre>\n"
      ],
      "text/plain": [
       "counter =  \u001b[1;36m500000\u001b[0m\n"
      ]
     },
     "metadata": {},
     "output_type": "display_data"
    },
    {
     "data": {
      "text/html": [
       "<pre style=\"white-space:pre;overflow-x:auto;line-height:normal;font-family:Menlo,'DejaVu Sans Mono',consolas,'Courier New',monospace\">counter =  <span style=\"color: #008080; text-decoration-color: #008080; font-weight: bold\">510000</span>\n",
       "</pre>\n"
      ],
      "text/plain": [
       "counter =  \u001b[1;36m510000\u001b[0m\n"
      ]
     },
     "metadata": {},
     "output_type": "display_data"
    },
    {
     "data": {
      "text/html": [
       "<pre style=\"white-space:pre;overflow-x:auto;line-height:normal;font-family:Menlo,'DejaVu Sans Mono',consolas,'Courier New',monospace\">counter =  <span style=\"color: #008080; text-decoration-color: #008080; font-weight: bold\">520000</span>\n",
       "</pre>\n"
      ],
      "text/plain": [
       "counter =  \u001b[1;36m520000\u001b[0m\n"
      ]
     },
     "metadata": {},
     "output_type": "display_data"
    },
    {
     "data": {
      "text/html": [
       "<pre style=\"white-space:pre;overflow-x:auto;line-height:normal;font-family:Menlo,'DejaVu Sans Mono',consolas,'Courier New',monospace\">counter =  <span style=\"color: #008080; text-decoration-color: #008080; font-weight: bold\">530000</span>\n",
       "</pre>\n"
      ],
      "text/plain": [
       "counter =  \u001b[1;36m530000\u001b[0m\n"
      ]
     },
     "metadata": {},
     "output_type": "display_data"
    },
    {
     "data": {
      "text/html": [
       "<pre style=\"white-space:pre;overflow-x:auto;line-height:normal;font-family:Menlo,'DejaVu Sans Mono',consolas,'Courier New',monospace\">counter =  <span style=\"color: #008080; text-decoration-color: #008080; font-weight: bold\">540000</span>\n",
       "</pre>\n"
      ],
      "text/plain": [
       "counter =  \u001b[1;36m540000\u001b[0m\n"
      ]
     },
     "metadata": {},
     "output_type": "display_data"
    },
    {
     "data": {
      "text/html": [
       "<pre style=\"white-space:pre;overflow-x:auto;line-height:normal;font-family:Menlo,'DejaVu Sans Mono',consolas,'Courier New',monospace\">counter =  <span style=\"color: #008080; text-decoration-color: #008080; font-weight: bold\">550000</span>\n",
       "</pre>\n"
      ],
      "text/plain": [
       "counter =  \u001b[1;36m550000\u001b[0m\n"
      ]
     },
     "metadata": {},
     "output_type": "display_data"
    },
    {
     "data": {
      "text/html": [
       "<pre style=\"white-space:pre;overflow-x:auto;line-height:normal;font-family:Menlo,'DejaVu Sans Mono',consolas,'Courier New',monospace\">counter =  <span style=\"color: #008080; text-decoration-color: #008080; font-weight: bold\">560000</span>\n",
       "</pre>\n"
      ],
      "text/plain": [
       "counter =  \u001b[1;36m560000\u001b[0m\n"
      ]
     },
     "metadata": {},
     "output_type": "display_data"
    },
    {
     "data": {
      "text/html": [
       "<pre style=\"white-space:pre;overflow-x:auto;line-height:normal;font-family:Menlo,'DejaVu Sans Mono',consolas,'Courier New',monospace\">counter =  <span style=\"color: #008080; text-decoration-color: #008080; font-weight: bold\">570000</span>\n",
       "</pre>\n"
      ],
      "text/plain": [
       "counter =  \u001b[1;36m570000\u001b[0m\n"
      ]
     },
     "metadata": {},
     "output_type": "display_data"
    },
    {
     "data": {
      "text/html": [
       "<pre style=\"white-space:pre;overflow-x:auto;line-height:normal;font-family:Menlo,'DejaVu Sans Mono',consolas,'Courier New',monospace\">counter =  <span style=\"color: #008080; text-decoration-color: #008080; font-weight: bold\">580000</span>\n",
       "</pre>\n"
      ],
      "text/plain": [
       "counter =  \u001b[1;36m580000\u001b[0m\n"
      ]
     },
     "metadata": {},
     "output_type": "display_data"
    },
    {
     "data": {
      "text/html": [
       "<pre style=\"white-space:pre;overflow-x:auto;line-height:normal;font-family:Menlo,'DejaVu Sans Mono',consolas,'Courier New',monospace\">counter =  <span style=\"color: #008080; text-decoration-color: #008080; font-weight: bold\">590000</span>\n",
       "</pre>\n"
      ],
      "text/plain": [
       "counter =  \u001b[1;36m590000\u001b[0m\n"
      ]
     },
     "metadata": {},
     "output_type": "display_data"
    },
    {
     "data": {
      "text/html": [
       "<pre style=\"white-space:pre;overflow-x:auto;line-height:normal;font-family:Menlo,'DejaVu Sans Mono',consolas,'Courier New',monospace\">counter =  <span style=\"color: #008080; text-decoration-color: #008080; font-weight: bold\">600000</span>\n",
       "</pre>\n"
      ],
      "text/plain": [
       "counter =  \u001b[1;36m600000\u001b[0m\n"
      ]
     },
     "metadata": {},
     "output_type": "display_data"
    },
    {
     "data": {
      "text/html": [
       "<pre style=\"white-space:pre;overflow-x:auto;line-height:normal;font-family:Menlo,'DejaVu Sans Mono',consolas,'Courier New',monospace\">counter =  <span style=\"color: #008080; text-decoration-color: #008080; font-weight: bold\">610000</span>\n",
       "</pre>\n"
      ],
      "text/plain": [
       "counter =  \u001b[1;36m610000\u001b[0m\n"
      ]
     },
     "metadata": {},
     "output_type": "display_data"
    },
    {
     "data": {
      "text/html": [
       "<pre style=\"white-space:pre;overflow-x:auto;line-height:normal;font-family:Menlo,'DejaVu Sans Mono',consolas,'Courier New',monospace\">counter =  <span style=\"color: #008080; text-decoration-color: #008080; font-weight: bold\">620000</span>\n",
       "</pre>\n"
      ],
      "text/plain": [
       "counter =  \u001b[1;36m620000\u001b[0m\n"
      ]
     },
     "metadata": {},
     "output_type": "display_data"
    },
    {
     "data": {
      "text/html": [
       "<pre style=\"white-space:pre;overflow-x:auto;line-height:normal;font-family:Menlo,'DejaVu Sans Mono',consolas,'Courier New',monospace\">counter =  <span style=\"color: #008080; text-decoration-color: #008080; font-weight: bold\">630000</span>\n",
       "</pre>\n"
      ],
      "text/plain": [
       "counter =  \u001b[1;36m630000\u001b[0m\n"
      ]
     },
     "metadata": {},
     "output_type": "display_data"
    },
    {
     "data": {
      "text/html": [
       "<pre style=\"white-space:pre;overflow-x:auto;line-height:normal;font-family:Menlo,'DejaVu Sans Mono',consolas,'Courier New',monospace\">counter =  <span style=\"color: #008080; text-decoration-color: #008080; font-weight: bold\">640000</span>\n",
       "</pre>\n"
      ],
      "text/plain": [
       "counter =  \u001b[1;36m640000\u001b[0m\n"
      ]
     },
     "metadata": {},
     "output_type": "display_data"
    },
    {
     "data": {
      "text/html": [
       "<pre style=\"white-space:pre;overflow-x:auto;line-height:normal;font-family:Menlo,'DejaVu Sans Mono',consolas,'Courier New',monospace\">counter =  <span style=\"color: #008080; text-decoration-color: #008080; font-weight: bold\">650000</span>\n",
       "</pre>\n"
      ],
      "text/plain": [
       "counter =  \u001b[1;36m650000\u001b[0m\n"
      ]
     },
     "metadata": {},
     "output_type": "display_data"
    },
    {
     "data": {
      "text/html": [
       "<pre style=\"white-space:pre;overflow-x:auto;line-height:normal;font-family:Menlo,'DejaVu Sans Mono',consolas,'Courier New',monospace\">counter =  <span style=\"color: #008080; text-decoration-color: #008080; font-weight: bold\">660000</span>\n",
       "</pre>\n"
      ],
      "text/plain": [
       "counter =  \u001b[1;36m660000\u001b[0m\n"
      ]
     },
     "metadata": {},
     "output_type": "display_data"
    },
    {
     "data": {
      "text/html": [
       "<pre style=\"white-space:pre;overflow-x:auto;line-height:normal;font-family:Menlo,'DejaVu Sans Mono',consolas,'Courier New',monospace\">counter =  <span style=\"color: #008080; text-decoration-color: #008080; font-weight: bold\">670000</span>\n",
       "</pre>\n"
      ],
      "text/plain": [
       "counter =  \u001b[1;36m670000\u001b[0m\n"
      ]
     },
     "metadata": {},
     "output_type": "display_data"
    },
    {
     "data": {
      "text/html": [
       "<pre style=\"white-space:pre;overflow-x:auto;line-height:normal;font-family:Menlo,'DejaVu Sans Mono',consolas,'Courier New',monospace\">counter =  <span style=\"color: #008080; text-decoration-color: #008080; font-weight: bold\">680000</span>\n",
       "</pre>\n"
      ],
      "text/plain": [
       "counter =  \u001b[1;36m680000\u001b[0m\n"
      ]
     },
     "metadata": {},
     "output_type": "display_data"
    },
    {
     "data": {
      "text/html": [
       "<pre style=\"white-space:pre;overflow-x:auto;line-height:normal;font-family:Menlo,'DejaVu Sans Mono',consolas,'Courier New',monospace\">counter =  <span style=\"color: #008080; text-decoration-color: #008080; font-weight: bold\">690000</span>\n",
       "</pre>\n"
      ],
      "text/plain": [
       "counter =  \u001b[1;36m690000\u001b[0m\n"
      ]
     },
     "metadata": {},
     "output_type": "display_data"
    },
    {
     "data": {
      "text/html": [
       "<pre style=\"white-space:pre;overflow-x:auto;line-height:normal;font-family:Menlo,'DejaVu Sans Mono',consolas,'Courier New',monospace\">counter =  <span style=\"color: #008080; text-decoration-color: #008080; font-weight: bold\">700000</span>\n",
       "</pre>\n"
      ],
      "text/plain": [
       "counter =  \u001b[1;36m700000\u001b[0m\n"
      ]
     },
     "metadata": {},
     "output_type": "display_data"
    },
    {
     "data": {
      "text/html": [
       "<pre style=\"white-space:pre;overflow-x:auto;line-height:normal;font-family:Menlo,'DejaVu Sans Mono',consolas,'Courier New',monospace\">counter =  <span style=\"color: #008080; text-decoration-color: #008080; font-weight: bold\">710000</span>\n",
       "</pre>\n"
      ],
      "text/plain": [
       "counter =  \u001b[1;36m710000\u001b[0m\n"
      ]
     },
     "metadata": {},
     "output_type": "display_data"
    },
    {
     "data": {
      "text/html": [
       "<pre style=\"white-space:pre;overflow-x:auto;line-height:normal;font-family:Menlo,'DejaVu Sans Mono',consolas,'Courier New',monospace\">counter =  <span style=\"color: #008080; text-decoration-color: #008080; font-weight: bold\">720000</span>\n",
       "</pre>\n"
      ],
      "text/plain": [
       "counter =  \u001b[1;36m720000\u001b[0m\n"
      ]
     },
     "metadata": {},
     "output_type": "display_data"
    },
    {
     "data": {
      "text/html": [
       "<pre style=\"white-space:pre;overflow-x:auto;line-height:normal;font-family:Menlo,'DejaVu Sans Mono',consolas,'Courier New',monospace\">counter =  <span style=\"color: #008080; text-decoration-color: #008080; font-weight: bold\">730000</span>\n",
       "</pre>\n"
      ],
      "text/plain": [
       "counter =  \u001b[1;36m730000\u001b[0m\n"
      ]
     },
     "metadata": {},
     "output_type": "display_data"
    },
    {
     "data": {
      "text/html": [
       "<pre style=\"white-space:pre;overflow-x:auto;line-height:normal;font-family:Menlo,'DejaVu Sans Mono',consolas,'Courier New',monospace\">counter =  <span style=\"color: #008080; text-decoration-color: #008080; font-weight: bold\">740000</span>\n",
       "</pre>\n"
      ],
      "text/plain": [
       "counter =  \u001b[1;36m740000\u001b[0m\n"
      ]
     },
     "metadata": {},
     "output_type": "display_data"
    },
    {
     "data": {
      "text/html": [
       "<pre style=\"white-space:pre;overflow-x:auto;line-height:normal;font-family:Menlo,'DejaVu Sans Mono',consolas,'Courier New',monospace\">counter =  <span style=\"color: #008080; text-decoration-color: #008080; font-weight: bold\">750000</span>\n",
       "</pre>\n"
      ],
      "text/plain": [
       "counter =  \u001b[1;36m750000\u001b[0m\n"
      ]
     },
     "metadata": {},
     "output_type": "display_data"
    },
    {
     "data": {
      "text/html": [
       "<pre style=\"white-space:pre;overflow-x:auto;line-height:normal;font-family:Menlo,'DejaVu Sans Mono',consolas,'Courier New',monospace\">counter =  <span style=\"color: #008080; text-decoration-color: #008080; font-weight: bold\">760000</span>\n",
       "</pre>\n"
      ],
      "text/plain": [
       "counter =  \u001b[1;36m760000\u001b[0m\n"
      ]
     },
     "metadata": {},
     "output_type": "display_data"
    },
    {
     "data": {
      "text/html": [
       "<pre style=\"white-space:pre;overflow-x:auto;line-height:normal;font-family:Menlo,'DejaVu Sans Mono',consolas,'Courier New',monospace\">counter =  <span style=\"color: #008080; text-decoration-color: #008080; font-weight: bold\">770000</span>\n",
       "</pre>\n"
      ],
      "text/plain": [
       "counter =  \u001b[1;36m770000\u001b[0m\n"
      ]
     },
     "metadata": {},
     "output_type": "display_data"
    },
    {
     "data": {
      "text/html": [
       "<pre style=\"white-space:pre;overflow-x:auto;line-height:normal;font-family:Menlo,'DejaVu Sans Mono',consolas,'Courier New',monospace\">counter =  <span style=\"color: #008080; text-decoration-color: #008080; font-weight: bold\">780000</span>\n",
       "</pre>\n"
      ],
      "text/plain": [
       "counter =  \u001b[1;36m780000\u001b[0m\n"
      ]
     },
     "metadata": {},
     "output_type": "display_data"
    },
    {
     "data": {
      "text/html": [
       "<pre style=\"white-space:pre;overflow-x:auto;line-height:normal;font-family:Menlo,'DejaVu Sans Mono',consolas,'Courier New',monospace\">counter =  <span style=\"color: #008080; text-decoration-color: #008080; font-weight: bold\">790000</span>\n",
       "</pre>\n"
      ],
      "text/plain": [
       "counter =  \u001b[1;36m790000\u001b[0m\n"
      ]
     },
     "metadata": {},
     "output_type": "display_data"
    },
    {
     "data": {
      "text/html": [
       "<pre style=\"white-space:pre;overflow-x:auto;line-height:normal;font-family:Menlo,'DejaVu Sans Mono',consolas,'Courier New',monospace\">counter =  <span style=\"color: #008080; text-decoration-color: #008080; font-weight: bold\">800000</span>\n",
       "</pre>\n"
      ],
      "text/plain": [
       "counter =  \u001b[1;36m800000\u001b[0m\n"
      ]
     },
     "metadata": {},
     "output_type": "display_data"
    },
    {
     "data": {
      "text/html": [
       "<pre style=\"white-space:pre;overflow-x:auto;line-height:normal;font-family:Menlo,'DejaVu Sans Mono',consolas,'Courier New',monospace\">counter =  <span style=\"color: #008080; text-decoration-color: #008080; font-weight: bold\">810000</span>\n",
       "</pre>\n"
      ],
      "text/plain": [
       "counter =  \u001b[1;36m810000\u001b[0m\n"
      ]
     },
     "metadata": {},
     "output_type": "display_data"
    },
    {
     "data": {
      "text/html": [
       "<pre style=\"white-space:pre;overflow-x:auto;line-height:normal;font-family:Menlo,'DejaVu Sans Mono',consolas,'Courier New',monospace\">counter =  <span style=\"color: #008080; text-decoration-color: #008080; font-weight: bold\">820000</span>\n",
       "</pre>\n"
      ],
      "text/plain": [
       "counter =  \u001b[1;36m820000\u001b[0m\n"
      ]
     },
     "metadata": {},
     "output_type": "display_data"
    },
    {
     "data": {
      "text/html": [
       "<pre style=\"white-space:pre;overflow-x:auto;line-height:normal;font-family:Menlo,'DejaVu Sans Mono',consolas,'Courier New',monospace\">counter =  <span style=\"color: #008080; text-decoration-color: #008080; font-weight: bold\">830000</span>\n",
       "</pre>\n"
      ],
      "text/plain": [
       "counter =  \u001b[1;36m830000\u001b[0m\n"
      ]
     },
     "metadata": {},
     "output_type": "display_data"
    },
    {
     "data": {
      "text/html": [
       "<pre style=\"white-space:pre;overflow-x:auto;line-height:normal;font-family:Menlo,'DejaVu Sans Mono',consolas,'Courier New',monospace\">counter =  <span style=\"color: #008080; text-decoration-color: #008080; font-weight: bold\">840000</span>\n",
       "</pre>\n"
      ],
      "text/plain": [
       "counter =  \u001b[1;36m840000\u001b[0m\n"
      ]
     },
     "metadata": {},
     "output_type": "display_data"
    },
    {
     "data": {
      "text/html": [
       "<pre style=\"white-space:pre;overflow-x:auto;line-height:normal;font-family:Menlo,'DejaVu Sans Mono',consolas,'Courier New',monospace\">counter =  <span style=\"color: #008080; text-decoration-color: #008080; font-weight: bold\">850000</span>\n",
       "</pre>\n"
      ],
      "text/plain": [
       "counter =  \u001b[1;36m850000\u001b[0m\n"
      ]
     },
     "metadata": {},
     "output_type": "display_data"
    },
    {
     "data": {
      "text/html": [
       "<pre style=\"white-space:pre;overflow-x:auto;line-height:normal;font-family:Menlo,'DejaVu Sans Mono',consolas,'Courier New',monospace\">counter =  <span style=\"color: #008080; text-decoration-color: #008080; font-weight: bold\">860000</span>\n",
       "</pre>\n"
      ],
      "text/plain": [
       "counter =  \u001b[1;36m860000\u001b[0m\n"
      ]
     },
     "metadata": {},
     "output_type": "display_data"
    },
    {
     "data": {
      "text/html": [
       "<pre style=\"white-space:pre;overflow-x:auto;line-height:normal;font-family:Menlo,'DejaVu Sans Mono',consolas,'Courier New',monospace\">counter =  <span style=\"color: #008080; text-decoration-color: #008080; font-weight: bold\">870000</span>\n",
       "</pre>\n"
      ],
      "text/plain": [
       "counter =  \u001b[1;36m870000\u001b[0m\n"
      ]
     },
     "metadata": {},
     "output_type": "display_data"
    },
    {
     "data": {
      "text/html": [
       "<pre style=\"white-space:pre;overflow-x:auto;line-height:normal;font-family:Menlo,'DejaVu Sans Mono',consolas,'Courier New',monospace\">counter =  <span style=\"color: #008080; text-decoration-color: #008080; font-weight: bold\">880000</span>\n",
       "</pre>\n"
      ],
      "text/plain": [
       "counter =  \u001b[1;36m880000\u001b[0m\n"
      ]
     },
     "metadata": {},
     "output_type": "display_data"
    },
    {
     "data": {
      "text/html": [
       "<pre style=\"white-space:pre;overflow-x:auto;line-height:normal;font-family:Menlo,'DejaVu Sans Mono',consolas,'Courier New',monospace\">counter =  <span style=\"color: #008080; text-decoration-color: #008080; font-weight: bold\">890000</span>\n",
       "</pre>\n"
      ],
      "text/plain": [
       "counter =  \u001b[1;36m890000\u001b[0m\n"
      ]
     },
     "metadata": {},
     "output_type": "display_data"
    },
    {
     "data": {
      "text/html": [
       "<pre style=\"white-space:pre;overflow-x:auto;line-height:normal;font-family:Menlo,'DejaVu Sans Mono',consolas,'Courier New',monospace\">counter =  <span style=\"color: #008080; text-decoration-color: #008080; font-weight: bold\">900000</span>\n",
       "</pre>\n"
      ],
      "text/plain": [
       "counter =  \u001b[1;36m900000\u001b[0m\n"
      ]
     },
     "metadata": {},
     "output_type": "display_data"
    },
    {
     "data": {
      "text/html": [
       "<pre style=\"white-space:pre;overflow-x:auto;line-height:normal;font-family:Menlo,'DejaVu Sans Mono',consolas,'Courier New',monospace\">counter =  <span style=\"color: #008080; text-decoration-color: #008080; font-weight: bold\">910000</span>\n",
       "</pre>\n"
      ],
      "text/plain": [
       "counter =  \u001b[1;36m910000\u001b[0m\n"
      ]
     },
     "metadata": {},
     "output_type": "display_data"
    },
    {
     "data": {
      "text/html": [
       "<pre style=\"white-space:pre;overflow-x:auto;line-height:normal;font-family:Menlo,'DejaVu Sans Mono',consolas,'Courier New',monospace\">counter =  <span style=\"color: #008080; text-decoration-color: #008080; font-weight: bold\">920000</span>\n",
       "</pre>\n"
      ],
      "text/plain": [
       "counter =  \u001b[1;36m920000\u001b[0m\n"
      ]
     },
     "metadata": {},
     "output_type": "display_data"
    },
    {
     "data": {
      "text/html": [
       "<pre style=\"white-space:pre;overflow-x:auto;line-height:normal;font-family:Menlo,'DejaVu Sans Mono',consolas,'Courier New',monospace\">counter =  <span style=\"color: #008080; text-decoration-color: #008080; font-weight: bold\">930000</span>\n",
       "</pre>\n"
      ],
      "text/plain": [
       "counter =  \u001b[1;36m930000\u001b[0m\n"
      ]
     },
     "metadata": {},
     "output_type": "display_data"
    },
    {
     "data": {
      "text/html": [
       "<pre style=\"white-space:pre;overflow-x:auto;line-height:normal;font-family:Menlo,'DejaVu Sans Mono',consolas,'Courier New',monospace\">counter =  <span style=\"color: #008080; text-decoration-color: #008080; font-weight: bold\">940000</span>\n",
       "</pre>\n"
      ],
      "text/plain": [
       "counter =  \u001b[1;36m940000\u001b[0m\n"
      ]
     },
     "metadata": {},
     "output_type": "display_data"
    },
    {
     "data": {
      "text/html": [
       "<pre style=\"white-space:pre;overflow-x:auto;line-height:normal;font-family:Menlo,'DejaVu Sans Mono',consolas,'Courier New',monospace\">counter =  <span style=\"color: #008080; text-decoration-color: #008080; font-weight: bold\">950000</span>\n",
       "</pre>\n"
      ],
      "text/plain": [
       "counter =  \u001b[1;36m950000\u001b[0m\n"
      ]
     },
     "metadata": {},
     "output_type": "display_data"
    },
    {
     "data": {
      "text/html": [
       "<pre style=\"white-space:pre;overflow-x:auto;line-height:normal;font-family:Menlo,'DejaVu Sans Mono',consolas,'Courier New',monospace\">counter =  <span style=\"color: #008080; text-decoration-color: #008080; font-weight: bold\">960000</span>\n",
       "</pre>\n"
      ],
      "text/plain": [
       "counter =  \u001b[1;36m960000\u001b[0m\n"
      ]
     },
     "metadata": {},
     "output_type": "display_data"
    },
    {
     "data": {
      "text/html": [
       "<pre style=\"white-space:pre;overflow-x:auto;line-height:normal;font-family:Menlo,'DejaVu Sans Mono',consolas,'Courier New',monospace\">counter =  <span style=\"color: #008080; text-decoration-color: #008080; font-weight: bold\">970000</span>\n",
       "</pre>\n"
      ],
      "text/plain": [
       "counter =  \u001b[1;36m970000\u001b[0m\n"
      ]
     },
     "metadata": {},
     "output_type": "display_data"
    },
    {
     "data": {
      "text/html": [
       "<pre style=\"white-space:pre;overflow-x:auto;line-height:normal;font-family:Menlo,'DejaVu Sans Mono',consolas,'Courier New',monospace\">counter =  <span style=\"color: #008080; text-decoration-color: #008080; font-weight: bold\">980000</span>\n",
       "</pre>\n"
      ],
      "text/plain": [
       "counter =  \u001b[1;36m980000\u001b[0m\n"
      ]
     },
     "metadata": {},
     "output_type": "display_data"
    },
    {
     "data": {
      "text/html": [
       "<pre style=\"white-space:pre;overflow-x:auto;line-height:normal;font-family:Menlo,'DejaVu Sans Mono',consolas,'Courier New',monospace\">counter =  <span style=\"color: #008080; text-decoration-color: #008080; font-weight: bold\">990000</span>\n",
       "</pre>\n"
      ],
      "text/plain": [
       "counter =  \u001b[1;36m990000\u001b[0m\n"
      ]
     },
     "metadata": {},
     "output_type": "display_data"
    },
    {
     "data": {
      "text/html": [
       "<pre style=\"white-space:pre;overflow-x:auto;line-height:normal;font-family:Menlo,'DejaVu Sans Mono',consolas,'Courier New',monospace\">counter =  <span style=\"color: #008080; text-decoration-color: #008080; font-weight: bold\">1000000</span>\n",
       "</pre>\n"
      ],
      "text/plain": [
       "counter =  \u001b[1;36m1000000\u001b[0m\n"
      ]
     },
     "metadata": {},
     "output_type": "display_data"
    },
    {
     "data": {
      "text/html": [
       "<pre style=\"white-space:pre;overflow-x:auto;line-height:normal;font-family:Menlo,'DejaVu Sans Mono',consolas,'Courier New',monospace\">counter =  <span style=\"color: #008080; text-decoration-color: #008080; font-weight: bold\">1010000</span>\n",
       "</pre>\n"
      ],
      "text/plain": [
       "counter =  \u001b[1;36m1010000\u001b[0m\n"
      ]
     },
     "metadata": {},
     "output_type": "display_data"
    },
    {
     "data": {
      "text/html": [
       "<pre style=\"white-space:pre;overflow-x:auto;line-height:normal;font-family:Menlo,'DejaVu Sans Mono',consolas,'Courier New',monospace\">counter =  <span style=\"color: #008080; text-decoration-color: #008080; font-weight: bold\">1020000</span>\n",
       "</pre>\n"
      ],
      "text/plain": [
       "counter =  \u001b[1;36m1020000\u001b[0m\n"
      ]
     },
     "metadata": {},
     "output_type": "display_data"
    },
    {
     "data": {
      "text/html": [
       "<pre style=\"white-space:pre;overflow-x:auto;line-height:normal;font-family:Menlo,'DejaVu Sans Mono',consolas,'Courier New',monospace\">counter =  <span style=\"color: #008080; text-decoration-color: #008080; font-weight: bold\">1030000</span>\n",
       "</pre>\n"
      ],
      "text/plain": [
       "counter =  \u001b[1;36m1030000\u001b[0m\n"
      ]
     },
     "metadata": {},
     "output_type": "display_data"
    },
    {
     "data": {
      "text/html": [
       "<pre style=\"white-space:pre;overflow-x:auto;line-height:normal;font-family:Menlo,'DejaVu Sans Mono',consolas,'Courier New',monospace\">counter =  <span style=\"color: #008080; text-decoration-color: #008080; font-weight: bold\">1040000</span>\n",
       "</pre>\n"
      ],
      "text/plain": [
       "counter =  \u001b[1;36m1040000\u001b[0m\n"
      ]
     },
     "metadata": {},
     "output_type": "display_data"
    },
    {
     "data": {
      "text/html": [
       "<pre style=\"white-space:pre;overflow-x:auto;line-height:normal;font-family:Menlo,'DejaVu Sans Mono',consolas,'Courier New',monospace\">counter =  <span style=\"color: #008080; text-decoration-color: #008080; font-weight: bold\">1050000</span>\n",
       "</pre>\n"
      ],
      "text/plain": [
       "counter =  \u001b[1;36m1050000\u001b[0m\n"
      ]
     },
     "metadata": {},
     "output_type": "display_data"
    },
    {
     "data": {
      "text/html": [
       "<pre style=\"white-space:pre;overflow-x:auto;line-height:normal;font-family:Menlo,'DejaVu Sans Mono',consolas,'Courier New',monospace\">counter =  <span style=\"color: #008080; text-decoration-color: #008080; font-weight: bold\">1060000</span>\n",
       "</pre>\n"
      ],
      "text/plain": [
       "counter =  \u001b[1;36m1060000\u001b[0m\n"
      ]
     },
     "metadata": {},
     "output_type": "display_data"
    },
    {
     "data": {
      "text/html": [
       "<pre style=\"white-space:pre;overflow-x:auto;line-height:normal;font-family:Menlo,'DejaVu Sans Mono',consolas,'Courier New',monospace\">counter =  <span style=\"color: #008080; text-decoration-color: #008080; font-weight: bold\">1070000</span>\n",
       "</pre>\n"
      ],
      "text/plain": [
       "counter =  \u001b[1;36m1070000\u001b[0m\n"
      ]
     },
     "metadata": {},
     "output_type": "display_data"
    },
    {
     "data": {
      "text/html": [
       "<pre style=\"white-space:pre;overflow-x:auto;line-height:normal;font-family:Menlo,'DejaVu Sans Mono',consolas,'Courier New',monospace\">counter =  <span style=\"color: #008080; text-decoration-color: #008080; font-weight: bold\">1080000</span>\n",
       "</pre>\n"
      ],
      "text/plain": [
       "counter =  \u001b[1;36m1080000\u001b[0m\n"
      ]
     },
     "metadata": {},
     "output_type": "display_data"
    },
    {
     "data": {
      "text/html": [
       "<pre style=\"white-space:pre;overflow-x:auto;line-height:normal;font-family:Menlo,'DejaVu Sans Mono',consolas,'Courier New',monospace\">counter =  <span style=\"color: #008080; text-decoration-color: #008080; font-weight: bold\">1090000</span>\n",
       "</pre>\n"
      ],
      "text/plain": [
       "counter =  \u001b[1;36m1090000\u001b[0m\n"
      ]
     },
     "metadata": {},
     "output_type": "display_data"
    },
    {
     "data": {
      "text/html": [
       "<pre style=\"white-space:pre;overflow-x:auto;line-height:normal;font-family:Menlo,'DejaVu Sans Mono',consolas,'Courier New',monospace\">counter =  <span style=\"color: #008080; text-decoration-color: #008080; font-weight: bold\">1100000</span>\n",
       "</pre>\n"
      ],
      "text/plain": [
       "counter =  \u001b[1;36m1100000\u001b[0m\n"
      ]
     },
     "metadata": {},
     "output_type": "display_data"
    },
    {
     "data": {
      "text/html": [
       "<pre style=\"white-space:pre;overflow-x:auto;line-height:normal;font-family:Menlo,'DejaVu Sans Mono',consolas,'Courier New',monospace\">counter =  <span style=\"color: #008080; text-decoration-color: #008080; font-weight: bold\">1110000</span>\n",
       "</pre>\n"
      ],
      "text/plain": [
       "counter =  \u001b[1;36m1110000\u001b[0m\n"
      ]
     },
     "metadata": {},
     "output_type": "display_data"
    },
    {
     "data": {
      "text/html": [
       "<pre style=\"white-space:pre;overflow-x:auto;line-height:normal;font-family:Menlo,'DejaVu Sans Mono',consolas,'Courier New',monospace\">counter =  <span style=\"color: #008080; text-decoration-color: #008080; font-weight: bold\">1120000</span>\n",
       "</pre>\n"
      ],
      "text/plain": [
       "counter =  \u001b[1;36m1120000\u001b[0m\n"
      ]
     },
     "metadata": {},
     "output_type": "display_data"
    },
    {
     "data": {
      "text/html": [
       "<pre style=\"white-space:pre;overflow-x:auto;line-height:normal;font-family:Menlo,'DejaVu Sans Mono',consolas,'Courier New',monospace\">counter =  <span style=\"color: #008080; text-decoration-color: #008080; font-weight: bold\">1130000</span>\n",
       "</pre>\n"
      ],
      "text/plain": [
       "counter =  \u001b[1;36m1130000\u001b[0m\n"
      ]
     },
     "metadata": {},
     "output_type": "display_data"
    },
    {
     "data": {
      "text/html": [
       "<pre style=\"white-space:pre;overflow-x:auto;line-height:normal;font-family:Menlo,'DejaVu Sans Mono',consolas,'Courier New',monospace\">counter =  <span style=\"color: #008080; text-decoration-color: #008080; font-weight: bold\">1140000</span>\n",
       "</pre>\n"
      ],
      "text/plain": [
       "counter =  \u001b[1;36m1140000\u001b[0m\n"
      ]
     },
     "metadata": {},
     "output_type": "display_data"
    },
    {
     "data": {
      "text/html": [
       "<pre style=\"white-space:pre;overflow-x:auto;line-height:normal;font-family:Menlo,'DejaVu Sans Mono',consolas,'Courier New',monospace\">counter =  <span style=\"color: #008080; text-decoration-color: #008080; font-weight: bold\">1150000</span>\n",
       "</pre>\n"
      ],
      "text/plain": [
       "counter =  \u001b[1;36m1150000\u001b[0m\n"
      ]
     },
     "metadata": {},
     "output_type": "display_data"
    },
    {
     "data": {
      "text/html": [
       "<pre style=\"white-space:pre;overflow-x:auto;line-height:normal;font-family:Menlo,'DejaVu Sans Mono',consolas,'Courier New',monospace\">counter =  <span style=\"color: #008080; text-decoration-color: #008080; font-weight: bold\">1160000</span>\n",
       "</pre>\n"
      ],
      "text/plain": [
       "counter =  \u001b[1;36m1160000\u001b[0m\n"
      ]
     },
     "metadata": {},
     "output_type": "display_data"
    },
    {
     "data": {
      "text/html": [
       "<pre style=\"white-space:pre;overflow-x:auto;line-height:normal;font-family:Menlo,'DejaVu Sans Mono',consolas,'Courier New',monospace\">counter =  <span style=\"color: #008080; text-decoration-color: #008080; font-weight: bold\">1170000</span>\n",
       "</pre>\n"
      ],
      "text/plain": [
       "counter =  \u001b[1;36m1170000\u001b[0m\n"
      ]
     },
     "metadata": {},
     "output_type": "display_data"
    },
    {
     "data": {
      "text/html": [
       "<pre style=\"white-space:pre;overflow-x:auto;line-height:normal;font-family:Menlo,'DejaVu Sans Mono',consolas,'Courier New',monospace\">counter =  <span style=\"color: #008080; text-decoration-color: #008080; font-weight: bold\">1180000</span>\n",
       "</pre>\n"
      ],
      "text/plain": [
       "counter =  \u001b[1;36m1180000\u001b[0m\n"
      ]
     },
     "metadata": {},
     "output_type": "display_data"
    },
    {
     "data": {
      "text/html": [
       "<pre style=\"white-space:pre;overflow-x:auto;line-height:normal;font-family:Menlo,'DejaVu Sans Mono',consolas,'Courier New',monospace\">counter =  <span style=\"color: #008080; text-decoration-color: #008080; font-weight: bold\">1190000</span>\n",
       "</pre>\n"
      ],
      "text/plain": [
       "counter =  \u001b[1;36m1190000\u001b[0m\n"
      ]
     },
     "metadata": {},
     "output_type": "display_data"
    },
    {
     "data": {
      "text/html": [
       "<pre style=\"white-space:pre;overflow-x:auto;line-height:normal;font-family:Menlo,'DejaVu Sans Mono',consolas,'Courier New',monospace\">counter =  <span style=\"color: #008080; text-decoration-color: #008080; font-weight: bold\">1200000</span>\n",
       "</pre>\n"
      ],
      "text/plain": [
       "counter =  \u001b[1;36m1200000\u001b[0m\n"
      ]
     },
     "metadata": {},
     "output_type": "display_data"
    },
    {
     "data": {
      "text/html": [
       "<pre style=\"white-space:pre;overflow-x:auto;line-height:normal;font-family:Menlo,'DejaVu Sans Mono',consolas,'Courier New',monospace\">counter =  <span style=\"color: #008080; text-decoration-color: #008080; font-weight: bold\">1210000</span>\n",
       "</pre>\n"
      ],
      "text/plain": [
       "counter =  \u001b[1;36m1210000\u001b[0m\n"
      ]
     },
     "metadata": {},
     "output_type": "display_data"
    },
    {
     "data": {
      "text/html": [
       "<pre style=\"white-space:pre;overflow-x:auto;line-height:normal;font-family:Menlo,'DejaVu Sans Mono',consolas,'Courier New',monospace\">counter =  <span style=\"color: #008080; text-decoration-color: #008080; font-weight: bold\">1220000</span>\n",
       "</pre>\n"
      ],
      "text/plain": [
       "counter =  \u001b[1;36m1220000\u001b[0m\n"
      ]
     },
     "metadata": {},
     "output_type": "display_data"
    },
    {
     "data": {
      "text/html": [
       "<pre style=\"white-space:pre;overflow-x:auto;line-height:normal;font-family:Menlo,'DejaVu Sans Mono',consolas,'Courier New',monospace\">counter =  <span style=\"color: #008080; text-decoration-color: #008080; font-weight: bold\">1230000</span>\n",
       "</pre>\n"
      ],
      "text/plain": [
       "counter =  \u001b[1;36m1230000\u001b[0m\n"
      ]
     },
     "metadata": {},
     "output_type": "display_data"
    },
    {
     "data": {
      "text/html": [
       "<pre style=\"white-space:pre;overflow-x:auto;line-height:normal;font-family:Menlo,'DejaVu Sans Mono',consolas,'Courier New',monospace\">counter =  <span style=\"color: #008080; text-decoration-color: #008080; font-weight: bold\">1240000</span>\n",
       "</pre>\n"
      ],
      "text/plain": [
       "counter =  \u001b[1;36m1240000\u001b[0m\n"
      ]
     },
     "metadata": {},
     "output_type": "display_data"
    },
    {
     "data": {
      "text/html": [
       "<pre style=\"white-space:pre;overflow-x:auto;line-height:normal;font-family:Menlo,'DejaVu Sans Mono',consolas,'Courier New',monospace\">counter =  <span style=\"color: #008080; text-decoration-color: #008080; font-weight: bold\">1250000</span>\n",
       "</pre>\n"
      ],
      "text/plain": [
       "counter =  \u001b[1;36m1250000\u001b[0m\n"
      ]
     },
     "metadata": {},
     "output_type": "display_data"
    },
    {
     "data": {
      "text/html": [
       "<pre style=\"white-space:pre;overflow-x:auto;line-height:normal;font-family:Menlo,'DejaVu Sans Mono',consolas,'Courier New',monospace\">counter =  <span style=\"color: #008080; text-decoration-color: #008080; font-weight: bold\">1260000</span>\n",
       "</pre>\n"
      ],
      "text/plain": [
       "counter =  \u001b[1;36m1260000\u001b[0m\n"
      ]
     },
     "metadata": {},
     "output_type": "display_data"
    },
    {
     "data": {
      "text/html": [
       "<pre style=\"white-space:pre;overflow-x:auto;line-height:normal;font-family:Menlo,'DejaVu Sans Mono',consolas,'Courier New',monospace\">counter =  <span style=\"color: #008080; text-decoration-color: #008080; font-weight: bold\">1270000</span>\n",
       "</pre>\n"
      ],
      "text/plain": [
       "counter =  \u001b[1;36m1270000\u001b[0m\n"
      ]
     },
     "metadata": {},
     "output_type": "display_data"
    },
    {
     "data": {
      "text/html": [
       "<pre style=\"white-space:pre;overflow-x:auto;line-height:normal;font-family:Menlo,'DejaVu Sans Mono',consolas,'Courier New',monospace\">counter =  <span style=\"color: #008080; text-decoration-color: #008080; font-weight: bold\">1280000</span>\n",
       "</pre>\n"
      ],
      "text/plain": [
       "counter =  \u001b[1;36m1280000\u001b[0m\n"
      ]
     },
     "metadata": {},
     "output_type": "display_data"
    },
    {
     "data": {
      "text/html": [
       "<pre style=\"white-space:pre;overflow-x:auto;line-height:normal;font-family:Menlo,'DejaVu Sans Mono',consolas,'Courier New',monospace\">counter =  <span style=\"color: #008080; text-decoration-color: #008080; font-weight: bold\">1290000</span>\n",
       "</pre>\n"
      ],
      "text/plain": [
       "counter =  \u001b[1;36m1290000\u001b[0m\n"
      ]
     },
     "metadata": {},
     "output_type": "display_data"
    },
    {
     "data": {
      "text/html": [
       "<pre style=\"white-space:pre;overflow-x:auto;line-height:normal;font-family:Menlo,'DejaVu Sans Mono',consolas,'Courier New',monospace\">counter =  <span style=\"color: #008080; text-decoration-color: #008080; font-weight: bold\">1300000</span>\n",
       "</pre>\n"
      ],
      "text/plain": [
       "counter =  \u001b[1;36m1300000\u001b[0m\n"
      ]
     },
     "metadata": {},
     "output_type": "display_data"
    },
    {
     "data": {
      "text/html": [
       "<pre style=\"white-space:pre;overflow-x:auto;line-height:normal;font-family:Menlo,'DejaVu Sans Mono',consolas,'Courier New',monospace\">counter =  <span style=\"color: #008080; text-decoration-color: #008080; font-weight: bold\">1310000</span>\n",
       "</pre>\n"
      ],
      "text/plain": [
       "counter =  \u001b[1;36m1310000\u001b[0m\n"
      ]
     },
     "metadata": {},
     "output_type": "display_data"
    },
    {
     "data": {
      "text/html": [
       "<pre style=\"white-space:pre;overflow-x:auto;line-height:normal;font-family:Menlo,'DejaVu Sans Mono',consolas,'Courier New',monospace\">counter =  <span style=\"color: #008080; text-decoration-color: #008080; font-weight: bold\">1320000</span>\n",
       "</pre>\n"
      ],
      "text/plain": [
       "counter =  \u001b[1;36m1320000\u001b[0m\n"
      ]
     },
     "metadata": {},
     "output_type": "display_data"
    },
    {
     "data": {
      "text/html": [
       "<pre style=\"white-space:pre;overflow-x:auto;line-height:normal;font-family:Menlo,'DejaVu Sans Mono',consolas,'Courier New',monospace\">counter =  <span style=\"color: #008080; text-decoration-color: #008080; font-weight: bold\">1330000</span>\n",
       "</pre>\n"
      ],
      "text/plain": [
       "counter =  \u001b[1;36m1330000\u001b[0m\n"
      ]
     },
     "metadata": {},
     "output_type": "display_data"
    },
    {
     "data": {
      "text/html": [
       "<pre style=\"white-space:pre;overflow-x:auto;line-height:normal;font-family:Menlo,'DejaVu Sans Mono',consolas,'Courier New',monospace\">counter =  <span style=\"color: #008080; text-decoration-color: #008080; font-weight: bold\">1340000</span>\n",
       "</pre>\n"
      ],
      "text/plain": [
       "counter =  \u001b[1;36m1340000\u001b[0m\n"
      ]
     },
     "metadata": {},
     "output_type": "display_data"
    },
    {
     "data": {
      "text/html": [
       "<pre style=\"white-space:pre;overflow-x:auto;line-height:normal;font-family:Menlo,'DejaVu Sans Mono',consolas,'Courier New',monospace\">counter =  <span style=\"color: #008080; text-decoration-color: #008080; font-weight: bold\">1350000</span>\n",
       "</pre>\n"
      ],
      "text/plain": [
       "counter =  \u001b[1;36m1350000\u001b[0m\n"
      ]
     },
     "metadata": {},
     "output_type": "display_data"
    },
    {
     "data": {
      "text/html": [
       "<pre style=\"white-space:pre;overflow-x:auto;line-height:normal;font-family:Menlo,'DejaVu Sans Mono',consolas,'Courier New',monospace\">counter =  <span style=\"color: #008080; text-decoration-color: #008080; font-weight: bold\">1360000</span>\n",
       "</pre>\n"
      ],
      "text/plain": [
       "counter =  \u001b[1;36m1360000\u001b[0m\n"
      ]
     },
     "metadata": {},
     "output_type": "display_data"
    },
    {
     "data": {
      "text/html": [
       "<pre style=\"white-space:pre;overflow-x:auto;line-height:normal;font-family:Menlo,'DejaVu Sans Mono',consolas,'Courier New',monospace\">counter =  <span style=\"color: #008080; text-decoration-color: #008080; font-weight: bold\">1370000</span>\n",
       "</pre>\n"
      ],
      "text/plain": [
       "counter =  \u001b[1;36m1370000\u001b[0m\n"
      ]
     },
     "metadata": {},
     "output_type": "display_data"
    },
    {
     "data": {
      "text/html": [
       "<pre style=\"white-space:pre;overflow-x:auto;line-height:normal;font-family:Menlo,'DejaVu Sans Mono',consolas,'Courier New',monospace\">counter =  <span style=\"color: #008080; text-decoration-color: #008080; font-weight: bold\">1380000</span>\n",
       "</pre>\n"
      ],
      "text/plain": [
       "counter =  \u001b[1;36m1380000\u001b[0m\n"
      ]
     },
     "metadata": {},
     "output_type": "display_data"
    },
    {
     "data": {
      "text/html": [
       "<pre style=\"white-space:pre;overflow-x:auto;line-height:normal;font-family:Menlo,'DejaVu Sans Mono',consolas,'Courier New',monospace\">counter =  <span style=\"color: #008080; text-decoration-color: #008080; font-weight: bold\">1390000</span>\n",
       "</pre>\n"
      ],
      "text/plain": [
       "counter =  \u001b[1;36m1390000\u001b[0m\n"
      ]
     },
     "metadata": {},
     "output_type": "display_data"
    },
    {
     "data": {
      "text/html": [
       "<pre style=\"white-space:pre;overflow-x:auto;line-height:normal;font-family:Menlo,'DejaVu Sans Mono',consolas,'Courier New',monospace\">counter =  <span style=\"color: #008080; text-decoration-color: #008080; font-weight: bold\">1400000</span>\n",
       "</pre>\n"
      ],
      "text/plain": [
       "counter =  \u001b[1;36m1400000\u001b[0m\n"
      ]
     },
     "metadata": {},
     "output_type": "display_data"
    },
    {
     "data": {
      "text/html": [
       "<pre style=\"white-space:pre;overflow-x:auto;line-height:normal;font-family:Menlo,'DejaVu Sans Mono',consolas,'Courier New',monospace\">counter =  <span style=\"color: #008080; text-decoration-color: #008080; font-weight: bold\">1410000</span>\n",
       "</pre>\n"
      ],
      "text/plain": [
       "counter =  \u001b[1;36m1410000\u001b[0m\n"
      ]
     },
     "metadata": {},
     "output_type": "display_data"
    },
    {
     "data": {
      "text/html": [
       "<pre style=\"white-space:pre;overflow-x:auto;line-height:normal;font-family:Menlo,'DejaVu Sans Mono',consolas,'Courier New',monospace\">counter =  <span style=\"color: #008080; text-decoration-color: #008080; font-weight: bold\">1420000</span>\n",
       "</pre>\n"
      ],
      "text/plain": [
       "counter =  \u001b[1;36m1420000\u001b[0m\n"
      ]
     },
     "metadata": {},
     "output_type": "display_data"
    },
    {
     "data": {
      "text/html": [
       "<pre style=\"white-space:pre;overflow-x:auto;line-height:normal;font-family:Menlo,'DejaVu Sans Mono',consolas,'Courier New',monospace\">counter =  <span style=\"color: #008080; text-decoration-color: #008080; font-weight: bold\">1430000</span>\n",
       "</pre>\n"
      ],
      "text/plain": [
       "counter =  \u001b[1;36m1430000\u001b[0m\n"
      ]
     },
     "metadata": {},
     "output_type": "display_data"
    },
    {
     "data": {
      "text/html": [
       "<pre style=\"white-space:pre;overflow-x:auto;line-height:normal;font-family:Menlo,'DejaVu Sans Mono',consolas,'Courier New',monospace\">counter =  <span style=\"color: #008080; text-decoration-color: #008080; font-weight: bold\">1440000</span>\n",
       "</pre>\n"
      ],
      "text/plain": [
       "counter =  \u001b[1;36m1440000\u001b[0m\n"
      ]
     },
     "metadata": {},
     "output_type": "display_data"
    },
    {
     "data": {
      "text/html": [
       "<pre style=\"white-space:pre;overflow-x:auto;line-height:normal;font-family:Menlo,'DejaVu Sans Mono',consolas,'Courier New',monospace\">counter =  <span style=\"color: #008080; text-decoration-color: #008080; font-weight: bold\">1450000</span>\n",
       "</pre>\n"
      ],
      "text/plain": [
       "counter =  \u001b[1;36m1450000\u001b[0m\n"
      ]
     },
     "metadata": {},
     "output_type": "display_data"
    },
    {
     "data": {
      "text/html": [
       "<pre style=\"white-space:pre;overflow-x:auto;line-height:normal;font-family:Menlo,'DejaVu Sans Mono',consolas,'Courier New',monospace\">counter =  <span style=\"color: #008080; text-decoration-color: #008080; font-weight: bold\">1460000</span>\n",
       "</pre>\n"
      ],
      "text/plain": [
       "counter =  \u001b[1;36m1460000\u001b[0m\n"
      ]
     },
     "metadata": {},
     "output_type": "display_data"
    },
    {
     "data": {
      "text/html": [
       "<pre style=\"white-space:pre;overflow-x:auto;line-height:normal;font-family:Menlo,'DejaVu Sans Mono',consolas,'Courier New',monospace\">counter =  <span style=\"color: #008080; text-decoration-color: #008080; font-weight: bold\">1470000</span>\n",
       "</pre>\n"
      ],
      "text/plain": [
       "counter =  \u001b[1;36m1470000\u001b[0m\n"
      ]
     },
     "metadata": {},
     "output_type": "display_data"
    },
    {
     "data": {
      "text/html": [
       "<pre style=\"white-space:pre;overflow-x:auto;line-height:normal;font-family:Menlo,'DejaVu Sans Mono',consolas,'Courier New',monospace\">counter =  <span style=\"color: #008080; text-decoration-color: #008080; font-weight: bold\">1480000</span>\n",
       "</pre>\n"
      ],
      "text/plain": [
       "counter =  \u001b[1;36m1480000\u001b[0m\n"
      ]
     },
     "metadata": {},
     "output_type": "display_data"
    },
    {
     "data": {
      "text/html": [
       "<pre style=\"white-space:pre;overflow-x:auto;line-height:normal;font-family:Menlo,'DejaVu Sans Mono',consolas,'Courier New',monospace\">counter =  <span style=\"color: #008080; text-decoration-color: #008080; font-weight: bold\">1490000</span>\n",
       "</pre>\n"
      ],
      "text/plain": [
       "counter =  \u001b[1;36m1490000\u001b[0m\n"
      ]
     },
     "metadata": {},
     "output_type": "display_data"
    },
    {
     "data": {
      "text/html": [
       "<pre style=\"white-space:pre;overflow-x:auto;line-height:normal;font-family:Menlo,'DejaVu Sans Mono',consolas,'Courier New',monospace\">counter =  <span style=\"color: #008080; text-decoration-color: #008080; font-weight: bold\">1500000</span>\n",
       "</pre>\n"
      ],
      "text/plain": [
       "counter =  \u001b[1;36m1500000\u001b[0m\n"
      ]
     },
     "metadata": {},
     "output_type": "display_data"
    },
    {
     "data": {
      "text/html": [
       "<pre style=\"white-space:pre;overflow-x:auto;line-height:normal;font-family:Menlo,'DejaVu Sans Mono',consolas,'Courier New',monospace\">counter =  <span style=\"color: #008080; text-decoration-color: #008080; font-weight: bold\">1510000</span>\n",
       "</pre>\n"
      ],
      "text/plain": [
       "counter =  \u001b[1;36m1510000\u001b[0m\n"
      ]
     },
     "metadata": {},
     "output_type": "display_data"
    },
    {
     "data": {
      "text/html": [
       "<pre style=\"white-space:pre;overflow-x:auto;line-height:normal;font-family:Menlo,'DejaVu Sans Mono',consolas,'Courier New',monospace\">counter =  <span style=\"color: #008080; text-decoration-color: #008080; font-weight: bold\">1520000</span>\n",
       "</pre>\n"
      ],
      "text/plain": [
       "counter =  \u001b[1;36m1520000\u001b[0m\n"
      ]
     },
     "metadata": {},
     "output_type": "display_data"
    },
    {
     "data": {
      "text/html": [
       "<pre style=\"white-space:pre;overflow-x:auto;line-height:normal;font-family:Menlo,'DejaVu Sans Mono',consolas,'Courier New',monospace\">counter =  <span style=\"color: #008080; text-decoration-color: #008080; font-weight: bold\">1530000</span>\n",
       "</pre>\n"
      ],
      "text/plain": [
       "counter =  \u001b[1;36m1530000\u001b[0m\n"
      ]
     },
     "metadata": {},
     "output_type": "display_data"
    },
    {
     "data": {
      "text/html": [
       "<pre style=\"white-space:pre;overflow-x:auto;line-height:normal;font-family:Menlo,'DejaVu Sans Mono',consolas,'Courier New',monospace\">counter =  <span style=\"color: #008080; text-decoration-color: #008080; font-weight: bold\">1540000</span>\n",
       "</pre>\n"
      ],
      "text/plain": [
       "counter =  \u001b[1;36m1540000\u001b[0m\n"
      ]
     },
     "metadata": {},
     "output_type": "display_data"
    },
    {
     "data": {
      "text/html": [
       "<pre style=\"white-space:pre;overflow-x:auto;line-height:normal;font-family:Menlo,'DejaVu Sans Mono',consolas,'Courier New',monospace\">counter =  <span style=\"color: #008080; text-decoration-color: #008080; font-weight: bold\">1550000</span>\n",
       "</pre>\n"
      ],
      "text/plain": [
       "counter =  \u001b[1;36m1550000\u001b[0m\n"
      ]
     },
     "metadata": {},
     "output_type": "display_data"
    },
    {
     "data": {
      "text/html": [
       "<pre style=\"white-space:pre;overflow-x:auto;line-height:normal;font-family:Menlo,'DejaVu Sans Mono',consolas,'Courier New',monospace\">counter =  <span style=\"color: #008080; text-decoration-color: #008080; font-weight: bold\">1560000</span>\n",
       "</pre>\n"
      ],
      "text/plain": [
       "counter =  \u001b[1;36m1560000\u001b[0m\n"
      ]
     },
     "metadata": {},
     "output_type": "display_data"
    },
    {
     "data": {
      "text/html": [
       "<pre style=\"white-space:pre;overflow-x:auto;line-height:normal;font-family:Menlo,'DejaVu Sans Mono',consolas,'Courier New',monospace\">counter =  <span style=\"color: #008080; text-decoration-color: #008080; font-weight: bold\">1570000</span>\n",
       "</pre>\n"
      ],
      "text/plain": [
       "counter =  \u001b[1;36m1570000\u001b[0m\n"
      ]
     },
     "metadata": {},
     "output_type": "display_data"
    },
    {
     "data": {
      "text/html": [
       "<pre style=\"white-space:pre;overflow-x:auto;line-height:normal;font-family:Menlo,'DejaVu Sans Mono',consolas,'Courier New',monospace\">counter =  <span style=\"color: #008080; text-decoration-color: #008080; font-weight: bold\">1580000</span>\n",
       "</pre>\n"
      ],
      "text/plain": [
       "counter =  \u001b[1;36m1580000\u001b[0m\n"
      ]
     },
     "metadata": {},
     "output_type": "display_data"
    },
    {
     "data": {
      "text/html": [
       "<pre style=\"white-space:pre;overflow-x:auto;line-height:normal;font-family:Menlo,'DejaVu Sans Mono',consolas,'Courier New',monospace\">counter =  <span style=\"color: #008080; text-decoration-color: #008080; font-weight: bold\">1590000</span>\n",
       "</pre>\n"
      ],
      "text/plain": [
       "counter =  \u001b[1;36m1590000\u001b[0m\n"
      ]
     },
     "metadata": {},
     "output_type": "display_data"
    },
    {
     "data": {
      "text/html": [
       "<pre style=\"white-space:pre;overflow-x:auto;line-height:normal;font-family:Menlo,'DejaVu Sans Mono',consolas,'Courier New',monospace\">counter =  <span style=\"color: #008080; text-decoration-color: #008080; font-weight: bold\">1600000</span>\n",
       "</pre>\n"
      ],
      "text/plain": [
       "counter =  \u001b[1;36m1600000\u001b[0m\n"
      ]
     },
     "metadata": {},
     "output_type": "display_data"
    },
    {
     "data": {
      "text/html": [
       "<pre style=\"white-space:pre;overflow-x:auto;line-height:normal;font-family:Menlo,'DejaVu Sans Mono',consolas,'Courier New',monospace\">counter =  <span style=\"color: #008080; text-decoration-color: #008080; font-weight: bold\">1610000</span>\n",
       "</pre>\n"
      ],
      "text/plain": [
       "counter =  \u001b[1;36m1610000\u001b[0m\n"
      ]
     },
     "metadata": {},
     "output_type": "display_data"
    },
    {
     "data": {
      "text/html": [
       "<pre style=\"white-space:pre;overflow-x:auto;line-height:normal;font-family:Menlo,'DejaVu Sans Mono',consolas,'Courier New',monospace\">counter =  <span style=\"color: #008080; text-decoration-color: #008080; font-weight: bold\">1620000</span>\n",
       "</pre>\n"
      ],
      "text/plain": [
       "counter =  \u001b[1;36m1620000\u001b[0m\n"
      ]
     },
     "metadata": {},
     "output_type": "display_data"
    },
    {
     "data": {
      "text/html": [
       "<pre style=\"white-space:pre;overflow-x:auto;line-height:normal;font-family:Menlo,'DejaVu Sans Mono',consolas,'Courier New',monospace\">counter =  <span style=\"color: #008080; text-decoration-color: #008080; font-weight: bold\">1630000</span>\n",
       "</pre>\n"
      ],
      "text/plain": [
       "counter =  \u001b[1;36m1630000\u001b[0m\n"
      ]
     },
     "metadata": {},
     "output_type": "display_data"
    },
    {
     "data": {
      "text/html": [
       "<pre style=\"white-space:pre;overflow-x:auto;line-height:normal;font-family:Menlo,'DejaVu Sans Mono',consolas,'Courier New',monospace\">counter =  <span style=\"color: #008080; text-decoration-color: #008080; font-weight: bold\">1640000</span>\n",
       "</pre>\n"
      ],
      "text/plain": [
       "counter =  \u001b[1;36m1640000\u001b[0m\n"
      ]
     },
     "metadata": {},
     "output_type": "display_data"
    },
    {
     "data": {
      "text/html": [
       "<pre style=\"white-space:pre;overflow-x:auto;line-height:normal;font-family:Menlo,'DejaVu Sans Mono',consolas,'Courier New',monospace\">counter =  <span style=\"color: #008080; text-decoration-color: #008080; font-weight: bold\">1650000</span>\n",
       "</pre>\n"
      ],
      "text/plain": [
       "counter =  \u001b[1;36m1650000\u001b[0m\n"
      ]
     },
     "metadata": {},
     "output_type": "display_data"
    },
    {
     "data": {
      "text/html": [
       "<pre style=\"white-space:pre;overflow-x:auto;line-height:normal;font-family:Menlo,'DejaVu Sans Mono',consolas,'Courier New',monospace\">counter =  <span style=\"color: #008080; text-decoration-color: #008080; font-weight: bold\">1660000</span>\n",
       "</pre>\n"
      ],
      "text/plain": [
       "counter =  \u001b[1;36m1660000\u001b[0m\n"
      ]
     },
     "metadata": {},
     "output_type": "display_data"
    },
    {
     "data": {
      "text/html": [
       "<pre style=\"white-space:pre;overflow-x:auto;line-height:normal;font-family:Menlo,'DejaVu Sans Mono',consolas,'Courier New',monospace\">counter =  <span style=\"color: #008080; text-decoration-color: #008080; font-weight: bold\">1670000</span>\n",
       "</pre>\n"
      ],
      "text/plain": [
       "counter =  \u001b[1;36m1670000\u001b[0m\n"
      ]
     },
     "metadata": {},
     "output_type": "display_data"
    },
    {
     "data": {
      "text/html": [
       "<pre style=\"white-space:pre;overflow-x:auto;line-height:normal;font-family:Menlo,'DejaVu Sans Mono',consolas,'Courier New',monospace\">counter =  <span style=\"color: #008080; text-decoration-color: #008080; font-weight: bold\">1680000</span>\n",
       "</pre>\n"
      ],
      "text/plain": [
       "counter =  \u001b[1;36m1680000\u001b[0m\n"
      ]
     },
     "metadata": {},
     "output_type": "display_data"
    },
    {
     "data": {
      "text/html": [
       "<pre style=\"white-space:pre;overflow-x:auto;line-height:normal;font-family:Menlo,'DejaVu Sans Mono',consolas,'Courier New',monospace\">counter =  <span style=\"color: #008080; text-decoration-color: #008080; font-weight: bold\">1690000</span>\n",
       "</pre>\n"
      ],
      "text/plain": [
       "counter =  \u001b[1;36m1690000\u001b[0m\n"
      ]
     },
     "metadata": {},
     "output_type": "display_data"
    },
    {
     "data": {
      "text/html": [
       "<pre style=\"white-space:pre;overflow-x:auto;line-height:normal;font-family:Menlo,'DejaVu Sans Mono',consolas,'Courier New',monospace\">counter =  <span style=\"color: #008080; text-decoration-color: #008080; font-weight: bold\">1700000</span>\n",
       "</pre>\n"
      ],
      "text/plain": [
       "counter =  \u001b[1;36m1700000\u001b[0m\n"
      ]
     },
     "metadata": {},
     "output_type": "display_data"
    },
    {
     "data": {
      "text/html": [
       "<pre style=\"white-space:pre;overflow-x:auto;line-height:normal;font-family:Menlo,'DejaVu Sans Mono',consolas,'Courier New',monospace\">counter =  <span style=\"color: #008080; text-decoration-color: #008080; font-weight: bold\">1710000</span>\n",
       "</pre>\n"
      ],
      "text/plain": [
       "counter =  \u001b[1;36m1710000\u001b[0m\n"
      ]
     },
     "metadata": {},
     "output_type": "display_data"
    },
    {
     "data": {
      "text/html": [
       "<pre style=\"white-space:pre;overflow-x:auto;line-height:normal;font-family:Menlo,'DejaVu Sans Mono',consolas,'Courier New',monospace\">counter =  <span style=\"color: #008080; text-decoration-color: #008080; font-weight: bold\">1720000</span>\n",
       "</pre>\n"
      ],
      "text/plain": [
       "counter =  \u001b[1;36m1720000\u001b[0m\n"
      ]
     },
     "metadata": {},
     "output_type": "display_data"
    },
    {
     "data": {
      "text/html": [
       "<pre style=\"white-space:pre;overflow-x:auto;line-height:normal;font-family:Menlo,'DejaVu Sans Mono',consolas,'Courier New',monospace\">counter =  <span style=\"color: #008080; text-decoration-color: #008080; font-weight: bold\">1730000</span>\n",
       "</pre>\n"
      ],
      "text/plain": [
       "counter =  \u001b[1;36m1730000\u001b[0m\n"
      ]
     },
     "metadata": {},
     "output_type": "display_data"
    },
    {
     "data": {
      "text/html": [
       "<pre style=\"white-space:pre;overflow-x:auto;line-height:normal;font-family:Menlo,'DejaVu Sans Mono',consolas,'Courier New',monospace\">counter =  <span style=\"color: #008080; text-decoration-color: #008080; font-weight: bold\">1740000</span>\n",
       "</pre>\n"
      ],
      "text/plain": [
       "counter =  \u001b[1;36m1740000\u001b[0m\n"
      ]
     },
     "metadata": {},
     "output_type": "display_data"
    },
    {
     "data": {
      "text/html": [
       "<pre style=\"white-space:pre;overflow-x:auto;line-height:normal;font-family:Menlo,'DejaVu Sans Mono',consolas,'Courier New',monospace\">counter =  <span style=\"color: #008080; text-decoration-color: #008080; font-weight: bold\">1750000</span>\n",
       "</pre>\n"
      ],
      "text/plain": [
       "counter =  \u001b[1;36m1750000\u001b[0m\n"
      ]
     },
     "metadata": {},
     "output_type": "display_data"
    },
    {
     "data": {
      "text/html": [
       "<pre style=\"white-space:pre;overflow-x:auto;line-height:normal;font-family:Menlo,'DejaVu Sans Mono',consolas,'Courier New',monospace\">counter =  <span style=\"color: #008080; text-decoration-color: #008080; font-weight: bold\">1760000</span>\n",
       "</pre>\n"
      ],
      "text/plain": [
       "counter =  \u001b[1;36m1760000\u001b[0m\n"
      ]
     },
     "metadata": {},
     "output_type": "display_data"
    },
    {
     "data": {
      "text/html": [
       "<pre style=\"white-space:pre;overflow-x:auto;line-height:normal;font-family:Menlo,'DejaVu Sans Mono',consolas,'Courier New',monospace\">counter =  <span style=\"color: #008080; text-decoration-color: #008080; font-weight: bold\">1770000</span>\n",
       "</pre>\n"
      ],
      "text/plain": [
       "counter =  \u001b[1;36m1770000\u001b[0m\n"
      ]
     },
     "metadata": {},
     "output_type": "display_data"
    },
    {
     "data": {
      "text/html": [
       "<pre style=\"white-space:pre;overflow-x:auto;line-height:normal;font-family:Menlo,'DejaVu Sans Mono',consolas,'Courier New',monospace\">counter =  <span style=\"color: #008080; text-decoration-color: #008080; font-weight: bold\">1780000</span>\n",
       "</pre>\n"
      ],
      "text/plain": [
       "counter =  \u001b[1;36m1780000\u001b[0m\n"
      ]
     },
     "metadata": {},
     "output_type": "display_data"
    },
    {
     "data": {
      "text/html": [
       "<pre style=\"white-space:pre;overflow-x:auto;line-height:normal;font-family:Menlo,'DejaVu Sans Mono',consolas,'Courier New',monospace\">counter =  <span style=\"color: #008080; text-decoration-color: #008080; font-weight: bold\">1790000</span>\n",
       "</pre>\n"
      ],
      "text/plain": [
       "counter =  \u001b[1;36m1790000\u001b[0m\n"
      ]
     },
     "metadata": {},
     "output_type": "display_data"
    },
    {
     "data": {
      "text/html": [
       "<pre style=\"white-space:pre;overflow-x:auto;line-height:normal;font-family:Menlo,'DejaVu Sans Mono',consolas,'Courier New',monospace\">counter =  <span style=\"color: #008080; text-decoration-color: #008080; font-weight: bold\">1800000</span>\n",
       "</pre>\n"
      ],
      "text/plain": [
       "counter =  \u001b[1;36m1800000\u001b[0m\n"
      ]
     },
     "metadata": {},
     "output_type": "display_data"
    },
    {
     "name": "stdout",
     "output_type": "stream",
     "text": [
      "CPU times: user 5h 49min 22s, sys: 3h 26min 59s, total: 9h 16min 22s\n",
      "Wall time: 23min 14s\n"
     ]
    }
   ],
   "source": [
    "%%time\n",
    "\n",
    "for e in range(epochs):\n",
    "    # go through all records in the training data set\n",
    "    for record in training_data_list:\n",
    "        # split the record by the ',' commas\n",
    "        all_values = record.split(',')\n",
    "        # scale and shift the inputs\n",
    "        inputs = (np.asfarray(all_values[1:]) / 255.0 * 0.99) + 0.01\n",
    "        # create the target output values (all 0.01, except the desired label which is 0.99)\n",
    "        targets = np.zeros(output_nodes) + 0.01\n",
    "        # all_values[0] is the target label for this record\n",
    "        targets[int(all_values[0])] = 0.99\n",
    "        n.train(inputs, targets, print_counter=True)\n",
    "        \n",
    "        # create rotated variations\n",
    "        # rotated anticlockwise by x degrees\n",
    "        x = 10\n",
    "        inputs_plusx_img = scipy.ndimage.interpolation.rotate(inputs.reshape(28, 28), x, cval=0.01, order=1, reshape=False)\n",
    "        n.train(inputs_plusx_img.reshape(784), targets, print_counter=True)\n",
    "        \n",
    "        # rotated clockwise by x degrees\n",
    "        inputs_minusx_img = scipy.ndimage.interpolation.rotate(inputs.reshape(28, 28), -x, cval=0.01, order=1, reshape=False)\n",
    "        n.train(inputs_minusx_img.reshape(784), targets, print_counter=True)"
   ]
  },
  {
   "cell_type": "markdown",
   "metadata": {},
   "source": [
    "### plot classifier error"
   ]
  },
  {
   "cell_type": "code",
   "execution_count": 11,
   "metadata": {},
   "outputs": [
    {
     "data": {
      "text/html": [
       "<pre style=\"white-space:pre;overflow-x:auto;line-height:normal;font-family:Menlo,'DejaVu Sans Mono',consolas,'Courier New',monospace\"><span style=\"font-weight: bold\">&lt;</span><span style=\"color: #ff00ff; text-decoration-color: #ff00ff; font-weight: bold\">Figure</span><span style=\"color: #000000; text-decoration-color: #000000\"> size 1152x576 with </span><span style=\"color: #008080; text-decoration-color: #008080; font-weight: bold\">1</span><span style=\"color: #000000; text-decoration-color: #000000\"> Axes</span><span style=\"font-weight: bold\">&gt;</span>\n",
       "</pre>\n"
      ],
      "text/plain": [
       "\u001b[1m<\u001b[0m\u001b[1;95mFigure\u001b[0m\u001b[39m size 1152x576 with \u001b[0m\u001b[1;36m1\u001b[0m\u001b[39m Axes\u001b[0m\u001b[1m>\u001b[0m\n"
      ]
     },
     "metadata": {},
     "output_type": "display_data"
    },
    {
     "data": {
      "image/png": "[encoded data removed]"
     },
     "metadata": {
      "needs_background": "light"
     },
     "output_type": "display_data"
    }
   ],
   "source": [
    "n.plot_progress()"
   ]
  },
  {
   "cell_type": "markdown",
   "metadata": {
    "tags": []
   },
   "source": [
    "### load the mnist test data CSV file into a list"
   ]
  },
  {
   "cell_type": "code",
   "execution_count": 12,
   "metadata": {
    "tags": []
   },
   "outputs": [],
   "source": [
    "with open(\"./mnist_dataset/mnist_test.csv\", 'r') as test_data_file:\n",
    "    test_data_list = test_data_file.readlines()"
   ]
  },
  {
   "cell_type": "markdown",
   "metadata": {
    "tags": []
   },
   "source": [
    "### test the neural network"
   ]
  },
  {
   "cell_type": "code",
   "execution_count": 13,
   "metadata": {
    "tags": []
   },
   "outputs": [
    {
     "data": {
      "text/html": [
       "<pre style=\"white-space:pre;overflow-x:auto;line-height:normal;font-family:Menlo,'DejaVu Sans Mono',consolas,'Courier New',monospace\">performance = <span style=\"color: #008080; text-decoration-color: #008080; font-weight: bold\">0.9811</span>\n",
       "</pre>\n"
      ],
      "text/plain": [
       "performance = \u001b[1;36m0.9811\u001b[0m\n"
      ]
     },
     "metadata": {},
     "output_type": "display_data"
    }
   ],
   "source": [
    "scorecard = []\n",
    "\n",
    "for record in test_data_list:\n",
    "    all_values = record.split(',')\n",
    "    correct_label = int(all_values[0])\n",
    "    inputs = (np.asfarray(all_values[1:]) / 255.0 * 0.99) + 0.01\n",
    "    outputs = n.forward(inputs)\n",
    "    m, label = outputs.max(1)\n",
    "    \n",
    "    # append correct or incorrect to list\n",
    "    if (label.item() == correct_label):\n",
    "        scorecard.append(1)\n",
    "    else:\n",
    "        scorecard.append(0)\n",
    "\n",
    "# calculate the performance score, the fraction of correct answers\n",
    "scorecard_array = np.asarray(scorecard)\n",
    "print(f\"performance = {scorecard_array.sum()/scorecard_array.size}\")"
   ]
  },
  {
   "cell_type": "markdown",
   "metadata": {},
   "source": [
    "### test backquery"
   ]
  },
  {
   "cell_type": "code",
   "execution_count": 14,
   "metadata": {},
   "outputs": [
    {
     "data": {
      "text/html": [
       "<pre style=\"white-space:pre;overflow-x:auto;line-height:normal;font-family:Menlo,'DejaVu Sans Mono',consolas,'Courier New',monospace\"><span style=\"font-weight: bold\">&lt;</span><span style=\"color: #ff00ff; text-decoration-color: #ff00ff; font-weight: bold\">matplotlib.image.AxesImage</span><span style=\"color: #000000; text-decoration-color: #000000\"> object at </span><span style=\"color: #008080; text-decoration-color: #008080; font-weight: bold\">0x7faca4407b20</span><span style=\"font-weight: bold\">&gt;</span>\n",
       "</pre>\n"
      ],
      "text/plain": [
       "\u001b[1m<\u001b[0m\u001b[1;95mmatplotlib.image.AxesImage\u001b[0m\u001b[39m object at \u001b[0m\u001b[1;36m0x7faca4407b20\u001b[0m\u001b[1m>\u001b[0m\n"
      ]
     },
     "metadata": {},
     "output_type": "display_data"
    },
    {
     "data": {
      "text/html": [
       "<pre style=\"white-space:pre;overflow-x:auto;line-height:normal;font-family:Menlo,'DejaVu Sans Mono',consolas,'Courier New',monospace\"><span style=\"font-weight: bold\">&lt;</span><span style=\"color: #ff00ff; text-decoration-color: #ff00ff; font-weight: bold\">Figure</span><span style=\"color: #000000; text-decoration-color: #000000\"> size 432x288 with </span><span style=\"color: #008080; text-decoration-color: #008080; font-weight: bold\">1</span><span style=\"color: #000000; text-decoration-color: #000000\"> Axes</span><span style=\"font-weight: bold\">&gt;</span>\n",
       "</pre>\n"
      ],
      "text/plain": [
       "\u001b[1m<\u001b[0m\u001b[1;95mFigure\u001b[0m\u001b[39m size 432x288 with \u001b[0m\u001b[1;36m1\u001b[0m\u001b[39m Axes\u001b[0m\u001b[1m>\u001b[0m\n"
      ]
     },
     "metadata": {},
     "output_type": "display_data"
    },
    {
     "data": {
      "image/png": "[encoded data removed]"
     },
     "metadata": {
      "needs_background": "light"
     },
     "output_type": "display_data"
    }
   ],
   "source": [
    "label = 9\n",
    "targets = np.zeros(output_nodes) + 0.01\n",
    "targets[label] = 0.99\n",
    "\n",
    "image_data = n.backquery(targets).cpu().detach().numpy().reshape(28, 28)\n",
    "plt.imshow(image_data, cmap='Greys', interpolation='None')"
   ]
  },
  {
   "cell_type": "code",
   "execution_count": 15,
   "metadata": {},
   "outputs": [
    {
     "data": {
      "text/html": [
       "<pre style=\"white-space:pre;overflow-x:auto;line-height:normal;font-family:Menlo,'DejaVu Sans Mono',consolas,'Courier New',monospace\">\n",
       "<span style=\"color: #800080; text-decoration-color: #800080; font-weight: bold\">Classifier</span><span style=\"font-weight: bold\">(</span>\n",
       "  <span style=\"font-weight: bold\">(</span>linear_ih<span style=\"font-weight: bold\">)</span>: <span style=\"color: #800080; text-decoration-color: #800080; font-weight: bold\">Linear</span><span style=\"font-weight: bold\">(</span><span style=\"color: #808000; text-decoration-color: #808000\">in_features</span>=<span style=\"color: #008080; text-decoration-color: #008080; font-weight: bold\">784</span>, <span style=\"color: #808000; text-decoration-color: #808000\">out_features</span>=<span style=\"color: #008080; text-decoration-color: #008080; font-weight: bold\">200</span>, <span style=\"color: #808000; text-decoration-color: #808000\">bias</span>=<span style=\"color: #ff0000; text-decoration-color: #ff0000; font-style: italic\">False</span><span style=\"font-weight: bold\">)</span>\n",
       "  <span style=\"font-weight: bold\">(</span>linear_ho<span style=\"font-weight: bold\">)</span>: <span style=\"color: #800080; text-decoration-color: #800080; font-weight: bold\">Linear</span><span style=\"font-weight: bold\">(</span><span style=\"color: #808000; text-decoration-color: #808000\">in_features</span>=<span style=\"color: #008080; text-decoration-color: #008080; font-weight: bold\">200</span>, <span style=\"color: #808000; text-decoration-color: #808000\">out_features</span>=<span style=\"color: #008080; text-decoration-color: #008080; font-weight: bold\">10</span>, <span style=\"color: #808000; text-decoration-color: #808000\">bias</span>=<span style=\"color: #ff0000; text-decoration-color: #ff0000; font-style: italic\">False</span><span style=\"font-weight: bold\">)</span>\n",
       "  <span style=\"font-weight: bold\">(</span>activation<span style=\"font-weight: bold\">)</span>: <span style=\"color: #800080; text-decoration-color: #800080; font-weight: bold\">Sigmoid</span><span style=\"font-weight: bold\">()</span>\n",
       "  <span style=\"font-weight: bold\">(</span>error_function<span style=\"font-weight: bold\">)</span>: <span style=\"color: #800080; text-decoration-color: #800080; font-weight: bold\">MSELoss</span><span style=\"font-weight: bold\">()</span>\n",
       "<span style=\"font-weight: bold\">)</span>\n",
       "</pre>\n"
      ],
      "text/plain": [
       "\n",
       "\u001b[1;35mClassifier\u001b[0m\u001b[1m(\u001b[0m\n",
       "  \u001b[1m(\u001b[0mlinear_ih\u001b[1m)\u001b[0m: \u001b[1;35mLinear\u001b[0m\u001b[1m(\u001b[0m\u001b[33min_features\u001b[0m=\u001b[1;36m784\u001b[0m, \u001b[33mout_features\u001b[0m=\u001b[1;36m200\u001b[0m, \u001b[33mbias\u001b[0m=\u001b[3;91mFalse\u001b[0m\u001b[1m)\u001b[0m\n",
       "  \u001b[1m(\u001b[0mlinear_ho\u001b[1m)\u001b[0m: \u001b[1;35mLinear\u001b[0m\u001b[1m(\u001b[0m\u001b[33min_features\u001b[0m=\u001b[1;36m200\u001b[0m, \u001b[33mout_features\u001b[0m=\u001b[1;36m10\u001b[0m, \u001b[33mbias\u001b[0m=\u001b[3;91mFalse\u001b[0m\u001b[1m)\u001b[0m\n",
       "  \u001b[1m(\u001b[0mactivation\u001b[1m)\u001b[0m: \u001b[1;35mSigmoid\u001b[0m\u001b[1m(\u001b[0m\u001b[1m)\u001b[0m\n",
       "  \u001b[1m(\u001b[0merror_function\u001b[1m)\u001b[0m: \u001b[1;35mMSELoss\u001b[0m\u001b[1m(\u001b[0m\u001b[1m)\u001b[0m\n",
       "\u001b[1m)\u001b[0m\n"
      ]
     },
     "metadata": {},
     "output_type": "display_data"
    }
   ],
   "source": [
    "n"
   ]
  },
  {
   "cell_type": "code",
   "execution_count": 16,
   "metadata": {},
   "outputs": [],
   "source": [
    "n.epochs = 10\n",
    "n.performance = 0.9811\n",
    "n.trainging_time = \" 23 min 14 s\"\n",
    "\n",
    "n.pickle(f'./trained_classifiers/pytorch_tensor_classifiler_{epochs}.pkl')"
   ]
  },
  {
   "cell_type": "code",
   "execution_count": 17,
   "metadata": {},
   "outputs": [
    {
     "data": {
      "text/html": [
       "<pre style=\"white-space:pre;overflow-x:auto;line-height:normal;font-family:Menlo,'DejaVu Sans Mono',consolas,'Courier New',monospace\"><span style=\"font-weight: bold\">&lt;</span><span style=\"color: #ff00ff; text-decoration-color: #ff00ff; font-weight: bold\">matplotlib.image.AxesImage</span><span style=\"color: #000000; text-decoration-color: #000000\"> object at </span><span style=\"color: #008080; text-decoration-color: #008080; font-weight: bold\">0x7fac8454aeb0</span><span style=\"font-weight: bold\">&gt;</span>\n",
       "</pre>\n"
      ],
      "text/plain": [
       "\u001b[1m<\u001b[0m\u001b[1;95mmatplotlib.image.AxesImage\u001b[0m\u001b[39m object at \u001b[0m\u001b[1;36m0x7fac8454aeb0\u001b[0m\u001b[1m>\u001b[0m\n"
      ]
     },
     "metadata": {},
     "output_type": "display_data"
    },
    {
     "data": {
      "text/html": [
       "<pre style=\"white-space:pre;overflow-x:auto;line-height:normal;font-family:Menlo,'DejaVu Sans Mono',consolas,'Courier New',monospace\"><span style=\"font-weight: bold\">&lt;</span><span style=\"color: #ff00ff; text-decoration-color: #ff00ff; font-weight: bold\">Figure</span><span style=\"color: #000000; text-decoration-color: #000000\"> size 432x288 with </span><span style=\"color: #008080; text-decoration-color: #008080; font-weight: bold\">1</span><span style=\"color: #000000; text-decoration-color: #000000\"> Axes</span><span style=\"font-weight: bold\">&gt;</span>\n",
       "</pre>\n"
      ],
      "text/plain": [
       "\u001b[1m<\u001b[0m\u001b[1;95mFigure\u001b[0m\u001b[39m size 432x288 with \u001b[0m\u001b[1;36m1\u001b[0m\u001b[39m Axes\u001b[0m\u001b[1m>\u001b[0m\n"
      ]
     },
     "metadata": {},
     "output_type": "display_data"
    },
    {
     "data": {
      "image/png": "[encoded data removed]"
     },
     "metadata": {
      "needs_background": "light"
     },
     "output_type": "display_data"
    }
   ],
   "source": [
    "# from pickled object\n",
    "with open(f'./trained_classifiers/pytorch_tensor_classifiler_{epochs}.pkl', 'rb') as f:\n",
    "    new_n = pickle.load(f)\n",
    "    \n",
    "image_data = new_n.backquery(targets).cpu().detach().numpy().reshape(28, 28)\n",
    "plt.imshow(image_data, cmap='Greys', interpolation='None')"
   ]
  },
  {
   "cell_type": "code",
   "execution_count": 18,
   "metadata": {},
   "outputs": [
    {
     "data": {
      "text/html": [
       "<pre style=\"white-space:pre;overflow-x:auto;line-height:normal;font-family:Menlo,'DejaVu Sans Mono',consolas,'Courier New',monospace\"><span style=\"font-weight: bold\">&lt;</span><span style=\"color: #ff00ff; text-decoration-color: #ff00ff; font-weight: bold\">Figure</span><span style=\"color: #000000; text-decoration-color: #000000\"> size 1152x576 with </span><span style=\"color: #008080; text-decoration-color: #008080; font-weight: bold\">1</span><span style=\"color: #000000; text-decoration-color: #000000\"> Axes</span><span style=\"font-weight: bold\">&gt;</span>\n",
       "</pre>\n"
      ],
      "text/plain": [
       "\u001b[1m<\u001b[0m\u001b[1;95mFigure\u001b[0m\u001b[39m size 1152x576 with \u001b[0m\u001b[1;36m1\u001b[0m\u001b[39m Axes\u001b[0m\u001b[1m>\u001b[0m\n"
      ]
     },
     "metadata": {},
     "output_type": "display_data"
    },
    {
     "data": {
      "image/png": "[encoded data removed]"
     },
     "metadata": {
      "needs_background": "light"
     },
     "output_type": "display_data"
    }
   ],
   "source": [
    "new_n.plot_progress()"
   ]
  },
  {
   "cell_type": "code",
   "execution_count": null,
   "metadata": {},
   "outputs": [],
   "source": []
  }
 ],
 "metadata": {
  "kernelspec": {
   "display_name": "Python 3 (ipykernel)",
   "language": "python",
   "name": "python3"
  },
  "language_info": {
   "codemirror_mode": {
    "name": "ipython",
    "version": 3
   },
   "file_extension": ".py",
   "mimetype": "text/x-python",
   "name": "python",
   "nbconvert_exporter": "python",
   "pygments_lexer": "ipython3",
   "version": "3.8.3"
  }
 },
 "nbformat": 4,
 "nbformat_minor": 4
}
