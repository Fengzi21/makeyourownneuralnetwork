{
 "cells": [
  {
   "cell_type": "code",
   "execution_count": 1,
   "metadata": {},
   "outputs": [],
   "source": [
    "# python notebook for Make Your Own Neural Network\n",
    "# code for a 3-layer neural network, and code for learning the MNIST dataset\n",
    "# (c) Tariq Rashid, 2016\n",
    "# license is GPLv2"
   ]
  },
  {
   "cell_type": "code",
   "execution_count": 2,
   "metadata": {},
   "outputs": [],
   "source": [
    "from rich import print"
   ]
  },
  {
   "cell_type": "code",
   "execution_count": 3,
   "metadata": {},
   "outputs": [],
   "source": [
    "import imageio.v2 as imageio  # helper to load data from PNG image files\n",
    "import glob                   # glob helps select multiple files using patterns"
   ]
  },
  {
   "cell_type": "code",
   "execution_count": 4,
   "metadata": {},
   "outputs": [],
   "source": [
    "import numpy as np\n",
    "import matplotlib.pyplot as plt\n",
    "%matplotlib inline"
   ]
  },
  {
   "cell_type": "markdown",
   "metadata": {},
   "source": [
    "### our own image test data set"
   ]
  },
  {
   "cell_type": "code",
   "execution_count": 5,
   "metadata": {},
   "outputs": [
    {
     "data": {
      "text/html": [
       "<pre style=\"white-space:pre;overflow-x:auto;line-height:normal;font-family:Menlo,'DejaVu Sans Mono',consolas,'Courier New',monospace\">loading my_own_images/2828_my_own_4.png\n",
       "</pre>\n"
      ],
      "text/plain": [
       "loading my_own_images/2828_my_own_4.png\n"
      ]
     },
     "metadata": {},
     "output_type": "display_data"
    },
    {
     "data": {
      "text/html": [
       "<pre style=\"white-space:pre;overflow-x:auto;line-height:normal;font-family:Menlo,'DejaVu Sans Mono',consolas,'Courier New',monospace\"><span style=\"color: #800080; text-decoration-color: #800080; font-weight: bold\">img_data.min</span><span style=\"font-weight: bold\">()</span> = <span style=\"color: #008080; text-decoration-color: #008080; font-weight: bold\">0.010000</span>\n",
       "</pre>\n"
      ],
      "text/plain": [
       "\u001b[1;35mimg_data.min\u001b[0m\u001b[1m(\u001b[0m\u001b[1m)\u001b[0m = \u001b[1;36m0.010000\u001b[0m\n"
      ]
     },
     "metadata": {},
     "output_type": "display_data"
    },
    {
     "data": {
      "text/html": [
       "<pre style=\"white-space:pre;overflow-x:auto;line-height:normal;font-family:Menlo,'DejaVu Sans Mono',consolas,'Courier New',monospace\"><span style=\"color: #800080; text-decoration-color: #800080; font-weight: bold\">img_data.max</span><span style=\"font-weight: bold\">()</span> = <span style=\"color: #008080; text-decoration-color: #008080; font-weight: bold\">0.930118</span>\n",
       "</pre>\n"
      ],
      "text/plain": [
       "\u001b[1;35mimg_data.max\u001b[0m\u001b[1m(\u001b[0m\u001b[1m)\u001b[0m = \u001b[1;36m0.930118\u001b[0m\n"
      ]
     },
     "metadata": {},
     "output_type": "display_data"
    },
    {
     "data": {
      "text/html": [
       "<pre style=\"white-space:pre;overflow-x:auto;line-height:normal;font-family:Menlo,'DejaVu Sans Mono',consolas,'Courier New',monospace\">loading my_own_images/2828_my_own_5.png\n",
       "</pre>\n"
      ],
      "text/plain": [
       "loading my_own_images/2828_my_own_5.png\n"
      ]
     },
     "metadata": {},
     "output_type": "display_data"
    },
    {
     "data": {
      "text/html": [
       "<pre style=\"white-space:pre;overflow-x:auto;line-height:normal;font-family:Menlo,'DejaVu Sans Mono',consolas,'Courier New',monospace\"><span style=\"color: #800080; text-decoration-color: #800080; font-weight: bold\">img_data.min</span><span style=\"font-weight: bold\">()</span> = <span style=\"color: #008080; text-decoration-color: #008080; font-weight: bold\">0.010000</span>\n",
       "</pre>\n"
      ],
      "text/plain": [
       "\u001b[1;35mimg_data.min\u001b[0m\u001b[1m(\u001b[0m\u001b[1m)\u001b[0m = \u001b[1;36m0.010000\u001b[0m\n"
      ]
     },
     "metadata": {},
     "output_type": "display_data"
    },
    {
     "data": {
      "text/html": [
       "<pre style=\"white-space:pre;overflow-x:auto;line-height:normal;font-family:Menlo,'DejaVu Sans Mono',consolas,'Courier New',monospace\"><span style=\"color: #800080; text-decoration-color: #800080; font-weight: bold\">img_data.max</span><span style=\"font-weight: bold\">()</span> = <span style=\"color: #008080; text-decoration-color: #008080; font-weight: bold\">0.868000</span>\n",
       "</pre>\n"
      ],
      "text/plain": [
       "\u001b[1;35mimg_data.max\u001b[0m\u001b[1m(\u001b[0m\u001b[1m)\u001b[0m = \u001b[1;36m0.868000\u001b[0m\n"
      ]
     },
     "metadata": {},
     "output_type": "display_data"
    },
    {
     "data": {
      "text/html": [
       "<pre style=\"white-space:pre;overflow-x:auto;line-height:normal;font-family:Menlo,'DejaVu Sans Mono',consolas,'Courier New',monospace\">loading my_own_images/2828_my_own_3.png\n",
       "</pre>\n"
      ],
      "text/plain": [
       "loading my_own_images/2828_my_own_3.png\n"
      ]
     },
     "metadata": {},
     "output_type": "display_data"
    },
    {
     "data": {
      "text/html": [
       "<pre style=\"white-space:pre;overflow-x:auto;line-height:normal;font-family:Menlo,'DejaVu Sans Mono',consolas,'Courier New',monospace\"><span style=\"color: #800080; text-decoration-color: #800080; font-weight: bold\">img_data.min</span><span style=\"font-weight: bold\">()</span> = <span style=\"color: #008080; text-decoration-color: #008080; font-weight: bold\">0.010000</span>\n",
       "</pre>\n"
      ],
      "text/plain": [
       "\u001b[1;35mimg_data.min\u001b[0m\u001b[1m(\u001b[0m\u001b[1m)\u001b[0m = \u001b[1;36m0.010000\u001b[0m\n"
      ]
     },
     "metadata": {},
     "output_type": "display_data"
    },
    {
     "data": {
      "text/html": [
       "<pre style=\"white-space:pre;overflow-x:auto;line-height:normal;font-family:Menlo,'DejaVu Sans Mono',consolas,'Courier New',monospace\"><span style=\"color: #800080; text-decoration-color: #800080; font-weight: bold\">img_data.max</span><span style=\"font-weight: bold\">()</span> = <span style=\"color: #008080; text-decoration-color: #008080; font-weight: bold\">1.000000</span>\n",
       "</pre>\n"
      ],
      "text/plain": [
       "\u001b[1;35mimg_data.max\u001b[0m\u001b[1m(\u001b[0m\u001b[1m)\u001b[0m = \u001b[1;36m1.000000\u001b[0m\n"
      ]
     },
     "metadata": {},
     "output_type": "display_data"
    },
    {
     "data": {
      "text/html": [
       "<pre style=\"white-space:pre;overflow-x:auto;line-height:normal;font-family:Menlo,'DejaVu Sans Mono',consolas,'Courier New',monospace\">loading my_own_images/2828_my_own_2.png\n",
       "</pre>\n"
      ],
      "text/plain": [
       "loading my_own_images/2828_my_own_2.png\n"
      ]
     },
     "metadata": {},
     "output_type": "display_data"
    },
    {
     "data": {
      "text/html": [
       "<pre style=\"white-space:pre;overflow-x:auto;line-height:normal;font-family:Menlo,'DejaVu Sans Mono',consolas,'Courier New',monospace\"><span style=\"color: #800080; text-decoration-color: #800080; font-weight: bold\">img_data.min</span><span style=\"font-weight: bold\">()</span> = <span style=\"color: #008080; text-decoration-color: #008080; font-weight: bold\">0.010000</span>\n",
       "</pre>\n"
      ],
      "text/plain": [
       "\u001b[1;35mimg_data.min\u001b[0m\u001b[1m(\u001b[0m\u001b[1m)\u001b[0m = \u001b[1;36m0.010000\u001b[0m\n"
      ]
     },
     "metadata": {},
     "output_type": "display_data"
    },
    {
     "data": {
      "text/html": [
       "<pre style=\"white-space:pre;overflow-x:auto;line-height:normal;font-family:Menlo,'DejaVu Sans Mono',consolas,'Courier New',monospace\"><span style=\"color: #800080; text-decoration-color: #800080; font-weight: bold\">img_data.max</span><span style=\"font-weight: bold\">()</span> = <span style=\"color: #008080; text-decoration-color: #008080; font-weight: bold\">1.000000</span>\n",
       "</pre>\n"
      ],
      "text/plain": [
       "\u001b[1;35mimg_data.max\u001b[0m\u001b[1m(\u001b[0m\u001b[1m)\u001b[0m = \u001b[1;36m1.000000\u001b[0m\n"
      ]
     },
     "metadata": {},
     "output_type": "display_data"
    },
    {
     "data": {
      "text/html": [
       "<pre style=\"white-space:pre;overflow-x:auto;line-height:normal;font-family:Menlo,'DejaVu Sans Mono',consolas,'Courier New',monospace\">loading my_own_images/2828_my_own_6.png\n",
       "</pre>\n"
      ],
      "text/plain": [
       "loading my_own_images/2828_my_own_6.png\n"
      ]
     },
     "metadata": {},
     "output_type": "display_data"
    },
    {
     "data": {
      "text/html": [
       "<pre style=\"white-space:pre;overflow-x:auto;line-height:normal;font-family:Menlo,'DejaVu Sans Mono',consolas,'Courier New',monospace\"><span style=\"color: #800080; text-decoration-color: #800080; font-weight: bold\">img_data.min</span><span style=\"font-weight: bold\">()</span> = <span style=\"color: #008080; text-decoration-color: #008080; font-weight: bold\">0.010000</span>\n",
       "</pre>\n"
      ],
      "text/plain": [
       "\u001b[1;35mimg_data.min\u001b[0m\u001b[1m(\u001b[0m\u001b[1m)\u001b[0m = \u001b[1;36m0.010000\u001b[0m\n"
      ]
     },
     "metadata": {},
     "output_type": "display_data"
    },
    {
     "data": {
      "text/html": [
       "<pre style=\"white-space:pre;overflow-x:auto;line-height:normal;font-family:Menlo,'DejaVu Sans Mono',consolas,'Courier New',monospace\"><span style=\"color: #800080; text-decoration-color: #800080; font-weight: bold\">img_data.max</span><span style=\"font-weight: bold\">()</span> = <span style=\"color: #008080; text-decoration-color: #008080; font-weight: bold\">1.000000</span>\n",
       "</pre>\n"
      ],
      "text/plain": [
       "\u001b[1;35mimg_data.max\u001b[0m\u001b[1m(\u001b[0m\u001b[1m)\u001b[0m = \u001b[1;36m1.000000\u001b[0m\n"
      ]
     },
     "metadata": {},
     "output_type": "display_data"
    }
   ],
   "source": [
    "our_own_dataset = []\n",
    "\n",
    "for image_file_name in glob.glob('my_own_images/2828_my_own_?.png'):\n",
    "    print(f\"loading {image_file_name}\")\n",
    "    # use the filename to set the correct label\n",
    "    label = int(image_file_name[-5:-4])\n",
    "    # load image data from png files into an array\n",
    "    img_array = imageio.imread(image_file_name, mode='F')\n",
    "    # reshape from 28x28 to list of 784 values, invert values\n",
    "    img_data  = 255.0 - img_array.reshape(784)\n",
    "    # then scale data to range from 0.01 to 1.0\n",
    "    img_data = (img_data / 255.0 * 0.99) + 0.01\n",
    "    print(f'{img_data.min() = :f}')\n",
    "    print(f'{img_data.max() = :f}')\n",
    "    # append label and image data to test data set\n",
    "    record = np.append(label,img_data)\n",
    "    # print(f'{record = }')\n",
    "    our_own_dataset.append(record)"
   ]
  },
  {
   "cell_type": "code",
   "execution_count": 6,
   "metadata": {},
   "outputs": [
    {
     "data": {
      "image/png": "[encoded data removed]",
      "text/plain": [
       "<Figure size 768x576 with 1 Axes>"
      ]
     },
     "metadata": {},
     "output_type": "display_data"
    }
   ],
   "source": [
    "plt.imshow(our_own_dataset[3][1:].reshape(28, 28), cmap='Greys', interpolation='None')\n",
    "plt.axis('off');"
   ]
  },
  {
   "cell_type": "code",
   "execution_count": 7,
   "metadata": {},
   "outputs": [
    {
     "data": {
      "text/html": [
       "<pre style=\"white-space:pre;overflow-x:auto;line-height:normal;font-family:Menlo,'DejaVu Sans Mono',consolas,'Courier New',monospace\"><span style=\"font-weight: bold\">[</span><span style=\"color: #008080; text-decoration-color: #008080; font-weight: bold\">2</span>.         <span style=\"color: #008080; text-decoration-color: #008080; font-weight: bold\">0.01</span>       <span style=\"color: #008080; text-decoration-color: #008080; font-weight: bold\">0.01</span>       <span style=\"color: #008080; text-decoration-color: #008080; font-weight: bold\">0.01</span>       <span style=\"color: #008080; text-decoration-color: #008080; font-weight: bold\">0.01</span>       <span style=\"color: #008080; text-decoration-color: #008080; font-weight: bold\">0.01</span>\n",
       " <span style=\"color: #008080; text-decoration-color: #008080; font-weight: bold\">0.01</span>       <span style=\"color: #008080; text-decoration-color: #008080; font-weight: bold\">0.01</span>       <span style=\"color: #008080; text-decoration-color: #008080; font-weight: bold\">0.01</span>       <span style=\"color: #008080; text-decoration-color: #008080; font-weight: bold\">0.01</span>       <span style=\"color: #008080; text-decoration-color: #008080; font-weight: bold\">0.01</span>       <span style=\"color: #008080; text-decoration-color: #008080; font-weight: bold\">0.01</span>\n",
       " <span style=\"color: #008080; text-decoration-color: #008080; font-weight: bold\">0.01</span>       <span style=\"color: #008080; text-decoration-color: #008080; font-weight: bold\">0.01</span>       <span style=\"color: #008080; text-decoration-color: #008080; font-weight: bold\">0.01</span>       <span style=\"color: #008080; text-decoration-color: #008080; font-weight: bold\">0.01</span>       <span style=\"color: #008080; text-decoration-color: #008080; font-weight: bold\">0.01</span>       <span style=\"color: #008080; text-decoration-color: #008080; font-weight: bold\">0.01</span>\n",
       " <span style=\"color: #008080; text-decoration-color: #008080; font-weight: bold\">0.01</span>       <span style=\"color: #008080; text-decoration-color: #008080; font-weight: bold\">0.01</span>       <span style=\"color: #008080; text-decoration-color: #008080; font-weight: bold\">0.01</span>       <span style=\"color: #008080; text-decoration-color: #008080; font-weight: bold\">0.01</span>       <span style=\"color: #008080; text-decoration-color: #008080; font-weight: bold\">0.01</span>       <span style=\"color: #008080; text-decoration-color: #008080; font-weight: bold\">0.01</span>\n",
       " <span style=\"color: #008080; text-decoration-color: #008080; font-weight: bold\">0.01</span>       <span style=\"color: #008080; text-decoration-color: #008080; font-weight: bold\">0.01</span>       <span style=\"color: #008080; text-decoration-color: #008080; font-weight: bold\">0.01</span>       <span style=\"color: #008080; text-decoration-color: #008080; font-weight: bold\">0.01</span>       <span style=\"color: #008080; text-decoration-color: #008080; font-weight: bold\">0.01</span>       <span style=\"color: #008080; text-decoration-color: #008080; font-weight: bold\">0.01</span>\n",
       " <span style=\"color: #008080; text-decoration-color: #008080; font-weight: bold\">0.01</span>       <span style=\"color: #008080; text-decoration-color: #008080; font-weight: bold\">0.01</span>       <span style=\"color: #008080; text-decoration-color: #008080; font-weight: bold\">0.01</span>       <span style=\"color: #008080; text-decoration-color: #008080; font-weight: bold\">0.01</span>       <span style=\"color: #008080; text-decoration-color: #008080; font-weight: bold\">0.01</span>       <span style=\"color: #008080; text-decoration-color: #008080; font-weight: bold\">0.01</span>\n",
       " <span style=\"color: #008080; text-decoration-color: #008080; font-weight: bold\">0.01</span>       <span style=\"color: #008080; text-decoration-color: #008080; font-weight: bold\">0.01</span>       <span style=\"color: #008080; text-decoration-color: #008080; font-weight: bold\">0.01</span>       <span style=\"color: #008080; text-decoration-color: #008080; font-weight: bold\">0.01</span>       <span style=\"color: #008080; text-decoration-color: #008080; font-weight: bold\">0.01</span>       <span style=\"color: #008080; text-decoration-color: #008080; font-weight: bold\">0.01</span>\n",
       " <span style=\"color: #008080; text-decoration-color: #008080; font-weight: bold\">0.01</span>       <span style=\"color: #008080; text-decoration-color: #008080; font-weight: bold\">0.01</span>       <span style=\"color: #008080; text-decoration-color: #008080; font-weight: bold\">0.01</span>       <span style=\"color: #008080; text-decoration-color: #008080; font-weight: bold\">0.01</span>       <span style=\"color: #008080; text-decoration-color: #008080; font-weight: bold\">0.01</span>       <span style=\"color: #008080; text-decoration-color: #008080; font-weight: bold\">0.01</span>\n",
       " <span style=\"color: #008080; text-decoration-color: #008080; font-weight: bold\">0.01</span>       <span style=\"color: #008080; text-decoration-color: #008080; font-weight: bold\">0.01</span>       <span style=\"color: #008080; text-decoration-color: #008080; font-weight: bold\">0.01</span>       <span style=\"color: #008080; text-decoration-color: #008080; font-weight: bold\">0.01</span>       <span style=\"color: #008080; text-decoration-color: #008080; font-weight: bold\">0.01</span>       <span style=\"color: #008080; text-decoration-color: #008080; font-weight: bold\">0.01</span>\n",
       " <span style=\"color: #008080; text-decoration-color: #008080; font-weight: bold\">0.01</span>       <span style=\"color: #008080; text-decoration-color: #008080; font-weight: bold\">0.01</span>       <span style=\"color: #008080; text-decoration-color: #008080; font-weight: bold\">0.01</span>       <span style=\"color: #008080; text-decoration-color: #008080; font-weight: bold\">0.01</span>       <span style=\"color: #008080; text-decoration-color: #008080; font-weight: bold\">0.01</span>       <span style=\"color: #008080; text-decoration-color: #008080; font-weight: bold\">0.01</span>\n",
       " <span style=\"color: #008080; text-decoration-color: #008080; font-weight: bold\">0.01</span>       <span style=\"color: #008080; text-decoration-color: #008080; font-weight: bold\">0.01</span>       <span style=\"color: #008080; text-decoration-color: #008080; font-weight: bold\">0.01</span>       <span style=\"color: #008080; text-decoration-color: #008080; font-weight: bold\">0.01</span>       <span style=\"color: #008080; text-decoration-color: #008080; font-weight: bold\">0.01</span>       <span style=\"color: #008080; text-decoration-color: #008080; font-weight: bold\">0.01</span>\n",
       " <span style=\"color: #008080; text-decoration-color: #008080; font-weight: bold\">0.01</span>       <span style=\"color: #008080; text-decoration-color: #008080; font-weight: bold\">0.01</span>       <span style=\"color: #008080; text-decoration-color: #008080; font-weight: bold\">0.01</span>       <span style=\"color: #008080; text-decoration-color: #008080; font-weight: bold\">0.01</span>       <span style=\"color: #008080; text-decoration-color: #008080; font-weight: bold\">0.01</span>       <span style=\"color: #008080; text-decoration-color: #008080; font-weight: bold\">0.01</span>\n",
       " <span style=\"color: #008080; text-decoration-color: #008080; font-weight: bold\">0.01</span>       <span style=\"color: #008080; text-decoration-color: #008080; font-weight: bold\">0.01</span>       <span style=\"color: #008080; text-decoration-color: #008080; font-weight: bold\">0.01</span>       <span style=\"color: #008080; text-decoration-color: #008080; font-weight: bold\">0.01</span>       <span style=\"color: #008080; text-decoration-color: #008080; font-weight: bold\">0.01</span>       <span style=\"color: #008080; text-decoration-color: #008080; font-weight: bold\">0.01</span>\n",
       " <span style=\"color: #008080; text-decoration-color: #008080; font-weight: bold\">0.01</span>       <span style=\"color: #008080; text-decoration-color: #008080; font-weight: bold\">0.01</span>       <span style=\"color: #008080; text-decoration-color: #008080; font-weight: bold\">0.01</span>       <span style=\"color: #008080; text-decoration-color: #008080; font-weight: bold\">0.01</span>       <span style=\"color: #008080; text-decoration-color: #008080; font-weight: bold\">0.01</span>       <span style=\"color: #008080; text-decoration-color: #008080; font-weight: bold\">0.01</span>\n",
       " <span style=\"color: #008080; text-decoration-color: #008080; font-weight: bold\">0.01</span>       <span style=\"color: #008080; text-decoration-color: #008080; font-weight: bold\">0.01</span>       <span style=\"color: #008080; text-decoration-color: #008080; font-weight: bold\">0.01</span>       <span style=\"color: #008080; text-decoration-color: #008080; font-weight: bold\">0.01</span>       <span style=\"color: #008080; text-decoration-color: #008080; font-weight: bold\">0.01</span>       <span style=\"color: #008080; text-decoration-color: #008080; font-weight: bold\">0.01</span>\n",
       " <span style=\"color: #008080; text-decoration-color: #008080; font-weight: bold\">0.01</span>       <span style=\"color: #008080; text-decoration-color: #008080; font-weight: bold\">0.01</span>       <span style=\"color: #008080; text-decoration-color: #008080; font-weight: bold\">0.01</span>       <span style=\"color: #008080; text-decoration-color: #008080; font-weight: bold\">0.01</span>       <span style=\"color: #008080; text-decoration-color: #008080; font-weight: bold\">0.01</span>       <span style=\"color: #008080; text-decoration-color: #008080; font-weight: bold\">0.01</span>\n",
       " <span style=\"color: #008080; text-decoration-color: #008080; font-weight: bold\">0.01</span>       <span style=\"color: #008080; text-decoration-color: #008080; font-weight: bold\">0.01</span>       <span style=\"color: #008080; text-decoration-color: #008080; font-weight: bold\">0.01</span>       <span style=\"color: #008080; text-decoration-color: #008080; font-weight: bold\">0.01</span>       <span style=\"color: #008080; text-decoration-color: #008080; font-weight: bold\">0.01</span>       <span style=\"color: #008080; text-decoration-color: #008080; font-weight: bold\">0.01</span>\n",
       " <span style=\"color: #008080; text-decoration-color: #008080; font-weight: bold\">0.01</span>       <span style=\"color: #008080; text-decoration-color: #008080; font-weight: bold\">0.01</span>       <span style=\"color: #008080; text-decoration-color: #008080; font-weight: bold\">0.01</span>       <span style=\"color: #008080; text-decoration-color: #008080; font-weight: bold\">0.01</span>       <span style=\"color: #008080; text-decoration-color: #008080; font-weight: bold\">0.01</span>       <span style=\"color: #008080; text-decoration-color: #008080; font-weight: bold\">0.01</span>\n",
       " <span style=\"color: #008080; text-decoration-color: #008080; font-weight: bold\">0.01</span>       <span style=\"color: #008080; text-decoration-color: #008080; font-weight: bold\">0.01</span>       <span style=\"color: #008080; text-decoration-color: #008080; font-weight: bold\">0.01</span>       <span style=\"color: #008080; text-decoration-color: #008080; font-weight: bold\">0.01</span>       <span style=\"color: #008080; text-decoration-color: #008080; font-weight: bold\">0.01</span>       <span style=\"color: #008080; text-decoration-color: #008080; font-weight: bold\">0.01</span>\n",
       " <span style=\"color: #008080; text-decoration-color: #008080; font-weight: bold\">0.01</span>       <span style=\"color: #008080; text-decoration-color: #008080; font-weight: bold\">0.01</span>       <span style=\"color: #008080; text-decoration-color: #008080; font-weight: bold\">0.01</span>       <span style=\"color: #008080; text-decoration-color: #008080; font-weight: bold\">0.01</span>       <span style=\"color: #008080; text-decoration-color: #008080; font-weight: bold\">0.01</span>       <span style=\"color: #008080; text-decoration-color: #008080; font-weight: bold\">0.01</span>\n",
       " <span style=\"color: #008080; text-decoration-color: #008080; font-weight: bold\">0.01</span>       <span style=\"color: #008080; text-decoration-color: #008080; font-weight: bold\">0.01</span>       <span style=\"color: #008080; text-decoration-color: #008080; font-weight: bold\">0.01</span>       <span style=\"color: #008080; text-decoration-color: #008080; font-weight: bold\">0.01</span>       <span style=\"color: #008080; text-decoration-color: #008080; font-weight: bold\">0.07211765</span> <span style=\"color: #008080; text-decoration-color: #008080; font-weight: bold\">0.52247059</span>\n",
       " <span style=\"color: #008080; text-decoration-color: #008080; font-weight: bold\">0.71658826</span> <span style=\"color: #008080; text-decoration-color: #008080; font-weight: bold\">0.61952943</span> <span style=\"color: #008080; text-decoration-color: #008080; font-weight: bold\">0.29729411</span> <span style=\"color: #008080; text-decoration-color: #008080; font-weight: bold\">0.01</span>       <span style=\"color: #008080; text-decoration-color: #008080; font-weight: bold\">0.01</span>       <span style=\"color: #008080; text-decoration-color: #008080; font-weight: bold\">0.01</span>\n",
       " <span style=\"color: #008080; text-decoration-color: #008080; font-weight: bold\">0.01</span>       <span style=\"color: #008080; text-decoration-color: #008080; font-weight: bold\">0.01</span>       <span style=\"color: #008080; text-decoration-color: #008080; font-weight: bold\">0.01</span>       <span style=\"color: #008080; text-decoration-color: #008080; font-weight: bold\">0.01</span>       <span style=\"color: #008080; text-decoration-color: #008080; font-weight: bold\">0.01</span>       <span style=\"color: #008080; text-decoration-color: #008080; font-weight: bold\">0.01</span>\n",
       " <span style=\"color: #008080; text-decoration-color: #008080; font-weight: bold\">0.01</span>       <span style=\"color: #008080; text-decoration-color: #008080; font-weight: bold\">0.01</span>       <span style=\"color: #008080; text-decoration-color: #008080; font-weight: bold\">0.01</span>       <span style=\"color: #008080; text-decoration-color: #008080; font-weight: bold\">0.01</span>       <span style=\"color: #008080; text-decoration-color: #008080; font-weight: bold\">0.01</span>       <span style=\"color: #008080; text-decoration-color: #008080; font-weight: bold\">0.01</span>\n",
       " <span style=\"color: #008080; text-decoration-color: #008080; font-weight: bold\">0.01</span>       <span style=\"color: #008080; text-decoration-color: #008080; font-weight: bold\">0.01</span>       <span style=\"color: #008080; text-decoration-color: #008080; font-weight: bold\">0.01</span>       <span style=\"color: #008080; text-decoration-color: #008080; font-weight: bold\">0.01</span>       <span style=\"color: #008080; text-decoration-color: #008080; font-weight: bold\">0.01</span>       <span style=\"color: #008080; text-decoration-color: #008080; font-weight: bold\">0.01</span>\n",
       " <span style=\"color: #008080; text-decoration-color: #008080; font-weight: bold\">0.01</span>       <span style=\"color: #008080; text-decoration-color: #008080; font-weight: bold\">0.27400002</span> <span style=\"color: #008080; text-decoration-color: #008080; font-weight: bold\">0.79423529</span> <span style=\"color: #008080; text-decoration-color: #008080; font-weight: bold\">0.79423529</span> <span style=\"color: #008080; text-decoration-color: #008080; font-weight: bold\">0.84470588</span> <span style=\"color: #008080; text-decoration-color: #008080; font-weight: bold\">1</span>.\n",
       " <span style=\"color: #008080; text-decoration-color: #008080; font-weight: bold\">1</span>.         <span style=\"color: #008080; text-decoration-color: #008080; font-weight: bold\">0.59623533</span> <span style=\"color: #008080; text-decoration-color: #008080; font-weight: bold\">0.01776471</span> <span style=\"color: #008080; text-decoration-color: #008080; font-weight: bold\">0.01</span>       <span style=\"color: #008080; text-decoration-color: #008080; font-weight: bold\">0.01</span>       <span style=\"color: #008080; text-decoration-color: #008080; font-weight: bold\">0.01</span>\n",
       " <span style=\"color: #008080; text-decoration-color: #008080; font-weight: bold\">0.01</span>       <span style=\"color: #008080; text-decoration-color: #008080; font-weight: bold\">0.01</span>       <span style=\"color: #008080; text-decoration-color: #008080; font-weight: bold\">0.01</span>       <span style=\"color: #008080; text-decoration-color: #008080; font-weight: bold\">0.01</span>       <span style=\"color: #008080; text-decoration-color: #008080; font-weight: bold\">0.01</span>       <span style=\"color: #008080; text-decoration-color: #008080; font-weight: bold\">0.01</span>\n",
       " <span style=\"color: #008080; text-decoration-color: #008080; font-weight: bold\">0.01</span>       <span style=\"color: #008080; text-decoration-color: #008080; font-weight: bold\">0.01</span>       <span style=\"color: #008080; text-decoration-color: #008080; font-weight: bold\">0.01</span>       <span style=\"color: #008080; text-decoration-color: #008080; font-weight: bold\">0.01</span>       <span style=\"color: #008080; text-decoration-color: #008080; font-weight: bold\">0.01</span>       <span style=\"color: #008080; text-decoration-color: #008080; font-weight: bold\">0.01</span>\n",
       " <span style=\"color: #008080; text-decoration-color: #008080; font-weight: bold\">0.01</span>       <span style=\"color: #008080; text-decoration-color: #008080; font-weight: bold\">0.01</span>       <span style=\"color: #008080; text-decoration-color: #008080; font-weight: bold\">0.01</span>       <span style=\"color: #008080; text-decoration-color: #008080; font-weight: bold\">0.01</span>       <span style=\"color: #008080; text-decoration-color: #008080; font-weight: bold\">0.23905884</span> <span style=\"color: #008080; text-decoration-color: #008080; font-weight: bold\">0.70494121</span>\n",
       " <span style=\"color: #008080; text-decoration-color: #008080; font-weight: bold\">0.32835296</span> <span style=\"color: #008080; text-decoration-color: #008080; font-weight: bold\">0.01</span>       <span style=\"color: #008080; text-decoration-color: #008080; font-weight: bold\">0.01</span>       <span style=\"color: #008080; text-decoration-color: #008080; font-weight: bold\">0.18858825</span> <span style=\"color: #008080; text-decoration-color: #008080; font-weight: bold\">0.92235297</span> <span style=\"color: #008080; text-decoration-color: #008080; font-weight: bold\">1</span>.\n",
       " <span style=\"color: #008080; text-decoration-color: #008080; font-weight: bold\">0.35552943</span> <span style=\"color: #008080; text-decoration-color: #008080; font-weight: bold\">0.01</span>       <span style=\"color: #008080; text-decoration-color: #008080; font-weight: bold\">0.01</span>       <span style=\"color: #008080; text-decoration-color: #008080; font-weight: bold\">0.01</span>       <span style=\"color: #008080; text-decoration-color: #008080; font-weight: bold\">0.01</span>       <span style=\"color: #008080; text-decoration-color: #008080; font-weight: bold\">0.01</span>\n",
       " <span style=\"color: #008080; text-decoration-color: #008080; font-weight: bold\">0.01</span>       <span style=\"color: #008080; text-decoration-color: #008080; font-weight: bold\">0.01</span>       <span style=\"color: #008080; text-decoration-color: #008080; font-weight: bold\">0.01</span>       <span style=\"color: #008080; text-decoration-color: #008080; font-weight: bold\">0.01</span>       <span style=\"color: #008080; text-decoration-color: #008080; font-weight: bold\">0.01</span>       <span style=\"color: #008080; text-decoration-color: #008080; font-weight: bold\">0.01</span>\n",
       " <span style=\"color: #008080; text-decoration-color: #008080; font-weight: bold\">0.01</span>       <span style=\"color: #008080; text-decoration-color: #008080; font-weight: bold\">0.01</span>       <span style=\"color: #008080; text-decoration-color: #008080; font-weight: bold\">0.01</span>       <span style=\"color: #008080; text-decoration-color: #008080; font-weight: bold\">0.01</span>       <span style=\"color: #008080; text-decoration-color: #008080; font-weight: bold\">0.01</span>       <span style=\"color: #008080; text-decoration-color: #008080; font-weight: bold\">0.01</span>\n",
       " <span style=\"color: #008080; text-decoration-color: #008080; font-weight: bold\">0.01</span>       <span style=\"color: #008080; text-decoration-color: #008080; font-weight: bold\">0.01</span>       <span style=\"color: #008080; text-decoration-color: #008080; font-weight: bold\">0.34388235</span> <span style=\"color: #008080; text-decoration-color: #008080; font-weight: bold\">0.28952941</span> <span style=\"color: #008080; text-decoration-color: #008080; font-weight: bold\">0.01</span>       <span style=\"color: #008080; text-decoration-color: #008080; font-weight: bold\">0.01</span>\n",
       " <span style=\"color: #008080; text-decoration-color: #008080; font-weight: bold\">0.01</span>       <span style=\"color: #008080; text-decoration-color: #008080; font-weight: bold\">0.01</span>       <span style=\"color: #008080; text-decoration-color: #008080; font-weight: bold\">0.50305885</span> <span style=\"color: #008080; text-decoration-color: #008080; font-weight: bold\">1</span>.         <span style=\"color: #008080; text-decoration-color: #008080; font-weight: bold\">0.61176473</span> <span style=\"color: #008080; text-decoration-color: #008080; font-weight: bold\">0.01</span>\n",
       " <span style=\"color: #008080; text-decoration-color: #008080; font-weight: bold\">0.01</span>       <span style=\"color: #008080; text-decoration-color: #008080; font-weight: bold\">0.01</span>       <span style=\"color: #008080; text-decoration-color: #008080; font-weight: bold\">0.01</span>       <span style=\"color: #008080; text-decoration-color: #008080; font-weight: bold\">0.01</span>       <span style=\"color: #008080; text-decoration-color: #008080; font-weight: bold\">0.01</span>       <span style=\"color: #008080; text-decoration-color: #008080; font-weight: bold\">0.01</span>\n",
       " <span style=\"color: #008080; text-decoration-color: #008080; font-weight: bold\">0.01</span>       <span style=\"color: #008080; text-decoration-color: #008080; font-weight: bold\">0.01</span>       <span style=\"color: #008080; text-decoration-color: #008080; font-weight: bold\">0.01</span>       <span style=\"color: #008080; text-decoration-color: #008080; font-weight: bold\">0.01</span>       <span style=\"color: #008080; text-decoration-color: #008080; font-weight: bold\">0.01</span>       <span style=\"color: #008080; text-decoration-color: #008080; font-weight: bold\">0.01</span>\n",
       " <span style=\"color: #008080; text-decoration-color: #008080; font-weight: bold\">0.01</span>       <span style=\"color: #008080; text-decoration-color: #008080; font-weight: bold\">0.01</span>       <span style=\"color: #008080; text-decoration-color: #008080; font-weight: bold\">0.01</span>       <span style=\"color: #008080; text-decoration-color: #008080; font-weight: bold\">0.01</span>       <span style=\"color: #008080; text-decoration-color: #008080; font-weight: bold\">0.01</span>       <span style=\"color: #008080; text-decoration-color: #008080; font-weight: bold\">0.01</span>\n",
       " <span style=\"color: #008080; text-decoration-color: #008080; font-weight: bold\">0.01</span>       <span style=\"color: #008080; text-decoration-color: #008080; font-weight: bold\">0.01</span>       <span style=\"color: #008080; text-decoration-color: #008080; font-weight: bold\">0.01</span>       <span style=\"color: #008080; text-decoration-color: #008080; font-weight: bold\">0.01</span>       <span style=\"color: #008080; text-decoration-color: #008080; font-weight: bold\">0.01</span>       <span style=\"color: #008080; text-decoration-color: #008080; font-weight: bold\">0.01</span>\n",
       " <span style=\"color: #008080; text-decoration-color: #008080; font-weight: bold\">0.37105882</span> <span style=\"color: #008080; text-decoration-color: #008080; font-weight: bold\">1</span>.         <span style=\"color: #008080; text-decoration-color: #008080; font-weight: bold\">0.61564708</span> <span style=\"color: #008080; text-decoration-color: #008080; font-weight: bold\">0.01</span>       <span style=\"color: #008080; text-decoration-color: #008080; font-weight: bold\">0.01</span>       <span style=\"color: #008080; text-decoration-color: #008080; font-weight: bold\">0.01</span>\n",
       " <span style=\"color: #008080; text-decoration-color: #008080; font-weight: bold\">0.01</span>       <span style=\"color: #008080; text-decoration-color: #008080; font-weight: bold\">0.01</span>       <span style=\"color: #008080; text-decoration-color: #008080; font-weight: bold\">0.01</span>       <span style=\"color: #008080; text-decoration-color: #008080; font-weight: bold\">0.01</span>       <span style=\"color: #008080; text-decoration-color: #008080; font-weight: bold\">0.01</span>       <span style=\"color: #008080; text-decoration-color: #008080; font-weight: bold\">0.01</span>\n",
       " <span style=\"color: #008080; text-decoration-color: #008080; font-weight: bold\">0.01</span>       <span style=\"color: #008080; text-decoration-color: #008080; font-weight: bold\">0.01</span>       <span style=\"color: #008080; text-decoration-color: #008080; font-weight: bold\">0.01</span>       <span style=\"color: #008080; text-decoration-color: #008080; font-weight: bold\">0.01</span>       <span style=\"color: #008080; text-decoration-color: #008080; font-weight: bold\">0.01</span>       <span style=\"color: #008080; text-decoration-color: #008080; font-weight: bold\">0.01</span>\n",
       " <span style=\"color: #008080; text-decoration-color: #008080; font-weight: bold\">0.01</span>       <span style=\"color: #008080; text-decoration-color: #008080; font-weight: bold\">0.01</span>       <span style=\"color: #008080; text-decoration-color: #008080; font-weight: bold\">0.01</span>       <span style=\"color: #008080; text-decoration-color: #008080; font-weight: bold\">0.01</span>       <span style=\"color: #008080; text-decoration-color: #008080; font-weight: bold\">0.01</span>       <span style=\"color: #008080; text-decoration-color: #008080; font-weight: bold\">0.01</span>\n",
       " <span style=\"color: #008080; text-decoration-color: #008080; font-weight: bold\">0.01</span>       <span style=\"color: #008080; text-decoration-color: #008080; font-weight: bold\">0.01</span>       <span style=\"color: #008080; text-decoration-color: #008080; font-weight: bold\">0.01</span>       <span style=\"color: #008080; text-decoration-color: #008080; font-weight: bold\">0.01</span>       <span style=\"color: #008080; text-decoration-color: #008080; font-weight: bold\">0.43705884</span> <span style=\"color: #008080; text-decoration-color: #008080; font-weight: bold\">1</span>.\n",
       " <span style=\"color: #008080; text-decoration-color: #008080; font-weight: bold\">0.42152941</span> <span style=\"color: #008080; text-decoration-color: #008080; font-weight: bold\">0.01</span>       <span style=\"color: #008080; text-decoration-color: #008080; font-weight: bold\">0.01</span>       <span style=\"color: #008080; text-decoration-color: #008080; font-weight: bold\">0.01</span>       <span style=\"color: #008080; text-decoration-color: #008080; font-weight: bold\">0.01</span>       <span style=\"color: #008080; text-decoration-color: #008080; font-weight: bold\">0.01</span>\n",
       " <span style=\"color: #008080; text-decoration-color: #008080; font-weight: bold\">0.01</span>       <span style=\"color: #008080; text-decoration-color: #008080; font-weight: bold\">0.01</span>       <span style=\"color: #008080; text-decoration-color: #008080; font-weight: bold\">0.01</span>       <span style=\"color: #008080; text-decoration-color: #008080; font-weight: bold\">0.01</span>       <span style=\"color: #008080; text-decoration-color: #008080; font-weight: bold\">0.01</span>       <span style=\"color: #008080; text-decoration-color: #008080; font-weight: bold\">0.01</span>\n",
       " <span style=\"color: #008080; text-decoration-color: #008080; font-weight: bold\">0.01</span>       <span style=\"color: #008080; text-decoration-color: #008080; font-weight: bold\">0.01</span>       <span style=\"color: #008080; text-decoration-color: #008080; font-weight: bold\">0.01</span>       <span style=\"color: #008080; text-decoration-color: #008080; font-weight: bold\">0.01</span>       <span style=\"color: #008080; text-decoration-color: #008080; font-weight: bold\">0.01</span>       <span style=\"color: #008080; text-decoration-color: #008080; font-weight: bold\">0.01</span>\n",
       " <span style=\"color: #008080; text-decoration-color: #008080; font-weight: bold\">0.01</span>       <span style=\"color: #008080; text-decoration-color: #008080; font-weight: bold\">0.01</span>       <span style=\"color: #008080; text-decoration-color: #008080; font-weight: bold\">0.01</span>       <span style=\"color: #008080; text-decoration-color: #008080; font-weight: bold\">0.01</span>       <span style=\"color: #008080; text-decoration-color: #008080; font-weight: bold\">0.01</span>       <span style=\"color: #008080; text-decoration-color: #008080; font-weight: bold\">0.01</span>\n",
       " <span style=\"color: #008080; text-decoration-color: #008080; font-weight: bold\">0.01</span>       <span style=\"color: #008080; text-decoration-color: #008080; font-weight: bold\">0.01</span>       <span style=\"color: #008080; text-decoration-color: #008080; font-weight: bold\">0.68941176</span> <span style=\"color: #008080; text-decoration-color: #008080; font-weight: bold\">0.86800003</span> <span style=\"color: #008080; text-decoration-color: #008080; font-weight: bold\">0.09152941</span> <span style=\"color: #008080; text-decoration-color: #008080; font-weight: bold\">0.01</span>\n",
       " <span style=\"color: #008080; text-decoration-color: #008080; font-weight: bold\">0.01</span>       <span style=\"color: #008080; text-decoration-color: #008080; font-weight: bold\">0.01</span>       <span style=\"color: #008080; text-decoration-color: #008080; font-weight: bold\">0.01</span>       <span style=\"color: #008080; text-decoration-color: #008080; font-weight: bold\">0.01</span>       <span style=\"color: #008080; text-decoration-color: #008080; font-weight: bold\">0.01</span>       <span style=\"color: #008080; text-decoration-color: #008080; font-weight: bold\">0.01</span>\n",
       " <span style=\"color: #008080; text-decoration-color: #008080; font-weight: bold\">0.01</span>       <span style=\"color: #008080; text-decoration-color: #008080; font-weight: bold\">0.01</span>       <span style=\"color: #008080; text-decoration-color: #008080; font-weight: bold\">0.01</span>       <span style=\"color: #008080; text-decoration-color: #008080; font-weight: bold\">0.01</span>       <span style=\"color: #008080; text-decoration-color: #008080; font-weight: bold\">0.01</span>       <span style=\"color: #008080; text-decoration-color: #008080; font-weight: bold\">0.01</span>\n",
       " <span style=\"color: #008080; text-decoration-color: #008080; font-weight: bold\">0.01</span>       <span style=\"color: #008080; text-decoration-color: #008080; font-weight: bold\">0.01</span>       <span style=\"color: #008080; text-decoration-color: #008080; font-weight: bold\">0.01</span>       <span style=\"color: #008080; text-decoration-color: #008080; font-weight: bold\">0.01</span>       <span style=\"color: #008080; text-decoration-color: #008080; font-weight: bold\">0.01</span>       <span style=\"color: #008080; text-decoration-color: #008080; font-weight: bold\">0.01</span>\n",
       " <span style=\"color: #008080; text-decoration-color: #008080; font-weight: bold\">0.01</span>       <span style=\"color: #008080; text-decoration-color: #008080; font-weight: bold\">0.01</span>       <span style=\"color: #008080; text-decoration-color: #008080; font-weight: bold\">0.01</span>       <span style=\"color: #008080; text-decoration-color: #008080; font-weight: bold\">0.01</span>       <span style=\"color: #008080; text-decoration-color: #008080; font-weight: bold\">0.01</span>       <span style=\"color: #008080; text-decoration-color: #008080; font-weight: bold\">0.21964706</span>\n",
       " <span style=\"color: #008080; text-decoration-color: #008080; font-weight: bold\">0.88741177</span> <span style=\"color: #008080; text-decoration-color: #008080; font-weight: bold\">0.37494117</span> <span style=\"color: #008080; text-decoration-color: #008080; font-weight: bold\">0.01</span>       <span style=\"color: #008080; text-decoration-color: #008080; font-weight: bold\">0.01</span>       <span style=\"color: #008080; text-decoration-color: #008080; font-weight: bold\">0.01</span>       <span style=\"color: #008080; text-decoration-color: #008080; font-weight: bold\">0.01</span>\n",
       " <span style=\"color: #008080; text-decoration-color: #008080; font-weight: bold\">0.01</span>       <span style=\"color: #008080; text-decoration-color: #008080; font-weight: bold\">0.01</span>       <span style=\"color: #008080; text-decoration-color: #008080; font-weight: bold\">0.01</span>       <span style=\"color: #008080; text-decoration-color: #008080; font-weight: bold\">0.01</span>       <span style=\"color: #008080; text-decoration-color: #008080; font-weight: bold\">0.01</span>       <span style=\"color: #008080; text-decoration-color: #008080; font-weight: bold\">0.01</span>\n",
       " <span style=\"color: #008080; text-decoration-color: #008080; font-weight: bold\">0.01</span>       <span style=\"color: #008080; text-decoration-color: #008080; font-weight: bold\">0.01</span>       <span style=\"color: #008080; text-decoration-color: #008080; font-weight: bold\">0.01</span>       <span style=\"color: #008080; text-decoration-color: #008080; font-weight: bold\">0.01</span>       <span style=\"color: #008080; text-decoration-color: #008080; font-weight: bold\">0.01</span>       <span style=\"color: #008080; text-decoration-color: #008080; font-weight: bold\">0.01</span>\n",
       " <span style=\"color: #008080; text-decoration-color: #008080; font-weight: bold\">0.01</span>       <span style=\"color: #008080; text-decoration-color: #008080; font-weight: bold\">0.01</span>       <span style=\"color: #008080; text-decoration-color: #008080; font-weight: bold\">0.01</span>       <span style=\"color: #008080; text-decoration-color: #008080; font-weight: bold\">0.01</span>       <span style=\"color: #008080; text-decoration-color: #008080; font-weight: bold\">0.01</span>       <span style=\"color: #008080; text-decoration-color: #008080; font-weight: bold\">0.01</span>\n",
       " <span style=\"color: #008080; text-decoration-color: #008080; font-weight: bold\">0.01</span>       <span style=\"color: #008080; text-decoration-color: #008080; font-weight: bold\">0.01</span>       <span style=\"color: #008080; text-decoration-color: #008080; font-weight: bold\">0.01388235</span> <span style=\"color: #008080; text-decoration-color: #008080; font-weight: bold\">0.68941176</span> <span style=\"color: #008080; text-decoration-color: #008080; font-weight: bold\">0.55741179</span> <span style=\"color: #008080; text-decoration-color: #008080; font-weight: bold\">0.01</span>\n",
       " <span style=\"color: #008080; text-decoration-color: #008080; font-weight: bold\">0.01</span>       <span style=\"color: #008080; text-decoration-color: #008080; font-weight: bold\">0.01</span>       <span style=\"color: #008080; text-decoration-color: #008080; font-weight: bold\">0.01</span>       <span style=\"color: #008080; text-decoration-color: #008080; font-weight: bold\">0.01</span>       <span style=\"color: #008080; text-decoration-color: #008080; font-weight: bold\">0.01</span>       <span style=\"color: #008080; text-decoration-color: #008080; font-weight: bold\">0.01</span>\n",
       " <span style=\"color: #008080; text-decoration-color: #008080; font-weight: bold\">0.01</span>       <span style=\"color: #008080; text-decoration-color: #008080; font-weight: bold\">0.01</span>       <span style=\"color: #008080; text-decoration-color: #008080; font-weight: bold\">0.01</span>       <span style=\"color: #008080; text-decoration-color: #008080; font-weight: bold\">0.01</span>       <span style=\"color: #008080; text-decoration-color: #008080; font-weight: bold\">0.01</span>       <span style=\"color: #008080; text-decoration-color: #008080; font-weight: bold\">0.01</span>\n",
       " <span style=\"color: #008080; text-decoration-color: #008080; font-weight: bold\">0.01</span>       <span style=\"color: #008080; text-decoration-color: #008080; font-weight: bold\">0.01</span>       <span style=\"color: #008080; text-decoration-color: #008080; font-weight: bold\">0.01</span>       <span style=\"color: #008080; text-decoration-color: #008080; font-weight: bold\">0.01</span>       <span style=\"color: #008080; text-decoration-color: #008080; font-weight: bold\">0.01</span>       <span style=\"color: #008080; text-decoration-color: #008080; font-weight: bold\">0.01</span>\n",
       " <span style=\"color: #008080; text-decoration-color: #008080; font-weight: bold\">0.01</span>       <span style=\"color: #008080; text-decoration-color: #008080; font-weight: bold\">0.01</span>       <span style=\"color: #008080; text-decoration-color: #008080; font-weight: bold\">0.01</span>       <span style=\"color: #008080; text-decoration-color: #008080; font-weight: bold\">0.01</span>       <span style=\"color: #008080; text-decoration-color: #008080; font-weight: bold\">0.01</span>       <span style=\"color: #008080; text-decoration-color: #008080; font-weight: bold\">0.01</span>\n",
       " <span style=\"color: #008080; text-decoration-color: #008080; font-weight: bold\">0.46811765</span> <span style=\"color: #008080; text-decoration-color: #008080; font-weight: bold\">0.63505882</span> <span style=\"color: #008080; text-decoration-color: #008080; font-weight: bold\">0.02941176</span> <span style=\"color: #008080; text-decoration-color: #008080; font-weight: bold\">0.01</span>       <span style=\"color: #008080; text-decoration-color: #008080; font-weight: bold\">0.01</span>       <span style=\"color: #008080; text-decoration-color: #008080; font-weight: bold\">0.01</span>\n",
       " <span style=\"color: #008080; text-decoration-color: #008080; font-weight: bold\">0.01</span>       <span style=\"color: #008080; text-decoration-color: #008080; font-weight: bold\">0.01</span>       <span style=\"color: #008080; text-decoration-color: #008080; font-weight: bold\">0.01</span>       <span style=\"color: #008080; text-decoration-color: #008080; font-weight: bold\">0.01</span>       <span style=\"color: #008080; text-decoration-color: #008080; font-weight: bold\">0.01</span>       <span style=\"color: #008080; text-decoration-color: #008080; font-weight: bold\">0.01</span>\n",
       " <span style=\"color: #008080; text-decoration-color: #008080; font-weight: bold\">0.01</span>       <span style=\"color: #008080; text-decoration-color: #008080; font-weight: bold\">0.01</span>       <span style=\"color: #008080; text-decoration-color: #008080; font-weight: bold\">0.01</span>       <span style=\"color: #008080; text-decoration-color: #008080; font-weight: bold\">0.01</span>       <span style=\"color: #008080; text-decoration-color: #008080; font-weight: bold\">0.01</span>       <span style=\"color: #008080; text-decoration-color: #008080; font-weight: bold\">0.01</span>\n",
       " <span style=\"color: #008080; text-decoration-color: #008080; font-weight: bold\">0.01</span>       <span style=\"color: #008080; text-decoration-color: #008080; font-weight: bold\">0.01</span>       <span style=\"color: #008080; text-decoration-color: #008080; font-weight: bold\">0.01</span>       <span style=\"color: #008080; text-decoration-color: #008080; font-weight: bold\">0.01</span>       <span style=\"color: #008080; text-decoration-color: #008080; font-weight: bold\">0.01</span>       <span style=\"color: #008080; text-decoration-color: #008080; font-weight: bold\">0.01</span>\n",
       " <span style=\"color: #008080; text-decoration-color: #008080; font-weight: bold\">0.01</span>       <span style=\"color: #008080; text-decoration-color: #008080; font-weight: bold\">0.01</span>       <span style=\"color: #008080; text-decoration-color: #008080; font-weight: bold\">0.01</span>       <span style=\"color: #008080; text-decoration-color: #008080; font-weight: bold\">0.36329412</span> <span style=\"color: #008080; text-decoration-color: #008080; font-weight: bold\">0.68164706</span> <span style=\"color: #008080; text-decoration-color: #008080; font-weight: bold\">0.09541176</span>\n",
       " <span style=\"color: #008080; text-decoration-color: #008080; font-weight: bold\">0.01</span>       <span style=\"color: #008080; text-decoration-color: #008080; font-weight: bold\">0.01</span>       <span style=\"color: #008080; text-decoration-color: #008080; font-weight: bold\">0.01</span>       <span style=\"color: #008080; text-decoration-color: #008080; font-weight: bold\">0.01</span>       <span style=\"color: #008080; text-decoration-color: #008080; font-weight: bold\">0.01</span>       <span style=\"color: #008080; text-decoration-color: #008080; font-weight: bold\">0.01</span>\n",
       " <span style=\"color: #008080; text-decoration-color: #008080; font-weight: bold\">0.01</span>       <span style=\"color: #008080; text-decoration-color: #008080; font-weight: bold\">0.01</span>       <span style=\"color: #008080; text-decoration-color: #008080; font-weight: bold\">0.01</span>       <span style=\"color: #008080; text-decoration-color: #008080; font-weight: bold\">0.01</span>       <span style=\"color: #008080; text-decoration-color: #008080; font-weight: bold\">0.01</span>       <span style=\"color: #008080; text-decoration-color: #008080; font-weight: bold\">0.01</span>\n",
       " <span style=\"color: #008080; text-decoration-color: #008080; font-weight: bold\">0.01</span>       <span style=\"color: #008080; text-decoration-color: #008080; font-weight: bold\">0.01</span>       <span style=\"color: #008080; text-decoration-color: #008080; font-weight: bold\">0.01</span>       <span style=\"color: #008080; text-decoration-color: #008080; font-weight: bold\">0.01</span>       <span style=\"color: #008080; text-decoration-color: #008080; font-weight: bold\">0.01</span>       <span style=\"color: #008080; text-decoration-color: #008080; font-weight: bold\">0.01</span>\n",
       " <span style=\"color: #008080; text-decoration-color: #008080; font-weight: bold\">0.01</span>       <span style=\"color: #008080; text-decoration-color: #008080; font-weight: bold\">0.01</span>       <span style=\"color: #008080; text-decoration-color: #008080; font-weight: bold\">0.01</span>       <span style=\"color: #008080; text-decoration-color: #008080; font-weight: bold\">0.01</span>       <span style=\"color: #008080; text-decoration-color: #008080; font-weight: bold\">0.01</span>       <span style=\"color: #008080; text-decoration-color: #008080; font-weight: bold\">0.01</span>\n",
       " <span style=\"color: #008080; text-decoration-color: #008080; font-weight: bold\">0.27011764</span> <span style=\"color: #008080; text-decoration-color: #008080; font-weight: bold\">0.69329411</span> <span style=\"color: #008080; text-decoration-color: #008080; font-weight: bold\">0.12258823</span> <span style=\"color: #008080; text-decoration-color: #008080; font-weight: bold\">0.01</span>       <span style=\"color: #008080; text-decoration-color: #008080; font-weight: bold\">0.01</span>       <span style=\"color: #008080; text-decoration-color: #008080; font-weight: bold\">0.01</span>\n",
       " <span style=\"color: #008080; text-decoration-color: #008080; font-weight: bold\">0.01</span>       <span style=\"color: #008080; text-decoration-color: #008080; font-weight: bold\">0.15752943</span> <span style=\"color: #008080; text-decoration-color: #008080; font-weight: bold\">0.01776471</span> <span style=\"color: #008080; text-decoration-color: #008080; font-weight: bold\">0.01</span>       <span style=\"color: #008080; text-decoration-color: #008080; font-weight: bold\">0.01</span>       <span style=\"color: #008080; text-decoration-color: #008080; font-weight: bold\">0.01</span>\n",
       " <span style=\"color: #008080; text-decoration-color: #008080; font-weight: bold\">0.01</span>       <span style=\"color: #008080; text-decoration-color: #008080; font-weight: bold\">0.01</span>       <span style=\"color: #008080; text-decoration-color: #008080; font-weight: bold\">0.01</span>       <span style=\"color: #008080; text-decoration-color: #008080; font-weight: bold\">0.01</span>       <span style=\"color: #008080; text-decoration-color: #008080; font-weight: bold\">0.01</span>       <span style=\"color: #008080; text-decoration-color: #008080; font-weight: bold\">0.01</span>\n",
       " <span style=\"color: #008080; text-decoration-color: #008080; font-weight: bold\">0.01</span>       <span style=\"color: #008080; text-decoration-color: #008080; font-weight: bold\">0.01</span>       <span style=\"color: #008080; text-decoration-color: #008080; font-weight: bold\">0.01</span>       <span style=\"color: #008080; text-decoration-color: #008080; font-weight: bold\">0.01</span>       <span style=\"color: #008080; text-decoration-color: #008080; font-weight: bold\">0.01</span>       <span style=\"color: #008080; text-decoration-color: #008080; font-weight: bold\">0.01</span>\n",
       " <span style=\"color: #008080; text-decoration-color: #008080; font-weight: bold\">0.01</span>       <span style=\"color: #008080; text-decoration-color: #008080; font-weight: bold\">0.01</span>       <span style=\"color: #008080; text-decoration-color: #008080; font-weight: bold\">0.01</span>       <span style=\"color: #008080; text-decoration-color: #008080; font-weight: bold\">0.24294119</span> <span style=\"color: #008080; text-decoration-color: #008080; font-weight: bold\">0.81364709</span> <span style=\"color: #008080; text-decoration-color: #008080; font-weight: bold\">0.32447058</span>\n",
       " <span style=\"color: #008080; text-decoration-color: #008080; font-weight: bold\">0.01</span>       <span style=\"color: #008080; text-decoration-color: #008080; font-weight: bold\">0.01388235</span> <span style=\"color: #008080; text-decoration-color: #008080; font-weight: bold\">0.02941176</span> <span style=\"color: #008080; text-decoration-color: #008080; font-weight: bold\">0.14588237</span> <span style=\"color: #008080; text-decoration-color: #008080; font-weight: bold\">0.64670593</span> <span style=\"color: #008080; text-decoration-color: #008080; font-weight: bold\">0.4875294</span>\n",
       " <span style=\"color: #008080; text-decoration-color: #008080; font-weight: bold\">0.01388235</span> <span style=\"color: #008080; text-decoration-color: #008080; font-weight: bold\">0.01</span>       <span style=\"color: #008080; text-decoration-color: #008080; font-weight: bold\">0.01</span>       <span style=\"color: #008080; text-decoration-color: #008080; font-weight: bold\">0.01</span>       <span style=\"color: #008080; text-decoration-color: #008080; font-weight: bold\">0.01</span>       <span style=\"color: #008080; text-decoration-color: #008080; font-weight: bold\">0.01</span>\n",
       " <span style=\"color: #008080; text-decoration-color: #008080; font-weight: bold\">0.01</span>       <span style=\"color: #008080; text-decoration-color: #008080; font-weight: bold\">0.01</span>       <span style=\"color: #008080; text-decoration-color: #008080; font-weight: bold\">0.01</span>       <span style=\"color: #008080; text-decoration-color: #008080; font-weight: bold\">0.01</span>       <span style=\"color: #008080; text-decoration-color: #008080; font-weight: bold\">0.01</span>       <span style=\"color: #008080; text-decoration-color: #008080; font-weight: bold\">0.01</span>\n",
       " <span style=\"color: #008080; text-decoration-color: #008080; font-weight: bold\">0.01</span>       <span style=\"color: #008080; text-decoration-color: #008080; font-weight: bold\">0.01</span>       <span style=\"color: #008080; text-decoration-color: #008080; font-weight: bold\">0.01</span>       <span style=\"color: #008080; text-decoration-color: #008080; font-weight: bold\">0.01</span>       <span style=\"color: #008080; text-decoration-color: #008080; font-weight: bold\">0.01</span>       <span style=\"color: #008080; text-decoration-color: #008080; font-weight: bold\">0.04882353</span>\n",
       " <span style=\"color: #008080; text-decoration-color: #008080; font-weight: bold\">0.46423531</span> <span style=\"color: #008080; text-decoration-color: #008080; font-weight: bold\">1</span>.         <span style=\"color: #008080; text-decoration-color: #008080; font-weight: bold\">1</span>.         <span style=\"color: #008080; text-decoration-color: #008080; font-weight: bold\">1</span>.         <span style=\"color: #008080; text-decoration-color: #008080; font-weight: bold\">1</span>.         <span style=\"color: #008080; text-decoration-color: #008080; font-weight: bold\">1</span>.\n",
       " <span style=\"color: #008080; text-decoration-color: #008080; font-weight: bold\">1</span>.         <span style=\"color: #008080; text-decoration-color: #008080; font-weight: bold\">1</span>.         <span style=\"color: #008080; text-decoration-color: #008080; font-weight: bold\">1</span>.         <span style=\"color: #008080; text-decoration-color: #008080; font-weight: bold\">0.1847059</span>  <span style=\"color: #008080; text-decoration-color: #008080; font-weight: bold\">0.01</span>       <span style=\"color: #008080; text-decoration-color: #008080; font-weight: bold\">0.01</span>\n",
       " <span style=\"color: #008080; text-decoration-color: #008080; font-weight: bold\">0.01</span>       <span style=\"color: #008080; text-decoration-color: #008080; font-weight: bold\">0.01</span>       <span style=\"color: #008080; text-decoration-color: #008080; font-weight: bold\">0.01</span>       <span style=\"color: #008080; text-decoration-color: #008080; font-weight: bold\">0.01</span>       <span style=\"color: #008080; text-decoration-color: #008080; font-weight: bold\">0.01</span>       <span style=\"color: #008080; text-decoration-color: #008080; font-weight: bold\">0.01</span>\n",
       " <span style=\"color: #008080; text-decoration-color: #008080; font-weight: bold\">0.01</span>       <span style=\"color: #008080; text-decoration-color: #008080; font-weight: bold\">0.01</span>       <span style=\"color: #008080; text-decoration-color: #008080; font-weight: bold\">0.01</span>       <span style=\"color: #008080; text-decoration-color: #008080; font-weight: bold\">0.01</span>       <span style=\"color: #008080; text-decoration-color: #008080; font-weight: bold\">0.01</span>       <span style=\"color: #008080; text-decoration-color: #008080; font-weight: bold\">0.01</span>\n",
       " <span style=\"color: #008080; text-decoration-color: #008080; font-weight: bold\">0.01</span>       <span style=\"color: #008080; text-decoration-color: #008080; font-weight: bold\">0.01</span>       <span style=\"color: #008080; text-decoration-color: #008080; font-weight: bold\">0.01</span>       <span style=\"color: #008080; text-decoration-color: #008080; font-weight: bold\">0.08376471</span> <span style=\"color: #008080; text-decoration-color: #008080; font-weight: bold\">0.46811765</span> <span style=\"color: #008080; text-decoration-color: #008080; font-weight: bold\">0.5069412</span>\n",
       " <span style=\"color: #008080; text-decoration-color: #008080; font-weight: bold\">0.44482353</span> <span style=\"color: #008080; text-decoration-color: #008080; font-weight: bold\">0.51082355</span> <span style=\"color: #008080; text-decoration-color: #008080; font-weight: bold\">0.53023529</span> <span style=\"color: #008080; text-decoration-color: #008080; font-weight: bold\">0.53023529</span> <span style=\"color: #008080; text-decoration-color: #008080; font-weight: bold\">0.53023529</span> <span style=\"color: #008080; text-decoration-color: #008080; font-weight: bold\">0.5069412</span>\n",
       " <span style=\"color: #008080; text-decoration-color: #008080; font-weight: bold\">0.29341176</span> <span style=\"color: #008080; text-decoration-color: #008080; font-weight: bold\">0.01</span>       <span style=\"color: #008080; text-decoration-color: #008080; font-weight: bold\">0.01</span>       <span style=\"color: #008080; text-decoration-color: #008080; font-weight: bold\">0.01</span>       <span style=\"color: #008080; text-decoration-color: #008080; font-weight: bold\">0.01</span>       <span style=\"color: #008080; text-decoration-color: #008080; font-weight: bold\">0.01</span>\n",
       " <span style=\"color: #008080; text-decoration-color: #008080; font-weight: bold\">0.01</span>       <span style=\"color: #008080; text-decoration-color: #008080; font-weight: bold\">0.01</span>       <span style=\"color: #008080; text-decoration-color: #008080; font-weight: bold\">0.01</span>       <span style=\"color: #008080; text-decoration-color: #008080; font-weight: bold\">0.01</span>       <span style=\"color: #008080; text-decoration-color: #008080; font-weight: bold\">0.01</span>       <span style=\"color: #008080; text-decoration-color: #008080; font-weight: bold\">0.01</span>\n",
       " <span style=\"color: #008080; text-decoration-color: #008080; font-weight: bold\">0.01</span>       <span style=\"color: #008080; text-decoration-color: #008080; font-weight: bold\">0.01</span>       <span style=\"color: #008080; text-decoration-color: #008080; font-weight: bold\">0.01</span>       <span style=\"color: #008080; text-decoration-color: #008080; font-weight: bold\">0.01</span>       <span style=\"color: #008080; text-decoration-color: #008080; font-weight: bold\">0.01</span>       <span style=\"color: #008080; text-decoration-color: #008080; font-weight: bold\">0.01</span>\n",
       " <span style=\"color: #008080; text-decoration-color: #008080; font-weight: bold\">0.01</span>       <span style=\"color: #008080; text-decoration-color: #008080; font-weight: bold\">0.01</span>       <span style=\"color: #008080; text-decoration-color: #008080; font-weight: bold\">0.01</span>       <span style=\"color: #008080; text-decoration-color: #008080; font-weight: bold\">0.01</span>       <span style=\"color: #008080; text-decoration-color: #008080; font-weight: bold\">0.01</span>       <span style=\"color: #008080; text-decoration-color: #008080; font-weight: bold\">0.01</span>\n",
       " <span style=\"color: #008080; text-decoration-color: #008080; font-weight: bold\">0.01</span>       <span style=\"color: #008080; text-decoration-color: #008080; font-weight: bold\">0.01</span>       <span style=\"color: #008080; text-decoration-color: #008080; font-weight: bold\">0.01</span>       <span style=\"color: #008080; text-decoration-color: #008080; font-weight: bold\">0.01</span>       <span style=\"color: #008080; text-decoration-color: #008080; font-weight: bold\">0.01</span>       <span style=\"color: #008080; text-decoration-color: #008080; font-weight: bold\">0.01</span>\n",
       " <span style=\"color: #008080; text-decoration-color: #008080; font-weight: bold\">0.01</span>       <span style=\"color: #008080; text-decoration-color: #008080; font-weight: bold\">0.01</span>       <span style=\"color: #008080; text-decoration-color: #008080; font-weight: bold\">0.01</span>       <span style=\"color: #008080; text-decoration-color: #008080; font-weight: bold\">0.01</span>       <span style=\"color: #008080; text-decoration-color: #008080; font-weight: bold\">0.01</span>       <span style=\"color: #008080; text-decoration-color: #008080; font-weight: bold\">0.01</span>\n",
       " <span style=\"color: #008080; text-decoration-color: #008080; font-weight: bold\">0.01</span>       <span style=\"color: #008080; text-decoration-color: #008080; font-weight: bold\">0.01</span>       <span style=\"color: #008080; text-decoration-color: #008080; font-weight: bold\">0.01</span>       <span style=\"color: #008080; text-decoration-color: #008080; font-weight: bold\">0.01</span>       <span style=\"color: #008080; text-decoration-color: #008080; font-weight: bold\">0.01</span>       <span style=\"color: #008080; text-decoration-color: #008080; font-weight: bold\">0.01</span>\n",
       " <span style=\"color: #008080; text-decoration-color: #008080; font-weight: bold\">0.01</span>       <span style=\"color: #008080; text-decoration-color: #008080; font-weight: bold\">0.01</span>       <span style=\"color: #008080; text-decoration-color: #008080; font-weight: bold\">0.01</span>       <span style=\"color: #008080; text-decoration-color: #008080; font-weight: bold\">0.01</span>       <span style=\"color: #008080; text-decoration-color: #008080; font-weight: bold\">0.01</span>       <span style=\"color: #008080; text-decoration-color: #008080; font-weight: bold\">0.01</span>\n",
       " <span style=\"color: #008080; text-decoration-color: #008080; font-weight: bold\">0.01</span>       <span style=\"color: #008080; text-decoration-color: #008080; font-weight: bold\">0.01</span>       <span style=\"color: #008080; text-decoration-color: #008080; font-weight: bold\">0.01</span>       <span style=\"color: #008080; text-decoration-color: #008080; font-weight: bold\">0.01</span>       <span style=\"color: #008080; text-decoration-color: #008080; font-weight: bold\">0.01</span>       <span style=\"color: #008080; text-decoration-color: #008080; font-weight: bold\">0.01</span>\n",
       " <span style=\"color: #008080; text-decoration-color: #008080; font-weight: bold\">0.01</span>       <span style=\"color: #008080; text-decoration-color: #008080; font-weight: bold\">0.01</span>       <span style=\"color: #008080; text-decoration-color: #008080; font-weight: bold\">0.01</span>       <span style=\"color: #008080; text-decoration-color: #008080; font-weight: bold\">0.01</span>       <span style=\"color: #008080; text-decoration-color: #008080; font-weight: bold\">0.01</span>       <span style=\"color: #008080; text-decoration-color: #008080; font-weight: bold\">0.01</span>\n",
       " <span style=\"color: #008080; text-decoration-color: #008080; font-weight: bold\">0.01</span>       <span style=\"color: #008080; text-decoration-color: #008080; font-weight: bold\">0.01</span>       <span style=\"color: #008080; text-decoration-color: #008080; font-weight: bold\">0.01</span>       <span style=\"color: #008080; text-decoration-color: #008080; font-weight: bold\">0.01</span>       <span style=\"color: #008080; text-decoration-color: #008080; font-weight: bold\">0.01</span>       <span style=\"color: #008080; text-decoration-color: #008080; font-weight: bold\">0.01</span>\n",
       " <span style=\"color: #008080; text-decoration-color: #008080; font-weight: bold\">0.01</span>       <span style=\"color: #008080; text-decoration-color: #008080; font-weight: bold\">0.01</span>       <span style=\"color: #008080; text-decoration-color: #008080; font-weight: bold\">0.01</span>       <span style=\"color: #008080; text-decoration-color: #008080; font-weight: bold\">0.01</span>       <span style=\"color: #008080; text-decoration-color: #008080; font-weight: bold\">0.01</span>       <span style=\"color: #008080; text-decoration-color: #008080; font-weight: bold\">0.01</span>\n",
       " <span style=\"color: #008080; text-decoration-color: #008080; font-weight: bold\">0.01</span>       <span style=\"color: #008080; text-decoration-color: #008080; font-weight: bold\">0.01</span>       <span style=\"color: #008080; text-decoration-color: #008080; font-weight: bold\">0.01</span>       <span style=\"color: #008080; text-decoration-color: #008080; font-weight: bold\">0.01</span>       <span style=\"color: #008080; text-decoration-color: #008080; font-weight: bold\">0.01</span>       <span style=\"color: #008080; text-decoration-color: #008080; font-weight: bold\">0.01</span>\n",
       " <span style=\"color: #008080; text-decoration-color: #008080; font-weight: bold\">0.01</span>       <span style=\"color: #008080; text-decoration-color: #008080; font-weight: bold\">0.01</span>       <span style=\"color: #008080; text-decoration-color: #008080; font-weight: bold\">0.01</span>       <span style=\"color: #008080; text-decoration-color: #008080; font-weight: bold\">0.01</span>       <span style=\"color: #008080; text-decoration-color: #008080; font-weight: bold\">0.01</span>       <span style=\"color: #008080; text-decoration-color: #008080; font-weight: bold\">0.01</span>\n",
       " <span style=\"color: #008080; text-decoration-color: #008080; font-weight: bold\">0.01</span>       <span style=\"color: #008080; text-decoration-color: #008080; font-weight: bold\">0.01</span>       <span style=\"color: #008080; text-decoration-color: #008080; font-weight: bold\">0.01</span>       <span style=\"color: #008080; text-decoration-color: #008080; font-weight: bold\">0.01</span>       <span style=\"color: #008080; text-decoration-color: #008080; font-weight: bold\">0.01</span>       <span style=\"color: #008080; text-decoration-color: #008080; font-weight: bold\">0.01</span>\n",
       " <span style=\"color: #008080; text-decoration-color: #008080; font-weight: bold\">0.01</span>       <span style=\"color: #008080; text-decoration-color: #008080; font-weight: bold\">0.01</span>       <span style=\"color: #008080; text-decoration-color: #008080; font-weight: bold\">0.01</span>       <span style=\"color: #008080; text-decoration-color: #008080; font-weight: bold\">0.01</span>       <span style=\"color: #008080; text-decoration-color: #008080; font-weight: bold\">0.01</span>       <span style=\"color: #008080; text-decoration-color: #008080; font-weight: bold\">0.01</span>\n",
       " <span style=\"color: #008080; text-decoration-color: #008080; font-weight: bold\">0.01</span>       <span style=\"color: #008080; text-decoration-color: #008080; font-weight: bold\">0.01</span>       <span style=\"color: #008080; text-decoration-color: #008080; font-weight: bold\">0.01</span>       <span style=\"color: #008080; text-decoration-color: #008080; font-weight: bold\">0.01</span>       <span style=\"color: #008080; text-decoration-color: #008080; font-weight: bold\">0.01</span>       <span style=\"color: #008080; text-decoration-color: #008080; font-weight: bold\">0.01</span>\n",
       " <span style=\"color: #008080; text-decoration-color: #008080; font-weight: bold\">0.01</span>       <span style=\"color: #008080; text-decoration-color: #008080; font-weight: bold\">0.01</span>       <span style=\"color: #008080; text-decoration-color: #008080; font-weight: bold\">0.01</span>       <span style=\"color: #008080; text-decoration-color: #008080; font-weight: bold\">0.01</span>       <span style=\"color: #008080; text-decoration-color: #008080; font-weight: bold\">0.01</span>       <span style=\"color: #008080; text-decoration-color: #008080; font-weight: bold\">0.01</span>\n",
       " <span style=\"color: #008080; text-decoration-color: #008080; font-weight: bold\">0.01</span>       <span style=\"color: #008080; text-decoration-color: #008080; font-weight: bold\">0.01</span>       <span style=\"color: #008080; text-decoration-color: #008080; font-weight: bold\">0.01</span>       <span style=\"color: #008080; text-decoration-color: #008080; font-weight: bold\">0.01</span>       <span style=\"color: #008080; text-decoration-color: #008080; font-weight: bold\">0.01</span>       <span style=\"color: #008080; text-decoration-color: #008080; font-weight: bold\">0.01</span>\n",
       " <span style=\"color: #008080; text-decoration-color: #008080; font-weight: bold\">0.01</span>       <span style=\"color: #008080; text-decoration-color: #008080; font-weight: bold\">0.01</span>       <span style=\"color: #008080; text-decoration-color: #008080; font-weight: bold\">0.01</span>       <span style=\"color: #008080; text-decoration-color: #008080; font-weight: bold\">0.01</span>       <span style=\"color: #008080; text-decoration-color: #008080; font-weight: bold\">0.01</span>       <span style=\"color: #008080; text-decoration-color: #008080; font-weight: bold\">0.01</span>\n",
       " <span style=\"color: #008080; text-decoration-color: #008080; font-weight: bold\">0.01</span>       <span style=\"color: #008080; text-decoration-color: #008080; font-weight: bold\">0.01</span>       <span style=\"color: #008080; text-decoration-color: #008080; font-weight: bold\">0.01</span>       <span style=\"color: #008080; text-decoration-color: #008080; font-weight: bold\">0.01</span>       <span style=\"color: #008080; text-decoration-color: #008080; font-weight: bold\">0.01</span>       <span style=\"color: #008080; text-decoration-color: #008080; font-weight: bold\">0.01</span>\n",
       " <span style=\"color: #008080; text-decoration-color: #008080; font-weight: bold\">0.01</span>       <span style=\"color: #008080; text-decoration-color: #008080; font-weight: bold\">0.01</span>       <span style=\"color: #008080; text-decoration-color: #008080; font-weight: bold\">0.01</span>       <span style=\"color: #008080; text-decoration-color: #008080; font-weight: bold\">0.01</span>       <span style=\"color: #008080; text-decoration-color: #008080; font-weight: bold\">0.01</span>       <span style=\"color: #008080; text-decoration-color: #008080; font-weight: bold\">0.01</span>\n",
       " <span style=\"color: #008080; text-decoration-color: #008080; font-weight: bold\">0.01</span>       <span style=\"color: #008080; text-decoration-color: #008080; font-weight: bold\">0.01</span>       <span style=\"color: #008080; text-decoration-color: #008080; font-weight: bold\">0.01</span>       <span style=\"color: #008080; text-decoration-color: #008080; font-weight: bold\">0.01</span>       <span style=\"color: #008080; text-decoration-color: #008080; font-weight: bold\">0.01</span>       <span style=\"color: #008080; text-decoration-color: #008080; font-weight: bold\">0.01</span>\n",
       " <span style=\"color: #008080; text-decoration-color: #008080; font-weight: bold\">0.01</span>       <span style=\"color: #008080; text-decoration-color: #008080; font-weight: bold\">0.01</span>       <span style=\"color: #008080; text-decoration-color: #008080; font-weight: bold\">0.01</span>       <span style=\"color: #008080; text-decoration-color: #008080; font-weight: bold\">0.01</span>       <span style=\"color: #008080; text-decoration-color: #008080; font-weight: bold\">0.01</span>       <span style=\"color: #008080; text-decoration-color: #008080; font-weight: bold\">0.01</span>\n",
       " <span style=\"color: #008080; text-decoration-color: #008080; font-weight: bold\">0.01</span>       <span style=\"color: #008080; text-decoration-color: #008080; font-weight: bold\">0.01</span>       <span style=\"color: #008080; text-decoration-color: #008080; font-weight: bold\">0.01</span>       <span style=\"color: #008080; text-decoration-color: #008080; font-weight: bold\">0.01</span>       <span style=\"color: #008080; text-decoration-color: #008080; font-weight: bold\">0.01</span>       <span style=\"color: #008080; text-decoration-color: #008080; font-weight: bold\">0.01</span>\n",
       " <span style=\"color: #008080; text-decoration-color: #008080; font-weight: bold\">0.01</span>       <span style=\"color: #008080; text-decoration-color: #008080; font-weight: bold\">0.01</span>       <span style=\"color: #008080; text-decoration-color: #008080; font-weight: bold\">0.01</span>       <span style=\"color: #008080; text-decoration-color: #008080; font-weight: bold\">0.01</span>       <span style=\"color: #008080; text-decoration-color: #008080; font-weight: bold\">0.01</span>       <span style=\"color: #008080; text-decoration-color: #008080; font-weight: bold\">0.01</span>\n",
       " <span style=\"color: #008080; text-decoration-color: #008080; font-weight: bold\">0.01</span>       <span style=\"color: #008080; text-decoration-color: #008080; font-weight: bold\">0.01</span>       <span style=\"color: #008080; text-decoration-color: #008080; font-weight: bold\">0.01</span>       <span style=\"color: #008080; text-decoration-color: #008080; font-weight: bold\">0.01</span>       <span style=\"color: #008080; text-decoration-color: #008080; font-weight: bold\">0.01</span>       <span style=\"color: #008080; text-decoration-color: #008080; font-weight: bold\">0.01</span>\n",
       " <span style=\"color: #008080; text-decoration-color: #008080; font-weight: bold\">0.01</span>       <span style=\"color: #008080; text-decoration-color: #008080; font-weight: bold\">0.01</span>       <span style=\"color: #008080; text-decoration-color: #008080; font-weight: bold\">0.01</span>       <span style=\"color: #008080; text-decoration-color: #008080; font-weight: bold\">0.01</span>       <span style=\"color: #008080; text-decoration-color: #008080; font-weight: bold\">0.01</span>       <span style=\"color: #008080; text-decoration-color: #008080; font-weight: bold\">0.01</span>\n",
       " <span style=\"color: #008080; text-decoration-color: #008080; font-weight: bold\">0.01</span>       <span style=\"color: #008080; text-decoration-color: #008080; font-weight: bold\">0.01</span>       <span style=\"color: #008080; text-decoration-color: #008080; font-weight: bold\">0.01</span>       <span style=\"color: #008080; text-decoration-color: #008080; font-weight: bold\">0.01</span>       <span style=\"color: #008080; text-decoration-color: #008080; font-weight: bold\">0.01</span>       <span style=\"color: #008080; text-decoration-color: #008080; font-weight: bold\">0.01</span>\n",
       " <span style=\"color: #008080; text-decoration-color: #008080; font-weight: bold\">0.01</span>       <span style=\"color: #008080; text-decoration-color: #008080; font-weight: bold\">0.01</span>       <span style=\"color: #008080; text-decoration-color: #008080; font-weight: bold\">0.01</span>       <span style=\"color: #008080; text-decoration-color: #008080; font-weight: bold\">0.01</span>       <span style=\"color: #008080; text-decoration-color: #008080; font-weight: bold\">0.01</span>       <span style=\"color: #008080; text-decoration-color: #008080; font-weight: bold\">0.01</span>\n",
       " <span style=\"color: #008080; text-decoration-color: #008080; font-weight: bold\">0.01</span>       <span style=\"color: #008080; text-decoration-color: #008080; font-weight: bold\">0.01</span>       <span style=\"color: #008080; text-decoration-color: #008080; font-weight: bold\">0.01</span>       <span style=\"color: #008080; text-decoration-color: #008080; font-weight: bold\">0.01</span>       <span style=\"color: #008080; text-decoration-color: #008080; font-weight: bold\">0.01</span>       <span style=\"color: #008080; text-decoration-color: #008080; font-weight: bold\">0.01</span>\n",
       " <span style=\"color: #008080; text-decoration-color: #008080; font-weight: bold\">0.01</span>       <span style=\"color: #008080; text-decoration-color: #008080; font-weight: bold\">0.01</span>       <span style=\"color: #008080; text-decoration-color: #008080; font-weight: bold\">0.01</span>       <span style=\"color: #008080; text-decoration-color: #008080; font-weight: bold\">0.01</span>       <span style=\"color: #008080; text-decoration-color: #008080; font-weight: bold\">0.01</span>       <span style=\"color: #008080; text-decoration-color: #008080; font-weight: bold\">0.01</span>\n",
       " <span style=\"color: #008080; text-decoration-color: #008080; font-weight: bold\">0.01</span>       <span style=\"color: #008080; text-decoration-color: #008080; font-weight: bold\">0.01</span>       <span style=\"color: #008080; text-decoration-color: #008080; font-weight: bold\">0.01</span>       <span style=\"color: #008080; text-decoration-color: #008080; font-weight: bold\">0.01</span>       <span style=\"color: #008080; text-decoration-color: #008080; font-weight: bold\">0.01</span>       <span style=\"color: #008080; text-decoration-color: #008080; font-weight: bold\">0.01</span>\n",
       " <span style=\"color: #008080; text-decoration-color: #008080; font-weight: bold\">0.01</span>       <span style=\"color: #008080; text-decoration-color: #008080; font-weight: bold\">0.01</span>       <span style=\"color: #008080; text-decoration-color: #008080; font-weight: bold\">0.01</span>       <span style=\"color: #008080; text-decoration-color: #008080; font-weight: bold\">0.01</span>       <span style=\"color: #008080; text-decoration-color: #008080; font-weight: bold\">0.01</span>       <span style=\"color: #008080; text-decoration-color: #008080; font-weight: bold\">0.01</span>\n",
       " <span style=\"color: #008080; text-decoration-color: #008080; font-weight: bold\">0.01</span>       <span style=\"color: #008080; text-decoration-color: #008080; font-weight: bold\">0.01</span>       <span style=\"color: #008080; text-decoration-color: #008080; font-weight: bold\">0.01</span>       <span style=\"color: #008080; text-decoration-color: #008080; font-weight: bold\">0.01</span>       <span style=\"color: #008080; text-decoration-color: #008080; font-weight: bold\">0.01</span>       <span style=\"color: #008080; text-decoration-color: #008080; font-weight: bold\">0.01</span>\n",
       " <span style=\"color: #008080; text-decoration-color: #008080; font-weight: bold\">0.01</span>       <span style=\"color: #008080; text-decoration-color: #008080; font-weight: bold\">0.01</span>       <span style=\"color: #008080; text-decoration-color: #008080; font-weight: bold\">0.01</span>       <span style=\"color: #008080; text-decoration-color: #008080; font-weight: bold\">0.01</span>       <span style=\"color: #008080; text-decoration-color: #008080; font-weight: bold\">0.01</span>       <span style=\"color: #008080; text-decoration-color: #008080; font-weight: bold\">0.01</span>\n",
       " <span style=\"color: #008080; text-decoration-color: #008080; font-weight: bold\">0.01</span>       <span style=\"color: #008080; text-decoration-color: #008080; font-weight: bold\">0.01</span>       <span style=\"color: #008080; text-decoration-color: #008080; font-weight: bold\">0.01</span>       <span style=\"color: #008080; text-decoration-color: #008080; font-weight: bold\">0.01</span>       <span style=\"color: #008080; text-decoration-color: #008080; font-weight: bold\">0.01</span>       <span style=\"color: #008080; text-decoration-color: #008080; font-weight: bold\">0.01</span>\n",
       " <span style=\"color: #008080; text-decoration-color: #008080; font-weight: bold\">0.01</span>       <span style=\"color: #008080; text-decoration-color: #008080; font-weight: bold\">0.01</span>       <span style=\"color: #008080; text-decoration-color: #008080; font-weight: bold\">0.01</span>       <span style=\"color: #008080; text-decoration-color: #008080; font-weight: bold\">0.01</span>       <span style=\"color: #008080; text-decoration-color: #008080; font-weight: bold\">0.01</span>       <span style=\"color: #008080; text-decoration-color: #008080; font-weight: bold\">0.01</span>\n",
       " <span style=\"color: #008080; text-decoration-color: #008080; font-weight: bold\">0.01</span>       <span style=\"color: #008080; text-decoration-color: #008080; font-weight: bold\">0.01</span>       <span style=\"color: #008080; text-decoration-color: #008080; font-weight: bold\">0.01</span>       <span style=\"color: #008080; text-decoration-color: #008080; font-weight: bold\">0.01</span>       <span style=\"color: #008080; text-decoration-color: #008080; font-weight: bold\">0.01</span>       <span style=\"color: #008080; text-decoration-color: #008080; font-weight: bold\">0.01</span>\n",
       " <span style=\"color: #008080; text-decoration-color: #008080; font-weight: bold\">0.01</span>       <span style=\"color: #008080; text-decoration-color: #008080; font-weight: bold\">0.01</span>       <span style=\"color: #008080; text-decoration-color: #008080; font-weight: bold\">0.01</span>       <span style=\"color: #008080; text-decoration-color: #008080; font-weight: bold\">0.01</span>       <span style=\"color: #008080; text-decoration-color: #008080; font-weight: bold\">0.01</span>       <span style=\"color: #008080; text-decoration-color: #008080; font-weight: bold\">0.01</span>\n",
       " <span style=\"color: #008080; text-decoration-color: #008080; font-weight: bold\">0.01</span>       <span style=\"color: #008080; text-decoration-color: #008080; font-weight: bold\">0.01</span>       <span style=\"color: #008080; text-decoration-color: #008080; font-weight: bold\">0.01</span>       <span style=\"color: #008080; text-decoration-color: #008080; font-weight: bold\">0.01</span>       <span style=\"color: #008080; text-decoration-color: #008080; font-weight: bold\">0.01</span>       <span style=\"color: #008080; text-decoration-color: #008080; font-weight: bold\">0.01</span>\n",
       " <span style=\"color: #008080; text-decoration-color: #008080; font-weight: bold\">0.01</span>       <span style=\"color: #008080; text-decoration-color: #008080; font-weight: bold\">0.01</span>       <span style=\"color: #008080; text-decoration-color: #008080; font-weight: bold\">0.01</span>       <span style=\"color: #008080; text-decoration-color: #008080; font-weight: bold\">0.01</span>       <span style=\"color: #008080; text-decoration-color: #008080; font-weight: bold\">0.01</span>       <span style=\"color: #008080; text-decoration-color: #008080; font-weight: bold\">0.01</span>\n",
       " <span style=\"color: #008080; text-decoration-color: #008080; font-weight: bold\">0.01</span>       <span style=\"color: #008080; text-decoration-color: #008080; font-weight: bold\">0.01</span>       <span style=\"color: #008080; text-decoration-color: #008080; font-weight: bold\">0.01</span>       <span style=\"color: #008080; text-decoration-color: #008080; font-weight: bold\">0.01</span>       <span style=\"color: #008080; text-decoration-color: #008080; font-weight: bold\">0.01</span>       <span style=\"color: #008080; text-decoration-color: #008080; font-weight: bold\">0.01</span>\n",
       " <span style=\"color: #008080; text-decoration-color: #008080; font-weight: bold\">0.01</span>       <span style=\"color: #008080; text-decoration-color: #008080; font-weight: bold\">0.01</span>       <span style=\"color: #008080; text-decoration-color: #008080; font-weight: bold\">0.01</span>       <span style=\"color: #008080; text-decoration-color: #008080; font-weight: bold\">0.01</span>       <span style=\"color: #008080; text-decoration-color: #008080; font-weight: bold\">0.01</span>      <span style=\"font-weight: bold\">]</span>\n",
       "</pre>\n"
      ],
      "text/plain": [
       "\u001b[1m[\u001b[0m\u001b[1;36m2\u001b[0m.         \u001b[1;36m0.01\u001b[0m       \u001b[1;36m0.01\u001b[0m       \u001b[1;36m0.01\u001b[0m       \u001b[1;36m0.01\u001b[0m       \u001b[1;36m0.01\u001b[0m\n",
       " \u001b[1;36m0.01\u001b[0m       \u001b[1;36m0.01\u001b[0m       \u001b[1;36m0.01\u001b[0m       \u001b[1;36m0.01\u001b[0m       \u001b[1;36m0.01\u001b[0m       \u001b[1;36m0.01\u001b[0m\n",
       " \u001b[1;36m0.01\u001b[0m       \u001b[1;36m0.01\u001b[0m       \u001b[1;36m0.01\u001b[0m       \u001b[1;36m0.01\u001b[0m       \u001b[1;36m0.01\u001b[0m       \u001b[1;36m0.01\u001b[0m\n",
       " \u001b[1;36m0.01\u001b[0m       \u001b[1;36m0.01\u001b[0m       \u001b[1;36m0.01\u001b[0m       \u001b[1;36m0.01\u001b[0m       \u001b[1;36m0.01\u001b[0m       \u001b[1;36m0.01\u001b[0m\n",
       " \u001b[1;36m0.01\u001b[0m       \u001b[1;36m0.01\u001b[0m       \u001b[1;36m0.01\u001b[0m       \u001b[1;36m0.01\u001b[0m       \u001b[1;36m0.01\u001b[0m       \u001b[1;36m0.01\u001b[0m\n",
       " \u001b[1;36m0.01\u001b[0m       \u001b[1;36m0.01\u001b[0m       \u001b[1;36m0.01\u001b[0m       \u001b[1;36m0.01\u001b[0m       \u001b[1;36m0.01\u001b[0m       \u001b[1;36m0.01\u001b[0m\n",
       " \u001b[1;36m0.01\u001b[0m       \u001b[1;36m0.01\u001b[0m       \u001b[1;36m0.01\u001b[0m       \u001b[1;36m0.01\u001b[0m       \u001b[1;36m0.01\u001b[0m       \u001b[1;36m0.01\u001b[0m\n",
       " \u001b[1;36m0.01\u001b[0m       \u001b[1;36m0.01\u001b[0m       \u001b[1;36m0.01\u001b[0m       \u001b[1;36m0.01\u001b[0m       \u001b[1;36m0.01\u001b[0m       \u001b[1;36m0.01\u001b[0m\n",
       " \u001b[1;36m0.01\u001b[0m       \u001b[1;36m0.01\u001b[0m       \u001b[1;36m0.01\u001b[0m       \u001b[1;36m0.01\u001b[0m       \u001b[1;36m0.01\u001b[0m       \u001b[1;36m0.01\u001b[0m\n",
       " \u001b[1;36m0.01\u001b[0m       \u001b[1;36m0.01\u001b[0m       \u001b[1;36m0.01\u001b[0m       \u001b[1;36m0.01\u001b[0m       \u001b[1;36m0.01\u001b[0m       \u001b[1;36m0.01\u001b[0m\n",
       " \u001b[1;36m0.01\u001b[0m       \u001b[1;36m0.01\u001b[0m       \u001b[1;36m0.01\u001b[0m       \u001b[1;36m0.01\u001b[0m       \u001b[1;36m0.01\u001b[0m       \u001b[1;36m0.01\u001b[0m\n",
       " \u001b[1;36m0.01\u001b[0m       \u001b[1;36m0.01\u001b[0m       \u001b[1;36m0.01\u001b[0m       \u001b[1;36m0.01\u001b[0m       \u001b[1;36m0.01\u001b[0m       \u001b[1;36m0.01\u001b[0m\n",
       " \u001b[1;36m0.01\u001b[0m       \u001b[1;36m0.01\u001b[0m       \u001b[1;36m0.01\u001b[0m       \u001b[1;36m0.01\u001b[0m       \u001b[1;36m0.01\u001b[0m       \u001b[1;36m0.01\u001b[0m\n",
       " \u001b[1;36m0.01\u001b[0m       \u001b[1;36m0.01\u001b[0m       \u001b[1;36m0.01\u001b[0m       \u001b[1;36m0.01\u001b[0m       \u001b[1;36m0.01\u001b[0m       \u001b[1;36m0.01\u001b[0m\n",
       " \u001b[1;36m0.01\u001b[0m       \u001b[1;36m0.01\u001b[0m       \u001b[1;36m0.01\u001b[0m       \u001b[1;36m0.01\u001b[0m       \u001b[1;36m0.01\u001b[0m       \u001b[1;36m0.01\u001b[0m\n",
       " \u001b[1;36m0.01\u001b[0m       \u001b[1;36m0.01\u001b[0m       \u001b[1;36m0.01\u001b[0m       \u001b[1;36m0.01\u001b[0m       \u001b[1;36m0.01\u001b[0m       \u001b[1;36m0.01\u001b[0m\n",
       " \u001b[1;36m0.01\u001b[0m       \u001b[1;36m0.01\u001b[0m       \u001b[1;36m0.01\u001b[0m       \u001b[1;36m0.01\u001b[0m       \u001b[1;36m0.01\u001b[0m       \u001b[1;36m0.01\u001b[0m\n",
       " \u001b[1;36m0.01\u001b[0m       \u001b[1;36m0.01\u001b[0m       \u001b[1;36m0.01\u001b[0m       \u001b[1;36m0.01\u001b[0m       \u001b[1;36m0.01\u001b[0m       \u001b[1;36m0.01\u001b[0m\n",
       " \u001b[1;36m0.01\u001b[0m       \u001b[1;36m0.01\u001b[0m       \u001b[1;36m0.01\u001b[0m       \u001b[1;36m0.01\u001b[0m       \u001b[1;36m0.01\u001b[0m       \u001b[1;36m0.01\u001b[0m\n",
       " \u001b[1;36m0.01\u001b[0m       \u001b[1;36m0.01\u001b[0m       \u001b[1;36m0.01\u001b[0m       \u001b[1;36m0.01\u001b[0m       \u001b[1;36m0.01\u001b[0m       \u001b[1;36m0.01\u001b[0m\n",
       " \u001b[1;36m0.01\u001b[0m       \u001b[1;36m0.01\u001b[0m       \u001b[1;36m0.01\u001b[0m       \u001b[1;36m0.01\u001b[0m       \u001b[1;36m0.07211765\u001b[0m \u001b[1;36m0.52247059\u001b[0m\n",
       " \u001b[1;36m0.71658826\u001b[0m \u001b[1;36m0.61952943\u001b[0m \u001b[1;36m0.29729411\u001b[0m \u001b[1;36m0.01\u001b[0m       \u001b[1;36m0.01\u001b[0m       \u001b[1;36m0.01\u001b[0m\n",
       " \u001b[1;36m0.01\u001b[0m       \u001b[1;36m0.01\u001b[0m       \u001b[1;36m0.01\u001b[0m       \u001b[1;36m0.01\u001b[0m       \u001b[1;36m0.01\u001b[0m       \u001b[1;36m0.01\u001b[0m\n",
       " \u001b[1;36m0.01\u001b[0m       \u001b[1;36m0.01\u001b[0m       \u001b[1;36m0.01\u001b[0m       \u001b[1;36m0.01\u001b[0m       \u001b[1;36m0.01\u001b[0m       \u001b[1;36m0.01\u001b[0m\n",
       " \u001b[1;36m0.01\u001b[0m       \u001b[1;36m0.01\u001b[0m       \u001b[1;36m0.01\u001b[0m       \u001b[1;36m0.01\u001b[0m       \u001b[1;36m0.01\u001b[0m       \u001b[1;36m0.01\u001b[0m\n",
       " \u001b[1;36m0.01\u001b[0m       \u001b[1;36m0.27400002\u001b[0m \u001b[1;36m0.79423529\u001b[0m \u001b[1;36m0.79423529\u001b[0m \u001b[1;36m0.84470588\u001b[0m \u001b[1;36m1\u001b[0m.\n",
       " \u001b[1;36m1\u001b[0m.         \u001b[1;36m0.59623533\u001b[0m \u001b[1;36m0.01776471\u001b[0m \u001b[1;36m0.01\u001b[0m       \u001b[1;36m0.01\u001b[0m       \u001b[1;36m0.01\u001b[0m\n",
       " \u001b[1;36m0.01\u001b[0m       \u001b[1;36m0.01\u001b[0m       \u001b[1;36m0.01\u001b[0m       \u001b[1;36m0.01\u001b[0m       \u001b[1;36m0.01\u001b[0m       \u001b[1;36m0.01\u001b[0m\n",
       " \u001b[1;36m0.01\u001b[0m       \u001b[1;36m0.01\u001b[0m       \u001b[1;36m0.01\u001b[0m       \u001b[1;36m0.01\u001b[0m       \u001b[1;36m0.01\u001b[0m       \u001b[1;36m0.01\u001b[0m\n",
       " \u001b[1;36m0.01\u001b[0m       \u001b[1;36m0.01\u001b[0m       \u001b[1;36m0.01\u001b[0m       \u001b[1;36m0.01\u001b[0m       \u001b[1;36m0.23905884\u001b[0m \u001b[1;36m0.70494121\u001b[0m\n",
       " \u001b[1;36m0.32835296\u001b[0m \u001b[1;36m0.01\u001b[0m       \u001b[1;36m0.01\u001b[0m       \u001b[1;36m0.18858825\u001b[0m \u001b[1;36m0.92235297\u001b[0m \u001b[1;36m1\u001b[0m.\n",
       " \u001b[1;36m0.35552943\u001b[0m \u001b[1;36m0.01\u001b[0m       \u001b[1;36m0.01\u001b[0m       \u001b[1;36m0.01\u001b[0m       \u001b[1;36m0.01\u001b[0m       \u001b[1;36m0.01\u001b[0m\n",
       " \u001b[1;36m0.01\u001b[0m       \u001b[1;36m0.01\u001b[0m       \u001b[1;36m0.01\u001b[0m       \u001b[1;36m0.01\u001b[0m       \u001b[1;36m0.01\u001b[0m       \u001b[1;36m0.01\u001b[0m\n",
       " \u001b[1;36m0.01\u001b[0m       \u001b[1;36m0.01\u001b[0m       \u001b[1;36m0.01\u001b[0m       \u001b[1;36m0.01\u001b[0m       \u001b[1;36m0.01\u001b[0m       \u001b[1;36m0.01\u001b[0m\n",
       " \u001b[1;36m0.01\u001b[0m       \u001b[1;36m0.01\u001b[0m       \u001b[1;36m0.34388235\u001b[0m \u001b[1;36m0.28952941\u001b[0m \u001b[1;36m0.01\u001b[0m       \u001b[1;36m0.01\u001b[0m\n",
       " \u001b[1;36m0.01\u001b[0m       \u001b[1;36m0.01\u001b[0m       \u001b[1;36m0.50305885\u001b[0m \u001b[1;36m1\u001b[0m.         \u001b[1;36m0.61176473\u001b[0m \u001b[1;36m0.01\u001b[0m\n",
       " \u001b[1;36m0.01\u001b[0m       \u001b[1;36m0.01\u001b[0m       \u001b[1;36m0.01\u001b[0m       \u001b[1;36m0.01\u001b[0m       \u001b[1;36m0.01\u001b[0m       \u001b[1;36m0.01\u001b[0m\n",
       " \u001b[1;36m0.01\u001b[0m       \u001b[1;36m0.01\u001b[0m       \u001b[1;36m0.01\u001b[0m       \u001b[1;36m0.01\u001b[0m       \u001b[1;36m0.01\u001b[0m       \u001b[1;36m0.01\u001b[0m\n",
       " \u001b[1;36m0.01\u001b[0m       \u001b[1;36m0.01\u001b[0m       \u001b[1;36m0.01\u001b[0m       \u001b[1;36m0.01\u001b[0m       \u001b[1;36m0.01\u001b[0m       \u001b[1;36m0.01\u001b[0m\n",
       " \u001b[1;36m0.01\u001b[0m       \u001b[1;36m0.01\u001b[0m       \u001b[1;36m0.01\u001b[0m       \u001b[1;36m0.01\u001b[0m       \u001b[1;36m0.01\u001b[0m       \u001b[1;36m0.01\u001b[0m\n",
       " \u001b[1;36m0.37105882\u001b[0m \u001b[1;36m1\u001b[0m.         \u001b[1;36m0.61564708\u001b[0m \u001b[1;36m0.01\u001b[0m       \u001b[1;36m0.01\u001b[0m       \u001b[1;36m0.01\u001b[0m\n",
       " \u001b[1;36m0.01\u001b[0m       \u001b[1;36m0.01\u001b[0m       \u001b[1;36m0.01\u001b[0m       \u001b[1;36m0.01\u001b[0m       \u001b[1;36m0.01\u001b[0m       \u001b[1;36m0.01\u001b[0m\n",
       " \u001b[1;36m0.01\u001b[0m       \u001b[1;36m0.01\u001b[0m       \u001b[1;36m0.01\u001b[0m       \u001b[1;36m0.01\u001b[0m       \u001b[1;36m0.01\u001b[0m       \u001b[1;36m0.01\u001b[0m\n",
       " \u001b[1;36m0.01\u001b[0m       \u001b[1;36m0.01\u001b[0m       \u001b[1;36m0.01\u001b[0m       \u001b[1;36m0.01\u001b[0m       \u001b[1;36m0.01\u001b[0m       \u001b[1;36m0.01\u001b[0m\n",
       " \u001b[1;36m0.01\u001b[0m       \u001b[1;36m0.01\u001b[0m       \u001b[1;36m0.01\u001b[0m       \u001b[1;36m0.01\u001b[0m       \u001b[1;36m0.43705884\u001b[0m \u001b[1;36m1\u001b[0m.\n",
       " \u001b[1;36m0.42152941\u001b[0m \u001b[1;36m0.01\u001b[0m       \u001b[1;36m0.01\u001b[0m       \u001b[1;36m0.01\u001b[0m       \u001b[1;36m0.01\u001b[0m       \u001b[1;36m0.01\u001b[0m\n",
       " \u001b[1;36m0.01\u001b[0m       \u001b[1;36m0.01\u001b[0m       \u001b[1;36m0.01\u001b[0m       \u001b[1;36m0.01\u001b[0m       \u001b[1;36m0.01\u001b[0m       \u001b[1;36m0.01\u001b[0m\n",
       " \u001b[1;36m0.01\u001b[0m       \u001b[1;36m0.01\u001b[0m       \u001b[1;36m0.01\u001b[0m       \u001b[1;36m0.01\u001b[0m       \u001b[1;36m0.01\u001b[0m       \u001b[1;36m0.01\u001b[0m\n",
       " \u001b[1;36m0.01\u001b[0m       \u001b[1;36m0.01\u001b[0m       \u001b[1;36m0.01\u001b[0m       \u001b[1;36m0.01\u001b[0m       \u001b[1;36m0.01\u001b[0m       \u001b[1;36m0.01\u001b[0m\n",
       " \u001b[1;36m0.01\u001b[0m       \u001b[1;36m0.01\u001b[0m       \u001b[1;36m0.68941176\u001b[0m \u001b[1;36m0.86800003\u001b[0m \u001b[1;36m0.09152941\u001b[0m \u001b[1;36m0.01\u001b[0m\n",
       " \u001b[1;36m0.01\u001b[0m       \u001b[1;36m0.01\u001b[0m       \u001b[1;36m0.01\u001b[0m       \u001b[1;36m0.01\u001b[0m       \u001b[1;36m0.01\u001b[0m       \u001b[1;36m0.01\u001b[0m\n",
       " \u001b[1;36m0.01\u001b[0m       \u001b[1;36m0.01\u001b[0m       \u001b[1;36m0.01\u001b[0m       \u001b[1;36m0.01\u001b[0m       \u001b[1;36m0.01\u001b[0m       \u001b[1;36m0.01\u001b[0m\n",
       " \u001b[1;36m0.01\u001b[0m       \u001b[1;36m0.01\u001b[0m       \u001b[1;36m0.01\u001b[0m       \u001b[1;36m0.01\u001b[0m       \u001b[1;36m0.01\u001b[0m       \u001b[1;36m0.01\u001b[0m\n",
       " \u001b[1;36m0.01\u001b[0m       \u001b[1;36m0.01\u001b[0m       \u001b[1;36m0.01\u001b[0m       \u001b[1;36m0.01\u001b[0m       \u001b[1;36m0.01\u001b[0m       \u001b[1;36m0.21964706\u001b[0m\n",
       " \u001b[1;36m0.88741177\u001b[0m \u001b[1;36m0.37494117\u001b[0m \u001b[1;36m0.01\u001b[0m       \u001b[1;36m0.01\u001b[0m       \u001b[1;36m0.01\u001b[0m       \u001b[1;36m0.01\u001b[0m\n",
       " \u001b[1;36m0.01\u001b[0m       \u001b[1;36m0.01\u001b[0m       \u001b[1;36m0.01\u001b[0m       \u001b[1;36m0.01\u001b[0m       \u001b[1;36m0.01\u001b[0m       \u001b[1;36m0.01\u001b[0m\n",
       " \u001b[1;36m0.01\u001b[0m       \u001b[1;36m0.01\u001b[0m       \u001b[1;36m0.01\u001b[0m       \u001b[1;36m0.01\u001b[0m       \u001b[1;36m0.01\u001b[0m       \u001b[1;36m0.01\u001b[0m\n",
       " \u001b[1;36m0.01\u001b[0m       \u001b[1;36m0.01\u001b[0m       \u001b[1;36m0.01\u001b[0m       \u001b[1;36m0.01\u001b[0m       \u001b[1;36m0.01\u001b[0m       \u001b[1;36m0.01\u001b[0m\n",
       " \u001b[1;36m0.01\u001b[0m       \u001b[1;36m0.01\u001b[0m       \u001b[1;36m0.01388235\u001b[0m \u001b[1;36m0.68941176\u001b[0m \u001b[1;36m0.55741179\u001b[0m \u001b[1;36m0.01\u001b[0m\n",
       " \u001b[1;36m0.01\u001b[0m       \u001b[1;36m0.01\u001b[0m       \u001b[1;36m0.01\u001b[0m       \u001b[1;36m0.01\u001b[0m       \u001b[1;36m0.01\u001b[0m       \u001b[1;36m0.01\u001b[0m\n",
       " \u001b[1;36m0.01\u001b[0m       \u001b[1;36m0.01\u001b[0m       \u001b[1;36m0.01\u001b[0m       \u001b[1;36m0.01\u001b[0m       \u001b[1;36m0.01\u001b[0m       \u001b[1;36m0.01\u001b[0m\n",
       " \u001b[1;36m0.01\u001b[0m       \u001b[1;36m0.01\u001b[0m       \u001b[1;36m0.01\u001b[0m       \u001b[1;36m0.01\u001b[0m       \u001b[1;36m0.01\u001b[0m       \u001b[1;36m0.01\u001b[0m\n",
       " \u001b[1;36m0.01\u001b[0m       \u001b[1;36m0.01\u001b[0m       \u001b[1;36m0.01\u001b[0m       \u001b[1;36m0.01\u001b[0m       \u001b[1;36m0.01\u001b[0m       \u001b[1;36m0.01\u001b[0m\n",
       " \u001b[1;36m0.46811765\u001b[0m \u001b[1;36m0.63505882\u001b[0m \u001b[1;36m0.02941176\u001b[0m \u001b[1;36m0.01\u001b[0m       \u001b[1;36m0.01\u001b[0m       \u001b[1;36m0.01\u001b[0m\n",
       " \u001b[1;36m0.01\u001b[0m       \u001b[1;36m0.01\u001b[0m       \u001b[1;36m0.01\u001b[0m       \u001b[1;36m0.01\u001b[0m       \u001b[1;36m0.01\u001b[0m       \u001b[1;36m0.01\u001b[0m\n",
       " \u001b[1;36m0.01\u001b[0m       \u001b[1;36m0.01\u001b[0m       \u001b[1;36m0.01\u001b[0m       \u001b[1;36m0.01\u001b[0m       \u001b[1;36m0.01\u001b[0m       \u001b[1;36m0.01\u001b[0m\n",
       " \u001b[1;36m0.01\u001b[0m       \u001b[1;36m0.01\u001b[0m       \u001b[1;36m0.01\u001b[0m       \u001b[1;36m0.01\u001b[0m       \u001b[1;36m0.01\u001b[0m       \u001b[1;36m0.01\u001b[0m\n",
       " \u001b[1;36m0.01\u001b[0m       \u001b[1;36m0.01\u001b[0m       \u001b[1;36m0.01\u001b[0m       \u001b[1;36m0.36329412\u001b[0m \u001b[1;36m0.68164706\u001b[0m \u001b[1;36m0.09541176\u001b[0m\n",
       " \u001b[1;36m0.01\u001b[0m       \u001b[1;36m0.01\u001b[0m       \u001b[1;36m0.01\u001b[0m       \u001b[1;36m0.01\u001b[0m       \u001b[1;36m0.01\u001b[0m       \u001b[1;36m0.01\u001b[0m\n",
       " \u001b[1;36m0.01\u001b[0m       \u001b[1;36m0.01\u001b[0m       \u001b[1;36m0.01\u001b[0m       \u001b[1;36m0.01\u001b[0m       \u001b[1;36m0.01\u001b[0m       \u001b[1;36m0.01\u001b[0m\n",
       " \u001b[1;36m0.01\u001b[0m       \u001b[1;36m0.01\u001b[0m       \u001b[1;36m0.01\u001b[0m       \u001b[1;36m0.01\u001b[0m       \u001b[1;36m0.01\u001b[0m       \u001b[1;36m0.01\u001b[0m\n",
       " \u001b[1;36m0.01\u001b[0m       \u001b[1;36m0.01\u001b[0m       \u001b[1;36m0.01\u001b[0m       \u001b[1;36m0.01\u001b[0m       \u001b[1;36m0.01\u001b[0m       \u001b[1;36m0.01\u001b[0m\n",
       " \u001b[1;36m0.27011764\u001b[0m \u001b[1;36m0.69329411\u001b[0m \u001b[1;36m0.12258823\u001b[0m \u001b[1;36m0.01\u001b[0m       \u001b[1;36m0.01\u001b[0m       \u001b[1;36m0.01\u001b[0m\n",
       " \u001b[1;36m0.01\u001b[0m       \u001b[1;36m0.15752943\u001b[0m \u001b[1;36m0.01776471\u001b[0m \u001b[1;36m0.01\u001b[0m       \u001b[1;36m0.01\u001b[0m       \u001b[1;36m0.01\u001b[0m\n",
       " \u001b[1;36m0.01\u001b[0m       \u001b[1;36m0.01\u001b[0m       \u001b[1;36m0.01\u001b[0m       \u001b[1;36m0.01\u001b[0m       \u001b[1;36m0.01\u001b[0m       \u001b[1;36m0.01\u001b[0m\n",
       " \u001b[1;36m0.01\u001b[0m       \u001b[1;36m0.01\u001b[0m       \u001b[1;36m0.01\u001b[0m       \u001b[1;36m0.01\u001b[0m       \u001b[1;36m0.01\u001b[0m       \u001b[1;36m0.01\u001b[0m\n",
       " \u001b[1;36m0.01\u001b[0m       \u001b[1;36m0.01\u001b[0m       \u001b[1;36m0.01\u001b[0m       \u001b[1;36m0.24294119\u001b[0m \u001b[1;36m0.81364709\u001b[0m \u001b[1;36m0.32447058\u001b[0m\n",
       " \u001b[1;36m0.01\u001b[0m       \u001b[1;36m0.01388235\u001b[0m \u001b[1;36m0.02941176\u001b[0m \u001b[1;36m0.14588237\u001b[0m \u001b[1;36m0.64670593\u001b[0m \u001b[1;36m0.4875294\u001b[0m\n",
       " \u001b[1;36m0.01388235\u001b[0m \u001b[1;36m0.01\u001b[0m       \u001b[1;36m0.01\u001b[0m       \u001b[1;36m0.01\u001b[0m       \u001b[1;36m0.01\u001b[0m       \u001b[1;36m0.01\u001b[0m\n",
       " \u001b[1;36m0.01\u001b[0m       \u001b[1;36m0.01\u001b[0m       \u001b[1;36m0.01\u001b[0m       \u001b[1;36m0.01\u001b[0m       \u001b[1;36m0.01\u001b[0m       \u001b[1;36m0.01\u001b[0m\n",
       " \u001b[1;36m0.01\u001b[0m       \u001b[1;36m0.01\u001b[0m       \u001b[1;36m0.01\u001b[0m       \u001b[1;36m0.01\u001b[0m       \u001b[1;36m0.01\u001b[0m       \u001b[1;36m0.04882353\u001b[0m\n",
       " \u001b[1;36m0.46423531\u001b[0m \u001b[1;36m1\u001b[0m.         \u001b[1;36m1\u001b[0m.         \u001b[1;36m1\u001b[0m.         \u001b[1;36m1\u001b[0m.         \u001b[1;36m1\u001b[0m.\n",
       " \u001b[1;36m1\u001b[0m.         \u001b[1;36m1\u001b[0m.         \u001b[1;36m1\u001b[0m.         \u001b[1;36m0.1847059\u001b[0m  \u001b[1;36m0.01\u001b[0m       \u001b[1;36m0.01\u001b[0m\n",
       " \u001b[1;36m0.01\u001b[0m       \u001b[1;36m0.01\u001b[0m       \u001b[1;36m0.01\u001b[0m       \u001b[1;36m0.01\u001b[0m       \u001b[1;36m0.01\u001b[0m       \u001b[1;36m0.01\u001b[0m\n",
       " \u001b[1;36m0.01\u001b[0m       \u001b[1;36m0.01\u001b[0m       \u001b[1;36m0.01\u001b[0m       \u001b[1;36m0.01\u001b[0m       \u001b[1;36m0.01\u001b[0m       \u001b[1;36m0.01\u001b[0m\n",
       " \u001b[1;36m0.01\u001b[0m       \u001b[1;36m0.01\u001b[0m       \u001b[1;36m0.01\u001b[0m       \u001b[1;36m0.08376471\u001b[0m \u001b[1;36m0.46811765\u001b[0m \u001b[1;36m0.5069412\u001b[0m\n",
       " \u001b[1;36m0.44482353\u001b[0m \u001b[1;36m0.51082355\u001b[0m \u001b[1;36m0.53023529\u001b[0m \u001b[1;36m0.53023529\u001b[0m \u001b[1;36m0.53023529\u001b[0m \u001b[1;36m0.5069412\u001b[0m\n",
       " \u001b[1;36m0.29341176\u001b[0m \u001b[1;36m0.01\u001b[0m       \u001b[1;36m0.01\u001b[0m       \u001b[1;36m0.01\u001b[0m       \u001b[1;36m0.01\u001b[0m       \u001b[1;36m0.01\u001b[0m\n",
       " \u001b[1;36m0.01\u001b[0m       \u001b[1;36m0.01\u001b[0m       \u001b[1;36m0.01\u001b[0m       \u001b[1;36m0.01\u001b[0m       \u001b[1;36m0.01\u001b[0m       \u001b[1;36m0.01\u001b[0m\n",
       " \u001b[1;36m0.01\u001b[0m       \u001b[1;36m0.01\u001b[0m       \u001b[1;36m0.01\u001b[0m       \u001b[1;36m0.01\u001b[0m       \u001b[1;36m0.01\u001b[0m       \u001b[1;36m0.01\u001b[0m\n",
       " \u001b[1;36m0.01\u001b[0m       \u001b[1;36m0.01\u001b[0m       \u001b[1;36m0.01\u001b[0m       \u001b[1;36m0.01\u001b[0m       \u001b[1;36m0.01\u001b[0m       \u001b[1;36m0.01\u001b[0m\n",
       " \u001b[1;36m0.01\u001b[0m       \u001b[1;36m0.01\u001b[0m       \u001b[1;36m0.01\u001b[0m       \u001b[1;36m0.01\u001b[0m       \u001b[1;36m0.01\u001b[0m       \u001b[1;36m0.01\u001b[0m\n",
       " \u001b[1;36m0.01\u001b[0m       \u001b[1;36m0.01\u001b[0m       \u001b[1;36m0.01\u001b[0m       \u001b[1;36m0.01\u001b[0m       \u001b[1;36m0.01\u001b[0m       \u001b[1;36m0.01\u001b[0m\n",
       " \u001b[1;36m0.01\u001b[0m       \u001b[1;36m0.01\u001b[0m       \u001b[1;36m0.01\u001b[0m       \u001b[1;36m0.01\u001b[0m       \u001b[1;36m0.01\u001b[0m       \u001b[1;36m0.01\u001b[0m\n",
       " \u001b[1;36m0.01\u001b[0m       \u001b[1;36m0.01\u001b[0m       \u001b[1;36m0.01\u001b[0m       \u001b[1;36m0.01\u001b[0m       \u001b[1;36m0.01\u001b[0m       \u001b[1;36m0.01\u001b[0m\n",
       " \u001b[1;36m0.01\u001b[0m       \u001b[1;36m0.01\u001b[0m       \u001b[1;36m0.01\u001b[0m       \u001b[1;36m0.01\u001b[0m       \u001b[1;36m0.01\u001b[0m       \u001b[1;36m0.01\u001b[0m\n",
       " \u001b[1;36m0.01\u001b[0m       \u001b[1;36m0.01\u001b[0m       \u001b[1;36m0.01\u001b[0m       \u001b[1;36m0.01\u001b[0m       \u001b[1;36m0.01\u001b[0m       \u001b[1;36m0.01\u001b[0m\n",
       " \u001b[1;36m0.01\u001b[0m       \u001b[1;36m0.01\u001b[0m       \u001b[1;36m0.01\u001b[0m       \u001b[1;36m0.01\u001b[0m       \u001b[1;36m0.01\u001b[0m       \u001b[1;36m0.01\u001b[0m\n",
       " \u001b[1;36m0.01\u001b[0m       \u001b[1;36m0.01\u001b[0m       \u001b[1;36m0.01\u001b[0m       \u001b[1;36m0.01\u001b[0m       \u001b[1;36m0.01\u001b[0m       \u001b[1;36m0.01\u001b[0m\n",
       " \u001b[1;36m0.01\u001b[0m       \u001b[1;36m0.01\u001b[0m       \u001b[1;36m0.01\u001b[0m       \u001b[1;36m0.01\u001b[0m       \u001b[1;36m0.01\u001b[0m       \u001b[1;36m0.01\u001b[0m\n",
       " \u001b[1;36m0.01\u001b[0m       \u001b[1;36m0.01\u001b[0m       \u001b[1;36m0.01\u001b[0m       \u001b[1;36m0.01\u001b[0m       \u001b[1;36m0.01\u001b[0m       \u001b[1;36m0.01\u001b[0m\n",
       " \u001b[1;36m0.01\u001b[0m       \u001b[1;36m0.01\u001b[0m       \u001b[1;36m0.01\u001b[0m       \u001b[1;36m0.01\u001b[0m       \u001b[1;36m0.01\u001b[0m       \u001b[1;36m0.01\u001b[0m\n",
       " \u001b[1;36m0.01\u001b[0m       \u001b[1;36m0.01\u001b[0m       \u001b[1;36m0.01\u001b[0m       \u001b[1;36m0.01\u001b[0m       \u001b[1;36m0.01\u001b[0m       \u001b[1;36m0.01\u001b[0m\n",
       " \u001b[1;36m0.01\u001b[0m       \u001b[1;36m0.01\u001b[0m       \u001b[1;36m0.01\u001b[0m       \u001b[1;36m0.01\u001b[0m       \u001b[1;36m0.01\u001b[0m       \u001b[1;36m0.01\u001b[0m\n",
       " \u001b[1;36m0.01\u001b[0m       \u001b[1;36m0.01\u001b[0m       \u001b[1;36m0.01\u001b[0m       \u001b[1;36m0.01\u001b[0m       \u001b[1;36m0.01\u001b[0m       \u001b[1;36m0.01\u001b[0m\n",
       " \u001b[1;36m0.01\u001b[0m       \u001b[1;36m0.01\u001b[0m       \u001b[1;36m0.01\u001b[0m       \u001b[1;36m0.01\u001b[0m       \u001b[1;36m0.01\u001b[0m       \u001b[1;36m0.01\u001b[0m\n",
       " \u001b[1;36m0.01\u001b[0m       \u001b[1;36m0.01\u001b[0m       \u001b[1;36m0.01\u001b[0m       \u001b[1;36m0.01\u001b[0m       \u001b[1;36m0.01\u001b[0m       \u001b[1;36m0.01\u001b[0m\n",
       " \u001b[1;36m0.01\u001b[0m       \u001b[1;36m0.01\u001b[0m       \u001b[1;36m0.01\u001b[0m       \u001b[1;36m0.01\u001b[0m       \u001b[1;36m0.01\u001b[0m       \u001b[1;36m0.01\u001b[0m\n",
       " \u001b[1;36m0.01\u001b[0m       \u001b[1;36m0.01\u001b[0m       \u001b[1;36m0.01\u001b[0m       \u001b[1;36m0.01\u001b[0m       \u001b[1;36m0.01\u001b[0m       \u001b[1;36m0.01\u001b[0m\n",
       " \u001b[1;36m0.01\u001b[0m       \u001b[1;36m0.01\u001b[0m       \u001b[1;36m0.01\u001b[0m       \u001b[1;36m0.01\u001b[0m       \u001b[1;36m0.01\u001b[0m       \u001b[1;36m0.01\u001b[0m\n",
       " \u001b[1;36m0.01\u001b[0m       \u001b[1;36m0.01\u001b[0m       \u001b[1;36m0.01\u001b[0m       \u001b[1;36m0.01\u001b[0m       \u001b[1;36m0.01\u001b[0m       \u001b[1;36m0.01\u001b[0m\n",
       " \u001b[1;36m0.01\u001b[0m       \u001b[1;36m0.01\u001b[0m       \u001b[1;36m0.01\u001b[0m       \u001b[1;36m0.01\u001b[0m       \u001b[1;36m0.01\u001b[0m       \u001b[1;36m0.01\u001b[0m\n",
       " \u001b[1;36m0.01\u001b[0m       \u001b[1;36m0.01\u001b[0m       \u001b[1;36m0.01\u001b[0m       \u001b[1;36m0.01\u001b[0m       \u001b[1;36m0.01\u001b[0m       \u001b[1;36m0.01\u001b[0m\n",
       " \u001b[1;36m0.01\u001b[0m       \u001b[1;36m0.01\u001b[0m       \u001b[1;36m0.01\u001b[0m       \u001b[1;36m0.01\u001b[0m       \u001b[1;36m0.01\u001b[0m       \u001b[1;36m0.01\u001b[0m\n",
       " \u001b[1;36m0.01\u001b[0m       \u001b[1;36m0.01\u001b[0m       \u001b[1;36m0.01\u001b[0m       \u001b[1;36m0.01\u001b[0m       \u001b[1;36m0.01\u001b[0m       \u001b[1;36m0.01\u001b[0m\n",
       " \u001b[1;36m0.01\u001b[0m       \u001b[1;36m0.01\u001b[0m       \u001b[1;36m0.01\u001b[0m       \u001b[1;36m0.01\u001b[0m       \u001b[1;36m0.01\u001b[0m       \u001b[1;36m0.01\u001b[0m\n",
       " \u001b[1;36m0.01\u001b[0m       \u001b[1;36m0.01\u001b[0m       \u001b[1;36m0.01\u001b[0m       \u001b[1;36m0.01\u001b[0m       \u001b[1;36m0.01\u001b[0m       \u001b[1;36m0.01\u001b[0m\n",
       " \u001b[1;36m0.01\u001b[0m       \u001b[1;36m0.01\u001b[0m       \u001b[1;36m0.01\u001b[0m       \u001b[1;36m0.01\u001b[0m       \u001b[1;36m0.01\u001b[0m       \u001b[1;36m0.01\u001b[0m\n",
       " \u001b[1;36m0.01\u001b[0m       \u001b[1;36m0.01\u001b[0m       \u001b[1;36m0.01\u001b[0m       \u001b[1;36m0.01\u001b[0m       \u001b[1;36m0.01\u001b[0m       \u001b[1;36m0.01\u001b[0m\n",
       " \u001b[1;36m0.01\u001b[0m       \u001b[1;36m0.01\u001b[0m       \u001b[1;36m0.01\u001b[0m       \u001b[1;36m0.01\u001b[0m       \u001b[1;36m0.01\u001b[0m       \u001b[1;36m0.01\u001b[0m\n",
       " \u001b[1;36m0.01\u001b[0m       \u001b[1;36m0.01\u001b[0m       \u001b[1;36m0.01\u001b[0m       \u001b[1;36m0.01\u001b[0m       \u001b[1;36m0.01\u001b[0m       \u001b[1;36m0.01\u001b[0m\n",
       " \u001b[1;36m0.01\u001b[0m       \u001b[1;36m0.01\u001b[0m       \u001b[1;36m0.01\u001b[0m       \u001b[1;36m0.01\u001b[0m       \u001b[1;36m0.01\u001b[0m       \u001b[1;36m0.01\u001b[0m\n",
       " \u001b[1;36m0.01\u001b[0m       \u001b[1;36m0.01\u001b[0m       \u001b[1;36m0.01\u001b[0m       \u001b[1;36m0.01\u001b[0m       \u001b[1;36m0.01\u001b[0m       \u001b[1;36m0.01\u001b[0m\n",
       " \u001b[1;36m0.01\u001b[0m       \u001b[1;36m0.01\u001b[0m       \u001b[1;36m0.01\u001b[0m       \u001b[1;36m0.01\u001b[0m       \u001b[1;36m0.01\u001b[0m       \u001b[1;36m0.01\u001b[0m\n",
       " \u001b[1;36m0.01\u001b[0m       \u001b[1;36m0.01\u001b[0m       \u001b[1;36m0.01\u001b[0m       \u001b[1;36m0.01\u001b[0m       \u001b[1;36m0.01\u001b[0m       \u001b[1;36m0.01\u001b[0m\n",
       " \u001b[1;36m0.01\u001b[0m       \u001b[1;36m0.01\u001b[0m       \u001b[1;36m0.01\u001b[0m       \u001b[1;36m0.01\u001b[0m       \u001b[1;36m0.01\u001b[0m       \u001b[1;36m0.01\u001b[0m\n",
       " \u001b[1;36m0.01\u001b[0m       \u001b[1;36m0.01\u001b[0m       \u001b[1;36m0.01\u001b[0m       \u001b[1;36m0.01\u001b[0m       \u001b[1;36m0.01\u001b[0m       \u001b[1;36m0.01\u001b[0m\n",
       " \u001b[1;36m0.01\u001b[0m       \u001b[1;36m0.01\u001b[0m       \u001b[1;36m0.01\u001b[0m       \u001b[1;36m0.01\u001b[0m       \u001b[1;36m0.01\u001b[0m       \u001b[1;36m0.01\u001b[0m\n",
       " \u001b[1;36m0.01\u001b[0m       \u001b[1;36m0.01\u001b[0m       \u001b[1;36m0.01\u001b[0m       \u001b[1;36m0.01\u001b[0m       \u001b[1;36m0.01\u001b[0m       \u001b[1;36m0.01\u001b[0m\n",
       " \u001b[1;36m0.01\u001b[0m       \u001b[1;36m0.01\u001b[0m       \u001b[1;36m0.01\u001b[0m       \u001b[1;36m0.01\u001b[0m       \u001b[1;36m0.01\u001b[0m       \u001b[1;36m0.01\u001b[0m\n",
       " \u001b[1;36m0.01\u001b[0m       \u001b[1;36m0.01\u001b[0m       \u001b[1;36m0.01\u001b[0m       \u001b[1;36m0.01\u001b[0m       \u001b[1;36m0.01\u001b[0m      \u001b[1m]\u001b[0m\n"
      ]
     },
     "metadata": {},
     "output_type": "display_data"
    }
   ],
   "source": [
    "print(our_own_dataset[3])"
   ]
  },
  {
   "cell_type": "code",
   "execution_count": null,
   "metadata": {},
   "outputs": [],
   "source": []
  }
 ],
 "metadata": {
  "kernelspec": {
   "display_name": "AIPower",
   "language": "python",
   "name": "python3"
  },
  "language_info": {
   "codemirror_mode": {
    "name": "ipython",
    "version": 3
   },
   "file_extension": ".py",
   "mimetype": "text/x-python",
   "name": "python",
   "nbconvert_exporter": "python",
   "pygments_lexer": "ipython3",
   "version": "3.12.3"
  }
 },
 "nbformat": 4,
 "nbformat_minor": 4
}
