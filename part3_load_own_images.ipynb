{
 "cells": [
  {
   "cell_type": "code",
   "execution_count": 1,
   "metadata": {},
   "outputs": [],
   "source": [
    "# python notebook for Make Your Own Neural Network\n",
    "# code for a 3-layer neural network, and code for learning the MNIST dataset\n",
    "# (c) Tariq Rashid, 2016\n",
    "# license is GPLv2"
   ]
  },
  {
   "cell_type": "code",
   "execution_count": 2,
   "metadata": {},
   "outputs": [],
   "source": [
    "from rich import print"
   ]
  },
  {
   "cell_type": "code",
   "execution_count": 3,
   "metadata": {},
   "outputs": [],
   "source": [
    "import imageio.v2 as imageio # helper to load data from PNG image files\n",
    "import glob                  # glob helps select multiple files using patterns"
   ]
  },
  {
   "cell_type": "code",
   "execution_count": 4,
   "metadata": {},
   "outputs": [],
   "source": [
    "import numpy as np\n",
    "import matplotlib.pyplot as plt\n",
    "%matplotlib inline"
   ]
  },
  {
   "cell_type": "markdown",
   "metadata": {},
   "source": [
    "### our own image test data set"
   ]
  },
  {
   "cell_type": "code",
   "execution_count": 5,
   "metadata": {},
   "outputs": [
    {
     "data": {
      "text/html": [
       "<pre style=\"white-space:pre;overflow-x:auto;line-height:normal;font-family:Menlo,'DejaVu Sans Mono',consolas,'Courier New',monospace\">loading my_own_images/2828_my_own_3.png\n",
       "</pre>\n"
      ],
      "text/plain": [
       "loading my_own_images/2828_my_own_3.png\n"
      ]
     },
     "metadata": {},
     "output_type": "display_data"
    },
    {
     "data": {
      "text/html": [
       "<pre style=\"white-space:pre;overflow-x:auto;line-height:normal;font-family:Menlo,'DejaVu Sans Mono',consolas,'Courier New',monospace\"><span style=\"color: #800080; text-decoration-color: #800080; font-weight: bold\">img_data.min</span><span style=\"font-weight: bold\">()</span> = <span style=\"color: #008080; text-decoration-color: #008080; font-weight: bold\">0.010000</span>\n",
       "</pre>\n"
      ],
      "text/plain": [
       "\u001b[1;35mimg_data.min\u001b[0m\u001b[1m(\u001b[0m\u001b[1m)\u001b[0m = \u001b[1;36m0.010000\u001b[0m\n"
      ]
     },
     "metadata": {},
     "output_type": "display_data"
    },
    {
     "data": {
      "text/html": [
       "<pre style=\"white-space:pre;overflow-x:auto;line-height:normal;font-family:Menlo,'DejaVu Sans Mono',consolas,'Courier New',monospace\"><span style=\"color: #800080; text-decoration-color: #800080; font-weight: bold\">img_data.max</span><span style=\"font-weight: bold\">()</span> = <span style=\"color: #008080; text-decoration-color: #008080; font-weight: bold\">1.000000</span>\n",
       "</pre>\n"
      ],
      "text/plain": [
       "\u001b[1;35mimg_data.max\u001b[0m\u001b[1m(\u001b[0m\u001b[1m)\u001b[0m = \u001b[1;36m1.000000\u001b[0m\n"
      ]
     },
     "metadata": {},
     "output_type": "display_data"
    },
    {
     "data": {
      "text/html": [
       "<pre style=\"white-space:pre;overflow-x:auto;line-height:normal;font-family:Menlo,'DejaVu Sans Mono',consolas,'Courier New',monospace\">loading my_own_images/2828_my_own_2.png\n",
       "</pre>\n"
      ],
      "text/plain": [
       "loading my_own_images/2828_my_own_2.png\n"
      ]
     },
     "metadata": {},
     "output_type": "display_data"
    },
    {
     "data": {
      "text/html": [
       "<pre style=\"white-space:pre;overflow-x:auto;line-height:normal;font-family:Menlo,'DejaVu Sans Mono',consolas,'Courier New',monospace\"><span style=\"color: #800080; text-decoration-color: #800080; font-weight: bold\">img_data.min</span><span style=\"font-weight: bold\">()</span> = <span style=\"color: #008080; text-decoration-color: #008080; font-weight: bold\">0.010000</span>\n",
       "</pre>\n"
      ],
      "text/plain": [
       "\u001b[1;35mimg_data.min\u001b[0m\u001b[1m(\u001b[0m\u001b[1m)\u001b[0m = \u001b[1;36m0.010000\u001b[0m\n"
      ]
     },
     "metadata": {},
     "output_type": "display_data"
    },
    {
     "data": {
      "text/html": [
       "<pre style=\"white-space:pre;overflow-x:auto;line-height:normal;font-family:Menlo,'DejaVu Sans Mono',consolas,'Courier New',monospace\"><span style=\"color: #800080; text-decoration-color: #800080; font-weight: bold\">img_data.max</span><span style=\"font-weight: bold\">()</span> = <span style=\"color: #008080; text-decoration-color: #008080; font-weight: bold\">1.000000</span>\n",
       "</pre>\n"
      ],
      "text/plain": [
       "\u001b[1;35mimg_data.max\u001b[0m\u001b[1m(\u001b[0m\u001b[1m)\u001b[0m = \u001b[1;36m1.000000\u001b[0m\n"
      ]
     },
     "metadata": {},
     "output_type": "display_data"
    },
    {
     "data": {
      "text/html": [
       "<pre style=\"white-space:pre;overflow-x:auto;line-height:normal;font-family:Menlo,'DejaVu Sans Mono',consolas,'Courier New',monospace\">loading my_own_images/2828_my_own_5.png\n",
       "</pre>\n"
      ],
      "text/plain": [
       "loading my_own_images/2828_my_own_5.png\n"
      ]
     },
     "metadata": {},
     "output_type": "display_data"
    },
    {
     "data": {
      "text/html": [
       "<pre style=\"white-space:pre;overflow-x:auto;line-height:normal;font-family:Menlo,'DejaVu Sans Mono',consolas,'Courier New',monospace\"><span style=\"color: #800080; text-decoration-color: #800080; font-weight: bold\">img_data.min</span><span style=\"font-weight: bold\">()</span> = <span style=\"color: #008080; text-decoration-color: #008080; font-weight: bold\">0.010000</span>\n",
       "</pre>\n"
      ],
      "text/plain": [
       "\u001b[1;35mimg_data.min\u001b[0m\u001b[1m(\u001b[0m\u001b[1m)\u001b[0m = \u001b[1;36m0.010000\u001b[0m\n"
      ]
     },
     "metadata": {},
     "output_type": "display_data"
    },
    {
     "data": {
      "text/html": [
       "<pre style=\"white-space:pre;overflow-x:auto;line-height:normal;font-family:Menlo,'DejaVu Sans Mono',consolas,'Courier New',monospace\"><span style=\"color: #800080; text-decoration-color: #800080; font-weight: bold\">img_data.max</span><span style=\"font-weight: bold\">()</span> = <span style=\"color: #008080; text-decoration-color: #008080; font-weight: bold\">0.868000</span>\n",
       "</pre>\n"
      ],
      "text/plain": [
       "\u001b[1;35mimg_data.max\u001b[0m\u001b[1m(\u001b[0m\u001b[1m)\u001b[0m = \u001b[1;36m0.868000\u001b[0m\n"
      ]
     },
     "metadata": {},
     "output_type": "display_data"
    },
    {
     "data": {
      "text/html": [
       "<pre style=\"white-space:pre;overflow-x:auto;line-height:normal;font-family:Menlo,'DejaVu Sans Mono',consolas,'Courier New',monospace\">loading my_own_images/2828_my_own_4.png\n",
       "</pre>\n"
      ],
      "text/plain": [
       "loading my_own_images/2828_my_own_4.png\n"
      ]
     },
     "metadata": {},
     "output_type": "display_data"
    },
    {
     "data": {
      "text/html": [
       "<pre style=\"white-space:pre;overflow-x:auto;line-height:normal;font-family:Menlo,'DejaVu Sans Mono',consolas,'Courier New',monospace\"><span style=\"color: #800080; text-decoration-color: #800080; font-weight: bold\">img_data.min</span><span style=\"font-weight: bold\">()</span> = <span style=\"color: #008080; text-decoration-color: #008080; font-weight: bold\">0.010000</span>\n",
       "</pre>\n"
      ],
      "text/plain": [
       "\u001b[1;35mimg_data.min\u001b[0m\u001b[1m(\u001b[0m\u001b[1m)\u001b[0m = \u001b[1;36m0.010000\u001b[0m\n"
      ]
     },
     "metadata": {},
     "output_type": "display_data"
    },
    {
     "data": {
      "text/html": [
       "<pre style=\"white-space:pre;overflow-x:auto;line-height:normal;font-family:Menlo,'DejaVu Sans Mono',consolas,'Courier New',monospace\"><span style=\"color: #800080; text-decoration-color: #800080; font-weight: bold\">img_data.max</span><span style=\"font-weight: bold\">()</span> = <span style=\"color: #008080; text-decoration-color: #008080; font-weight: bold\">0.930118</span>\n",
       "</pre>\n"
      ],
      "text/plain": [
       "\u001b[1;35mimg_data.max\u001b[0m\u001b[1m(\u001b[0m\u001b[1m)\u001b[0m = \u001b[1;36m0.930118\u001b[0m\n"
      ]
     },
     "metadata": {},
     "output_type": "display_data"
    },
    {
     "data": {
      "text/html": [
       "<pre style=\"white-space:pre;overflow-x:auto;line-height:normal;font-family:Menlo,'DejaVu Sans Mono',consolas,'Courier New',monospace\">loading my_own_images/2828_my_own_6.png\n",
       "</pre>\n"
      ],
      "text/plain": [
       "loading my_own_images/2828_my_own_6.png\n"
      ]
     },
     "metadata": {},
     "output_type": "display_data"
    },
    {
     "data": {
      "text/html": [
       "<pre style=\"white-space:pre;overflow-x:auto;line-height:normal;font-family:Menlo,'DejaVu Sans Mono',consolas,'Courier New',monospace\"><span style=\"color: #800080; text-decoration-color: #800080; font-weight: bold\">img_data.min</span><span style=\"font-weight: bold\">()</span> = <span style=\"color: #008080; text-decoration-color: #008080; font-weight: bold\">0.010000</span>\n",
       "</pre>\n"
      ],
      "text/plain": [
       "\u001b[1;35mimg_data.min\u001b[0m\u001b[1m(\u001b[0m\u001b[1m)\u001b[0m = \u001b[1;36m0.010000\u001b[0m\n"
      ]
     },
     "metadata": {},
     "output_type": "display_data"
    },
    {
     "data": {
      "text/html": [
       "<pre style=\"white-space:pre;overflow-x:auto;line-height:normal;font-family:Menlo,'DejaVu Sans Mono',consolas,'Courier New',monospace\"><span style=\"color: #800080; text-decoration-color: #800080; font-weight: bold\">img_data.max</span><span style=\"font-weight: bold\">()</span> = <span style=\"color: #008080; text-decoration-color: #008080; font-weight: bold\">1.000000</span>\n",
       "</pre>\n"
      ],
      "text/plain": [
       "\u001b[1;35mimg_data.max\u001b[0m\u001b[1m(\u001b[0m\u001b[1m)\u001b[0m = \u001b[1;36m1.000000\u001b[0m\n"
      ]
     },
     "metadata": {},
     "output_type": "display_data"
    }
   ],
   "source": [
    "our_own_dataset = []\n",
    "\n",
    "for image_file_name in glob.glob('my_own_images/2828_my_own_?.png'):\n",
    "    print(f\"loading {image_file_name}\")\n",
    "    # use the filename to set the correct label\n",
    "    label = int(image_file_name[-5:-4])\n",
    "    # load image data from png files into an array\n",
    "    img_array = imageio.imread(image_file_name, mode='F')\n",
    "    # reshape from 28x28 to list of 784 values, invert values\n",
    "    img_data  = 255.0 - img_array.reshape(784)\n",
    "    # then scale data to range from 0.01 to 1.0\n",
    "    img_data = (img_data / 255.0 * 0.99) + 0.01\n",
    "    print(f'{img_data.min() = :f}')\n",
    "    print(f'{img_data.max() = :f}')\n",
    "    # append label and image data to test data set\n",
    "    record = np.append(label,img_data)\n",
    "    # print(f'{record = }')\n",
    "    our_own_dataset.append(record)"
   ]
  },
  {
   "cell_type": "code",
   "execution_count": 6,
   "metadata": {},
   "outputs": [
    {
     "data": {
      "image/png": "[encoded data removed]",
      "text/plain": [
       "<Figure size 640x480 with 1 Axes>"
      ]
     },
     "metadata": {},
     "output_type": "display_data"
    }
   ],
   "source": [
    "plt.imshow(our_own_dataset[3][1:].reshape(28, 28), cmap='Greys', interpolation='None')\n",
    "plt.axis('off');"
   ]
  },
  {
   "cell_type": "code",
   "execution_count": 7,
   "metadata": {},
   "outputs": [
    {
     "data": {
      "text/html": [
       "<pre style=\"white-space:pre;overflow-x:auto;line-height:normal;font-family:Menlo,'DejaVu Sans Mono',consolas,'Courier New',monospace\"><span style=\"font-weight: bold\">[</span><span style=\"color: #008080; text-decoration-color: #008080; font-weight: bold\">4</span>.         <span style=\"color: #008080; text-decoration-color: #008080; font-weight: bold\">0.01</span>       <span style=\"color: #008080; text-decoration-color: #008080; font-weight: bold\">0.01</span>       <span style=\"color: #008080; text-decoration-color: #008080; font-weight: bold\">0.01</span>       <span style=\"color: #008080; text-decoration-color: #008080; font-weight: bold\">0.01</span>       <span style=\"color: #008080; text-decoration-color: #008080; font-weight: bold\">0.01</span>\n",
       " <span style=\"color: #008080; text-decoration-color: #008080; font-weight: bold\">0.01</span>       <span style=\"color: #008080; text-decoration-color: #008080; font-weight: bold\">0.01</span>       <span style=\"color: #008080; text-decoration-color: #008080; font-weight: bold\">0.01</span>       <span style=\"color: #008080; text-decoration-color: #008080; font-weight: bold\">0.01</span>       <span style=\"color: #008080; text-decoration-color: #008080; font-weight: bold\">0.01</span>       <span style=\"color: #008080; text-decoration-color: #008080; font-weight: bold\">0.01</span>\n",
       " <span style=\"color: #008080; text-decoration-color: #008080; font-weight: bold\">0.01</span>       <span style=\"color: #008080; text-decoration-color: #008080; font-weight: bold\">0.01</span>       <span style=\"color: #008080; text-decoration-color: #008080; font-weight: bold\">0.01</span>       <span style=\"color: #008080; text-decoration-color: #008080; font-weight: bold\">0.01</span>       <span style=\"color: #008080; text-decoration-color: #008080; font-weight: bold\">0.01</span>       <span style=\"color: #008080; text-decoration-color: #008080; font-weight: bold\">0.01</span>\n",
       " <span style=\"color: #008080; text-decoration-color: #008080; font-weight: bold\">0.01</span>       <span style=\"color: #008080; text-decoration-color: #008080; font-weight: bold\">0.01</span>       <span style=\"color: #008080; text-decoration-color: #008080; font-weight: bold\">0.01</span>       <span style=\"color: #008080; text-decoration-color: #008080; font-weight: bold\">0.01</span>       <span style=\"color: #008080; text-decoration-color: #008080; font-weight: bold\">0.01</span>       <span style=\"color: #008080; text-decoration-color: #008080; font-weight: bold\">0.01</span>\n",
       " <span style=\"color: #008080; text-decoration-color: #008080; font-weight: bold\">0.01</span>       <span style=\"color: #008080; text-decoration-color: #008080; font-weight: bold\">0.01</span>       <span style=\"color: #008080; text-decoration-color: #008080; font-weight: bold\">0.01</span>       <span style=\"color: #008080; text-decoration-color: #008080; font-weight: bold\">0.01</span>       <span style=\"color: #008080; text-decoration-color: #008080; font-weight: bold\">0.01</span>       <span style=\"color: #008080; text-decoration-color: #008080; font-weight: bold\">0.01</span>\n",
       " <span style=\"color: #008080; text-decoration-color: #008080; font-weight: bold\">0.01</span>       <span style=\"color: #008080; text-decoration-color: #008080; font-weight: bold\">0.01</span>       <span style=\"color: #008080; text-decoration-color: #008080; font-weight: bold\">0.01</span>       <span style=\"color: #008080; text-decoration-color: #008080; font-weight: bold\">0.01</span>       <span style=\"color: #008080; text-decoration-color: #008080; font-weight: bold\">0.01</span>       <span style=\"color: #008080; text-decoration-color: #008080; font-weight: bold\">0.01</span>\n",
       " <span style=\"color: #008080; text-decoration-color: #008080; font-weight: bold\">0.01</span>       <span style=\"color: #008080; text-decoration-color: #008080; font-weight: bold\">0.01</span>       <span style=\"color: #008080; text-decoration-color: #008080; font-weight: bold\">0.01</span>       <span style=\"color: #008080; text-decoration-color: #008080; font-weight: bold\">0.01</span>       <span style=\"color: #008080; text-decoration-color: #008080; font-weight: bold\">0.01</span>       <span style=\"color: #008080; text-decoration-color: #008080; font-weight: bold\">0.01</span>\n",
       " <span style=\"color: #008080; text-decoration-color: #008080; font-weight: bold\">0.01</span>       <span style=\"color: #008080; text-decoration-color: #008080; font-weight: bold\">0.01</span>       <span style=\"color: #008080; text-decoration-color: #008080; font-weight: bold\">0.01</span>       <span style=\"color: #008080; text-decoration-color: #008080; font-weight: bold\">0.01</span>       <span style=\"color: #008080; text-decoration-color: #008080; font-weight: bold\">0.01</span>       <span style=\"color: #008080; text-decoration-color: #008080; font-weight: bold\">0.01</span>\n",
       " <span style=\"color: #008080; text-decoration-color: #008080; font-weight: bold\">0.01</span>       <span style=\"color: #008080; text-decoration-color: #008080; font-weight: bold\">0.01</span>       <span style=\"color: #008080; text-decoration-color: #008080; font-weight: bold\">0.01</span>       <span style=\"color: #008080; text-decoration-color: #008080; font-weight: bold\">0.01</span>       <span style=\"color: #008080; text-decoration-color: #008080; font-weight: bold\">0.01</span>       <span style=\"color: #008080; text-decoration-color: #008080; font-weight: bold\">0.01</span>\n",
       " <span style=\"color: #008080; text-decoration-color: #008080; font-weight: bold\">0.01</span>       <span style=\"color: #008080; text-decoration-color: #008080; font-weight: bold\">0.01</span>       <span style=\"color: #008080; text-decoration-color: #008080; font-weight: bold\">0.01</span>       <span style=\"color: #008080; text-decoration-color: #008080; font-weight: bold\">0.01</span>       <span style=\"color: #008080; text-decoration-color: #008080; font-weight: bold\">0.01</span>       <span style=\"color: #008080; text-decoration-color: #008080; font-weight: bold\">0.01</span>\n",
       " <span style=\"color: #008080; text-decoration-color: #008080; font-weight: bold\">0.01</span>       <span style=\"color: #008080; text-decoration-color: #008080; font-weight: bold\">0.01</span>       <span style=\"color: #008080; text-decoration-color: #008080; font-weight: bold\">0.01</span>       <span style=\"color: #008080; text-decoration-color: #008080; font-weight: bold\">0.01</span>       <span style=\"color: #008080; text-decoration-color: #008080; font-weight: bold\">0.01</span>       <span style=\"color: #008080; text-decoration-color: #008080; font-weight: bold\">0.01</span>\n",
       " <span style=\"color: #008080; text-decoration-color: #008080; font-weight: bold\">0.01</span>       <span style=\"color: #008080; text-decoration-color: #008080; font-weight: bold\">0.01</span>       <span style=\"color: #008080; text-decoration-color: #008080; font-weight: bold\">0.01</span>       <span style=\"color: #008080; text-decoration-color: #008080; font-weight: bold\">0.23905884</span> <span style=\"color: #008080; text-decoration-color: #008080; font-weight: bold\">0.15364707</span> <span style=\"color: #008080; text-decoration-color: #008080; font-weight: bold\">0.01</span>\n",
       " <span style=\"color: #008080; text-decoration-color: #008080; font-weight: bold\">0.01</span>       <span style=\"color: #008080; text-decoration-color: #008080; font-weight: bold\">0.01</span>       <span style=\"color: #008080; text-decoration-color: #008080; font-weight: bold\">0.01</span>       <span style=\"color: #008080; text-decoration-color: #008080; font-weight: bold\">0.01</span>       <span style=\"color: #008080; text-decoration-color: #008080; font-weight: bold\">0.01</span>       <span style=\"color: #008080; text-decoration-color: #008080; font-weight: bold\">0.01</span>\n",
       " <span style=\"color: #008080; text-decoration-color: #008080; font-weight: bold\">0.01</span>       <span style=\"color: #008080; text-decoration-color: #008080; font-weight: bold\">0.01</span>       <span style=\"color: #008080; text-decoration-color: #008080; font-weight: bold\">0.01</span>       <span style=\"color: #008080; text-decoration-color: #008080; font-weight: bold\">0.01</span>       <span style=\"color: #008080; text-decoration-color: #008080; font-weight: bold\">0.01</span>       <span style=\"color: #008080; text-decoration-color: #008080; font-weight: bold\">0.01</span>\n",
       " <span style=\"color: #008080; text-decoration-color: #008080; font-weight: bold\">0.01</span>       <span style=\"color: #008080; text-decoration-color: #008080; font-weight: bold\">0.01</span>       <span style=\"color: #008080; text-decoration-color: #008080; font-weight: bold\">0.01</span>       <span style=\"color: #008080; text-decoration-color: #008080; font-weight: bold\">0.01</span>       <span style=\"color: #008080; text-decoration-color: #008080; font-weight: bold\">0.01</span>       <span style=\"color: #008080; text-decoration-color: #008080; font-weight: bold\">0.01</span>\n",
       " <span style=\"color: #008080; text-decoration-color: #008080; font-weight: bold\">0.01</span>       <span style=\"color: #008080; text-decoration-color: #008080; font-weight: bold\">0.01</span>       <span style=\"color: #008080; text-decoration-color: #008080; font-weight: bold\">0.01</span>       <span style=\"color: #008080; text-decoration-color: #008080; font-weight: bold\">0.01</span>       <span style=\"color: #008080; text-decoration-color: #008080; font-weight: bold\">0.01</span>       <span style=\"color: #008080; text-decoration-color: #008080; font-weight: bold\">0.01</span>\n",
       " <span style=\"color: #008080; text-decoration-color: #008080; font-weight: bold\">0.12258823</span> <span style=\"color: #008080; text-decoration-color: #008080; font-weight: bold\">0.81752944</span> <span style=\"color: #008080; text-decoration-color: #008080; font-weight: bold\">0.1847059</span>  <span style=\"color: #008080; text-decoration-color: #008080; font-weight: bold\">0.01</span>       <span style=\"color: #008080; text-decoration-color: #008080; font-weight: bold\">0.01</span>       <span style=\"color: #008080; text-decoration-color: #008080; font-weight: bold\">0.01</span>\n",
       " <span style=\"color: #008080; text-decoration-color: #008080; font-weight: bold\">0.01</span>       <span style=\"color: #008080; text-decoration-color: #008080; font-weight: bold\">0.01</span>       <span style=\"color: #008080; text-decoration-color: #008080; font-weight: bold\">0.01</span>       <span style=\"color: #008080; text-decoration-color: #008080; font-weight: bold\">0.01</span>       <span style=\"color: #008080; text-decoration-color: #008080; font-weight: bold\">0.01</span>       <span style=\"color: #008080; text-decoration-color: #008080; font-weight: bold\">0.01</span>\n",
       " <span style=\"color: #008080; text-decoration-color: #008080; font-weight: bold\">0.01</span>       <span style=\"color: #008080; text-decoration-color: #008080; font-weight: bold\">0.01</span>       <span style=\"color: #008080; text-decoration-color: #008080; font-weight: bold\">0.01</span>       <span style=\"color: #008080; text-decoration-color: #008080; font-weight: bold\">0.01</span>       <span style=\"color: #008080; text-decoration-color: #008080; font-weight: bold\">0.01</span>       <span style=\"color: #008080; text-decoration-color: #008080; font-weight: bold\">0.01</span>\n",
       " <span style=\"color: #008080; text-decoration-color: #008080; font-weight: bold\">0.01</span>       <span style=\"color: #008080; text-decoration-color: #008080; font-weight: bold\">0.01</span>       <span style=\"color: #008080; text-decoration-color: #008080; font-weight: bold\">0.01</span>       <span style=\"color: #008080; text-decoration-color: #008080; font-weight: bold\">0.01</span>       <span style=\"color: #008080; text-decoration-color: #008080; font-weight: bold\">0.01</span>       <span style=\"color: #008080; text-decoration-color: #008080; font-weight: bold\">0.01</span>\n",
       " <span style=\"color: #008080; text-decoration-color: #008080; font-weight: bold\">0.01</span>       <span style=\"color: #008080; text-decoration-color: #008080; font-weight: bold\">0.01</span>       <span style=\"color: #008080; text-decoration-color: #008080; font-weight: bold\">0.01</span>       <span style=\"color: #008080; text-decoration-color: #008080; font-weight: bold\">0.01</span>       <span style=\"color: #008080; text-decoration-color: #008080; font-weight: bold\">0.49529412</span> <span style=\"color: #008080; text-decoration-color: #008080; font-weight: bold\">0.57682353</span>\n",
       " <span style=\"color: #008080; text-decoration-color: #008080; font-weight: bold\">0.01</span>       <span style=\"color: #008080; text-decoration-color: #008080; font-weight: bold\">0.01</span>       <span style=\"color: #008080; text-decoration-color: #008080; font-weight: bold\">0.01</span>       <span style=\"color: #008080; text-decoration-color: #008080; font-weight: bold\">0.01</span>       <span style=\"color: #008080; text-decoration-color: #008080; font-weight: bold\">0.01</span>       <span style=\"color: #008080; text-decoration-color: #008080; font-weight: bold\">0.01</span>\n",
       " <span style=\"color: #008080; text-decoration-color: #008080; font-weight: bold\">0.01</span>       <span style=\"color: #008080; text-decoration-color: #008080; font-weight: bold\">0.01</span>       <span style=\"color: #008080; text-decoration-color: #008080; font-weight: bold\">0.01</span>       <span style=\"color: #008080; text-decoration-color: #008080; font-weight: bold\">0.01</span>       <span style=\"color: #008080; text-decoration-color: #008080; font-weight: bold\">0.01</span>       <span style=\"color: #008080; text-decoration-color: #008080; font-weight: bold\">0.01</span>\n",
       " <span style=\"color: #008080; text-decoration-color: #008080; font-weight: bold\">0.01</span>       <span style=\"color: #008080; text-decoration-color: #008080; font-weight: bold\">0.01</span>       <span style=\"color: #008080; text-decoration-color: #008080; font-weight: bold\">0.01</span>       <span style=\"color: #008080; text-decoration-color: #008080; font-weight: bold\">0.01</span>       <span style=\"color: #008080; text-decoration-color: #008080; font-weight: bold\">0.01</span>       <span style=\"color: #008080; text-decoration-color: #008080; font-weight: bold\">0.01</span>\n",
       " <span style=\"color: #008080; text-decoration-color: #008080; font-weight: bold\">0.01</span>       <span style=\"color: #008080; text-decoration-color: #008080; font-weight: bold\">0.01</span>       <span style=\"color: #008080; text-decoration-color: #008080; font-weight: bold\">0.01</span>       <span style=\"color: #008080; text-decoration-color: #008080; font-weight: bold\">0.01</span>       <span style=\"color: #008080; text-decoration-color: #008080; font-weight: bold\">0.01</span>       <span style=\"color: #008080; text-decoration-color: #008080; font-weight: bold\">0.01</span>\n",
       " <span style=\"color: #008080; text-decoration-color: #008080; font-weight: bold\">0.01</span>       <span style=\"color: #008080; text-decoration-color: #008080; font-weight: bold\">0.06823529</span> <span style=\"color: #008080; text-decoration-color: #008080; font-weight: bold\">0.72435296</span> <span style=\"color: #008080; text-decoration-color: #008080; font-weight: bold\">0.16529413</span> <span style=\"color: #008080; text-decoration-color: #008080; font-weight: bold\">0.01</span>       <span style=\"color: #008080; text-decoration-color: #008080; font-weight: bold\">0.01</span>\n",
       " <span style=\"color: #008080; text-decoration-color: #008080; font-weight: bold\">0.01</span>       <span style=\"color: #008080; text-decoration-color: #008080; font-weight: bold\">0.01</span>       <span style=\"color: #008080; text-decoration-color: #008080; font-weight: bold\">0.01</span>       <span style=\"color: #008080; text-decoration-color: #008080; font-weight: bold\">0.01</span>       <span style=\"color: #008080; text-decoration-color: #008080; font-weight: bold\">0.01</span>       <span style=\"color: #008080; text-decoration-color: #008080; font-weight: bold\">0.01</span>\n",
       " <span style=\"color: #008080; text-decoration-color: #008080; font-weight: bold\">0.01</span>       <span style=\"color: #008080; text-decoration-color: #008080; font-weight: bold\">0.01</span>       <span style=\"color: #008080; text-decoration-color: #008080; font-weight: bold\">0.01</span>       <span style=\"color: #008080; text-decoration-color: #008080; font-weight: bold\">0.01</span>       <span style=\"color: #008080; text-decoration-color: #008080; font-weight: bold\">0.01</span>       <span style=\"color: #008080; text-decoration-color: #008080; font-weight: bold\">0.01</span>\n",
       " <span style=\"color: #008080; text-decoration-color: #008080; font-weight: bold\">0.01</span>       <span style=\"color: #008080; text-decoration-color: #008080; font-weight: bold\">0.01</span>       <span style=\"color: #008080; text-decoration-color: #008080; font-weight: bold\">0.01</span>       <span style=\"color: #008080; text-decoration-color: #008080; font-weight: bold\">0.01</span>       <span style=\"color: #008080; text-decoration-color: #008080; font-weight: bold\">0.01</span>       <span style=\"color: #008080; text-decoration-color: #008080; font-weight: bold\">0.01</span>\n",
       " <span style=\"color: #008080; text-decoration-color: #008080; font-weight: bold\">0.01</span>       <span style=\"color: #008080; text-decoration-color: #008080; font-weight: bold\">0.01</span>       <span style=\"color: #008080; text-decoration-color: #008080; font-weight: bold\">0.01</span>       <span style=\"color: #008080; text-decoration-color: #008080; font-weight: bold\">0.01</span>       <span style=\"color: #008080; text-decoration-color: #008080; font-weight: bold\">0.01</span>       <span style=\"color: #008080; text-decoration-color: #008080; font-weight: bold\">0.44482353</span>\n",
       " <span style=\"color: #008080; text-decoration-color: #008080; font-weight: bold\">0.69329411</span> <span style=\"color: #008080; text-decoration-color: #008080; font-weight: bold\">0.01</span>       <span style=\"color: #008080; text-decoration-color: #008080; font-weight: bold\">0.01</span>       <span style=\"color: #008080; text-decoration-color: #008080; font-weight: bold\">0.01</span>       <span style=\"color: #008080; text-decoration-color: #008080; font-weight: bold\">0.01</span>       <span style=\"color: #008080; text-decoration-color: #008080; font-weight: bold\">0.04882353</span>\n",
       " <span style=\"color: #008080; text-decoration-color: #008080; font-weight: bold\">0.06435294</span> <span style=\"color: #008080; text-decoration-color: #008080; font-weight: bold\">0.01</span>       <span style=\"color: #008080; text-decoration-color: #008080; font-weight: bold\">0.01</span>       <span style=\"color: #008080; text-decoration-color: #008080; font-weight: bold\">0.01</span>       <span style=\"color: #008080; text-decoration-color: #008080; font-weight: bold\">0.01</span>       <span style=\"color: #008080; text-decoration-color: #008080; font-weight: bold\">0.01</span>\n",
       " <span style=\"color: #008080; text-decoration-color: #008080; font-weight: bold\">0.01</span>       <span style=\"color: #008080; text-decoration-color: #008080; font-weight: bold\">0.01</span>       <span style=\"color: #008080; text-decoration-color: #008080; font-weight: bold\">0.01</span>       <span style=\"color: #008080; text-decoration-color: #008080; font-weight: bold\">0.01</span>       <span style=\"color: #008080; text-decoration-color: #008080; font-weight: bold\">0.01</span>       <span style=\"color: #008080; text-decoration-color: #008080; font-weight: bold\">0.01</span>\n",
       " <span style=\"color: #008080; text-decoration-color: #008080; font-weight: bold\">0.01</span>       <span style=\"color: #008080; text-decoration-color: #008080; font-weight: bold\">0.01</span>       <span style=\"color: #008080; text-decoration-color: #008080; font-weight: bold\">0.01</span>       <span style=\"color: #008080; text-decoration-color: #008080; font-weight: bold\">0.01</span>       <span style=\"color: #008080; text-decoration-color: #008080; font-weight: bold\">0.01</span>       <span style=\"color: #008080; text-decoration-color: #008080; font-weight: bold\">0.01</span>\n",
       " <span style=\"color: #008080; text-decoration-color: #008080; font-weight: bold\">0.01</span>       <span style=\"color: #008080; text-decoration-color: #008080; font-weight: bold\">0.01</span>       <span style=\"color: #008080; text-decoration-color: #008080; font-weight: bold\">0.01</span>       <span style=\"color: #008080; text-decoration-color: #008080; font-weight: bold\">0.7437647</span>  <span style=\"color: #008080; text-decoration-color: #008080; font-weight: bold\">0.30894119</span> <span style=\"color: #008080; text-decoration-color: #008080; font-weight: bold\">0.01</span>\n",
       " <span style=\"color: #008080; text-decoration-color: #008080; font-weight: bold\">0.01</span>       <span style=\"color: #008080; text-decoration-color: #008080; font-weight: bold\">0.01</span>       <span style=\"color: #008080; text-decoration-color: #008080; font-weight: bold\">0.01</span>       <span style=\"color: #008080; text-decoration-color: #008080; font-weight: bold\">0.11482353</span> <span style=\"color: #008080; text-decoration-color: #008080; font-weight: bold\">0.42152941</span> <span style=\"color: #008080; text-decoration-color: #008080; font-weight: bold\">0.05270588</span>\n",
       " <span style=\"color: #008080; text-decoration-color: #008080; font-weight: bold\">0.01</span>       <span style=\"color: #008080; text-decoration-color: #008080; font-weight: bold\">0.01</span>       <span style=\"color: #008080; text-decoration-color: #008080; font-weight: bold\">0.01</span>       <span style=\"color: #008080; text-decoration-color: #008080; font-weight: bold\">0.01</span>       <span style=\"color: #008080; text-decoration-color: #008080; font-weight: bold\">0.01</span>       <span style=\"color: #008080; text-decoration-color: #008080; font-weight: bold\">0.01</span>\n",
       " <span style=\"color: #008080; text-decoration-color: #008080; font-weight: bold\">0.01</span>       <span style=\"color: #008080; text-decoration-color: #008080; font-weight: bold\">0.01</span>       <span style=\"color: #008080; text-decoration-color: #008080; font-weight: bold\">0.01</span>       <span style=\"color: #008080; text-decoration-color: #008080; font-weight: bold\">0.01</span>       <span style=\"color: #008080; text-decoration-color: #008080; font-weight: bold\">0.01</span>       <span style=\"color: #008080; text-decoration-color: #008080; font-weight: bold\">0.01</span>\n",
       " <span style=\"color: #008080; text-decoration-color: #008080; font-weight: bold\">0.01</span>       <span style=\"color: #008080; text-decoration-color: #008080; font-weight: bold\">0.01</span>       <span style=\"color: #008080; text-decoration-color: #008080; font-weight: bold\">0.01</span>       <span style=\"color: #008080; text-decoration-color: #008080; font-weight: bold\">0.01</span>       <span style=\"color: #008080; text-decoration-color: #008080; font-weight: bold\">0.01</span>       <span style=\"color: #008080; text-decoration-color: #008080; font-weight: bold\">0.01</span>\n",
       " <span style=\"color: #008080; text-decoration-color: #008080; font-weight: bold\">0.40211764</span> <span style=\"color: #008080; text-decoration-color: #008080; font-weight: bold\">0.69717646</span> <span style=\"color: #008080; text-decoration-color: #008080; font-weight: bold\">0.01</span>       <span style=\"color: #008080; text-decoration-color: #008080; font-weight: bold\">0.01</span>       <span style=\"color: #008080; text-decoration-color: #008080; font-weight: bold\">0.01</span>       <span style=\"color: #008080; text-decoration-color: #008080; font-weight: bold\">0.01</span>\n",
       " <span style=\"color: #008080; text-decoration-color: #008080; font-weight: bold\">0.01</span>       <span style=\"color: #008080; text-decoration-color: #008080; font-weight: bold\">0.1924706</span>  <span style=\"color: #008080; text-decoration-color: #008080; font-weight: bold\">0.73988235</span> <span style=\"color: #008080; text-decoration-color: #008080; font-weight: bold\">0.06823529</span> <span style=\"color: #008080; text-decoration-color: #008080; font-weight: bold\">0.01</span>       <span style=\"color: #008080; text-decoration-color: #008080; font-weight: bold\">0.01</span>\n",
       " <span style=\"color: #008080; text-decoration-color: #008080; font-weight: bold\">0.01</span>       <span style=\"color: #008080; text-decoration-color: #008080; font-weight: bold\">0.01</span>       <span style=\"color: #008080; text-decoration-color: #008080; font-weight: bold\">0.01</span>       <span style=\"color: #008080; text-decoration-color: #008080; font-weight: bold\">0.01</span>       <span style=\"color: #008080; text-decoration-color: #008080; font-weight: bold\">0.01</span>       <span style=\"color: #008080; text-decoration-color: #008080; font-weight: bold\">0.01</span>\n",
       " <span style=\"color: #008080; text-decoration-color: #008080; font-weight: bold\">0.01</span>       <span style=\"color: #008080; text-decoration-color: #008080; font-weight: bold\">0.01</span>       <span style=\"color: #008080; text-decoration-color: #008080; font-weight: bold\">0.01</span>       <span style=\"color: #008080; text-decoration-color: #008080; font-weight: bold\">0.01</span>       <span style=\"color: #008080; text-decoration-color: #008080; font-weight: bold\">0.01</span>       <span style=\"color: #008080; text-decoration-color: #008080; font-weight: bold\">0.01</span>\n",
       " <span style=\"color: #008080; text-decoration-color: #008080; font-weight: bold\">0.01</span>       <span style=\"color: #008080; text-decoration-color: #008080; font-weight: bold\">0.01</span>       <span style=\"color: #008080; text-decoration-color: #008080; font-weight: bold\">0.01</span>       <span style=\"color: #008080; text-decoration-color: #008080; font-weight: bold\">0.09929412</span> <span style=\"color: #008080; text-decoration-color: #008080; font-weight: bold\">0.83694118</span> <span style=\"color: #008080; text-decoration-color: #008080; font-weight: bold\">0.25847059</span>\n",
       " <span style=\"color: #008080; text-decoration-color: #008080; font-weight: bold\">0.01</span>       <span style=\"color: #008080; text-decoration-color: #008080; font-weight: bold\">0.01</span>       <span style=\"color: #008080; text-decoration-color: #008080; font-weight: bold\">0.01</span>       <span style=\"color: #008080; text-decoration-color: #008080; font-weight: bold\">0.01</span>       <span style=\"color: #008080; text-decoration-color: #008080; font-weight: bold\">0.01</span>       <span style=\"color: #008080; text-decoration-color: #008080; font-weight: bold\">0.30117649</span>\n",
       " <span style=\"color: #008080; text-decoration-color: #008080; font-weight: bold\">0.7631765</span>  <span style=\"color: #008080; text-decoration-color: #008080; font-weight: bold\">0.01776471</span> <span style=\"color: #008080; text-decoration-color: #008080; font-weight: bold\">0.01</span>       <span style=\"color: #008080; text-decoration-color: #008080; font-weight: bold\">0.01</span>       <span style=\"color: #008080; text-decoration-color: #008080; font-weight: bold\">0.01</span>       <span style=\"color: #008080; text-decoration-color: #008080; font-weight: bold\">0.01</span>\n",
       " <span style=\"color: #008080; text-decoration-color: #008080; font-weight: bold\">0.01</span>       <span style=\"color: #008080; text-decoration-color: #008080; font-weight: bold\">0.01</span>       <span style=\"color: #008080; text-decoration-color: #008080; font-weight: bold\">0.01</span>       <span style=\"color: #008080; text-decoration-color: #008080; font-weight: bold\">0.01</span>       <span style=\"color: #008080; text-decoration-color: #008080; font-weight: bold\">0.01</span>       <span style=\"color: #008080; text-decoration-color: #008080; font-weight: bold\">0.01</span>\n",
       " <span style=\"color: #008080; text-decoration-color: #008080; font-weight: bold\">0.01</span>       <span style=\"color: #008080; text-decoration-color: #008080; font-weight: bold\">0.01</span>       <span style=\"color: #008080; text-decoration-color: #008080; font-weight: bold\">0.01</span>       <span style=\"color: #008080; text-decoration-color: #008080; font-weight: bold\">0.01</span>       <span style=\"color: #008080; text-decoration-color: #008080; font-weight: bold\">0.01</span>       <span style=\"color: #008080; text-decoration-color: #008080; font-weight: bold\">0.01</span>\n",
       " <span style=\"color: #008080; text-decoration-color: #008080; font-weight: bold\">0.01</span>       <span style=\"color: #008080; text-decoration-color: #008080; font-weight: bold\">0.51082355</span> <span style=\"color: #008080; text-decoration-color: #008080; font-weight: bold\">0.68552941</span> <span style=\"color: #008080; text-decoration-color: #008080; font-weight: bold\">0.01</span>       <span style=\"color: #008080; text-decoration-color: #008080; font-weight: bold\">0.01</span>       <span style=\"color: #008080; text-decoration-color: #008080; font-weight: bold\">0.01</span>\n",
       " <span style=\"color: #008080; text-decoration-color: #008080; font-weight: bold\">0.01</span>       <span style=\"color: #008080; text-decoration-color: #008080; font-weight: bold\">0.01</span>       <span style=\"color: #008080; text-decoration-color: #008080; font-weight: bold\">0.01</span>       <span style=\"color: #008080; text-decoration-color: #008080; font-weight: bold\">0.44094118</span> <span style=\"color: #008080; text-decoration-color: #008080; font-weight: bold\">0.69329411</span> <span style=\"color: #008080; text-decoration-color: #008080; font-weight: bold\">0.01</span>\n",
       " <span style=\"color: #008080; text-decoration-color: #008080; font-weight: bold\">0.01</span>       <span style=\"color: #008080; text-decoration-color: #008080; font-weight: bold\">0.01</span>       <span style=\"color: #008080; text-decoration-color: #008080; font-weight: bold\">0.01</span>       <span style=\"color: #008080; text-decoration-color: #008080; font-weight: bold\">0.01</span>       <span style=\"color: #008080; text-decoration-color: #008080; font-weight: bold\">0.01</span>       <span style=\"color: #008080; text-decoration-color: #008080; font-weight: bold\">0.01</span>\n",
       " <span style=\"color: #008080; text-decoration-color: #008080; font-weight: bold\">0.01</span>       <span style=\"color: #008080; text-decoration-color: #008080; font-weight: bold\">0.01</span>       <span style=\"color: #008080; text-decoration-color: #008080; font-weight: bold\">0.01</span>       <span style=\"color: #008080; text-decoration-color: #008080; font-weight: bold\">0.01</span>       <span style=\"color: #008080; text-decoration-color: #008080; font-weight: bold\">0.01</span>       <span style=\"color: #008080; text-decoration-color: #008080; font-weight: bold\">0.01</span>\n",
       " <span style=\"color: #008080; text-decoration-color: #008080; font-weight: bold\">0.01</span>       <span style=\"color: #008080; text-decoration-color: #008080; font-weight: bold\">0.01</span>       <span style=\"color: #008080; text-decoration-color: #008080; font-weight: bold\">0.01</span>       <span style=\"color: #008080; text-decoration-color: #008080; font-weight: bold\">0.01</span>       <span style=\"color: #008080; text-decoration-color: #008080; font-weight: bold\">0.10317647</span> <span style=\"color: #008080; text-decoration-color: #008080; font-weight: bold\">0.78647059</span>\n",
       " <span style=\"color: #008080; text-decoration-color: #008080; font-weight: bold\">0.15364707</span> <span style=\"color: #008080; text-decoration-color: #008080; font-weight: bold\">0.01</span>       <span style=\"color: #008080; text-decoration-color: #008080; font-weight: bold\">0.01</span>       <span style=\"color: #008080; text-decoration-color: #008080; font-weight: bold\">0.01</span>       <span style=\"color: #008080; text-decoration-color: #008080; font-weight: bold\">0.01</span>       <span style=\"color: #008080; text-decoration-color: #008080; font-weight: bold\">0.01</span>\n",
       " <span style=\"color: #008080; text-decoration-color: #008080; font-weight: bold\">0.01</span>       <span style=\"color: #008080; text-decoration-color: #008080; font-weight: bold\">0.61564708</span> <span style=\"color: #008080; text-decoration-color: #008080; font-weight: bold\">0.58847064</span> <span style=\"color: #008080; text-decoration-color: #008080; font-weight: bold\">0.01</span>       <span style=\"color: #008080; text-decoration-color: #008080; font-weight: bold\">0.01</span>       <span style=\"color: #008080; text-decoration-color: #008080; font-weight: bold\">0.01</span>\n",
       " <span style=\"color: #008080; text-decoration-color: #008080; font-weight: bold\">0.01</span>       <span style=\"color: #008080; text-decoration-color: #008080; font-weight: bold\">0.01</span>       <span style=\"color: #008080; text-decoration-color: #008080; font-weight: bold\">0.01</span>       <span style=\"color: #008080; text-decoration-color: #008080; font-weight: bold\">0.01</span>       <span style=\"color: #008080; text-decoration-color: #008080; font-weight: bold\">0.01</span>       <span style=\"color: #008080; text-decoration-color: #008080; font-weight: bold\">0.01</span>\n",
       " <span style=\"color: #008080; text-decoration-color: #008080; font-weight: bold\">0.01</span>       <span style=\"color: #008080; text-decoration-color: #008080; font-weight: bold\">0.01</span>       <span style=\"color: #008080; text-decoration-color: #008080; font-weight: bold\">0.01</span>       <span style=\"color: #008080; text-decoration-color: #008080; font-weight: bold\">0.01</span>       <span style=\"color: #008080; text-decoration-color: #008080; font-weight: bold\">0.01</span>       <span style=\"color: #008080; text-decoration-color: #008080; font-weight: bold\">0.01</span>\n",
       " <span style=\"color: #008080; text-decoration-color: #008080; font-weight: bold\">0.01</span>       <span style=\"color: #008080; text-decoration-color: #008080; font-weight: bold\">0.01</span>       <span style=\"color: #008080; text-decoration-color: #008080; font-weight: bold\">0.60788238</span> <span style=\"color: #008080; text-decoration-color: #008080; font-weight: bold\">0.5069412</span>  <span style=\"color: #008080; text-decoration-color: #008080; font-weight: bold\">0.01</span>       <span style=\"color: #008080; text-decoration-color: #008080; font-weight: bold\">0.01</span>\n",
       " <span style=\"color: #008080; text-decoration-color: #008080; font-weight: bold\">0.01</span>       <span style=\"color: #008080; text-decoration-color: #008080; font-weight: bold\">0.01</span>       <span style=\"color: #008080; text-decoration-color: #008080; font-weight: bold\">0.01</span>       <span style=\"color: #008080; text-decoration-color: #008080; font-weight: bold\">0.01</span>       <span style=\"color: #008080; text-decoration-color: #008080; font-weight: bold\">0.01</span>       <span style=\"color: #008080; text-decoration-color: #008080; font-weight: bold\">0.61564708</span>\n",
       " <span style=\"color: #008080; text-decoration-color: #008080; font-weight: bold\">0.50305885</span> <span style=\"color: #008080; text-decoration-color: #008080; font-weight: bold\">0.01</span>       <span style=\"color: #008080; text-decoration-color: #008080; font-weight: bold\">0.01</span>       <span style=\"color: #008080; text-decoration-color: #008080; font-weight: bold\">0.01</span>       <span style=\"color: #008080; text-decoration-color: #008080; font-weight: bold\">0.01</span>       <span style=\"color: #008080; text-decoration-color: #008080; font-weight: bold\">0.01</span>\n",
       " <span style=\"color: #008080; text-decoration-color: #008080; font-weight: bold\">0.01</span>       <span style=\"color: #008080; text-decoration-color: #008080; font-weight: bold\">0.01</span>       <span style=\"color: #008080; text-decoration-color: #008080; font-weight: bold\">0.01</span>       <span style=\"color: #008080; text-decoration-color: #008080; font-weight: bold\">0.01</span>       <span style=\"color: #008080; text-decoration-color: #008080; font-weight: bold\">0.01</span>       <span style=\"color: #008080; text-decoration-color: #008080; font-weight: bold\">0.01</span>\n",
       " <span style=\"color: #008080; text-decoration-color: #008080; font-weight: bold\">0.01</span>       <span style=\"color: #008080; text-decoration-color: #008080; font-weight: bold\">0.01</span>       <span style=\"color: #008080; text-decoration-color: #008080; font-weight: bold\">0.01</span>       <span style=\"color: #008080; text-decoration-color: #008080; font-weight: bold\">0.01</span>       <span style=\"color: #008080; text-decoration-color: #008080; font-weight: bold\">0.01</span>       <span style=\"color: #008080; text-decoration-color: #008080; font-weight: bold\">0.1847059</span>\n",
       " <span style=\"color: #008080; text-decoration-color: #008080; font-weight: bold\">0.71658826</span> <span style=\"color: #008080; text-decoration-color: #008080; font-weight: bold\">0.01</span>       <span style=\"color: #008080; text-decoration-color: #008080; font-weight: bold\">0.01</span>       <span style=\"color: #008080; text-decoration-color: #008080; font-weight: bold\">0.01</span>       <span style=\"color: #008080; text-decoration-color: #008080; font-weight: bold\">0.01</span>       <span style=\"color: #008080; text-decoration-color: #008080; font-weight: bold\">0.01</span>\n",
       " <span style=\"color: #008080; text-decoration-color: #008080; font-weight: bold\">0.02941176</span> <span style=\"color: #008080; text-decoration-color: #008080; font-weight: bold\">0.01</span>       <span style=\"color: #008080; text-decoration-color: #008080; font-weight: bold\">0.01388235</span> <span style=\"color: #008080; text-decoration-color: #008080; font-weight: bold\">0.64670593</span> <span style=\"color: #008080; text-decoration-color: #008080; font-weight: bold\">0.472</span>      <span style=\"color: #008080; text-decoration-color: #008080; font-weight: bold\">0.01</span>\n",
       " <span style=\"color: #008080; text-decoration-color: #008080; font-weight: bold\">0.01</span>       <span style=\"color: #008080; text-decoration-color: #008080; font-weight: bold\">0.01</span>       <span style=\"color: #008080; text-decoration-color: #008080; font-weight: bold\">0.01</span>       <span style=\"color: #008080; text-decoration-color: #008080; font-weight: bold\">0.01</span>       <span style=\"color: #008080; text-decoration-color: #008080; font-weight: bold\">0.01</span>       <span style=\"color: #008080; text-decoration-color: #008080; font-weight: bold\">0.01</span>\n",
       " <span style=\"color: #008080; text-decoration-color: #008080; font-weight: bold\">0.01</span>       <span style=\"color: #008080; text-decoration-color: #008080; font-weight: bold\">0.01</span>       <span style=\"color: #008080; text-decoration-color: #008080; font-weight: bold\">0.01</span>       <span style=\"color: #008080; text-decoration-color: #008080; font-weight: bold\">0.01</span>       <span style=\"color: #008080; text-decoration-color: #008080; font-weight: bold\">0.01</span>       <span style=\"color: #008080; text-decoration-color: #008080; font-weight: bold\">0.01</span>\n",
       " <span style=\"color: #008080; text-decoration-color: #008080; font-weight: bold\">0.01</span>       <span style=\"color: #008080; text-decoration-color: #008080; font-weight: bold\">0.01</span>       <span style=\"color: #008080; text-decoration-color: #008080; font-weight: bold\">0.06435294</span> <span style=\"color: #008080; text-decoration-color: #008080; font-weight: bold\">0.84858823</span> <span style=\"color: #008080; text-decoration-color: #008080; font-weight: bold\">0.93011767</span> <span style=\"color: #008080; text-decoration-color: #008080; font-weight: bold\">0.56129414</span>\n",
       " <span style=\"color: #008080; text-decoration-color: #008080; font-weight: bold\">0.63894117</span> <span style=\"color: #008080; text-decoration-color: #008080; font-weight: bold\">0.65447062</span> <span style=\"color: #008080; text-decoration-color: #008080; font-weight: bold\">0.64670593</span> <span style=\"color: #008080; text-decoration-color: #008080; font-weight: bold\">0.67000002</span> <span style=\"color: #008080; text-decoration-color: #008080; font-weight: bold\">0.68164706</span> <span style=\"color: #008080; text-decoration-color: #008080; font-weight: bold\">0.67000002</span>\n",
       " <span style=\"color: #008080; text-decoration-color: #008080; font-weight: bold\">0.65835297</span> <span style=\"color: #008080; text-decoration-color: #008080; font-weight: bold\">0.91070586</span> <span style=\"color: #008080; text-decoration-color: #008080; font-weight: bold\">0.7631765</span>  <span style=\"color: #008080; text-decoration-color: #008080; font-weight: bold\">0.51858824</span> <span style=\"color: #008080; text-decoration-color: #008080; font-weight: bold\">0.52247059</span> <span style=\"color: #008080; text-decoration-color: #008080; font-weight: bold\">0.43317646</span>\n",
       " <span style=\"color: #008080; text-decoration-color: #008080; font-weight: bold\">0.3477647</span>  <span style=\"color: #008080; text-decoration-color: #008080; font-weight: bold\">0.24682353</span> <span style=\"color: #008080; text-decoration-color: #008080; font-weight: bold\">0.10705882</span> <span style=\"color: #008080; text-decoration-color: #008080; font-weight: bold\">0.04105882</span> <span style=\"color: #008080; text-decoration-color: #008080; font-weight: bold\">0.02552941</span> <span style=\"color: #008080; text-decoration-color: #008080; font-weight: bold\">0.01</span>\n",
       " <span style=\"color: #008080; text-decoration-color: #008080; font-weight: bold\">0.01</span>       <span style=\"color: #008080; text-decoration-color: #008080; font-weight: bold\">0.01</span>       <span style=\"color: #008080; text-decoration-color: #008080; font-weight: bold\">0.01</span>       <span style=\"color: #008080; text-decoration-color: #008080; font-weight: bold\">0.01</span>       <span style=\"color: #008080; text-decoration-color: #008080; font-weight: bold\">0.01</span>       <span style=\"color: #008080; text-decoration-color: #008080; font-weight: bold\">0.01</span>\n",
       " <span style=\"color: #008080; text-decoration-color: #008080; font-weight: bold\">0.14976472</span> <span style=\"color: #008080; text-decoration-color: #008080; font-weight: bold\">0.67388237</span> <span style=\"color: #008080; text-decoration-color: #008080; font-weight: bold\">0.59623533</span> <span style=\"color: #008080; text-decoration-color: #008080; font-weight: bold\">0.68941176</span> <span style=\"color: #008080; text-decoration-color: #008080; font-weight: bold\">0.70494121</span> <span style=\"color: #008080; text-decoration-color: #008080; font-weight: bold\">0.64282358</span>\n",
       " <span style=\"color: #008080; text-decoration-color: #008080; font-weight: bold\">0.66223532</span> <span style=\"color: #008080; text-decoration-color: #008080; font-weight: bold\">0.66611767</span> <span style=\"color: #008080; text-decoration-color: #008080; font-weight: bold\">0.62729412</span> <span style=\"color: #008080; text-decoration-color: #008080; font-weight: bold\">0.61952943</span> <span style=\"color: #008080; text-decoration-color: #008080; font-weight: bold\">0.69329411</span> <span style=\"color: #008080; text-decoration-color: #008080; font-weight: bold\">0.91458821</span>\n",
       " <span style=\"color: #008080; text-decoration-color: #008080; font-weight: bold\">0.87576473</span> <span style=\"color: #008080; text-decoration-color: #008080; font-weight: bold\">0.70494121</span> <span style=\"color: #008080; text-decoration-color: #008080; font-weight: bold\">0.74764705</span> <span style=\"color: #008080; text-decoration-color: #008080; font-weight: bold\">0.80976474</span> <span style=\"color: #008080; text-decoration-color: #008080; font-weight: bold\">0.7631765</span>  <span style=\"color: #008080; text-decoration-color: #008080; font-weight: bold\">0.82141179</span>\n",
       " <span style=\"color: #008080; text-decoration-color: #008080; font-weight: bold\">0.7437647</span>  <span style=\"color: #008080; text-decoration-color: #008080; font-weight: bold\">0.3477647</span>  <span style=\"color: #008080; text-decoration-color: #008080; font-weight: bold\">0.24294119</span> <span style=\"color: #008080; text-decoration-color: #008080; font-weight: bold\">0.04882353</span> <span style=\"color: #008080; text-decoration-color: #008080; font-weight: bold\">0.01</span>       <span style=\"color: #008080; text-decoration-color: #008080; font-weight: bold\">0.01</span>\n",
       " <span style=\"color: #008080; text-decoration-color: #008080; font-weight: bold\">0.01</span>       <span style=\"color: #008080; text-decoration-color: #008080; font-weight: bold\">0.01</span>       <span style=\"color: #008080; text-decoration-color: #008080; font-weight: bold\">0.01</span>       <span style=\"color: #008080; text-decoration-color: #008080; font-weight: bold\">0.01</span>       <span style=\"color: #008080; text-decoration-color: #008080; font-weight: bold\">0.02941176</span> <span style=\"color: #008080; text-decoration-color: #008080; font-weight: bold\">0.01</span>\n",
       " <span style=\"color: #008080; text-decoration-color: #008080; font-weight: bold\">0.01</span>       <span style=\"color: #008080; text-decoration-color: #008080; font-weight: bold\">0.01</span>       <span style=\"color: #008080; text-decoration-color: #008080; font-weight: bold\">0.01</span>       <span style=\"color: #008080; text-decoration-color: #008080; font-weight: bold\">0.01</span>       <span style=\"color: #008080; text-decoration-color: #008080; font-weight: bold\">0.01</span>       <span style=\"color: #008080; text-decoration-color: #008080; font-weight: bold\">0.02164706</span>\n",
       " <span style=\"color: #008080; text-decoration-color: #008080; font-weight: bold\">0.01</span>       <span style=\"color: #008080; text-decoration-color: #008080; font-weight: bold\">0.01</span>       <span style=\"color: #008080; text-decoration-color: #008080; font-weight: bold\">0.08764706</span> <span style=\"color: #008080; text-decoration-color: #008080; font-weight: bold\">0.80588233</span> <span style=\"color: #008080; text-decoration-color: #008080; font-weight: bold\">0.40211764</span> <span style=\"color: #008080; text-decoration-color: #008080; font-weight: bold\">0.01</span>\n",
       " <span style=\"color: #008080; text-decoration-color: #008080; font-weight: bold\">0.01</span>       <span style=\"color: #008080; text-decoration-color: #008080; font-weight: bold\">0.01</span>       <span style=\"color: #008080; text-decoration-color: #008080; font-weight: bold\">0.01</span>       <span style=\"color: #008080; text-decoration-color: #008080; font-weight: bold\">0.03717647</span> <span style=\"color: #008080; text-decoration-color: #008080; font-weight: bold\">0.16141178</span> <span style=\"color: #008080; text-decoration-color: #008080; font-weight: bold\">0.09541176</span>\n",
       " <span style=\"color: #008080; text-decoration-color: #008080; font-weight: bold\">0.06435294</span> <span style=\"color: #008080; text-decoration-color: #008080; font-weight: bold\">0.02941176</span> <span style=\"color: #008080; text-decoration-color: #008080; font-weight: bold\">0.01</span>       <span style=\"color: #008080; text-decoration-color: #008080; font-weight: bold\">0.01</span>       <span style=\"color: #008080; text-decoration-color: #008080; font-weight: bold\">0.01</span>       <span style=\"color: #008080; text-decoration-color: #008080; font-weight: bold\">0.01</span>\n",
       " <span style=\"color: #008080; text-decoration-color: #008080; font-weight: bold\">0.01</span>       <span style=\"color: #008080; text-decoration-color: #008080; font-weight: bold\">0.01</span>       <span style=\"color: #008080; text-decoration-color: #008080; font-weight: bold\">0.01</span>       <span style=\"color: #008080; text-decoration-color: #008080; font-weight: bold\">0.01</span>       <span style=\"color: #008080; text-decoration-color: #008080; font-weight: bold\">0.01</span>       <span style=\"color: #008080; text-decoration-color: #008080; font-weight: bold\">0.01</span>\n",
       " <span style=\"color: #008080; text-decoration-color: #008080; font-weight: bold\">0.01</span>       <span style=\"color: #008080; text-decoration-color: #008080; font-weight: bold\">0.01</span>       <span style=\"color: #008080; text-decoration-color: #008080; font-weight: bold\">0.01</span>       <span style=\"color: #008080; text-decoration-color: #008080; font-weight: bold\">0.01</span>       <span style=\"color: #008080; text-decoration-color: #008080; font-weight: bold\">0.01</span>       <span style=\"color: #008080; text-decoration-color: #008080; font-weight: bold\">0.01</span>\n",
       " <span style=\"color: #008080; text-decoration-color: #008080; font-weight: bold\">0.08764706</span> <span style=\"color: #008080; text-decoration-color: #008080; font-weight: bold\">0.83305883</span> <span style=\"color: #008080; text-decoration-color: #008080; font-weight: bold\">0.3827059</span>  <span style=\"color: #008080; text-decoration-color: #008080; font-weight: bold\">0.01</span>       <span style=\"color: #008080; text-decoration-color: #008080; font-weight: bold\">0.01</span>       <span style=\"color: #008080; text-decoration-color: #008080; font-weight: bold\">0.01</span>\n",
       " <span style=\"color: #008080; text-decoration-color: #008080; font-weight: bold\">0.01</span>       <span style=\"color: #008080; text-decoration-color: #008080; font-weight: bold\">0.01</span>       <span style=\"color: #008080; text-decoration-color: #008080; font-weight: bold\">0.01</span>       <span style=\"color: #008080; text-decoration-color: #008080; font-weight: bold\">0.01</span>       <span style=\"color: #008080; text-decoration-color: #008080; font-weight: bold\">0.01</span>       <span style=\"color: #008080; text-decoration-color: #008080; font-weight: bold\">0.01</span>\n",
       " <span style=\"color: #008080; text-decoration-color: #008080; font-weight: bold\">0.01</span>       <span style=\"color: #008080; text-decoration-color: #008080; font-weight: bold\">0.01</span>       <span style=\"color: #008080; text-decoration-color: #008080; font-weight: bold\">0.01</span>       <span style=\"color: #008080; text-decoration-color: #008080; font-weight: bold\">0.01</span>       <span style=\"color: #008080; text-decoration-color: #008080; font-weight: bold\">0.01</span>       <span style=\"color: #008080; text-decoration-color: #008080; font-weight: bold\">0.01</span>\n",
       " <span style=\"color: #008080; text-decoration-color: #008080; font-weight: bold\">0.01</span>       <span style=\"color: #008080; text-decoration-color: #008080; font-weight: bold\">0.01</span>       <span style=\"color: #008080; text-decoration-color: #008080; font-weight: bold\">0.01</span>       <span style=\"color: #008080; text-decoration-color: #008080; font-weight: bold\">0.01</span>       <span style=\"color: #008080; text-decoration-color: #008080; font-weight: bold\">0.01</span>       <span style=\"color: #008080; text-decoration-color: #008080; font-weight: bold\">0.01</span>\n",
       " <span style=\"color: #008080; text-decoration-color: #008080; font-weight: bold\">0.01</span>       <span style=\"color: #008080; text-decoration-color: #008080; font-weight: bold\">0.01</span>       <span style=\"color: #008080; text-decoration-color: #008080; font-weight: bold\">0.01</span>       <span style=\"color: #008080; text-decoration-color: #008080; font-weight: bold\">0.01</span>       <span style=\"color: #008080; text-decoration-color: #008080; font-weight: bold\">0.04105882</span> <span style=\"color: #008080; text-decoration-color: #008080; font-weight: bold\">0.81364709</span>\n",
       " <span style=\"color: #008080; text-decoration-color: #008080; font-weight: bold\">0.43317646</span> <span style=\"color: #008080; text-decoration-color: #008080; font-weight: bold\">0.01</span>       <span style=\"color: #008080; text-decoration-color: #008080; font-weight: bold\">0.01</span>       <span style=\"color: #008080; text-decoration-color: #008080; font-weight: bold\">0.01</span>       <span style=\"color: #008080; text-decoration-color: #008080; font-weight: bold\">0.01</span>       <span style=\"color: #008080; text-decoration-color: #008080; font-weight: bold\">0.01</span>\n",
       " <span style=\"color: #008080; text-decoration-color: #008080; font-weight: bold\">0.01</span>       <span style=\"color: #008080; text-decoration-color: #008080; font-weight: bold\">0.01</span>       <span style=\"color: #008080; text-decoration-color: #008080; font-weight: bold\">0.01</span>       <span style=\"color: #008080; text-decoration-color: #008080; font-weight: bold\">0.01</span>       <span style=\"color: #008080; text-decoration-color: #008080; font-weight: bold\">0.01</span>       <span style=\"color: #008080; text-decoration-color: #008080; font-weight: bold\">0.01</span>\n",
       " <span style=\"color: #008080; text-decoration-color: #008080; font-weight: bold\">0.01</span>       <span style=\"color: #008080; text-decoration-color: #008080; font-weight: bold\">0.01</span>       <span style=\"color: #008080; text-decoration-color: #008080; font-weight: bold\">0.01</span>       <span style=\"color: #008080; text-decoration-color: #008080; font-weight: bold\">0.01</span>       <span style=\"color: #008080; text-decoration-color: #008080; font-weight: bold\">0.01</span>       <span style=\"color: #008080; text-decoration-color: #008080; font-weight: bold\">0.01</span>\n",
       " <span style=\"color: #008080; text-decoration-color: #008080; font-weight: bold\">0.01</span>       <span style=\"color: #008080; text-decoration-color: #008080; font-weight: bold\">0.01</span>       <span style=\"color: #008080; text-decoration-color: #008080; font-weight: bold\">0.01</span>       <span style=\"color: #008080; text-decoration-color: #008080; font-weight: bold\">0.01</span>       <span style=\"color: #008080; text-decoration-color: #008080; font-weight: bold\">0.01</span>       <span style=\"color: #008080; text-decoration-color: #008080; font-weight: bold\">0.01</span>\n",
       " <span style=\"color: #008080; text-decoration-color: #008080; font-weight: bold\">0.01</span>       <span style=\"color: #008080; text-decoration-color: #008080; font-weight: bold\">0.01</span>       <span style=\"color: #008080; text-decoration-color: #008080; font-weight: bold\">0.01</span>       <span style=\"color: #008080; text-decoration-color: #008080; font-weight: bold\">0.85247058</span> <span style=\"color: #008080; text-decoration-color: #008080; font-weight: bold\">0.4875294</span>  <span style=\"color: #008080; text-decoration-color: #008080; font-weight: bold\">0.01</span>\n",
       " <span style=\"color: #008080; text-decoration-color: #008080; font-weight: bold\">0.01</span>       <span style=\"color: #008080; text-decoration-color: #008080; font-weight: bold\">0.01</span>       <span style=\"color: #008080; text-decoration-color: #008080; font-weight: bold\">0.01</span>       <span style=\"color: #008080; text-decoration-color: #008080; font-weight: bold\">0.01</span>       <span style=\"color: #008080; text-decoration-color: #008080; font-weight: bold\">0.01</span>       <span style=\"color: #008080; text-decoration-color: #008080; font-weight: bold\">0.01</span>\n",
       " <span style=\"color: #008080; text-decoration-color: #008080; font-weight: bold\">0.01</span>       <span style=\"color: #008080; text-decoration-color: #008080; font-weight: bold\">0.01</span>       <span style=\"color: #008080; text-decoration-color: #008080; font-weight: bold\">0.01</span>       <span style=\"color: #008080; text-decoration-color: #008080; font-weight: bold\">0.01</span>       <span style=\"color: #008080; text-decoration-color: #008080; font-weight: bold\">0.01</span>       <span style=\"color: #008080; text-decoration-color: #008080; font-weight: bold\">0.01</span>\n",
       " <span style=\"color: #008080; text-decoration-color: #008080; font-weight: bold\">0.01</span>       <span style=\"color: #008080; text-decoration-color: #008080; font-weight: bold\">0.01</span>       <span style=\"color: #008080; text-decoration-color: #008080; font-weight: bold\">0.01</span>       <span style=\"color: #008080; text-decoration-color: #008080; font-weight: bold\">0.01</span>       <span style=\"color: #008080; text-decoration-color: #008080; font-weight: bold\">0.01</span>       <span style=\"color: #008080; text-decoration-color: #008080; font-weight: bold\">0.01</span>\n",
       " <span style=\"color: #008080; text-decoration-color: #008080; font-weight: bold\">0.01</span>       <span style=\"color: #008080; text-decoration-color: #008080; font-weight: bold\">0.01</span>       <span style=\"color: #008080; text-decoration-color: #008080; font-weight: bold\">0.01</span>       <span style=\"color: #008080; text-decoration-color: #008080; font-weight: bold\">0.01</span>       <span style=\"color: #008080; text-decoration-color: #008080; font-weight: bold\">0.01</span>       <span style=\"color: #008080; text-decoration-color: #008080; font-weight: bold\">0.01</span>\n",
       " <span style=\"color: #008080; text-decoration-color: #008080; font-weight: bold\">0.01388235</span> <span style=\"color: #008080; text-decoration-color: #008080; font-weight: bold\">0.77482355</span> <span style=\"color: #008080; text-decoration-color: #008080; font-weight: bold\">0.54576474</span> <span style=\"color: #008080; text-decoration-color: #008080; font-weight: bold\">0.01</span>       <span style=\"color: #008080; text-decoration-color: #008080; font-weight: bold\">0.01</span>       <span style=\"color: #008080; text-decoration-color: #008080; font-weight: bold\">0.01</span>\n",
       " <span style=\"color: #008080; text-decoration-color: #008080; font-weight: bold\">0.01</span>       <span style=\"color: #008080; text-decoration-color: #008080; font-weight: bold\">0.01</span>       <span style=\"color: #008080; text-decoration-color: #008080; font-weight: bold\">0.01</span>       <span style=\"color: #008080; text-decoration-color: #008080; font-weight: bold\">0.01</span>       <span style=\"color: #008080; text-decoration-color: #008080; font-weight: bold\">0.01</span>       <span style=\"color: #008080; text-decoration-color: #008080; font-weight: bold\">0.01</span>\n",
       " <span style=\"color: #008080; text-decoration-color: #008080; font-weight: bold\">0.01</span>       <span style=\"color: #008080; text-decoration-color: #008080; font-weight: bold\">0.01</span>       <span style=\"color: #008080; text-decoration-color: #008080; font-weight: bold\">0.01</span>       <span style=\"color: #008080; text-decoration-color: #008080; font-weight: bold\">0.01</span>       <span style=\"color: #008080; text-decoration-color: #008080; font-weight: bold\">0.01</span>       <span style=\"color: #008080; text-decoration-color: #008080; font-weight: bold\">0.01</span>\n",
       " <span style=\"color: #008080; text-decoration-color: #008080; font-weight: bold\">0.01</span>       <span style=\"color: #008080; text-decoration-color: #008080; font-weight: bold\">0.01</span>       <span style=\"color: #008080; text-decoration-color: #008080; font-weight: bold\">0.01</span>       <span style=\"color: #008080; text-decoration-color: #008080; font-weight: bold\">0.01</span>       <span style=\"color: #008080; text-decoration-color: #008080; font-weight: bold\">0.01</span>       <span style=\"color: #008080; text-decoration-color: #008080; font-weight: bold\">0.01</span>\n",
       " <span style=\"color: #008080; text-decoration-color: #008080; font-weight: bold\">0.01</span>       <span style=\"color: #008080; text-decoration-color: #008080; font-weight: bold\">0.01</span>       <span style=\"color: #008080; text-decoration-color: #008080; font-weight: bold\">0.01</span>       <span style=\"color: #008080; text-decoration-color: #008080; font-weight: bold\">0.01</span>       <span style=\"color: #008080; text-decoration-color: #008080; font-weight: bold\">0.01</span>       <span style=\"color: #008080; text-decoration-color: #008080; font-weight: bold\">0.32835296</span>\n",
       " <span style=\"color: #008080; text-decoration-color: #008080; font-weight: bold\">0.56905884</span> <span style=\"color: #008080; text-decoration-color: #008080; font-weight: bold\">0.01388235</span> <span style=\"color: #008080; text-decoration-color: #008080; font-weight: bold\">0.01</span>       <span style=\"color: #008080; text-decoration-color: #008080; font-weight: bold\">0.01</span>       <span style=\"color: #008080; text-decoration-color: #008080; font-weight: bold\">0.01</span>       <span style=\"color: #008080; text-decoration-color: #008080; font-weight: bold\">0.01</span>\n",
       " <span style=\"color: #008080; text-decoration-color: #008080; font-weight: bold\">0.01</span>       <span style=\"color: #008080; text-decoration-color: #008080; font-weight: bold\">0.01</span>       <span style=\"color: #008080; text-decoration-color: #008080; font-weight: bold\">0.01</span>       <span style=\"color: #008080; text-decoration-color: #008080; font-weight: bold\">0.01</span>       <span style=\"color: #008080; text-decoration-color: #008080; font-weight: bold\">0.01</span>       <span style=\"color: #008080; text-decoration-color: #008080; font-weight: bold\">0.01</span>\n",
       " <span style=\"color: #008080; text-decoration-color: #008080; font-weight: bold\">0.01</span>       <span style=\"color: #008080; text-decoration-color: #008080; font-weight: bold\">0.01</span>       <span style=\"color: #008080; text-decoration-color: #008080; font-weight: bold\">0.01</span>       <span style=\"color: #008080; text-decoration-color: #008080; font-weight: bold\">0.01</span>       <span style=\"color: #008080; text-decoration-color: #008080; font-weight: bold\">0.01</span>       <span style=\"color: #008080; text-decoration-color: #008080; font-weight: bold\">0.01</span>\n",
       " <span style=\"color: #008080; text-decoration-color: #008080; font-weight: bold\">0.01</span>       <span style=\"color: #008080; text-decoration-color: #008080; font-weight: bold\">0.01</span>       <span style=\"color: #008080; text-decoration-color: #008080; font-weight: bold\">0.01</span>       <span style=\"color: #008080; text-decoration-color: #008080; font-weight: bold\">0.01</span>       <span style=\"color: #008080; text-decoration-color: #008080; font-weight: bold\">0.01</span>       <span style=\"color: #008080; text-decoration-color: #008080; font-weight: bold\">0.01</span>\n",
       " <span style=\"color: #008080; text-decoration-color: #008080; font-weight: bold\">0.01</span>       <span style=\"color: #008080; text-decoration-color: #008080; font-weight: bold\">0.01</span>       <span style=\"color: #008080; text-decoration-color: #008080; font-weight: bold\">0.01</span>       <span style=\"color: #008080; text-decoration-color: #008080; font-weight: bold\">0.02164706</span> <span style=\"color: #008080; text-decoration-color: #008080; font-weight: bold\">0.22352943</span> <span style=\"color: #008080; text-decoration-color: #008080; font-weight: bold\">0.02552941</span>\n",
       " <span style=\"color: #008080; text-decoration-color: #008080; font-weight: bold\">0.01</span>       <span style=\"color: #008080; text-decoration-color: #008080; font-weight: bold\">0.01</span>       <span style=\"color: #008080; text-decoration-color: #008080; font-weight: bold\">0.01</span>       <span style=\"color: #008080; text-decoration-color: #008080; font-weight: bold\">0.01</span>       <span style=\"color: #008080; text-decoration-color: #008080; font-weight: bold\">0.01</span>       <span style=\"color: #008080; text-decoration-color: #008080; font-weight: bold\">0.01</span>\n",
       " <span style=\"color: #008080; text-decoration-color: #008080; font-weight: bold\">0.01</span>       <span style=\"color: #008080; text-decoration-color: #008080; font-weight: bold\">0.01</span>       <span style=\"color: #008080; text-decoration-color: #008080; font-weight: bold\">0.01</span>       <span style=\"color: #008080; text-decoration-color: #008080; font-weight: bold\">0.01</span>       <span style=\"color: #008080; text-decoration-color: #008080; font-weight: bold\">0.01</span>       <span style=\"color: #008080; text-decoration-color: #008080; font-weight: bold\">0.01</span>\n",
       " <span style=\"color: #008080; text-decoration-color: #008080; font-weight: bold\">0.01</span>       <span style=\"color: #008080; text-decoration-color: #008080; font-weight: bold\">0.01</span>       <span style=\"color: #008080; text-decoration-color: #008080; font-weight: bold\">0.01</span>       <span style=\"color: #008080; text-decoration-color: #008080; font-weight: bold\">0.01</span>       <span style=\"color: #008080; text-decoration-color: #008080; font-weight: bold\">0.01</span>       <span style=\"color: #008080; text-decoration-color: #008080; font-weight: bold\">0.01</span>\n",
       " <span style=\"color: #008080; text-decoration-color: #008080; font-weight: bold\">0.01</span>       <span style=\"color: #008080; text-decoration-color: #008080; font-weight: bold\">0.01</span>       <span style=\"color: #008080; text-decoration-color: #008080; font-weight: bold\">0.01</span>       <span style=\"color: #008080; text-decoration-color: #008080; font-weight: bold\">0.01</span>       <span style=\"color: #008080; text-decoration-color: #008080; font-weight: bold\">0.01</span>       <span style=\"color: #008080; text-decoration-color: #008080; font-weight: bold\">0.01</span>\n",
       " <span style=\"color: #008080; text-decoration-color: #008080; font-weight: bold\">0.01</span>       <span style=\"color: #008080; text-decoration-color: #008080; font-weight: bold\">0.01</span>       <span style=\"color: #008080; text-decoration-color: #008080; font-weight: bold\">0.01</span>       <span style=\"color: #008080; text-decoration-color: #008080; font-weight: bold\">0.01</span>       <span style=\"color: #008080; text-decoration-color: #008080; font-weight: bold\">0.01</span>       <span style=\"color: #008080; text-decoration-color: #008080; font-weight: bold\">0.01</span>\n",
       " <span style=\"color: #008080; text-decoration-color: #008080; font-weight: bold\">0.01</span>       <span style=\"color: #008080; text-decoration-color: #008080; font-weight: bold\">0.01</span>       <span style=\"color: #008080; text-decoration-color: #008080; font-weight: bold\">0.01</span>       <span style=\"color: #008080; text-decoration-color: #008080; font-weight: bold\">0.01</span>       <span style=\"color: #008080; text-decoration-color: #008080; font-weight: bold\">0.01</span>       <span style=\"color: #008080; text-decoration-color: #008080; font-weight: bold\">0.01</span>\n",
       " <span style=\"color: #008080; text-decoration-color: #008080; font-weight: bold\">0.01</span>       <span style=\"color: #008080; text-decoration-color: #008080; font-weight: bold\">0.01</span>       <span style=\"color: #008080; text-decoration-color: #008080; font-weight: bold\">0.01</span>       <span style=\"color: #008080; text-decoration-color: #008080; font-weight: bold\">0.01</span>       <span style=\"color: #008080; text-decoration-color: #008080; font-weight: bold\">0.01</span>       <span style=\"color: #008080; text-decoration-color: #008080; font-weight: bold\">0.01</span>\n",
       " <span style=\"color: #008080; text-decoration-color: #008080; font-weight: bold\">0.01</span>       <span style=\"color: #008080; text-decoration-color: #008080; font-weight: bold\">0.01</span>       <span style=\"color: #008080; text-decoration-color: #008080; font-weight: bold\">0.01</span>       <span style=\"color: #008080; text-decoration-color: #008080; font-weight: bold\">0.01</span>       <span style=\"color: #008080; text-decoration-color: #008080; font-weight: bold\">0.01</span>       <span style=\"color: #008080; text-decoration-color: #008080; font-weight: bold\">0.01</span>\n",
       " <span style=\"color: #008080; text-decoration-color: #008080; font-weight: bold\">0.01</span>       <span style=\"color: #008080; text-decoration-color: #008080; font-weight: bold\">0.01</span>       <span style=\"color: #008080; text-decoration-color: #008080; font-weight: bold\">0.01</span>       <span style=\"color: #008080; text-decoration-color: #008080; font-weight: bold\">0.01</span>       <span style=\"color: #008080; text-decoration-color: #008080; font-weight: bold\">0.01</span>       <span style=\"color: #008080; text-decoration-color: #008080; font-weight: bold\">0.01</span>\n",
       " <span style=\"color: #008080; text-decoration-color: #008080; font-weight: bold\">0.01</span>       <span style=\"color: #008080; text-decoration-color: #008080; font-weight: bold\">0.01</span>       <span style=\"color: #008080; text-decoration-color: #008080; font-weight: bold\">0.01</span>       <span style=\"color: #008080; text-decoration-color: #008080; font-weight: bold\">0.01</span>       <span style=\"color: #008080; text-decoration-color: #008080; font-weight: bold\">0.01</span>       <span style=\"color: #008080; text-decoration-color: #008080; font-weight: bold\">0.01</span>\n",
       " <span style=\"color: #008080; text-decoration-color: #008080; font-weight: bold\">0.01</span>       <span style=\"color: #008080; text-decoration-color: #008080; font-weight: bold\">0.01</span>       <span style=\"color: #008080; text-decoration-color: #008080; font-weight: bold\">0.01</span>       <span style=\"color: #008080; text-decoration-color: #008080; font-weight: bold\">0.01</span>       <span style=\"color: #008080; text-decoration-color: #008080; font-weight: bold\">0.01</span>       <span style=\"color: #008080; text-decoration-color: #008080; font-weight: bold\">0.01</span>\n",
       " <span style=\"color: #008080; text-decoration-color: #008080; font-weight: bold\">0.01</span>       <span style=\"color: #008080; text-decoration-color: #008080; font-weight: bold\">0.01</span>       <span style=\"color: #008080; text-decoration-color: #008080; font-weight: bold\">0.01</span>       <span style=\"color: #008080; text-decoration-color: #008080; font-weight: bold\">0.01</span>       <span style=\"color: #008080; text-decoration-color: #008080; font-weight: bold\">0.01</span>       <span style=\"color: #008080; text-decoration-color: #008080; font-weight: bold\">0.01</span>\n",
       " <span style=\"color: #008080; text-decoration-color: #008080; font-weight: bold\">0.01</span>       <span style=\"color: #008080; text-decoration-color: #008080; font-weight: bold\">0.01</span>       <span style=\"color: #008080; text-decoration-color: #008080; font-weight: bold\">0.01</span>       <span style=\"color: #008080; text-decoration-color: #008080; font-weight: bold\">0.01</span>       <span style=\"color: #008080; text-decoration-color: #008080; font-weight: bold\">0.01</span>       <span style=\"color: #008080; text-decoration-color: #008080; font-weight: bold\">0.01</span>\n",
       " <span style=\"color: #008080; text-decoration-color: #008080; font-weight: bold\">0.01</span>       <span style=\"color: #008080; text-decoration-color: #008080; font-weight: bold\">0.01</span>       <span style=\"color: #008080; text-decoration-color: #008080; font-weight: bold\">0.01</span>       <span style=\"color: #008080; text-decoration-color: #008080; font-weight: bold\">0.01</span>       <span style=\"color: #008080; text-decoration-color: #008080; font-weight: bold\">0.01</span>       <span style=\"color: #008080; text-decoration-color: #008080; font-weight: bold\">0.01</span>\n",
       " <span style=\"color: #008080; text-decoration-color: #008080; font-weight: bold\">0.01</span>       <span style=\"color: #008080; text-decoration-color: #008080; font-weight: bold\">0.01</span>       <span style=\"color: #008080; text-decoration-color: #008080; font-weight: bold\">0.01</span>       <span style=\"color: #008080; text-decoration-color: #008080; font-weight: bold\">0.01</span>       <span style=\"color: #008080; text-decoration-color: #008080; font-weight: bold\">0.01</span>       <span style=\"color: #008080; text-decoration-color: #008080; font-weight: bold\">0.01</span>\n",
       " <span style=\"color: #008080; text-decoration-color: #008080; font-weight: bold\">0.01</span>       <span style=\"color: #008080; text-decoration-color: #008080; font-weight: bold\">0.01</span>       <span style=\"color: #008080; text-decoration-color: #008080; font-weight: bold\">0.01</span>       <span style=\"color: #008080; text-decoration-color: #008080; font-weight: bold\">0.01</span>       <span style=\"color: #008080; text-decoration-color: #008080; font-weight: bold\">0.01</span>       <span style=\"color: #008080; text-decoration-color: #008080; font-weight: bold\">0.01</span>\n",
       " <span style=\"color: #008080; text-decoration-color: #008080; font-weight: bold\">0.01</span>       <span style=\"color: #008080; text-decoration-color: #008080; font-weight: bold\">0.01</span>       <span style=\"color: #008080; text-decoration-color: #008080; font-weight: bold\">0.01</span>       <span style=\"color: #008080; text-decoration-color: #008080; font-weight: bold\">0.01</span>       <span style=\"color: #008080; text-decoration-color: #008080; font-weight: bold\">0.01</span>       <span style=\"color: #008080; text-decoration-color: #008080; font-weight: bold\">0.01</span>\n",
       " <span style=\"color: #008080; text-decoration-color: #008080; font-weight: bold\">0.01</span>       <span style=\"color: #008080; text-decoration-color: #008080; font-weight: bold\">0.01</span>       <span style=\"color: #008080; text-decoration-color: #008080; font-weight: bold\">0.01</span>       <span style=\"color: #008080; text-decoration-color: #008080; font-weight: bold\">0.01</span>       <span style=\"color: #008080; text-decoration-color: #008080; font-weight: bold\">0.01</span>       <span style=\"color: #008080; text-decoration-color: #008080; font-weight: bold\">0.01</span>\n",
       " <span style=\"color: #008080; text-decoration-color: #008080; font-weight: bold\">0.01</span>       <span style=\"color: #008080; text-decoration-color: #008080; font-weight: bold\">0.01</span>       <span style=\"color: #008080; text-decoration-color: #008080; font-weight: bold\">0.01</span>       <span style=\"color: #008080; text-decoration-color: #008080; font-weight: bold\">0.01</span>       <span style=\"color: #008080; text-decoration-color: #008080; font-weight: bold\">0.01</span>       <span style=\"color: #008080; text-decoration-color: #008080; font-weight: bold\">0.01</span>\n",
       " <span style=\"color: #008080; text-decoration-color: #008080; font-weight: bold\">0.01</span>       <span style=\"color: #008080; text-decoration-color: #008080; font-weight: bold\">0.01</span>       <span style=\"color: #008080; text-decoration-color: #008080; font-weight: bold\">0.01</span>       <span style=\"color: #008080; text-decoration-color: #008080; font-weight: bold\">0.01</span>       <span style=\"color: #008080; text-decoration-color: #008080; font-weight: bold\">0.01</span>       <span style=\"color: #008080; text-decoration-color: #008080; font-weight: bold\">0.01</span>\n",
       " <span style=\"color: #008080; text-decoration-color: #008080; font-weight: bold\">0.01</span>       <span style=\"color: #008080; text-decoration-color: #008080; font-weight: bold\">0.01</span>       <span style=\"color: #008080; text-decoration-color: #008080; font-weight: bold\">0.01</span>       <span style=\"color: #008080; text-decoration-color: #008080; font-weight: bold\">0.01</span>       <span style=\"color: #008080; text-decoration-color: #008080; font-weight: bold\">0.01</span>       <span style=\"color: #008080; text-decoration-color: #008080; font-weight: bold\">0.01</span>\n",
       " <span style=\"color: #008080; text-decoration-color: #008080; font-weight: bold\">0.01</span>       <span style=\"color: #008080; text-decoration-color: #008080; font-weight: bold\">0.01</span>       <span style=\"color: #008080; text-decoration-color: #008080; font-weight: bold\">0.01</span>       <span style=\"color: #008080; text-decoration-color: #008080; font-weight: bold\">0.01</span>       <span style=\"color: #008080; text-decoration-color: #008080; font-weight: bold\">0.01</span>       <span style=\"color: #008080; text-decoration-color: #008080; font-weight: bold\">0.01</span>\n",
       " <span style=\"color: #008080; text-decoration-color: #008080; font-weight: bold\">0.01</span>       <span style=\"color: #008080; text-decoration-color: #008080; font-weight: bold\">0.01</span>       <span style=\"color: #008080; text-decoration-color: #008080; font-weight: bold\">0.01</span>       <span style=\"color: #008080; text-decoration-color: #008080; font-weight: bold\">0.01</span>       <span style=\"color: #008080; text-decoration-color: #008080; font-weight: bold\">0.01</span>       <span style=\"color: #008080; text-decoration-color: #008080; font-weight: bold\">0.01</span>\n",
       " <span style=\"color: #008080; text-decoration-color: #008080; font-weight: bold\">0.01</span>       <span style=\"color: #008080; text-decoration-color: #008080; font-weight: bold\">0.01</span>       <span style=\"color: #008080; text-decoration-color: #008080; font-weight: bold\">0.01</span>       <span style=\"color: #008080; text-decoration-color: #008080; font-weight: bold\">0.01</span>       <span style=\"color: #008080; text-decoration-color: #008080; font-weight: bold\">0.01</span>       <span style=\"color: #008080; text-decoration-color: #008080; font-weight: bold\">0.01</span>\n",
       " <span style=\"color: #008080; text-decoration-color: #008080; font-weight: bold\">0.01</span>       <span style=\"color: #008080; text-decoration-color: #008080; font-weight: bold\">0.01</span>       <span style=\"color: #008080; text-decoration-color: #008080; font-weight: bold\">0.01</span>       <span style=\"color: #008080; text-decoration-color: #008080; font-weight: bold\">0.01</span>       <span style=\"color: #008080; text-decoration-color: #008080; font-weight: bold\">0.01</span>      <span style=\"font-weight: bold\">]</span>\n",
       "</pre>\n"
      ],
      "text/plain": [
       "\u001b[1m[\u001b[0m\u001b[1;36m4\u001b[0m.         \u001b[1;36m0.01\u001b[0m       \u001b[1;36m0.01\u001b[0m       \u001b[1;36m0.01\u001b[0m       \u001b[1;36m0.01\u001b[0m       \u001b[1;36m0.01\u001b[0m\n",
       " \u001b[1;36m0.01\u001b[0m       \u001b[1;36m0.01\u001b[0m       \u001b[1;36m0.01\u001b[0m       \u001b[1;36m0.01\u001b[0m       \u001b[1;36m0.01\u001b[0m       \u001b[1;36m0.01\u001b[0m\n",
       " \u001b[1;36m0.01\u001b[0m       \u001b[1;36m0.01\u001b[0m       \u001b[1;36m0.01\u001b[0m       \u001b[1;36m0.01\u001b[0m       \u001b[1;36m0.01\u001b[0m       \u001b[1;36m0.01\u001b[0m\n",
       " \u001b[1;36m0.01\u001b[0m       \u001b[1;36m0.01\u001b[0m       \u001b[1;36m0.01\u001b[0m       \u001b[1;36m0.01\u001b[0m       \u001b[1;36m0.01\u001b[0m       \u001b[1;36m0.01\u001b[0m\n",
       " \u001b[1;36m0.01\u001b[0m       \u001b[1;36m0.01\u001b[0m       \u001b[1;36m0.01\u001b[0m       \u001b[1;36m0.01\u001b[0m       \u001b[1;36m0.01\u001b[0m       \u001b[1;36m0.01\u001b[0m\n",
       " \u001b[1;36m0.01\u001b[0m       \u001b[1;36m0.01\u001b[0m       \u001b[1;36m0.01\u001b[0m       \u001b[1;36m0.01\u001b[0m       \u001b[1;36m0.01\u001b[0m       \u001b[1;36m0.01\u001b[0m\n",
       " \u001b[1;36m0.01\u001b[0m       \u001b[1;36m0.01\u001b[0m       \u001b[1;36m0.01\u001b[0m       \u001b[1;36m0.01\u001b[0m       \u001b[1;36m0.01\u001b[0m       \u001b[1;36m0.01\u001b[0m\n",
       " \u001b[1;36m0.01\u001b[0m       \u001b[1;36m0.01\u001b[0m       \u001b[1;36m0.01\u001b[0m       \u001b[1;36m0.01\u001b[0m       \u001b[1;36m0.01\u001b[0m       \u001b[1;36m0.01\u001b[0m\n",
       " \u001b[1;36m0.01\u001b[0m       \u001b[1;36m0.01\u001b[0m       \u001b[1;36m0.01\u001b[0m       \u001b[1;36m0.01\u001b[0m       \u001b[1;36m0.01\u001b[0m       \u001b[1;36m0.01\u001b[0m\n",
       " \u001b[1;36m0.01\u001b[0m       \u001b[1;36m0.01\u001b[0m       \u001b[1;36m0.01\u001b[0m       \u001b[1;36m0.01\u001b[0m       \u001b[1;36m0.01\u001b[0m       \u001b[1;36m0.01\u001b[0m\n",
       " \u001b[1;36m0.01\u001b[0m       \u001b[1;36m0.01\u001b[0m       \u001b[1;36m0.01\u001b[0m       \u001b[1;36m0.01\u001b[0m       \u001b[1;36m0.01\u001b[0m       \u001b[1;36m0.01\u001b[0m\n",
       " \u001b[1;36m0.01\u001b[0m       \u001b[1;36m0.01\u001b[0m       \u001b[1;36m0.01\u001b[0m       \u001b[1;36m0.23905884\u001b[0m \u001b[1;36m0.15364707\u001b[0m \u001b[1;36m0.01\u001b[0m\n",
       " \u001b[1;36m0.01\u001b[0m       \u001b[1;36m0.01\u001b[0m       \u001b[1;36m0.01\u001b[0m       \u001b[1;36m0.01\u001b[0m       \u001b[1;36m0.01\u001b[0m       \u001b[1;36m0.01\u001b[0m\n",
       " \u001b[1;36m0.01\u001b[0m       \u001b[1;36m0.01\u001b[0m       \u001b[1;36m0.01\u001b[0m       \u001b[1;36m0.01\u001b[0m       \u001b[1;36m0.01\u001b[0m       \u001b[1;36m0.01\u001b[0m\n",
       " \u001b[1;36m0.01\u001b[0m       \u001b[1;36m0.01\u001b[0m       \u001b[1;36m0.01\u001b[0m       \u001b[1;36m0.01\u001b[0m       \u001b[1;36m0.01\u001b[0m       \u001b[1;36m0.01\u001b[0m\n",
       " \u001b[1;36m0.01\u001b[0m       \u001b[1;36m0.01\u001b[0m       \u001b[1;36m0.01\u001b[0m       \u001b[1;36m0.01\u001b[0m       \u001b[1;36m0.01\u001b[0m       \u001b[1;36m0.01\u001b[0m\n",
       " \u001b[1;36m0.12258823\u001b[0m \u001b[1;36m0.81752944\u001b[0m \u001b[1;36m0.1847059\u001b[0m  \u001b[1;36m0.01\u001b[0m       \u001b[1;36m0.01\u001b[0m       \u001b[1;36m0.01\u001b[0m\n",
       " \u001b[1;36m0.01\u001b[0m       \u001b[1;36m0.01\u001b[0m       \u001b[1;36m0.01\u001b[0m       \u001b[1;36m0.01\u001b[0m       \u001b[1;36m0.01\u001b[0m       \u001b[1;36m0.01\u001b[0m\n",
       " \u001b[1;36m0.01\u001b[0m       \u001b[1;36m0.01\u001b[0m       \u001b[1;36m0.01\u001b[0m       \u001b[1;36m0.01\u001b[0m       \u001b[1;36m0.01\u001b[0m       \u001b[1;36m0.01\u001b[0m\n",
       " \u001b[1;36m0.01\u001b[0m       \u001b[1;36m0.01\u001b[0m       \u001b[1;36m0.01\u001b[0m       \u001b[1;36m0.01\u001b[0m       \u001b[1;36m0.01\u001b[0m       \u001b[1;36m0.01\u001b[0m\n",
       " \u001b[1;36m0.01\u001b[0m       \u001b[1;36m0.01\u001b[0m       \u001b[1;36m0.01\u001b[0m       \u001b[1;36m0.01\u001b[0m       \u001b[1;36m0.49529412\u001b[0m \u001b[1;36m0.57682353\u001b[0m\n",
       " \u001b[1;36m0.01\u001b[0m       \u001b[1;36m0.01\u001b[0m       \u001b[1;36m0.01\u001b[0m       \u001b[1;36m0.01\u001b[0m       \u001b[1;36m0.01\u001b[0m       \u001b[1;36m0.01\u001b[0m\n",
       " \u001b[1;36m0.01\u001b[0m       \u001b[1;36m0.01\u001b[0m       \u001b[1;36m0.01\u001b[0m       \u001b[1;36m0.01\u001b[0m       \u001b[1;36m0.01\u001b[0m       \u001b[1;36m0.01\u001b[0m\n",
       " \u001b[1;36m0.01\u001b[0m       \u001b[1;36m0.01\u001b[0m       \u001b[1;36m0.01\u001b[0m       \u001b[1;36m0.01\u001b[0m       \u001b[1;36m0.01\u001b[0m       \u001b[1;36m0.01\u001b[0m\n",
       " \u001b[1;36m0.01\u001b[0m       \u001b[1;36m0.01\u001b[0m       \u001b[1;36m0.01\u001b[0m       \u001b[1;36m0.01\u001b[0m       \u001b[1;36m0.01\u001b[0m       \u001b[1;36m0.01\u001b[0m\n",
       " \u001b[1;36m0.01\u001b[0m       \u001b[1;36m0.06823529\u001b[0m \u001b[1;36m0.72435296\u001b[0m \u001b[1;36m0.16529413\u001b[0m \u001b[1;36m0.01\u001b[0m       \u001b[1;36m0.01\u001b[0m\n",
       " \u001b[1;36m0.01\u001b[0m       \u001b[1;36m0.01\u001b[0m       \u001b[1;36m0.01\u001b[0m       \u001b[1;36m0.01\u001b[0m       \u001b[1;36m0.01\u001b[0m       \u001b[1;36m0.01\u001b[0m\n",
       " \u001b[1;36m0.01\u001b[0m       \u001b[1;36m0.01\u001b[0m       \u001b[1;36m0.01\u001b[0m       \u001b[1;36m0.01\u001b[0m       \u001b[1;36m0.01\u001b[0m       \u001b[1;36m0.01\u001b[0m\n",
       " \u001b[1;36m0.01\u001b[0m       \u001b[1;36m0.01\u001b[0m       \u001b[1;36m0.01\u001b[0m       \u001b[1;36m0.01\u001b[0m       \u001b[1;36m0.01\u001b[0m       \u001b[1;36m0.01\u001b[0m\n",
       " \u001b[1;36m0.01\u001b[0m       \u001b[1;36m0.01\u001b[0m       \u001b[1;36m0.01\u001b[0m       \u001b[1;36m0.01\u001b[0m       \u001b[1;36m0.01\u001b[0m       \u001b[1;36m0.44482353\u001b[0m\n",
       " \u001b[1;36m0.69329411\u001b[0m \u001b[1;36m0.01\u001b[0m       \u001b[1;36m0.01\u001b[0m       \u001b[1;36m0.01\u001b[0m       \u001b[1;36m0.01\u001b[0m       \u001b[1;36m0.04882353\u001b[0m\n",
       " \u001b[1;36m0.06435294\u001b[0m \u001b[1;36m0.01\u001b[0m       \u001b[1;36m0.01\u001b[0m       \u001b[1;36m0.01\u001b[0m       \u001b[1;36m0.01\u001b[0m       \u001b[1;36m0.01\u001b[0m\n",
       " \u001b[1;36m0.01\u001b[0m       \u001b[1;36m0.01\u001b[0m       \u001b[1;36m0.01\u001b[0m       \u001b[1;36m0.01\u001b[0m       \u001b[1;36m0.01\u001b[0m       \u001b[1;36m0.01\u001b[0m\n",
       " \u001b[1;36m0.01\u001b[0m       \u001b[1;36m0.01\u001b[0m       \u001b[1;36m0.01\u001b[0m       \u001b[1;36m0.01\u001b[0m       \u001b[1;36m0.01\u001b[0m       \u001b[1;36m0.01\u001b[0m\n",
       " \u001b[1;36m0.01\u001b[0m       \u001b[1;36m0.01\u001b[0m       \u001b[1;36m0.01\u001b[0m       \u001b[1;36m0.7437647\u001b[0m  \u001b[1;36m0.30894119\u001b[0m \u001b[1;36m0.01\u001b[0m\n",
       " \u001b[1;36m0.01\u001b[0m       \u001b[1;36m0.01\u001b[0m       \u001b[1;36m0.01\u001b[0m       \u001b[1;36m0.11482353\u001b[0m \u001b[1;36m0.42152941\u001b[0m \u001b[1;36m0.05270588\u001b[0m\n",
       " \u001b[1;36m0.01\u001b[0m       \u001b[1;36m0.01\u001b[0m       \u001b[1;36m0.01\u001b[0m       \u001b[1;36m0.01\u001b[0m       \u001b[1;36m0.01\u001b[0m       \u001b[1;36m0.01\u001b[0m\n",
       " \u001b[1;36m0.01\u001b[0m       \u001b[1;36m0.01\u001b[0m       \u001b[1;36m0.01\u001b[0m       \u001b[1;36m0.01\u001b[0m       \u001b[1;36m0.01\u001b[0m       \u001b[1;36m0.01\u001b[0m\n",
       " \u001b[1;36m0.01\u001b[0m       \u001b[1;36m0.01\u001b[0m       \u001b[1;36m0.01\u001b[0m       \u001b[1;36m0.01\u001b[0m       \u001b[1;36m0.01\u001b[0m       \u001b[1;36m0.01\u001b[0m\n",
       " \u001b[1;36m0.40211764\u001b[0m \u001b[1;36m0.69717646\u001b[0m \u001b[1;36m0.01\u001b[0m       \u001b[1;36m0.01\u001b[0m       \u001b[1;36m0.01\u001b[0m       \u001b[1;36m0.01\u001b[0m\n",
       " \u001b[1;36m0.01\u001b[0m       \u001b[1;36m0.1924706\u001b[0m  \u001b[1;36m0.73988235\u001b[0m \u001b[1;36m0.06823529\u001b[0m \u001b[1;36m0.01\u001b[0m       \u001b[1;36m0.01\u001b[0m\n",
       " \u001b[1;36m0.01\u001b[0m       \u001b[1;36m0.01\u001b[0m       \u001b[1;36m0.01\u001b[0m       \u001b[1;36m0.01\u001b[0m       \u001b[1;36m0.01\u001b[0m       \u001b[1;36m0.01\u001b[0m\n",
       " \u001b[1;36m0.01\u001b[0m       \u001b[1;36m0.01\u001b[0m       \u001b[1;36m0.01\u001b[0m       \u001b[1;36m0.01\u001b[0m       \u001b[1;36m0.01\u001b[0m       \u001b[1;36m0.01\u001b[0m\n",
       " \u001b[1;36m0.01\u001b[0m       \u001b[1;36m0.01\u001b[0m       \u001b[1;36m0.01\u001b[0m       \u001b[1;36m0.09929412\u001b[0m \u001b[1;36m0.83694118\u001b[0m \u001b[1;36m0.25847059\u001b[0m\n",
       " \u001b[1;36m0.01\u001b[0m       \u001b[1;36m0.01\u001b[0m       \u001b[1;36m0.01\u001b[0m       \u001b[1;36m0.01\u001b[0m       \u001b[1;36m0.01\u001b[0m       \u001b[1;36m0.30117649\u001b[0m\n",
       " \u001b[1;36m0.7631765\u001b[0m  \u001b[1;36m0.01776471\u001b[0m \u001b[1;36m0.01\u001b[0m       \u001b[1;36m0.01\u001b[0m       \u001b[1;36m0.01\u001b[0m       \u001b[1;36m0.01\u001b[0m\n",
       " \u001b[1;36m0.01\u001b[0m       \u001b[1;36m0.01\u001b[0m       \u001b[1;36m0.01\u001b[0m       \u001b[1;36m0.01\u001b[0m       \u001b[1;36m0.01\u001b[0m       \u001b[1;36m0.01\u001b[0m\n",
       " \u001b[1;36m0.01\u001b[0m       \u001b[1;36m0.01\u001b[0m       \u001b[1;36m0.01\u001b[0m       \u001b[1;36m0.01\u001b[0m       \u001b[1;36m0.01\u001b[0m       \u001b[1;36m0.01\u001b[0m\n",
       " \u001b[1;36m0.01\u001b[0m       \u001b[1;36m0.51082355\u001b[0m \u001b[1;36m0.68552941\u001b[0m \u001b[1;36m0.01\u001b[0m       \u001b[1;36m0.01\u001b[0m       \u001b[1;36m0.01\u001b[0m\n",
       " \u001b[1;36m0.01\u001b[0m       \u001b[1;36m0.01\u001b[0m       \u001b[1;36m0.01\u001b[0m       \u001b[1;36m0.44094118\u001b[0m \u001b[1;36m0.69329411\u001b[0m \u001b[1;36m0.01\u001b[0m\n",
       " \u001b[1;36m0.01\u001b[0m       \u001b[1;36m0.01\u001b[0m       \u001b[1;36m0.01\u001b[0m       \u001b[1;36m0.01\u001b[0m       \u001b[1;36m0.01\u001b[0m       \u001b[1;36m0.01\u001b[0m\n",
       " \u001b[1;36m0.01\u001b[0m       \u001b[1;36m0.01\u001b[0m       \u001b[1;36m0.01\u001b[0m       \u001b[1;36m0.01\u001b[0m       \u001b[1;36m0.01\u001b[0m       \u001b[1;36m0.01\u001b[0m\n",
       " \u001b[1;36m0.01\u001b[0m       \u001b[1;36m0.01\u001b[0m       \u001b[1;36m0.01\u001b[0m       \u001b[1;36m0.01\u001b[0m       \u001b[1;36m0.10317647\u001b[0m \u001b[1;36m0.78647059\u001b[0m\n",
       " \u001b[1;36m0.15364707\u001b[0m \u001b[1;36m0.01\u001b[0m       \u001b[1;36m0.01\u001b[0m       \u001b[1;36m0.01\u001b[0m       \u001b[1;36m0.01\u001b[0m       \u001b[1;36m0.01\u001b[0m\n",
       " \u001b[1;36m0.01\u001b[0m       \u001b[1;36m0.61564708\u001b[0m \u001b[1;36m0.58847064\u001b[0m \u001b[1;36m0.01\u001b[0m       \u001b[1;36m0.01\u001b[0m       \u001b[1;36m0.01\u001b[0m\n",
       " \u001b[1;36m0.01\u001b[0m       \u001b[1;36m0.01\u001b[0m       \u001b[1;36m0.01\u001b[0m       \u001b[1;36m0.01\u001b[0m       \u001b[1;36m0.01\u001b[0m       \u001b[1;36m0.01\u001b[0m\n",
       " \u001b[1;36m0.01\u001b[0m       \u001b[1;36m0.01\u001b[0m       \u001b[1;36m0.01\u001b[0m       \u001b[1;36m0.01\u001b[0m       \u001b[1;36m0.01\u001b[0m       \u001b[1;36m0.01\u001b[0m\n",
       " \u001b[1;36m0.01\u001b[0m       \u001b[1;36m0.01\u001b[0m       \u001b[1;36m0.60788238\u001b[0m \u001b[1;36m0.5069412\u001b[0m  \u001b[1;36m0.01\u001b[0m       \u001b[1;36m0.01\u001b[0m\n",
       " \u001b[1;36m0.01\u001b[0m       \u001b[1;36m0.01\u001b[0m       \u001b[1;36m0.01\u001b[0m       \u001b[1;36m0.01\u001b[0m       \u001b[1;36m0.01\u001b[0m       \u001b[1;36m0.61564708\u001b[0m\n",
       " \u001b[1;36m0.50305885\u001b[0m \u001b[1;36m0.01\u001b[0m       \u001b[1;36m0.01\u001b[0m       \u001b[1;36m0.01\u001b[0m       \u001b[1;36m0.01\u001b[0m       \u001b[1;36m0.01\u001b[0m\n",
       " \u001b[1;36m0.01\u001b[0m       \u001b[1;36m0.01\u001b[0m       \u001b[1;36m0.01\u001b[0m       \u001b[1;36m0.01\u001b[0m       \u001b[1;36m0.01\u001b[0m       \u001b[1;36m0.01\u001b[0m\n",
       " \u001b[1;36m0.01\u001b[0m       \u001b[1;36m0.01\u001b[0m       \u001b[1;36m0.01\u001b[0m       \u001b[1;36m0.01\u001b[0m       \u001b[1;36m0.01\u001b[0m       \u001b[1;36m0.1847059\u001b[0m\n",
       " \u001b[1;36m0.71658826\u001b[0m \u001b[1;36m0.01\u001b[0m       \u001b[1;36m0.01\u001b[0m       \u001b[1;36m0.01\u001b[0m       \u001b[1;36m0.01\u001b[0m       \u001b[1;36m0.01\u001b[0m\n",
       " \u001b[1;36m0.02941176\u001b[0m \u001b[1;36m0.01\u001b[0m       \u001b[1;36m0.01388235\u001b[0m \u001b[1;36m0.64670593\u001b[0m \u001b[1;36m0.472\u001b[0m      \u001b[1;36m0.01\u001b[0m\n",
       " \u001b[1;36m0.01\u001b[0m       \u001b[1;36m0.01\u001b[0m       \u001b[1;36m0.01\u001b[0m       \u001b[1;36m0.01\u001b[0m       \u001b[1;36m0.01\u001b[0m       \u001b[1;36m0.01\u001b[0m\n",
       " \u001b[1;36m0.01\u001b[0m       \u001b[1;36m0.01\u001b[0m       \u001b[1;36m0.01\u001b[0m       \u001b[1;36m0.01\u001b[0m       \u001b[1;36m0.01\u001b[0m       \u001b[1;36m0.01\u001b[0m\n",
       " \u001b[1;36m0.01\u001b[0m       \u001b[1;36m0.01\u001b[0m       \u001b[1;36m0.06435294\u001b[0m \u001b[1;36m0.84858823\u001b[0m \u001b[1;36m0.93011767\u001b[0m \u001b[1;36m0.56129414\u001b[0m\n",
       " \u001b[1;36m0.63894117\u001b[0m \u001b[1;36m0.65447062\u001b[0m \u001b[1;36m0.64670593\u001b[0m \u001b[1;36m0.67000002\u001b[0m \u001b[1;36m0.68164706\u001b[0m \u001b[1;36m0.67000002\u001b[0m\n",
       " \u001b[1;36m0.65835297\u001b[0m \u001b[1;36m0.91070586\u001b[0m \u001b[1;36m0.7631765\u001b[0m  \u001b[1;36m0.51858824\u001b[0m \u001b[1;36m0.52247059\u001b[0m \u001b[1;36m0.43317646\u001b[0m\n",
       " \u001b[1;36m0.3477647\u001b[0m  \u001b[1;36m0.24682353\u001b[0m \u001b[1;36m0.10705882\u001b[0m \u001b[1;36m0.04105882\u001b[0m \u001b[1;36m0.02552941\u001b[0m \u001b[1;36m0.01\u001b[0m\n",
       " \u001b[1;36m0.01\u001b[0m       \u001b[1;36m0.01\u001b[0m       \u001b[1;36m0.01\u001b[0m       \u001b[1;36m0.01\u001b[0m       \u001b[1;36m0.01\u001b[0m       \u001b[1;36m0.01\u001b[0m\n",
       " \u001b[1;36m0.14976472\u001b[0m \u001b[1;36m0.67388237\u001b[0m \u001b[1;36m0.59623533\u001b[0m \u001b[1;36m0.68941176\u001b[0m \u001b[1;36m0.70494121\u001b[0m \u001b[1;36m0.64282358\u001b[0m\n",
       " \u001b[1;36m0.66223532\u001b[0m \u001b[1;36m0.66611767\u001b[0m \u001b[1;36m0.62729412\u001b[0m \u001b[1;36m0.61952943\u001b[0m \u001b[1;36m0.69329411\u001b[0m \u001b[1;36m0.91458821\u001b[0m\n",
       " \u001b[1;36m0.87576473\u001b[0m \u001b[1;36m0.70494121\u001b[0m \u001b[1;36m0.74764705\u001b[0m \u001b[1;36m0.80976474\u001b[0m \u001b[1;36m0.7631765\u001b[0m  \u001b[1;36m0.82141179\u001b[0m\n",
       " \u001b[1;36m0.7437647\u001b[0m  \u001b[1;36m0.3477647\u001b[0m  \u001b[1;36m0.24294119\u001b[0m \u001b[1;36m0.04882353\u001b[0m \u001b[1;36m0.01\u001b[0m       \u001b[1;36m0.01\u001b[0m\n",
       " \u001b[1;36m0.01\u001b[0m       \u001b[1;36m0.01\u001b[0m       \u001b[1;36m0.01\u001b[0m       \u001b[1;36m0.01\u001b[0m       \u001b[1;36m0.02941176\u001b[0m \u001b[1;36m0.01\u001b[0m\n",
       " \u001b[1;36m0.01\u001b[0m       \u001b[1;36m0.01\u001b[0m       \u001b[1;36m0.01\u001b[0m       \u001b[1;36m0.01\u001b[0m       \u001b[1;36m0.01\u001b[0m       \u001b[1;36m0.02164706\u001b[0m\n",
       " \u001b[1;36m0.01\u001b[0m       \u001b[1;36m0.01\u001b[0m       \u001b[1;36m0.08764706\u001b[0m \u001b[1;36m0.80588233\u001b[0m \u001b[1;36m0.40211764\u001b[0m \u001b[1;36m0.01\u001b[0m\n",
       " \u001b[1;36m0.01\u001b[0m       \u001b[1;36m0.01\u001b[0m       \u001b[1;36m0.01\u001b[0m       \u001b[1;36m0.03717647\u001b[0m \u001b[1;36m0.16141178\u001b[0m \u001b[1;36m0.09541176\u001b[0m\n",
       " \u001b[1;36m0.06435294\u001b[0m \u001b[1;36m0.02941176\u001b[0m \u001b[1;36m0.01\u001b[0m       \u001b[1;36m0.01\u001b[0m       \u001b[1;36m0.01\u001b[0m       \u001b[1;36m0.01\u001b[0m\n",
       " \u001b[1;36m0.01\u001b[0m       \u001b[1;36m0.01\u001b[0m       \u001b[1;36m0.01\u001b[0m       \u001b[1;36m0.01\u001b[0m       \u001b[1;36m0.01\u001b[0m       \u001b[1;36m0.01\u001b[0m\n",
       " \u001b[1;36m0.01\u001b[0m       \u001b[1;36m0.01\u001b[0m       \u001b[1;36m0.01\u001b[0m       \u001b[1;36m0.01\u001b[0m       \u001b[1;36m0.01\u001b[0m       \u001b[1;36m0.01\u001b[0m\n",
       " \u001b[1;36m0.08764706\u001b[0m \u001b[1;36m0.83305883\u001b[0m \u001b[1;36m0.3827059\u001b[0m  \u001b[1;36m0.01\u001b[0m       \u001b[1;36m0.01\u001b[0m       \u001b[1;36m0.01\u001b[0m\n",
       " \u001b[1;36m0.01\u001b[0m       \u001b[1;36m0.01\u001b[0m       \u001b[1;36m0.01\u001b[0m       \u001b[1;36m0.01\u001b[0m       \u001b[1;36m0.01\u001b[0m       \u001b[1;36m0.01\u001b[0m\n",
       " \u001b[1;36m0.01\u001b[0m       \u001b[1;36m0.01\u001b[0m       \u001b[1;36m0.01\u001b[0m       \u001b[1;36m0.01\u001b[0m       \u001b[1;36m0.01\u001b[0m       \u001b[1;36m0.01\u001b[0m\n",
       " \u001b[1;36m0.01\u001b[0m       \u001b[1;36m0.01\u001b[0m       \u001b[1;36m0.01\u001b[0m       \u001b[1;36m0.01\u001b[0m       \u001b[1;36m0.01\u001b[0m       \u001b[1;36m0.01\u001b[0m\n",
       " \u001b[1;36m0.01\u001b[0m       \u001b[1;36m0.01\u001b[0m       \u001b[1;36m0.01\u001b[0m       \u001b[1;36m0.01\u001b[0m       \u001b[1;36m0.04105882\u001b[0m \u001b[1;36m0.81364709\u001b[0m\n",
       " \u001b[1;36m0.43317646\u001b[0m \u001b[1;36m0.01\u001b[0m       \u001b[1;36m0.01\u001b[0m       \u001b[1;36m0.01\u001b[0m       \u001b[1;36m0.01\u001b[0m       \u001b[1;36m0.01\u001b[0m\n",
       " \u001b[1;36m0.01\u001b[0m       \u001b[1;36m0.01\u001b[0m       \u001b[1;36m0.01\u001b[0m       \u001b[1;36m0.01\u001b[0m       \u001b[1;36m0.01\u001b[0m       \u001b[1;36m0.01\u001b[0m\n",
       " \u001b[1;36m0.01\u001b[0m       \u001b[1;36m0.01\u001b[0m       \u001b[1;36m0.01\u001b[0m       \u001b[1;36m0.01\u001b[0m       \u001b[1;36m0.01\u001b[0m       \u001b[1;36m0.01\u001b[0m\n",
       " \u001b[1;36m0.01\u001b[0m       \u001b[1;36m0.01\u001b[0m       \u001b[1;36m0.01\u001b[0m       \u001b[1;36m0.01\u001b[0m       \u001b[1;36m0.01\u001b[0m       \u001b[1;36m0.01\u001b[0m\n",
       " \u001b[1;36m0.01\u001b[0m       \u001b[1;36m0.01\u001b[0m       \u001b[1;36m0.01\u001b[0m       \u001b[1;36m0.85247058\u001b[0m \u001b[1;36m0.4875294\u001b[0m  \u001b[1;36m0.01\u001b[0m\n",
       " \u001b[1;36m0.01\u001b[0m       \u001b[1;36m0.01\u001b[0m       \u001b[1;36m0.01\u001b[0m       \u001b[1;36m0.01\u001b[0m       \u001b[1;36m0.01\u001b[0m       \u001b[1;36m0.01\u001b[0m\n",
       " \u001b[1;36m0.01\u001b[0m       \u001b[1;36m0.01\u001b[0m       \u001b[1;36m0.01\u001b[0m       \u001b[1;36m0.01\u001b[0m       \u001b[1;36m0.01\u001b[0m       \u001b[1;36m0.01\u001b[0m\n",
       " \u001b[1;36m0.01\u001b[0m       \u001b[1;36m0.01\u001b[0m       \u001b[1;36m0.01\u001b[0m       \u001b[1;36m0.01\u001b[0m       \u001b[1;36m0.01\u001b[0m       \u001b[1;36m0.01\u001b[0m\n",
       " \u001b[1;36m0.01\u001b[0m       \u001b[1;36m0.01\u001b[0m       \u001b[1;36m0.01\u001b[0m       \u001b[1;36m0.01\u001b[0m       \u001b[1;36m0.01\u001b[0m       \u001b[1;36m0.01\u001b[0m\n",
       " \u001b[1;36m0.01388235\u001b[0m \u001b[1;36m0.77482355\u001b[0m \u001b[1;36m0.54576474\u001b[0m \u001b[1;36m0.01\u001b[0m       \u001b[1;36m0.01\u001b[0m       \u001b[1;36m0.01\u001b[0m\n",
       " \u001b[1;36m0.01\u001b[0m       \u001b[1;36m0.01\u001b[0m       \u001b[1;36m0.01\u001b[0m       \u001b[1;36m0.01\u001b[0m       \u001b[1;36m0.01\u001b[0m       \u001b[1;36m0.01\u001b[0m\n",
       " \u001b[1;36m0.01\u001b[0m       \u001b[1;36m0.01\u001b[0m       \u001b[1;36m0.01\u001b[0m       \u001b[1;36m0.01\u001b[0m       \u001b[1;36m0.01\u001b[0m       \u001b[1;36m0.01\u001b[0m\n",
       " \u001b[1;36m0.01\u001b[0m       \u001b[1;36m0.01\u001b[0m       \u001b[1;36m0.01\u001b[0m       \u001b[1;36m0.01\u001b[0m       \u001b[1;36m0.01\u001b[0m       \u001b[1;36m0.01\u001b[0m\n",
       " \u001b[1;36m0.01\u001b[0m       \u001b[1;36m0.01\u001b[0m       \u001b[1;36m0.01\u001b[0m       \u001b[1;36m0.01\u001b[0m       \u001b[1;36m0.01\u001b[0m       \u001b[1;36m0.32835296\u001b[0m\n",
       " \u001b[1;36m0.56905884\u001b[0m \u001b[1;36m0.01388235\u001b[0m \u001b[1;36m0.01\u001b[0m       \u001b[1;36m0.01\u001b[0m       \u001b[1;36m0.01\u001b[0m       \u001b[1;36m0.01\u001b[0m\n",
       " \u001b[1;36m0.01\u001b[0m       \u001b[1;36m0.01\u001b[0m       \u001b[1;36m0.01\u001b[0m       \u001b[1;36m0.01\u001b[0m       \u001b[1;36m0.01\u001b[0m       \u001b[1;36m0.01\u001b[0m\n",
       " \u001b[1;36m0.01\u001b[0m       \u001b[1;36m0.01\u001b[0m       \u001b[1;36m0.01\u001b[0m       \u001b[1;36m0.01\u001b[0m       \u001b[1;36m0.01\u001b[0m       \u001b[1;36m0.01\u001b[0m\n",
       " \u001b[1;36m0.01\u001b[0m       \u001b[1;36m0.01\u001b[0m       \u001b[1;36m0.01\u001b[0m       \u001b[1;36m0.01\u001b[0m       \u001b[1;36m0.01\u001b[0m       \u001b[1;36m0.01\u001b[0m\n",
       " \u001b[1;36m0.01\u001b[0m       \u001b[1;36m0.01\u001b[0m       \u001b[1;36m0.01\u001b[0m       \u001b[1;36m0.02164706\u001b[0m \u001b[1;36m0.22352943\u001b[0m \u001b[1;36m0.02552941\u001b[0m\n",
       " \u001b[1;36m0.01\u001b[0m       \u001b[1;36m0.01\u001b[0m       \u001b[1;36m0.01\u001b[0m       \u001b[1;36m0.01\u001b[0m       \u001b[1;36m0.01\u001b[0m       \u001b[1;36m0.01\u001b[0m\n",
       " \u001b[1;36m0.01\u001b[0m       \u001b[1;36m0.01\u001b[0m       \u001b[1;36m0.01\u001b[0m       \u001b[1;36m0.01\u001b[0m       \u001b[1;36m0.01\u001b[0m       \u001b[1;36m0.01\u001b[0m\n",
       " \u001b[1;36m0.01\u001b[0m       \u001b[1;36m0.01\u001b[0m       \u001b[1;36m0.01\u001b[0m       \u001b[1;36m0.01\u001b[0m       \u001b[1;36m0.01\u001b[0m       \u001b[1;36m0.01\u001b[0m\n",
       " \u001b[1;36m0.01\u001b[0m       \u001b[1;36m0.01\u001b[0m       \u001b[1;36m0.01\u001b[0m       \u001b[1;36m0.01\u001b[0m       \u001b[1;36m0.01\u001b[0m       \u001b[1;36m0.01\u001b[0m\n",
       " \u001b[1;36m0.01\u001b[0m       \u001b[1;36m0.01\u001b[0m       \u001b[1;36m0.01\u001b[0m       \u001b[1;36m0.01\u001b[0m       \u001b[1;36m0.01\u001b[0m       \u001b[1;36m0.01\u001b[0m\n",
       " \u001b[1;36m0.01\u001b[0m       \u001b[1;36m0.01\u001b[0m       \u001b[1;36m0.01\u001b[0m       \u001b[1;36m0.01\u001b[0m       \u001b[1;36m0.01\u001b[0m       \u001b[1;36m0.01\u001b[0m\n",
       " \u001b[1;36m0.01\u001b[0m       \u001b[1;36m0.01\u001b[0m       \u001b[1;36m0.01\u001b[0m       \u001b[1;36m0.01\u001b[0m       \u001b[1;36m0.01\u001b[0m       \u001b[1;36m0.01\u001b[0m\n",
       " \u001b[1;36m0.01\u001b[0m       \u001b[1;36m0.01\u001b[0m       \u001b[1;36m0.01\u001b[0m       \u001b[1;36m0.01\u001b[0m       \u001b[1;36m0.01\u001b[0m       \u001b[1;36m0.01\u001b[0m\n",
       " \u001b[1;36m0.01\u001b[0m       \u001b[1;36m0.01\u001b[0m       \u001b[1;36m0.01\u001b[0m       \u001b[1;36m0.01\u001b[0m       \u001b[1;36m0.01\u001b[0m       \u001b[1;36m0.01\u001b[0m\n",
       " \u001b[1;36m0.01\u001b[0m       \u001b[1;36m0.01\u001b[0m       \u001b[1;36m0.01\u001b[0m       \u001b[1;36m0.01\u001b[0m       \u001b[1;36m0.01\u001b[0m       \u001b[1;36m0.01\u001b[0m\n",
       " \u001b[1;36m0.01\u001b[0m       \u001b[1;36m0.01\u001b[0m       \u001b[1;36m0.01\u001b[0m       \u001b[1;36m0.01\u001b[0m       \u001b[1;36m0.01\u001b[0m       \u001b[1;36m0.01\u001b[0m\n",
       " \u001b[1;36m0.01\u001b[0m       \u001b[1;36m0.01\u001b[0m       \u001b[1;36m0.01\u001b[0m       \u001b[1;36m0.01\u001b[0m       \u001b[1;36m0.01\u001b[0m       \u001b[1;36m0.01\u001b[0m\n",
       " \u001b[1;36m0.01\u001b[0m       \u001b[1;36m0.01\u001b[0m       \u001b[1;36m0.01\u001b[0m       \u001b[1;36m0.01\u001b[0m       \u001b[1;36m0.01\u001b[0m       \u001b[1;36m0.01\u001b[0m\n",
       " \u001b[1;36m0.01\u001b[0m       \u001b[1;36m0.01\u001b[0m       \u001b[1;36m0.01\u001b[0m       \u001b[1;36m0.01\u001b[0m       \u001b[1;36m0.01\u001b[0m       \u001b[1;36m0.01\u001b[0m\n",
       " \u001b[1;36m0.01\u001b[0m       \u001b[1;36m0.01\u001b[0m       \u001b[1;36m0.01\u001b[0m       \u001b[1;36m0.01\u001b[0m       \u001b[1;36m0.01\u001b[0m       \u001b[1;36m0.01\u001b[0m\n",
       " \u001b[1;36m0.01\u001b[0m       \u001b[1;36m0.01\u001b[0m       \u001b[1;36m0.01\u001b[0m       \u001b[1;36m0.01\u001b[0m       \u001b[1;36m0.01\u001b[0m       \u001b[1;36m0.01\u001b[0m\n",
       " \u001b[1;36m0.01\u001b[0m       \u001b[1;36m0.01\u001b[0m       \u001b[1;36m0.01\u001b[0m       \u001b[1;36m0.01\u001b[0m       \u001b[1;36m0.01\u001b[0m       \u001b[1;36m0.01\u001b[0m\n",
       " \u001b[1;36m0.01\u001b[0m       \u001b[1;36m0.01\u001b[0m       \u001b[1;36m0.01\u001b[0m       \u001b[1;36m0.01\u001b[0m       \u001b[1;36m0.01\u001b[0m       \u001b[1;36m0.01\u001b[0m\n",
       " \u001b[1;36m0.01\u001b[0m       \u001b[1;36m0.01\u001b[0m       \u001b[1;36m0.01\u001b[0m       \u001b[1;36m0.01\u001b[0m       \u001b[1;36m0.01\u001b[0m       \u001b[1;36m0.01\u001b[0m\n",
       " \u001b[1;36m0.01\u001b[0m       \u001b[1;36m0.01\u001b[0m       \u001b[1;36m0.01\u001b[0m       \u001b[1;36m0.01\u001b[0m       \u001b[1;36m0.01\u001b[0m       \u001b[1;36m0.01\u001b[0m\n",
       " \u001b[1;36m0.01\u001b[0m       \u001b[1;36m0.01\u001b[0m       \u001b[1;36m0.01\u001b[0m       \u001b[1;36m0.01\u001b[0m       \u001b[1;36m0.01\u001b[0m       \u001b[1;36m0.01\u001b[0m\n",
       " \u001b[1;36m0.01\u001b[0m       \u001b[1;36m0.01\u001b[0m       \u001b[1;36m0.01\u001b[0m       \u001b[1;36m0.01\u001b[0m       \u001b[1;36m0.01\u001b[0m       \u001b[1;36m0.01\u001b[0m\n",
       " \u001b[1;36m0.01\u001b[0m       \u001b[1;36m0.01\u001b[0m       \u001b[1;36m0.01\u001b[0m       \u001b[1;36m0.01\u001b[0m       \u001b[1;36m0.01\u001b[0m       \u001b[1;36m0.01\u001b[0m\n",
       " \u001b[1;36m0.01\u001b[0m       \u001b[1;36m0.01\u001b[0m       \u001b[1;36m0.01\u001b[0m       \u001b[1;36m0.01\u001b[0m       \u001b[1;36m0.01\u001b[0m       \u001b[1;36m0.01\u001b[0m\n",
       " \u001b[1;36m0.01\u001b[0m       \u001b[1;36m0.01\u001b[0m       \u001b[1;36m0.01\u001b[0m       \u001b[1;36m0.01\u001b[0m       \u001b[1;36m0.01\u001b[0m      \u001b[1m]\u001b[0m\n"
      ]
     },
     "metadata": {},
     "output_type": "display_data"
    }
   ],
   "source": [
    "print(our_own_dataset[3])"
   ]
  },
  {
   "cell_type": "code",
   "execution_count": null,
   "metadata": {},
   "outputs": [],
   "source": []
  }
 ],
 "metadata": {
  "kernelspec": {
   "display_name": "AIPower",
   "language": "python",
   "name": "python3"
  },
  "language_info": {
   "codemirror_mode": {
    "name": "ipython",
    "version": 3
   },
   "file_extension": ".py",
   "mimetype": "text/x-python",
   "name": "python",
   "nbconvert_exporter": "python",
   "pygments_lexer": "ipython3",
   "version": "3.12.8"
  }
 },
 "nbformat": 4,
 "nbformat_minor": 4
}
